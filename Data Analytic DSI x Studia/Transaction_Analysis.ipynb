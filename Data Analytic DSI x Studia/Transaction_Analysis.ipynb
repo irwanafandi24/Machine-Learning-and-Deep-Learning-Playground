{
  "nbformat": 4,
  "nbformat_minor": 0,
  "metadata": {
    "colab": {
      "name": "Transaction Analysis.ipynb",
      "provenance": [],
      "collapsed_sections": [
        "SkgSxF7ncGe5"
      ]
    },
    "kernelspec": {
      "name": "python3",
      "display_name": "Python 3"
    }
  },
  "cells": [
    {
      "cell_type": "code",
      "metadata": {
        "id": "zpRTr1QLYrDe"
      },
      "source": [
        "import numpy as np\r\n",
        "import pandas as pd\r\n",
        "import matplotlib.pyplot as plt\r\n",
        "import seaborn as sns\r\n",
        "import warnings\r\n",
        "import datetime\r\n",
        "import time\r\n",
        "import re\r\n",
        "\r\n",
        "from sklearn.cluster import KMeans\r\n",
        "from sklearn.metrics import silhouette_score\r\n",
        "from sklearn.preprocessing import StandardScaler\r\n",
        "\r\n",
        "%matplotlib inline\r\n",
        "warnings.filterwarnings('ignore')"
      ],
      "execution_count": null,
      "outputs": []
    },
    {
      "cell_type": "code",
      "metadata": {
        "colab": {
          "base_uri": "https://localhost:8080/",
          "height": 293
        },
        "id": "CZpmfUM2Y1PJ",
        "outputId": "552809a9-33dc-48cc-c202-463279b03374"
      },
      "source": [
        "df = pd.read_csv('data.csv',encoding='unicode_escape')\r\n",
        "df.head()"
      ],
      "execution_count": null,
      "outputs": [
        {
          "output_type": "execute_result",
          "data": {
            "text/html": [
              "<div>\n",
              "<style scoped>\n",
              "    .dataframe tbody tr th:only-of-type {\n",
              "        vertical-align: middle;\n",
              "    }\n",
              "\n",
              "    .dataframe tbody tr th {\n",
              "        vertical-align: top;\n",
              "    }\n",
              "\n",
              "    .dataframe thead th {\n",
              "        text-align: right;\n",
              "    }\n",
              "</style>\n",
              "<table border=\"1\" class=\"dataframe\">\n",
              "  <thead>\n",
              "    <tr style=\"text-align: right;\">\n",
              "      <th></th>\n",
              "      <th>InvoiceNo</th>\n",
              "      <th>StockCode</th>\n",
              "      <th>Description</th>\n",
              "      <th>Quantity</th>\n",
              "      <th>InvoiceDate</th>\n",
              "      <th>UnitPrice</th>\n",
              "      <th>CustomerID</th>\n",
              "      <th>Country</th>\n",
              "    </tr>\n",
              "  </thead>\n",
              "  <tbody>\n",
              "    <tr>\n",
              "      <th>0</th>\n",
              "      <td>536365</td>\n",
              "      <td>85123A</td>\n",
              "      <td>WHITE HANGING HEART T-LIGHT HOLDER</td>\n",
              "      <td>6</td>\n",
              "      <td>12/1/2010 8:26</td>\n",
              "      <td>2.55</td>\n",
              "      <td>17850.0</td>\n",
              "      <td>United Kingdom</td>\n",
              "    </tr>\n",
              "    <tr>\n",
              "      <th>1</th>\n",
              "      <td>536365</td>\n",
              "      <td>71053</td>\n",
              "      <td>WHITE METAL LANTERN</td>\n",
              "      <td>6</td>\n",
              "      <td>12/1/2010 8:26</td>\n",
              "      <td>3.39</td>\n",
              "      <td>17850.0</td>\n",
              "      <td>United Kingdom</td>\n",
              "    </tr>\n",
              "    <tr>\n",
              "      <th>2</th>\n",
              "      <td>536365</td>\n",
              "      <td>84406B</td>\n",
              "      <td>CREAM CUPID HEARTS COAT HANGER</td>\n",
              "      <td>8</td>\n",
              "      <td>12/1/2010 8:26</td>\n",
              "      <td>2.75</td>\n",
              "      <td>17850.0</td>\n",
              "      <td>United Kingdom</td>\n",
              "    </tr>\n",
              "    <tr>\n",
              "      <th>3</th>\n",
              "      <td>536365</td>\n",
              "      <td>84029G</td>\n",
              "      <td>KNITTED UNION FLAG HOT WATER BOTTLE</td>\n",
              "      <td>6</td>\n",
              "      <td>12/1/2010 8:26</td>\n",
              "      <td>3.39</td>\n",
              "      <td>17850.0</td>\n",
              "      <td>United Kingdom</td>\n",
              "    </tr>\n",
              "    <tr>\n",
              "      <th>4</th>\n",
              "      <td>536365</td>\n",
              "      <td>84029E</td>\n",
              "      <td>RED WOOLLY HOTTIE WHITE HEART.</td>\n",
              "      <td>6</td>\n",
              "      <td>12/1/2010 8:26</td>\n",
              "      <td>3.39</td>\n",
              "      <td>17850.0</td>\n",
              "      <td>United Kingdom</td>\n",
              "    </tr>\n",
              "  </tbody>\n",
              "</table>\n",
              "</div>"
            ],
            "text/plain": [
              "  InvoiceNo StockCode  ... CustomerID         Country\n",
              "0    536365    85123A  ...    17850.0  United Kingdom\n",
              "1    536365     71053  ...    17850.0  United Kingdom\n",
              "2    536365    84406B  ...    17850.0  United Kingdom\n",
              "3    536365    84029G  ...    17850.0  United Kingdom\n",
              "4    536365    84029E  ...    17850.0  United Kingdom\n",
              "\n",
              "[5 rows x 8 columns]"
            ]
          },
          "metadata": {
            "tags": []
          },
          "execution_count": 4
        }
      ]
    },
    {
      "cell_type": "markdown",
      "metadata": {
        "id": "wX14MBBMftt9"
      },
      "source": [
        "#**Apa yang harus pertamakali dilakukan**\r\n",
        "\r\n",
        "- Data set yang digunakan merupakan open data dari Kaggle. \r\n",
        "- Kolom Country tidak perlu dihiraukan untuk kasus ini\r\n",
        "- Tahun di kolom InvoiceDate perlu diganti ke tahun 2020 sampai 2021 untuk kasus ini\r\n",
        "- Data dalam kolom UnitPrice dalam US dollar\r\n",
        "- Kamu bisa menggunakan data pendukung atau asumsi yang dapat dijustifikasi\r\n"
      ]
    },
    {
      "cell_type": "code",
      "metadata": {
        "id": "NbZzIkKth8FY",
        "colab": {
          "base_uri": "https://localhost:8080/"
        },
        "outputId": "7d74f728-c7eb-4adf-ed7c-26acabfe6660"
      },
      "source": [
        "df.info()"
      ],
      "execution_count": null,
      "outputs": [
        {
          "output_type": "stream",
          "text": [
            "<class 'pandas.core.frame.DataFrame'>\n",
            "RangeIndex: 541909 entries, 0 to 541908\n",
            "Data columns (total 8 columns):\n",
            " #   Column       Non-Null Count   Dtype  \n",
            "---  ------       --------------   -----  \n",
            " 0   InvoiceNo    541909 non-null  object \n",
            " 1   StockCode    541909 non-null  object \n",
            " 2   Description  540455 non-null  object \n",
            " 3   Quantity     541909 non-null  int64  \n",
            " 4   InvoiceDate  541909 non-null  object \n",
            " 5   UnitPrice    541909 non-null  float64\n",
            " 6   CustomerID   406829 non-null  float64\n",
            " 7   Country      541909 non-null  object \n",
            "dtypes: float64(2), int64(1), object(5)\n",
            "memory usage: 33.1+ MB\n"
          ],
          "name": "stdout"
        }
      ]
    },
    {
      "cell_type": "markdown",
      "metadata": {
        "id": "VL82x_jGiOf3"
      },
      "source": [
        "**Convert to date time**"
      ]
    },
    {
      "cell_type": "code",
      "metadata": {
        "id": "1ph5Brsqh_6k"
      },
      "source": [
        "df.InvoiceDate = pd.to_datetime(df.InvoiceDate)"
      ],
      "execution_count": null,
      "outputs": []
    },
    {
      "cell_type": "markdown",
      "metadata": {
        "id": "pvwaPjPiiRtu"
      },
      "source": [
        "**Check country**"
      ]
    },
    {
      "cell_type": "code",
      "metadata": {
        "id": "xxKrV0VmkUQ1",
        "colab": {
          "base_uri": "https://localhost:8080/"
        },
        "outputId": "17a41f9f-78a8-4455-f1a4-b28336ac34b5"
      },
      "source": [
        "#Total Country\r\n",
        "df.Country.nunique()"
      ],
      "execution_count": null,
      "outputs": [
        {
          "output_type": "execute_result",
          "data": {
            "text/plain": [
              "38"
            ]
          },
          "metadata": {
            "tags": []
          },
          "execution_count": 7
        }
      ]
    },
    {
      "cell_type": "code",
      "metadata": {
        "id": "7ixkuAiheXc5",
        "colab": {
          "base_uri": "https://localhost:8080/",
          "height": 482
        },
        "outputId": "67b8df81-2d81-4785-e36a-9bdb52f12c6f"
      },
      "source": [
        "plt.figure(figsize=(20,10))\r\n",
        "sns.countplot(x = 'Country',\r\n",
        "              data = df,\r\n",
        "              order = df.Country.value_counts().iloc[:10].index)\r\n",
        "plt.ylabel('Frequency')\r\n",
        "plt.show()"
      ],
      "execution_count": null,
      "outputs": [
        {
          "output_type": "display_data",
          "data": {
            "image/png": "[encoded data removed]",
            "text/plain": [
              "<Figure size 1440x720 with 1 Axes>"
            ]
          },
          "metadata": {
            "tags": [],
            "needs_background": "light"
          }
        }
      ]
    },
    {
      "cell_type": "markdown",
      "metadata": {
        "id": "n8WWjWUDiUiN"
      },
      "source": [
        "**Drop Country**<br>\r\n",
        "There are a lots of countries in the dataset and UK is the dominan. So I will use UK data than drop the country."
      ]
    },
    {
      "cell_type": "code",
      "metadata": {
        "id": "pWDnaYg5gF7R"
      },
      "source": [
        "#drop country\r\n",
        "df2 = df[df.Country == 'United Kingdom']  \r\n",
        "df2 = df.drop('Country', axis=1)"
      ],
      "execution_count": null,
      "outputs": []
    },
    {
      "cell_type": "markdown",
      "metadata": {
        "id": "_WyfrQ7CkdS1"
      },
      "source": [
        "**Change to 2020 - 2021**<br>\r\n",
        "I don't want to lose the information. So I tried to convert data to 2020-2021 but with the same day. "
      ]
    },
    {
      "cell_type": "code",
      "metadata": {
        "colab": {
          "base_uri": "https://localhost:8080/"
        },
        "id": "PfqIRcLQz_uH",
        "outputId": "eed365e7-d738-454f-fb4c-ffbec1a4ba8b"
      },
      "source": [
        "print(df2.InvoiceDate.min())"
      ],
      "execution_count": null,
      "outputs": [
        {
          "output_type": "stream",
          "text": [
            "2010-12-01 08:26:00\n"
          ],
          "name": "stdout"
        }
      ]
    },
    {
      "cell_type": "code",
      "metadata": {
        "id": "Mc7a3mBwlLB_",
        "colab": {
          "base_uri": "https://localhost:8080/"
        },
        "outputId": "bd2afcdb-366a-41bc-90b4-656616b279a8"
      },
      "source": [
        "#friday\r\n",
        "print(df2.InvoiceDate.max())\r\n",
        "df2.InvoiceDate.max().dayofweek"
      ],
      "execution_count": null,
      "outputs": [
        {
          "output_type": "stream",
          "text": [
            "2011-12-09 12:50:00\n"
          ],
          "name": "stdout"
        },
        {
          "output_type": "execute_result",
          "data": {
            "text/plain": [
              "4"
            ]
          },
          "metadata": {
            "tags": []
          },
          "execution_count": 10
        }
      ]
    },
    {
      "cell_type": "markdown",
      "metadata": {
        "id": "7eAtMByumKOH"
      },
      "source": [
        "Because 0 is Monday, so 4 is Friday"
      ]
    },
    {
      "cell_type": "code",
      "metadata": {
        "id": "T0dBUVSKmimN"
      },
      "source": [
        "# 2021, friday in Desember and it is near with 21st is 17\r\n",
        "additional_day = (pd.to_datetime('2021-02-12 12:50:00')-df2.InvoiceDate.max()).days"
      ],
      "execution_count": null,
      "outputs": []
    },
    {
      "cell_type": "code",
      "metadata": {
        "id": "_2A3yPdupjWy"
      },
      "source": [
        "def convert_date(x):\r\n",
        "  return x+datetime.timedelta(additional_day)"
      ],
      "execution_count": null,
      "outputs": []
    },
    {
      "cell_type": "code",
      "metadata": {
        "id": "33bFwEt_jSEn"
      },
      "source": [
        "df3 = df2.copy()\r\n",
        "df3.InvoiceDate = df3.InvoiceDate.apply(convert_date)"
      ],
      "execution_count": null,
      "outputs": []
    },
    {
      "cell_type": "code",
      "metadata": {
        "id": "fKOFAZ8lp94b",
        "colab": {
          "base_uri": "https://localhost:8080/",
          "height": 81
        },
        "outputId": "e31fb606-e8d3-4533-97fe-28e6dd02dc62"
      },
      "source": [
        "df2[df2.InvoiceDate == df2.InvoiceDate.max()].head(1)"
      ],
      "execution_count": null,
      "outputs": [
        {
          "output_type": "execute_result",
          "data": {
            "text/html": [
              "<div>\n",
              "<style scoped>\n",
              "    .dataframe tbody tr th:only-of-type {\n",
              "        vertical-align: middle;\n",
              "    }\n",
              "\n",
              "    .dataframe tbody tr th {\n",
              "        vertical-align: top;\n",
              "    }\n",
              "\n",
              "    .dataframe thead th {\n",
              "        text-align: right;\n",
              "    }\n",
              "</style>\n",
              "<table border=\"1\" class=\"dataframe\">\n",
              "  <thead>\n",
              "    <tr style=\"text-align: right;\">\n",
              "      <th></th>\n",
              "      <th>InvoiceNo</th>\n",
              "      <th>StockCode</th>\n",
              "      <th>Description</th>\n",
              "      <th>Quantity</th>\n",
              "      <th>InvoiceDate</th>\n",
              "      <th>UnitPrice</th>\n",
              "      <th>CustomerID</th>\n",
              "    </tr>\n",
              "  </thead>\n",
              "  <tbody>\n",
              "    <tr>\n",
              "      <th>541894</th>\n",
              "      <td>581587</td>\n",
              "      <td>22631</td>\n",
              "      <td>CIRCUS PARADE LUNCH BOX</td>\n",
              "      <td>12</td>\n",
              "      <td>2011-12-09 12:50:00</td>\n",
              "      <td>1.95</td>\n",
              "      <td>12680.0</td>\n",
              "    </tr>\n",
              "  </tbody>\n",
              "</table>\n",
              "</div>"
            ],
            "text/plain": [
              "       InvoiceNo StockCode  ... UnitPrice  CustomerID\n",
              "541894    581587     22631  ...      1.95     12680.0\n",
              "\n",
              "[1 rows x 7 columns]"
            ]
          },
          "metadata": {
            "tags": []
          },
          "execution_count": 14
        }
      ]
    },
    {
      "cell_type": "code",
      "metadata": {
        "id": "093as-WyqMDv",
        "colab": {
          "base_uri": "https://localhost:8080/",
          "height": 81
        },
        "outputId": "c47a4449-5057-4cee-9fed-30856eec4cea"
      },
      "source": [
        "df3[df3.InvoiceDate == df3.InvoiceDate.max()].head(1)"
      ],
      "execution_count": null,
      "outputs": [
        {
          "output_type": "execute_result",
          "data": {
            "text/html": [
              "<div>\n",
              "<style scoped>\n",
              "    .dataframe tbody tr th:only-of-type {\n",
              "        vertical-align: middle;\n",
              "    }\n",
              "\n",
              "    .dataframe tbody tr th {\n",
              "        vertical-align: top;\n",
              "    }\n",
              "\n",
              "    .dataframe thead th {\n",
              "        text-align: right;\n",
              "    }\n",
              "</style>\n",
              "<table border=\"1\" class=\"dataframe\">\n",
              "  <thead>\n",
              "    <tr style=\"text-align: right;\">\n",
              "      <th></th>\n",
              "      <th>InvoiceNo</th>\n",
              "      <th>StockCode</th>\n",
              "      <th>Description</th>\n",
              "      <th>Quantity</th>\n",
              "      <th>InvoiceDate</th>\n",
              "      <th>UnitPrice</th>\n",
              "      <th>CustomerID</th>\n",
              "    </tr>\n",
              "  </thead>\n",
              "  <tbody>\n",
              "    <tr>\n",
              "      <th>541894</th>\n",
              "      <td>581587</td>\n",
              "      <td>22631</td>\n",
              "      <td>CIRCUS PARADE LUNCH BOX</td>\n",
              "      <td>12</td>\n",
              "      <td>2021-02-12 12:50:00</td>\n",
              "      <td>1.95</td>\n",
              "      <td>12680.0</td>\n",
              "    </tr>\n",
              "  </tbody>\n",
              "</table>\n",
              "</div>"
            ],
            "text/plain": [
              "       InvoiceNo StockCode  ... UnitPrice  CustomerID\n",
              "541894    581587     22631  ...      1.95     12680.0\n",
              "\n",
              "[1 rows x 7 columns]"
            ]
          },
          "metadata": {
            "tags": []
          },
          "execution_count": 15
        }
      ]
    },
    {
      "cell_type": "markdown",
      "metadata": {
        "id": "3LkHETaqhFj4"
      },
      "source": [
        "#**Preprocessing**"
      ]
    },
    {
      "cell_type": "markdown",
      "metadata": {
        "id": "SkgSxF7ncGe5"
      },
      "source": [
        "##**Handling Null Value**"
      ]
    },
    {
      "cell_type": "code",
      "metadata": {
        "id": "r_sh6yNhf_xA",
        "colab": {
          "base_uri": "https://localhost:8080/"
        },
        "outputId": "185eb59c-92ff-4c99-93ca-91d63e4cd1e3"
      },
      "source": [
        "df3.isna().sum()"
      ],
      "execution_count": null,
      "outputs": [
        {
          "output_type": "execute_result",
          "data": {
            "text/plain": [
              "InvoiceNo           0\n",
              "StockCode           0\n",
              "Description      1454\n",
              "Quantity            0\n",
              "InvoiceDate         0\n",
              "UnitPrice           0\n",
              "CustomerID     135080\n",
              "dtype: int64"
            ]
          },
          "metadata": {
            "tags": []
          },
          "execution_count": 16
        }
      ]
    },
    {
      "cell_type": "code",
      "metadata": {
        "id": "fBiDobT9nY1x",
        "colab": {
          "base_uri": "https://localhost:8080/"
        },
        "outputId": "782c67db-39ae-4e6d-ec00-de037bef6d2d"
      },
      "source": [
        "df3.shape"
      ],
      "execution_count": null,
      "outputs": [
        {
          "output_type": "execute_result",
          "data": {
            "text/plain": [
              "(541909, 7)"
            ]
          },
          "metadata": {
            "tags": []
          },
          "execution_count": 17
        }
      ]
    },
    {
      "cell_type": "markdown",
      "metadata": {
        "id": "bL4KAEOii0OO"
      },
      "source": [
        "**Drop both description and customer ID is null**<br> \r\n",
        "We need to filter our dataset and exclude data with this condition because we don't get any infromation from it."
      ]
    },
    {
      "cell_type": "code",
      "metadata": {
        "id": "m6MIADqdiwYI",
        "colab": {
          "base_uri": "https://localhost:8080/",
          "height": 424
        },
        "outputId": "281f9b8d-5138-4f07-fa4b-69742dd9d461"
      },
      "source": [
        "df3[(df3.Description.isnull()) & (df3.CustomerID.isnull())]"
      ],
      "execution_count": null,
      "outputs": [
        {
          "output_type": "execute_result",
          "data": {
            "text/html": [
              "<div>\n",
              "<style scoped>\n",
              "    .dataframe tbody tr th:only-of-type {\n",
              "        vertical-align: middle;\n",
              "    }\n",
              "\n",
              "    .dataframe tbody tr th {\n",
              "        vertical-align: top;\n",
              "    }\n",
              "\n",
              "    .dataframe thead th {\n",
              "        text-align: right;\n",
              "    }\n",
              "</style>\n",
              "<table border=\"1\" class=\"dataframe\">\n",
              "  <thead>\n",
              "    <tr style=\"text-align: right;\">\n",
              "      <th></th>\n",
              "      <th>InvoiceNo</th>\n",
              "      <th>StockCode</th>\n",
              "      <th>Description</th>\n",
              "      <th>Quantity</th>\n",
              "      <th>InvoiceDate</th>\n",
              "      <th>UnitPrice</th>\n",
              "      <th>CustomerID</th>\n",
              "    </tr>\n",
              "  </thead>\n",
              "  <tbody>\n",
              "    <tr>\n",
              "      <th>622</th>\n",
              "      <td>536414</td>\n",
              "      <td>22139</td>\n",
              "      <td>NaN</td>\n",
              "      <td>56</td>\n",
              "      <td>2020-02-05 11:52:00</td>\n",
              "      <td>0.0</td>\n",
              "      <td>NaN</td>\n",
              "    </tr>\n",
              "    <tr>\n",
              "      <th>1970</th>\n",
              "      <td>536545</td>\n",
              "      <td>21134</td>\n",
              "      <td>NaN</td>\n",
              "      <td>1</td>\n",
              "      <td>2020-02-05 14:32:00</td>\n",
              "      <td>0.0</td>\n",
              "      <td>NaN</td>\n",
              "    </tr>\n",
              "    <tr>\n",
              "      <th>1971</th>\n",
              "      <td>536546</td>\n",
              "      <td>22145</td>\n",
              "      <td>NaN</td>\n",
              "      <td>1</td>\n",
              "      <td>2020-02-05 14:33:00</td>\n",
              "      <td>0.0</td>\n",
              "      <td>NaN</td>\n",
              "    </tr>\n",
              "    <tr>\n",
              "      <th>1972</th>\n",
              "      <td>536547</td>\n",
              "      <td>37509</td>\n",
              "      <td>NaN</td>\n",
              "      <td>1</td>\n",
              "      <td>2020-02-05 14:33:00</td>\n",
              "      <td>0.0</td>\n",
              "      <td>NaN</td>\n",
              "    </tr>\n",
              "    <tr>\n",
              "      <th>1987</th>\n",
              "      <td>536549</td>\n",
              "      <td>85226A</td>\n",
              "      <td>NaN</td>\n",
              "      <td>1</td>\n",
              "      <td>2020-02-05 14:34:00</td>\n",
              "      <td>0.0</td>\n",
              "      <td>NaN</td>\n",
              "    </tr>\n",
              "    <tr>\n",
              "      <th>...</th>\n",
              "      <td>...</td>\n",
              "      <td>...</td>\n",
              "      <td>...</td>\n",
              "      <td>...</td>\n",
              "      <td>...</td>\n",
              "      <td>...</td>\n",
              "      <td>...</td>\n",
              "    </tr>\n",
              "    <tr>\n",
              "      <th>535322</th>\n",
              "      <td>581199</td>\n",
              "      <td>84581</td>\n",
              "      <td>NaN</td>\n",
              "      <td>-2</td>\n",
              "      <td>2021-02-10 18:26:00</td>\n",
              "      <td>0.0</td>\n",
              "      <td>NaN</td>\n",
              "    </tr>\n",
              "    <tr>\n",
              "      <th>535326</th>\n",
              "      <td>581203</td>\n",
              "      <td>23406</td>\n",
              "      <td>NaN</td>\n",
              "      <td>15</td>\n",
              "      <td>2021-02-10 18:31:00</td>\n",
              "      <td>0.0</td>\n",
              "      <td>NaN</td>\n",
              "    </tr>\n",
              "    <tr>\n",
              "      <th>535332</th>\n",
              "      <td>581209</td>\n",
              "      <td>21620</td>\n",
              "      <td>NaN</td>\n",
              "      <td>6</td>\n",
              "      <td>2021-02-10 18:35:00</td>\n",
              "      <td>0.0</td>\n",
              "      <td>NaN</td>\n",
              "    </tr>\n",
              "    <tr>\n",
              "      <th>536981</th>\n",
              "      <td>581234</td>\n",
              "      <td>72817</td>\n",
              "      <td>NaN</td>\n",
              "      <td>27</td>\n",
              "      <td>2021-02-11 10:33:00</td>\n",
              "      <td>0.0</td>\n",
              "      <td>NaN</td>\n",
              "    </tr>\n",
              "    <tr>\n",
              "      <th>538554</th>\n",
              "      <td>581408</td>\n",
              "      <td>85175</td>\n",
              "      <td>NaN</td>\n",
              "      <td>20</td>\n",
              "      <td>2021-02-11 14:06:00</td>\n",
              "      <td>0.0</td>\n",
              "      <td>NaN</td>\n",
              "    </tr>\n",
              "  </tbody>\n",
              "</table>\n",
              "<p>1454 rows × 7 columns</p>\n",
              "</div>"
            ],
            "text/plain": [
              "       InvoiceNo StockCode  ... UnitPrice  CustomerID\n",
              "622       536414     22139  ...       0.0         NaN\n",
              "1970      536545     21134  ...       0.0         NaN\n",
              "1971      536546     22145  ...       0.0         NaN\n",
              "1972      536547     37509  ...       0.0         NaN\n",
              "1987      536549    85226A  ...       0.0         NaN\n",
              "...          ...       ...  ...       ...         ...\n",
              "535322    581199     84581  ...       0.0         NaN\n",
              "535326    581203     23406  ...       0.0         NaN\n",
              "535332    581209     21620  ...       0.0         NaN\n",
              "536981    581234     72817  ...       0.0         NaN\n",
              "538554    581408     85175  ...       0.0         NaN\n",
              "\n",
              "[1454 rows x 7 columns]"
            ]
          },
          "metadata": {
            "tags": []
          },
          "execution_count": 18
        }
      ]
    },
    {
      "cell_type": "code",
      "metadata": {
        "id": "FmS5qL2Lk-1A",
        "colab": {
          "base_uri": "https://localhost:8080/"
        },
        "outputId": "628f1ff3-dbed-401f-c422-1a1173939f13"
      },
      "source": [
        "df3.shape"
      ],
      "execution_count": null,
      "outputs": [
        {
          "output_type": "execute_result",
          "data": {
            "text/plain": [
              "(541909, 7)"
            ]
          },
          "metadata": {
            "tags": []
          },
          "execution_count": 19
        }
      ]
    },
    {
      "cell_type": "code",
      "metadata": {
        "id": "oBy3CKrXjNww",
        "colab": {
          "base_uri": "https://localhost:8080/"
        },
        "outputId": "00cefcd4-d972-46cc-cbf8-104252366f2b"
      },
      "source": [
        "both_null_index = df3[(df3.Description.isnull()) & (df3.CustomerID.isnull())].index\r\n",
        "df3.drop(index=both_null_index, inplace=True)\r\n",
        "df3.shape"
      ],
      "execution_count": null,
      "outputs": [
        {
          "output_type": "execute_result",
          "data": {
            "text/plain": [
              "(540455, 7)"
            ]
          },
          "metadata": {
            "tags": []
          },
          "execution_count": 20
        }
      ]
    },
    {
      "cell_type": "code",
      "metadata": {
        "id": "wJqDAm-BoZ9G",
        "colab": {
          "base_uri": "https://localhost:8080/"
        },
        "outputId": "d75f876e-70e4-4f38-dce9-582b2c303390"
      },
      "source": [
        "df3.isna().sum()"
      ],
      "execution_count": null,
      "outputs": [
        {
          "output_type": "execute_result",
          "data": {
            "text/plain": [
              "InvoiceNo           0\n",
              "StockCode           0\n",
              "Description         0\n",
              "Quantity            0\n",
              "InvoiceDate         0\n",
              "UnitPrice           0\n",
              "CustomerID     133626\n",
              "dtype: int64"
            ]
          },
          "metadata": {
            "tags": []
          },
          "execution_count": 21
        }
      ]
    },
    {
      "cell_type": "markdown",
      "metadata": {
        "id": "UA7qbmabjNYF"
      },
      "source": [
        "**Check data where customer ID is null**<br> \r\n",
        "We can use this data for product analysis, becase we don't need customer ID to analysis that product. But why the customer ID is NaN...?"
      ]
    },
    {
      "cell_type": "code",
      "metadata": {
        "id": "uSDaGLHOfJqz",
        "colab": {
          "base_uri": "https://localhost:8080/",
          "height": 424
        },
        "outputId": "7581adea-33c2-492d-9af0-852934f2d09f"
      },
      "source": [
        "df3[(df3.Description.notnull()) & (df3.CustomerID.isnull())]"
      ],
      "execution_count": null,
      "outputs": [
        {
          "output_type": "execute_result",
          "data": {
            "text/html": [
              "<div>\n",
              "<style scoped>\n",
              "    .dataframe tbody tr th:only-of-type {\n",
              "        vertical-align: middle;\n",
              "    }\n",
              "\n",
              "    .dataframe tbody tr th {\n",
              "        vertical-align: top;\n",
              "    }\n",
              "\n",
              "    .dataframe thead th {\n",
              "        text-align: right;\n",
              "    }\n",
              "</style>\n",
              "<table border=\"1\" class=\"dataframe\">\n",
              "  <thead>\n",
              "    <tr style=\"text-align: right;\">\n",
              "      <th></th>\n",
              "      <th>InvoiceNo</th>\n",
              "      <th>StockCode</th>\n",
              "      <th>Description</th>\n",
              "      <th>Quantity</th>\n",
              "      <th>InvoiceDate</th>\n",
              "      <th>UnitPrice</th>\n",
              "      <th>CustomerID</th>\n",
              "    </tr>\n",
              "  </thead>\n",
              "  <tbody>\n",
              "    <tr>\n",
              "      <th>1443</th>\n",
              "      <td>536544</td>\n",
              "      <td>21773</td>\n",
              "      <td>DECORATIVE ROSE BATHROOM BOTTLE</td>\n",
              "      <td>1</td>\n",
              "      <td>2020-02-05 14:32:00</td>\n",
              "      <td>2.51</td>\n",
              "      <td>NaN</td>\n",
              "    </tr>\n",
              "    <tr>\n",
              "      <th>1444</th>\n",
              "      <td>536544</td>\n",
              "      <td>21774</td>\n",
              "      <td>DECORATIVE CATS BATHROOM BOTTLE</td>\n",
              "      <td>2</td>\n",
              "      <td>2020-02-05 14:32:00</td>\n",
              "      <td>2.51</td>\n",
              "      <td>NaN</td>\n",
              "    </tr>\n",
              "    <tr>\n",
              "      <th>1445</th>\n",
              "      <td>536544</td>\n",
              "      <td>21786</td>\n",
              "      <td>POLKADOT RAIN HAT</td>\n",
              "      <td>4</td>\n",
              "      <td>2020-02-05 14:32:00</td>\n",
              "      <td>0.85</td>\n",
              "      <td>NaN</td>\n",
              "    </tr>\n",
              "    <tr>\n",
              "      <th>1446</th>\n",
              "      <td>536544</td>\n",
              "      <td>21787</td>\n",
              "      <td>RAIN PONCHO RETROSPOT</td>\n",
              "      <td>2</td>\n",
              "      <td>2020-02-05 14:32:00</td>\n",
              "      <td>1.66</td>\n",
              "      <td>NaN</td>\n",
              "    </tr>\n",
              "    <tr>\n",
              "      <th>1447</th>\n",
              "      <td>536544</td>\n",
              "      <td>21790</td>\n",
              "      <td>VINTAGE SNAP CARDS</td>\n",
              "      <td>9</td>\n",
              "      <td>2020-02-05 14:32:00</td>\n",
              "      <td>1.66</td>\n",
              "      <td>NaN</td>\n",
              "    </tr>\n",
              "    <tr>\n",
              "      <th>...</th>\n",
              "      <td>...</td>\n",
              "      <td>...</td>\n",
              "      <td>...</td>\n",
              "      <td>...</td>\n",
              "      <td>...</td>\n",
              "      <td>...</td>\n",
              "      <td>...</td>\n",
              "    </tr>\n",
              "    <tr>\n",
              "      <th>541536</th>\n",
              "      <td>581498</td>\n",
              "      <td>85099B</td>\n",
              "      <td>JUMBO BAG RED RETROSPOT</td>\n",
              "      <td>5</td>\n",
              "      <td>2021-02-12 10:26:00</td>\n",
              "      <td>4.13</td>\n",
              "      <td>NaN</td>\n",
              "    </tr>\n",
              "    <tr>\n",
              "      <th>541537</th>\n",
              "      <td>581498</td>\n",
              "      <td>85099C</td>\n",
              "      <td>JUMBO  BAG BAROQUE BLACK WHITE</td>\n",
              "      <td>4</td>\n",
              "      <td>2021-02-12 10:26:00</td>\n",
              "      <td>4.13</td>\n",
              "      <td>NaN</td>\n",
              "    </tr>\n",
              "    <tr>\n",
              "      <th>541538</th>\n",
              "      <td>581498</td>\n",
              "      <td>85150</td>\n",
              "      <td>LADIES &amp; GENTLEMEN METAL SIGN</td>\n",
              "      <td>1</td>\n",
              "      <td>2021-02-12 10:26:00</td>\n",
              "      <td>4.96</td>\n",
              "      <td>NaN</td>\n",
              "    </tr>\n",
              "    <tr>\n",
              "      <th>541539</th>\n",
              "      <td>581498</td>\n",
              "      <td>85174</td>\n",
              "      <td>S/4 CACTI CANDLES</td>\n",
              "      <td>1</td>\n",
              "      <td>2021-02-12 10:26:00</td>\n",
              "      <td>10.79</td>\n",
              "      <td>NaN</td>\n",
              "    </tr>\n",
              "    <tr>\n",
              "      <th>541540</th>\n",
              "      <td>581498</td>\n",
              "      <td>DOT</td>\n",
              "      <td>DOTCOM POSTAGE</td>\n",
              "      <td>1</td>\n",
              "      <td>2021-02-12 10:26:00</td>\n",
              "      <td>1714.17</td>\n",
              "      <td>NaN</td>\n",
              "    </tr>\n",
              "  </tbody>\n",
              "</table>\n",
              "<p>133626 rows × 7 columns</p>\n",
              "</div>"
            ],
            "text/plain": [
              "       InvoiceNo StockCode  ... UnitPrice  CustomerID\n",
              "1443      536544     21773  ...      2.51         NaN\n",
              "1444      536544     21774  ...      2.51         NaN\n",
              "1445      536544     21786  ...      0.85         NaN\n",
              "1446      536544     21787  ...      1.66         NaN\n",
              "1447      536544     21790  ...      1.66         NaN\n",
              "...          ...       ...  ...       ...         ...\n",
              "541536    581498    85099B  ...      4.13         NaN\n",
              "541537    581498    85099C  ...      4.13         NaN\n",
              "541538    581498     85150  ...      4.96         NaN\n",
              "541539    581498     85174  ...     10.79         NaN\n",
              "541540    581498       DOT  ...   1714.17         NaN\n",
              "\n",
              "[133626 rows x 7 columns]"
            ]
          },
          "metadata": {
            "tags": []
          },
          "execution_count": 22
        }
      ]
    },
    {
      "cell_type": "markdown",
      "metadata": {
        "id": "NHRlFVJUXu2t"
      },
      "source": [
        "**drop data with description == ?**"
      ]
    },
    {
      "cell_type": "code",
      "metadata": {
        "colab": {
          "base_uri": "https://localhost:8080/",
          "height": 81
        },
        "id": "gvPSYdPponks",
        "outputId": "b796c003-999d-4c9f-9761-c78d92722d5a"
      },
      "source": [
        "df3[df3.Description == '?'].head(1)"
      ],
      "execution_count": null,
      "outputs": [
        {
          "output_type": "execute_result",
          "data": {
            "text/html": [
              "<div>\n",
              "<style scoped>\n",
              "    .dataframe tbody tr th:only-of-type {\n",
              "        vertical-align: middle;\n",
              "    }\n",
              "\n",
              "    .dataframe tbody tr th {\n",
              "        vertical-align: top;\n",
              "    }\n",
              "\n",
              "    .dataframe thead th {\n",
              "        text-align: right;\n",
              "    }\n",
              "</style>\n",
              "<table border=\"1\" class=\"dataframe\">\n",
              "  <thead>\n",
              "    <tr style=\"text-align: right;\">\n",
              "      <th></th>\n",
              "      <th>InvoiceNo</th>\n",
              "      <th>StockCode</th>\n",
              "      <th>Description</th>\n",
              "      <th>Quantity</th>\n",
              "      <th>InvoiceDate</th>\n",
              "      <th>UnitPrice</th>\n",
              "      <th>CustomerID</th>\n",
              "    </tr>\n",
              "  </thead>\n",
              "  <tbody>\n",
              "    <tr>\n",
              "      <th>7313</th>\n",
              "      <td>537032</td>\n",
              "      <td>21275</td>\n",
              "      <td>?</td>\n",
              "      <td>-30</td>\n",
              "      <td>2020-02-07 16:50:00</td>\n",
              "      <td>0.0</td>\n",
              "      <td>NaN</td>\n",
              "    </tr>\n",
              "  </tbody>\n",
              "</table>\n",
              "</div>"
            ],
            "text/plain": [
              "     InvoiceNo StockCode Description  ...         InvoiceDate UnitPrice  CustomerID\n",
              "7313    537032     21275           ?  ... 2020-02-07 16:50:00       0.0         NaN\n",
              "\n",
              "[1 rows x 7 columns]"
            ]
          },
          "metadata": {
            "tags": []
          },
          "execution_count": 23
        }
      ]
    },
    {
      "cell_type": "code",
      "metadata": {
        "id": "nmE4D3GlX0yq"
      },
      "source": [
        "both_null_index = df3[(df3.Description == '?')].index\r\n",
        "df3.drop(index=both_null_index, inplace=True)"
      ],
      "execution_count": null,
      "outputs": []
    },
    {
      "cell_type": "markdown",
      "metadata": {
        "id": "XqGT799rXy1G"
      },
      "source": [
        "##**Handling Data Anomaly**"
      ]
    },
    {
      "cell_type": "code",
      "metadata": {
        "id": "MWHXkdAneYaV",
        "colab": {
          "base_uri": "https://localhost:8080/",
          "height": 300
        },
        "outputId": "552cf0bc-ee2d-4ee6-c5ba-8c07e46698de"
      },
      "source": [
        "df3.describe()"
      ],
      "execution_count": null,
      "outputs": [
        {
          "output_type": "execute_result",
          "data": {
            "text/html": [
              "<div>\n",
              "<style scoped>\n",
              "    .dataframe tbody tr th:only-of-type {\n",
              "        vertical-align: middle;\n",
              "    }\n",
              "\n",
              "    .dataframe tbody tr th {\n",
              "        vertical-align: top;\n",
              "    }\n",
              "\n",
              "    .dataframe thead th {\n",
              "        text-align: right;\n",
              "    }\n",
              "</style>\n",
              "<table border=\"1\" class=\"dataframe\">\n",
              "  <thead>\n",
              "    <tr style=\"text-align: right;\">\n",
              "      <th></th>\n",
              "      <th>Quantity</th>\n",
              "      <th>UnitPrice</th>\n",
              "      <th>CustomerID</th>\n",
              "    </tr>\n",
              "  </thead>\n",
              "  <tbody>\n",
              "    <tr>\n",
              "      <th>count</th>\n",
              "      <td>540408.000000</td>\n",
              "      <td>540408.000000</td>\n",
              "      <td>406829.000000</td>\n",
              "    </tr>\n",
              "    <tr>\n",
              "      <th>mean</th>\n",
              "      <td>9.606525</td>\n",
              "      <td>4.623921</td>\n",
              "      <td>15287.690570</td>\n",
              "    </tr>\n",
              "    <tr>\n",
              "      <th>std</th>\n",
              "      <td>217.889936</td>\n",
              "      <td>96.893831</td>\n",
              "      <td>1713.600303</td>\n",
              "    </tr>\n",
              "    <tr>\n",
              "      <th>min</th>\n",
              "      <td>-80995.000000</td>\n",
              "      <td>-11062.060000</td>\n",
              "      <td>12346.000000</td>\n",
              "    </tr>\n",
              "    <tr>\n",
              "      <th>25%</th>\n",
              "      <td>1.000000</td>\n",
              "      <td>1.250000</td>\n",
              "      <td>13953.000000</td>\n",
              "    </tr>\n",
              "    <tr>\n",
              "      <th>50%</th>\n",
              "      <td>3.000000</td>\n",
              "      <td>2.080000</td>\n",
              "      <td>15152.000000</td>\n",
              "    </tr>\n",
              "    <tr>\n",
              "      <th>75%</th>\n",
              "      <td>10.000000</td>\n",
              "      <td>4.130000</td>\n",
              "      <td>16791.000000</td>\n",
              "    </tr>\n",
              "    <tr>\n",
              "      <th>max</th>\n",
              "      <td>80995.000000</td>\n",
              "      <td>38970.000000</td>\n",
              "      <td>18287.000000</td>\n",
              "    </tr>\n",
              "  </tbody>\n",
              "</table>\n",
              "</div>"
            ],
            "text/plain": [
              "            Quantity      UnitPrice     CustomerID\n",
              "count  540408.000000  540408.000000  406829.000000\n",
              "mean        9.606525       4.623921   15287.690570\n",
              "std       217.889936      96.893831    1713.600303\n",
              "min    -80995.000000  -11062.060000   12346.000000\n",
              "25%         1.000000       1.250000   13953.000000\n",
              "50%         3.000000       2.080000   15152.000000\n",
              "75%        10.000000       4.130000   16791.000000\n",
              "max     80995.000000   38970.000000   18287.000000"
            ]
          },
          "metadata": {
            "tags": []
          },
          "execution_count": 25
        }
      ]
    },
    {
      "cell_type": "markdown",
      "metadata": {
        "id": "XtuetwtFee1j"
      },
      "source": [
        "- There are some data anomaly where the value is minus. We know that the quantity and unitprice will never be minus except the cancel the product.\r\n",
        "- Max quantity is 80995 and min quantity is 80995, i think it's not possible where product with quantity less then 0, except discount."
      ]
    },
    {
      "cell_type": "markdown",
      "metadata": {
        "id": "Sx9ZHQ2uChIp"
      },
      "source": [
        "###Check outlier"
      ]
    },
    {
      "cell_type": "code",
      "metadata": {
        "colab": {
          "base_uri": "https://localhost:8080/",
          "height": 279
        },
        "id": "gcEHcOsQCjDr",
        "outputId": "a94814ce-2bec-45aa-caf2-f480e68db0f8"
      },
      "source": [
        "sns.boxenplot(df3.Quantity);"
      ],
      "execution_count": null,
      "outputs": [
        {
          "output_type": "display_data",
          "data": {
            "image/png": "[encoded data removed]",
            "text/plain": [
              "<Figure size 432x288 with 1 Axes>"
            ]
          },
          "metadata": {
            "tags": [],
            "needs_background": "light"
          }
        }
      ]
    },
    {
      "cell_type": "code",
      "metadata": {
        "id": "OS-mi1ECDHEi"
      },
      "source": [
        "def outlier_check(data):\r\n",
        "  q1, q3 = data.quantile(0.25), data.quantile(0.75)\r\n",
        "  iqr = q3-q1\r\n",
        "  return (q1-iqr*1.5), (q3+iqr*1.5)"
      ],
      "execution_count": null,
      "outputs": []
    },
    {
      "cell_type": "code",
      "metadata": {
        "colab": {
          "base_uri": "https://localhost:8080/"
        },
        "id": "S3tTYicCDNZr",
        "outputId": "26e995ff-5002-4a29-9a78-99c87988252b"
      },
      "source": [
        "lb, ub = outlier_check(df3.Quantity)\r\n",
        "print('Lower bound {0}, upper bound{1} ' .format(lb, ub))"
      ],
      "execution_count": null,
      "outputs": [
        {
          "output_type": "stream",
          "text": [
            "Lower bound -12.5, upper bound23.5 \n"
          ],
          "name": "stdout"
        }
      ]
    },
    {
      "cell_type": "markdown",
      "metadata": {
        "id": "rXoeKeflSSYw"
      },
      "source": [
        "The Question is why the quantity and price are minus..?"
      ]
    },
    {
      "cell_type": "code",
      "metadata": {
        "colab": {
          "base_uri": "https://localhost:8080/",
          "height": 293
        },
        "id": "n2x4hC8iVeKS",
        "outputId": "6d00485e-8ce0-4261-fe96-4589d4412f2c"
      },
      "source": [
        "df.head()"
      ],
      "execution_count": null,
      "outputs": [
        {
          "output_type": "execute_result",
          "data": {
            "text/html": [
              "<div>\n",
              "<style scoped>\n",
              "    .dataframe tbody tr th:only-of-type {\n",
              "        vertical-align: middle;\n",
              "    }\n",
              "\n",
              "    .dataframe tbody tr th {\n",
              "        vertical-align: top;\n",
              "    }\n",
              "\n",
              "    .dataframe thead th {\n",
              "        text-align: right;\n",
              "    }\n",
              "</style>\n",
              "<table border=\"1\" class=\"dataframe\">\n",
              "  <thead>\n",
              "    <tr style=\"text-align: right;\">\n",
              "      <th></th>\n",
              "      <th>InvoiceNo</th>\n",
              "      <th>StockCode</th>\n",
              "      <th>Description</th>\n",
              "      <th>Quantity</th>\n",
              "      <th>InvoiceDate</th>\n",
              "      <th>UnitPrice</th>\n",
              "      <th>CustomerID</th>\n",
              "      <th>Country</th>\n",
              "    </tr>\n",
              "  </thead>\n",
              "  <tbody>\n",
              "    <tr>\n",
              "      <th>0</th>\n",
              "      <td>536365</td>\n",
              "      <td>85123A</td>\n",
              "      <td>WHITE HANGING HEART T-LIGHT HOLDER</td>\n",
              "      <td>6</td>\n",
              "      <td>2010-12-01 08:26:00</td>\n",
              "      <td>2.55</td>\n",
              "      <td>17850.0</td>\n",
              "      <td>United Kingdom</td>\n",
              "    </tr>\n",
              "    <tr>\n",
              "      <th>1</th>\n",
              "      <td>536365</td>\n",
              "      <td>71053</td>\n",
              "      <td>WHITE METAL LANTERN</td>\n",
              "      <td>6</td>\n",
              "      <td>2010-12-01 08:26:00</td>\n",
              "      <td>3.39</td>\n",
              "      <td>17850.0</td>\n",
              "      <td>United Kingdom</td>\n",
              "    </tr>\n",
              "    <tr>\n",
              "      <th>2</th>\n",
              "      <td>536365</td>\n",
              "      <td>84406B</td>\n",
              "      <td>CREAM CUPID HEARTS COAT HANGER</td>\n",
              "      <td>8</td>\n",
              "      <td>2010-12-01 08:26:00</td>\n",
              "      <td>2.75</td>\n",
              "      <td>17850.0</td>\n",
              "      <td>United Kingdom</td>\n",
              "    </tr>\n",
              "    <tr>\n",
              "      <th>3</th>\n",
              "      <td>536365</td>\n",
              "      <td>84029G</td>\n",
              "      <td>KNITTED UNION FLAG HOT WATER BOTTLE</td>\n",
              "      <td>6</td>\n",
              "      <td>2010-12-01 08:26:00</td>\n",
              "      <td>3.39</td>\n",
              "      <td>17850.0</td>\n",
              "      <td>United Kingdom</td>\n",
              "    </tr>\n",
              "    <tr>\n",
              "      <th>4</th>\n",
              "      <td>536365</td>\n",
              "      <td>84029E</td>\n",
              "      <td>RED WOOLLY HOTTIE WHITE HEART.</td>\n",
              "      <td>6</td>\n",
              "      <td>2010-12-01 08:26:00</td>\n",
              "      <td>3.39</td>\n",
              "      <td>17850.0</td>\n",
              "      <td>United Kingdom</td>\n",
              "    </tr>\n",
              "  </tbody>\n",
              "</table>\n",
              "</div>"
            ],
            "text/plain": [
              "  InvoiceNo StockCode  ... CustomerID         Country\n",
              "0    536365    85123A  ...    17850.0  United Kingdom\n",
              "1    536365     71053  ...    17850.0  United Kingdom\n",
              "2    536365    84406B  ...    17850.0  United Kingdom\n",
              "3    536365    84029G  ...    17850.0  United Kingdom\n",
              "4    536365    84029E  ...    17850.0  United Kingdom\n",
              "\n",
              "[5 rows x 8 columns]"
            ]
          },
          "metadata": {
            "tags": []
          },
          "execution_count": 29
        }
      ]
    },
    {
      "cell_type": "code",
      "metadata": {
        "colab": {
          "base_uri": "https://localhost:8080/",
          "height": 424
        },
        "id": "88qmDsmsDUWB",
        "outputId": "31b5c97f-1f45-4e7b-961d-97b220d7895d"
      },
      "source": [
        "df3[(df3.Quantity<-20)|(df3.Quantity>10000)]"
      ],
      "execution_count": null,
      "outputs": [
        {
          "output_type": "execute_result",
          "data": {
            "text/html": [
              "<div>\n",
              "<style scoped>\n",
              "    .dataframe tbody tr th:only-of-type {\n",
              "        vertical-align: middle;\n",
              "    }\n",
              "\n",
              "    .dataframe tbody tr th {\n",
              "        vertical-align: top;\n",
              "    }\n",
              "\n",
              "    .dataframe thead th {\n",
              "        text-align: right;\n",
              "    }\n",
              "</style>\n",
              "<table border=\"1\" class=\"dataframe\">\n",
              "  <thead>\n",
              "    <tr style=\"text-align: right;\">\n",
              "      <th></th>\n",
              "      <th>InvoiceNo</th>\n",
              "      <th>StockCode</th>\n",
              "      <th>Description</th>\n",
              "      <th>Quantity</th>\n",
              "      <th>InvoiceDate</th>\n",
              "      <th>UnitPrice</th>\n",
              "      <th>CustomerID</th>\n",
              "    </tr>\n",
              "  </thead>\n",
              "  <tbody>\n",
              "    <tr>\n",
              "      <th>236</th>\n",
              "      <td>C536391</td>\n",
              "      <td>21984</td>\n",
              "      <td>PACK OF 12 PINK PAISLEY TISSUES</td>\n",
              "      <td>-24</td>\n",
              "      <td>2020-02-05 10:24:00</td>\n",
              "      <td>0.29</td>\n",
              "      <td>17548.0</td>\n",
              "    </tr>\n",
              "    <tr>\n",
              "      <th>237</th>\n",
              "      <td>C536391</td>\n",
              "      <td>21983</td>\n",
              "      <td>PACK OF 12 BLUE PAISLEY TISSUES</td>\n",
              "      <td>-24</td>\n",
              "      <td>2020-02-05 10:24:00</td>\n",
              "      <td>0.29</td>\n",
              "      <td>17548.0</td>\n",
              "    </tr>\n",
              "    <tr>\n",
              "      <th>238</th>\n",
              "      <td>C536391</td>\n",
              "      <td>21980</td>\n",
              "      <td>PACK OF 12 RED RETROSPOT TISSUES</td>\n",
              "      <td>-24</td>\n",
              "      <td>2020-02-05 10:24:00</td>\n",
              "      <td>0.29</td>\n",
              "      <td>17548.0</td>\n",
              "    </tr>\n",
              "    <tr>\n",
              "      <th>241</th>\n",
              "      <td>C536391</td>\n",
              "      <td>22553</td>\n",
              "      <td>PLASTERS IN TIN SKULLS</td>\n",
              "      <td>-24</td>\n",
              "      <td>2020-02-05 10:24:00</td>\n",
              "      <td>1.65</td>\n",
              "      <td>17548.0</td>\n",
              "    </tr>\n",
              "    <tr>\n",
              "      <th>4287</th>\n",
              "      <td>C536757</td>\n",
              "      <td>84347</td>\n",
              "      <td>ROTATING SILVER ANGELS T-LIGHT HLDR</td>\n",
              "      <td>-9360</td>\n",
              "      <td>2020-02-06 14:23:00</td>\n",
              "      <td>0.03</td>\n",
              "      <td>15838.0</td>\n",
              "    </tr>\n",
              "    <tr>\n",
              "      <th>...</th>\n",
              "      <td>...</td>\n",
              "      <td>...</td>\n",
              "      <td>...</td>\n",
              "      <td>...</td>\n",
              "      <td>...</td>\n",
              "      <td>...</td>\n",
              "      <td>...</td>\n",
              "    </tr>\n",
              "    <tr>\n",
              "      <th>538919</th>\n",
              "      <td>581422</td>\n",
              "      <td>23169</td>\n",
              "      <td>smashed</td>\n",
              "      <td>-235</td>\n",
              "      <td>2021-02-11 15:24:00</td>\n",
              "      <td>0.00</td>\n",
              "      <td>NaN</td>\n",
              "    </tr>\n",
              "    <tr>\n",
              "      <th>540078</th>\n",
              "      <td>C581462</td>\n",
              "      <td>16219</td>\n",
              "      <td>HOUSE SHAPE PENCIL SHARPENER</td>\n",
              "      <td>-48</td>\n",
              "      <td>2021-02-11 18:51:00</td>\n",
              "      <td>0.06</td>\n",
              "      <td>12985.0</td>\n",
              "    </tr>\n",
              "    <tr>\n",
              "      <th>540079</th>\n",
              "      <td>C581462</td>\n",
              "      <td>21642</td>\n",
              "      <td>ASSORTED TUTTI FRUTTI PEN</td>\n",
              "      <td>-72</td>\n",
              "      <td>2021-02-11 18:51:00</td>\n",
              "      <td>0.29</td>\n",
              "      <td>12985.0</td>\n",
              "    </tr>\n",
              "    <tr>\n",
              "      <th>540421</th>\n",
              "      <td>581483</td>\n",
              "      <td>23843</td>\n",
              "      <td>PAPER CRAFT , LITTLE BIRDIE</td>\n",
              "      <td>80995</td>\n",
              "      <td>2021-02-12 09:15:00</td>\n",
              "      <td>2.08</td>\n",
              "      <td>16446.0</td>\n",
              "    </tr>\n",
              "    <tr>\n",
              "      <th>540422</th>\n",
              "      <td>C581484</td>\n",
              "      <td>23843</td>\n",
              "      <td>PAPER CRAFT , LITTLE BIRDIE</td>\n",
              "      <td>-80995</td>\n",
              "      <td>2021-02-12 09:27:00</td>\n",
              "      <td>2.08</td>\n",
              "      <td>16446.0</td>\n",
              "    </tr>\n",
              "  </tbody>\n",
              "</table>\n",
              "<p>1228 rows × 7 columns</p>\n",
              "</div>"
            ],
            "text/plain": [
              "       InvoiceNo StockCode  ... UnitPrice  CustomerID\n",
              "236      C536391     21984  ...      0.29     17548.0\n",
              "237      C536391     21983  ...      0.29     17548.0\n",
              "238      C536391     21980  ...      0.29     17548.0\n",
              "241      C536391     22553  ...      1.65     17548.0\n",
              "4287     C536757     84347  ...      0.03     15838.0\n",
              "...          ...       ...  ...       ...         ...\n",
              "538919    581422     23169  ...      0.00         NaN\n",
              "540078   C581462     16219  ...      0.06     12985.0\n",
              "540079   C581462     21642  ...      0.29     12985.0\n",
              "540421    581483     23843  ...      2.08     16446.0\n",
              "540422   C581484     23843  ...      2.08     16446.0\n",
              "\n",
              "[1228 rows x 7 columns]"
            ]
          },
          "metadata": {
            "tags": []
          },
          "execution_count": 30
        }
      ]
    },
    {
      "cell_type": "markdown",
      "metadata": {
        "id": "8eIg326_WVmR"
      },
      "source": [
        "Note:\r\n",
        "- Why there is a latter in invoice no and stock code. What doest it mean? \r\n",
        "- What kinds of letters are there?"
      ]
    },
    {
      "cell_type": "code",
      "metadata": {
        "id": "DcVLHKK87y94"
      },
      "source": [
        "#casefoldong\r\n",
        "def to_lower(x):\r\n",
        "  return x.lower()\r\n",
        "\r\n",
        "df3.Description = df3.Description.apply(to_lower)"
      ],
      "execution_count": null,
      "outputs": []
    },
    {
      "cell_type": "markdown",
      "metadata": {
        "id": "COXj5mm5Z6Ri"
      },
      "source": [
        "**Check InvoiceNo**"
      ]
    },
    {
      "cell_type": "code",
      "metadata": {
        "colab": {
          "base_uri": "https://localhost:8080/"
        },
        "id": "1tmj6l6ZYt9d",
        "outputId": "c91eeb3b-11cd-442c-bf7b-c7fd1e87ad09"
      },
      "source": [
        "code_tmp = []\r\n",
        "def invoice_code(x):\r\n",
        "  result = re.findall(r'[a-zA-z]+', x)\r\n",
        "  result = ''.join(result)\r\n",
        "  if result not in code_tmp and result != '':\r\n",
        "    code_tmp.append(result)\r\n",
        "\r\n",
        "df3.InvoiceNo.apply(invoice_code)\r\n",
        "code_tmp"
      ],
      "execution_count": null,
      "outputs": [
        {
          "output_type": "execute_result",
          "data": {
            "text/plain": [
              "['C', 'A']"
            ]
          },
          "metadata": {
            "tags": []
          },
          "execution_count": 32
        }
      ]
    },
    {
      "cell_type": "markdown",
      "metadata": {
        "id": "YZuf6kDE3_K8"
      },
      "source": [
        "Check Invoice containing the letter A"
      ]
    },
    {
      "cell_type": "code",
      "metadata": {
        "colab": {
          "base_uri": "https://localhost:8080/",
          "height": 143
        },
        "id": "t_BJ9bICavbd",
        "outputId": "ba0a73d3-8532-47ad-83aa-da8f637492d5"
      },
      "source": [
        "df3[df3.InvoiceNo.str.contains('A')]"
      ],
      "execution_count": null,
      "outputs": [
        {
          "output_type": "execute_result",
          "data": {
            "text/html": [
              "<div>\n",
              "<style scoped>\n",
              "    .dataframe tbody tr th:only-of-type {\n",
              "        vertical-align: middle;\n",
              "    }\n",
              "\n",
              "    .dataframe tbody tr th {\n",
              "        vertical-align: top;\n",
              "    }\n",
              "\n",
              "    .dataframe thead th {\n",
              "        text-align: right;\n",
              "    }\n",
              "</style>\n",
              "<table border=\"1\" class=\"dataframe\">\n",
              "  <thead>\n",
              "    <tr style=\"text-align: right;\">\n",
              "      <th></th>\n",
              "      <th>InvoiceNo</th>\n",
              "      <th>StockCode</th>\n",
              "      <th>Description</th>\n",
              "      <th>Quantity</th>\n",
              "      <th>InvoiceDate</th>\n",
              "      <th>UnitPrice</th>\n",
              "      <th>CustomerID</th>\n",
              "    </tr>\n",
              "  </thead>\n",
              "  <tbody>\n",
              "    <tr>\n",
              "      <th>299982</th>\n",
              "      <td>A563185</td>\n",
              "      <td>B</td>\n",
              "      <td>adjust bad debt</td>\n",
              "      <td>1</td>\n",
              "      <td>2020-10-16 14:50:00</td>\n",
              "      <td>11062.06</td>\n",
              "      <td>NaN</td>\n",
              "    </tr>\n",
              "    <tr>\n",
              "      <th>299983</th>\n",
              "      <td>A563186</td>\n",
              "      <td>B</td>\n",
              "      <td>adjust bad debt</td>\n",
              "      <td>1</td>\n",
              "      <td>2020-10-16 14:51:00</td>\n",
              "      <td>-11062.06</td>\n",
              "      <td>NaN</td>\n",
              "    </tr>\n",
              "    <tr>\n",
              "      <th>299984</th>\n",
              "      <td>A563187</td>\n",
              "      <td>B</td>\n",
              "      <td>adjust bad debt</td>\n",
              "      <td>1</td>\n",
              "      <td>2020-10-16 14:52:00</td>\n",
              "      <td>-11062.06</td>\n",
              "      <td>NaN</td>\n",
              "    </tr>\n",
              "  </tbody>\n",
              "</table>\n",
              "</div>"
            ],
            "text/plain": [
              "       InvoiceNo StockCode  ... UnitPrice  CustomerID\n",
              "299982   A563185         B  ...  11062.06         NaN\n",
              "299983   A563186         B  ... -11062.06         NaN\n",
              "299984   A563187         B  ... -11062.06         NaN\n",
              "\n",
              "[3 rows x 7 columns]"
            ]
          },
          "metadata": {
            "tags": []
          },
          "execution_count": 33
        }
      ]
    },
    {
      "cell_type": "code",
      "metadata": {
        "id": "pZIih6YN3R6w"
      },
      "source": [
        "#I think this isn't important, so we can drop this index\r\n",
        "df3.drop(index=df3[df3.InvoiceNo.str.contains('A')].index, inplace=True)"
      ],
      "execution_count": null,
      "outputs": []
    },
    {
      "cell_type": "markdown",
      "metadata": {
        "id": "TwtXRfeu4PCe"
      },
      "source": [
        "Check Invoice containing the letter C, make sure that all the value is minus"
      ]
    },
    {
      "cell_type": "code",
      "metadata": {
        "colab": {
          "base_uri": "https://localhost:8080/",
          "height": 225
        },
        "id": "YvIwp3L728XQ",
        "outputId": "c3c46c76-ea77-43ab-e2e0-d4d4c60a7b1b"
      },
      "source": [
        "print(\"The number of data: \", df3[df3.InvoiceNo.str.contains('C')].shape[0])\r\n",
        "df3[df3.InvoiceNo.str.contains('C')].head()"
      ],
      "execution_count": null,
      "outputs": [
        {
          "output_type": "stream",
          "text": [
            "The number of data:  9288\n"
          ],
          "name": "stdout"
        },
        {
          "output_type": "execute_result",
          "data": {
            "text/html": [
              "<div>\n",
              "<style scoped>\n",
              "    .dataframe tbody tr th:only-of-type {\n",
              "        vertical-align: middle;\n",
              "    }\n",
              "\n",
              "    .dataframe tbody tr th {\n",
              "        vertical-align: top;\n",
              "    }\n",
              "\n",
              "    .dataframe thead th {\n",
              "        text-align: right;\n",
              "    }\n",
              "</style>\n",
              "<table border=\"1\" class=\"dataframe\">\n",
              "  <thead>\n",
              "    <tr style=\"text-align: right;\">\n",
              "      <th></th>\n",
              "      <th>InvoiceNo</th>\n",
              "      <th>StockCode</th>\n",
              "      <th>Description</th>\n",
              "      <th>Quantity</th>\n",
              "      <th>InvoiceDate</th>\n",
              "      <th>UnitPrice</th>\n",
              "      <th>CustomerID</th>\n",
              "    </tr>\n",
              "  </thead>\n",
              "  <tbody>\n",
              "    <tr>\n",
              "      <th>141</th>\n",
              "      <td>C536379</td>\n",
              "      <td>D</td>\n",
              "      <td>discount</td>\n",
              "      <td>-1</td>\n",
              "      <td>2020-02-05 09:41:00</td>\n",
              "      <td>27.50</td>\n",
              "      <td>14527.0</td>\n",
              "    </tr>\n",
              "    <tr>\n",
              "      <th>154</th>\n",
              "      <td>C536383</td>\n",
              "      <td>35004C</td>\n",
              "      <td>set of 3 coloured  flying ducks</td>\n",
              "      <td>-1</td>\n",
              "      <td>2020-02-05 09:49:00</td>\n",
              "      <td>4.65</td>\n",
              "      <td>15311.0</td>\n",
              "    </tr>\n",
              "    <tr>\n",
              "      <th>235</th>\n",
              "      <td>C536391</td>\n",
              "      <td>22556</td>\n",
              "      <td>plasters in tin circus parade</td>\n",
              "      <td>-12</td>\n",
              "      <td>2020-02-05 10:24:00</td>\n",
              "      <td>1.65</td>\n",
              "      <td>17548.0</td>\n",
              "    </tr>\n",
              "    <tr>\n",
              "      <th>236</th>\n",
              "      <td>C536391</td>\n",
              "      <td>21984</td>\n",
              "      <td>pack of 12 pink paisley tissues</td>\n",
              "      <td>-24</td>\n",
              "      <td>2020-02-05 10:24:00</td>\n",
              "      <td>0.29</td>\n",
              "      <td>17548.0</td>\n",
              "    </tr>\n",
              "    <tr>\n",
              "      <th>237</th>\n",
              "      <td>C536391</td>\n",
              "      <td>21983</td>\n",
              "      <td>pack of 12 blue paisley tissues</td>\n",
              "      <td>-24</td>\n",
              "      <td>2020-02-05 10:24:00</td>\n",
              "      <td>0.29</td>\n",
              "      <td>17548.0</td>\n",
              "    </tr>\n",
              "  </tbody>\n",
              "</table>\n",
              "</div>"
            ],
            "text/plain": [
              "    InvoiceNo StockCode  ... UnitPrice  CustomerID\n",
              "141   C536379         D  ...     27.50     14527.0\n",
              "154   C536383    35004C  ...      4.65     15311.0\n",
              "235   C536391     22556  ...      1.65     17548.0\n",
              "236   C536391     21984  ...      0.29     17548.0\n",
              "237   C536391     21983  ...      0.29     17548.0\n",
              "\n",
              "[5 rows x 7 columns]"
            ]
          },
          "metadata": {
            "tags": []
          },
          "execution_count": 35
        }
      ]
    },
    {
      "cell_type": "code",
      "metadata": {
        "colab": {
          "base_uri": "https://localhost:8080/",
          "height": 49
        },
        "id": "0R1wffLJ28UC",
        "outputId": "e7691908-f9cd-4c02-efa2-e03bfc9aeaa0"
      },
      "source": [
        "df3[(df3.InvoiceNo.str.contains('C'))&(df3.Quantity >= 0)]"
      ],
      "execution_count": null,
      "outputs": [
        {
          "output_type": "execute_result",
          "data": {
            "text/html": [
              "<div>\n",
              "<style scoped>\n",
              "    .dataframe tbody tr th:only-of-type {\n",
              "        vertical-align: middle;\n",
              "    }\n",
              "\n",
              "    .dataframe tbody tr th {\n",
              "        vertical-align: top;\n",
              "    }\n",
              "\n",
              "    .dataframe thead th {\n",
              "        text-align: right;\n",
              "    }\n",
              "</style>\n",
              "<table border=\"1\" class=\"dataframe\">\n",
              "  <thead>\n",
              "    <tr style=\"text-align: right;\">\n",
              "      <th></th>\n",
              "      <th>InvoiceNo</th>\n",
              "      <th>StockCode</th>\n",
              "      <th>Description</th>\n",
              "      <th>Quantity</th>\n",
              "      <th>InvoiceDate</th>\n",
              "      <th>UnitPrice</th>\n",
              "      <th>CustomerID</th>\n",
              "    </tr>\n",
              "  </thead>\n",
              "  <tbody>\n",
              "  </tbody>\n",
              "</table>\n",
              "</div>"
            ],
            "text/plain": [
              "Empty DataFrame\n",
              "Columns: [InvoiceNo, StockCode, Description, Quantity, InvoiceDate, UnitPrice, CustomerID]\n",
              "Index: []"
            ]
          },
          "metadata": {
            "tags": []
          },
          "execution_count": 36
        }
      ]
    },
    {
      "cell_type": "markdown",
      "metadata": {
        "id": "6hlc3Auc42ij"
      },
      "source": [
        "My Assumption why the quantity is minus:\r\n",
        "- Discount\r\n",
        "- Cancel order\r\n",
        "- Anomaly data\r\n",
        "\r\n",
        "But we need to make sure it, how about the data that doesn't containing C in its InvoiceNo. Are all the data positive ?"
      ]
    },
    {
      "cell_type": "code",
      "metadata": {
        "colab": {
          "base_uri": "https://localhost:8080/",
          "height": 424
        },
        "id": "G8EKbpcq5JWE",
        "outputId": "adbebf22-b0e8-4bed-cdc9-096925d383d2"
      },
      "source": [
        "df3[(~df3.InvoiceNo.str.contains('C'))&(df3.Quantity <= 0)]"
      ],
      "execution_count": null,
      "outputs": [
        {
          "output_type": "execute_result",
          "data": {
            "text/html": [
              "<div>\n",
              "<style scoped>\n",
              "    .dataframe tbody tr th:only-of-type {\n",
              "        vertical-align: middle;\n",
              "    }\n",
              "\n",
              "    .dataframe tbody tr th {\n",
              "        vertical-align: top;\n",
              "    }\n",
              "\n",
              "    .dataframe thead th {\n",
              "        text-align: right;\n",
              "    }\n",
              "</style>\n",
              "<table border=\"1\" class=\"dataframe\">\n",
              "  <thead>\n",
              "    <tr style=\"text-align: right;\">\n",
              "      <th></th>\n",
              "      <th>InvoiceNo</th>\n",
              "      <th>StockCode</th>\n",
              "      <th>Description</th>\n",
              "      <th>Quantity</th>\n",
              "      <th>InvoiceDate</th>\n",
              "      <th>UnitPrice</th>\n",
              "      <th>CustomerID</th>\n",
              "    </tr>\n",
              "  </thead>\n",
              "  <tbody>\n",
              "    <tr>\n",
              "      <th>13217</th>\n",
              "      <td>537425</td>\n",
              "      <td>84968F</td>\n",
              "      <td>check</td>\n",
              "      <td>-20</td>\n",
              "      <td>2020-02-10 15:35:00</td>\n",
              "      <td>0.0</td>\n",
              "      <td>NaN</td>\n",
              "    </tr>\n",
              "    <tr>\n",
              "      <th>13218</th>\n",
              "      <td>537426</td>\n",
              "      <td>84968E</td>\n",
              "      <td>check</td>\n",
              "      <td>-35</td>\n",
              "      <td>2020-02-10 15:36:00</td>\n",
              "      <td>0.0</td>\n",
              "      <td>NaN</td>\n",
              "    </tr>\n",
              "    <tr>\n",
              "      <th>13264</th>\n",
              "      <td>537432</td>\n",
              "      <td>35833G</td>\n",
              "      <td>damages</td>\n",
              "      <td>-43</td>\n",
              "      <td>2020-02-10 16:10:00</td>\n",
              "      <td>0.0</td>\n",
              "      <td>NaN</td>\n",
              "    </tr>\n",
              "    <tr>\n",
              "      <th>21338</th>\n",
              "      <td>538072</td>\n",
              "      <td>22423</td>\n",
              "      <td>faulty</td>\n",
              "      <td>-13</td>\n",
              "      <td>2020-02-13 14:10:00</td>\n",
              "      <td>0.0</td>\n",
              "      <td>NaN</td>\n",
              "    </tr>\n",
              "    <tr>\n",
              "      <th>22296</th>\n",
              "      <td>538161</td>\n",
              "      <td>46000S</td>\n",
              "      <td>dotcom sales</td>\n",
              "      <td>-100</td>\n",
              "      <td>2020-02-13 17:25:00</td>\n",
              "      <td>0.0</td>\n",
              "      <td>NaN</td>\n",
              "    </tr>\n",
              "    <tr>\n",
              "      <th>...</th>\n",
              "      <td>...</td>\n",
              "      <td>...</td>\n",
              "      <td>...</td>\n",
              "      <td>...</td>\n",
              "      <td>...</td>\n",
              "      <td>...</td>\n",
              "      <td>...</td>\n",
              "    </tr>\n",
              "    <tr>\n",
              "      <th>535333</th>\n",
              "      <td>581210</td>\n",
              "      <td>23395</td>\n",
              "      <td>check</td>\n",
              "      <td>-26</td>\n",
              "      <td>2021-02-10 18:36:00</td>\n",
              "      <td>0.0</td>\n",
              "      <td>NaN</td>\n",
              "    </tr>\n",
              "    <tr>\n",
              "      <th>535335</th>\n",
              "      <td>581212</td>\n",
              "      <td>22578</td>\n",
              "      <td>lost</td>\n",
              "      <td>-1050</td>\n",
              "      <td>2021-02-10 18:38:00</td>\n",
              "      <td>0.0</td>\n",
              "      <td>NaN</td>\n",
              "    </tr>\n",
              "    <tr>\n",
              "      <th>535336</th>\n",
              "      <td>581213</td>\n",
              "      <td>22576</td>\n",
              "      <td>check</td>\n",
              "      <td>-30</td>\n",
              "      <td>2021-02-10 18:38:00</td>\n",
              "      <td>0.0</td>\n",
              "      <td>NaN</td>\n",
              "    </tr>\n",
              "    <tr>\n",
              "      <th>536908</th>\n",
              "      <td>581226</td>\n",
              "      <td>23090</td>\n",
              "      <td>missing</td>\n",
              "      <td>-338</td>\n",
              "      <td>2021-02-11 09:56:00</td>\n",
              "      <td>0.0</td>\n",
              "      <td>NaN</td>\n",
              "    </tr>\n",
              "    <tr>\n",
              "      <th>538919</th>\n",
              "      <td>581422</td>\n",
              "      <td>23169</td>\n",
              "      <td>smashed</td>\n",
              "      <td>-235</td>\n",
              "      <td>2021-02-11 15:24:00</td>\n",
              "      <td>0.0</td>\n",
              "      <td>NaN</td>\n",
              "    </tr>\n",
              "  </tbody>\n",
              "</table>\n",
              "<p>433 rows × 7 columns</p>\n",
              "</div>"
            ],
            "text/plain": [
              "       InvoiceNo StockCode  ... UnitPrice  CustomerID\n",
              "13217     537425    84968F  ...       0.0         NaN\n",
              "13218     537426    84968E  ...       0.0         NaN\n",
              "13264     537432    35833G  ...       0.0         NaN\n",
              "21338     538072     22423  ...       0.0         NaN\n",
              "22296     538161    46000S  ...       0.0         NaN\n",
              "...          ...       ...  ...       ...         ...\n",
              "535333    581210     23395  ...       0.0         NaN\n",
              "535335    581212     22578  ...       0.0         NaN\n",
              "535336    581213     22576  ...       0.0         NaN\n",
              "536908    581226     23090  ...       0.0         NaN\n",
              "538919    581422     23169  ...       0.0         NaN\n",
              "\n",
              "[433 rows x 7 columns]"
            ]
          },
          "metadata": {
            "tags": []
          },
          "execution_count": 37
        }
      ]
    },
    {
      "cell_type": "code",
      "metadata": {
        "colab": {
          "base_uri": "https://localhost:8080/"
        },
        "id": "wjcTymyJ7JgO",
        "outputId": "afda85ca-06b6-4cca-988d-d0ebb4476436"
      },
      "source": [
        "#Check count of disription where InvoiceNo doesn't contain C and quantity < 0\r\n",
        "desc = df3[(~df3.InvoiceNo.str.contains('C'))&(df3.Quantity <= 0)]\r\n",
        "print(\"The number of quantity: \", desc.Quantity.sum()*-1)\r\n",
        "desc.Description.value_counts().head(50)"
      ],
      "execution_count": null,
      "outputs": [
        {
          "output_type": "stream",
          "text": [
            "The number of quantity:  151305\n"
          ],
          "name": "stdout"
        },
        {
          "output_type": "execute_result",
          "data": {
            "text/plain": [
              "check                               123\n",
              "damaged                              57\n",
              "damages                              46\n",
              "sold as set on dotcom                20\n",
              "thrown away                           9\n",
              "unsaleable, destroyed.                9\n",
              "??                                    7\n",
              "wet damaged                           5\n",
              "damages?                              5\n",
              "ebay                                  5\n",
              "smashed                               4\n",
              "missing                               4\n",
              "dotcom sales                          3\n",
              "incorrect stock entry.                3\n",
              "crushed                               3\n",
              "printing smudges/thrown away          3\n",
              "wet pallet                            3\n",
              "dotcom                                3\n",
              "?missing                              2\n",
              "stock check                           2\n",
              "wet/rusty                             2\n",
              "sold as 1                             2\n",
              "???missing                            2\n",
              "reverse 21/5/10 adjustment            2\n",
              "water damaged                         2\n",
              "mixed up                              2\n",
              "adjustment                            2\n",
              "rusty throw away                      2\n",
              "wet rusty                             2\n",
              "counted                               2\n",
              "damages wax                           2\n",
              "thrown away-can't sell                1\n",
              "throw away                            1\n",
              "code mix up? 84930                    1\n",
              "oops ! adjustment                     1\n",
              "adjust                                1\n",
              "amazon sold sets                      1\n",
              "???                                   1\n",
              "?lost                                 1\n",
              "faulty                                1\n",
              "can't find                            1\n",
              "display                               1\n",
              "damages/showroom etc                  1\n",
              "20713                                 1\n",
              "wrongly sold sets                     1\n",
              "cracked                               1\n",
              "crushed boxes                         1\n",
              "????damages????                       1\n",
              "re dotcom quick fix.                  1\n",
              "mystery! only ever imported 1800      1\n",
              "Name: Description, dtype: int64"
            ]
          },
          "metadata": {
            "tags": []
          },
          "execution_count": 38
        }
      ]
    },
    {
      "cell_type": "markdown",
      "metadata": {
        "id": "rbT522-gLlH-"
      },
      "source": [
        "All of the data is about damage product, checking, missing, etc. So just drop the data. Because we just want to analysis products that are sold."
      ]
    },
    {
      "cell_type": "code",
      "metadata": {
        "colab": {
          "base_uri": "https://localhost:8080/"
        },
        "id": "jYPNT5Pl28RS",
        "outputId": "012f006f-41ee-488c-884c-2dede47a628e"
      },
      "source": [
        "print(\"The number of data before checking the anomali \\t\\t\\t\\t: \", df3.shape[0])\r\n",
        "print(\"The number of InvoiceNo containing letter C and without C but qty < 0 \\t: \", 9288+433)\r\n",
        "print(\"The number of data without C and negative qty \\t\\t\\t\\t: \", df3[(~df3.InvoiceNo.str.contains('C'))&(df3.Quantity > 0)].shape[0])"
      ],
      "execution_count": null,
      "outputs": [
        {
          "output_type": "stream",
          "text": [
            "The number of data before checking the anomali \t\t\t\t:  540405\n",
            "The number of InvoiceNo containing letter C and without C but qty < 0 \t:  9721\n",
            "The number of data without C and negative qty \t\t\t\t:  530684\n"
          ],
          "name": "stdout"
        }
      ]
    },
    {
      "cell_type": "code",
      "metadata": {
        "id": "OdS89ctjMK1I"
      },
      "source": [
        "#drop damage data product\r\n",
        "df3.drop(index=df3[(~df3.InvoiceNo.str.contains('C'))&(df3.Quantity <= 0)].index, inplace=True)"
      ],
      "execution_count": null,
      "outputs": []
    },
    {
      "cell_type": "markdown",
      "metadata": {
        "id": "nppBw9CtM2xH"
      },
      "source": [
        "Handling **discount, cancel order**, etc"
      ]
    },
    {
      "cell_type": "code",
      "metadata": {
        "colab": {
          "base_uri": "https://localhost:8080/",
          "height": 363
        },
        "id": "WF8w0Z4UYt5s",
        "outputId": "d569bc4d-cb51-414d-a95a-3a4407fc396f"
      },
      "source": [
        "df3[df3.InvoiceNo.str.contains('C')].head(10)"
      ],
      "execution_count": null,
      "outputs": [
        {
          "output_type": "execute_result",
          "data": {
            "text/html": [
              "<div>\n",
              "<style scoped>\n",
              "    .dataframe tbody tr th:only-of-type {\n",
              "        vertical-align: middle;\n",
              "    }\n",
              "\n",
              "    .dataframe tbody tr th {\n",
              "        vertical-align: top;\n",
              "    }\n",
              "\n",
              "    .dataframe thead th {\n",
              "        text-align: right;\n",
              "    }\n",
              "</style>\n",
              "<table border=\"1\" class=\"dataframe\">\n",
              "  <thead>\n",
              "    <tr style=\"text-align: right;\">\n",
              "      <th></th>\n",
              "      <th>InvoiceNo</th>\n",
              "      <th>StockCode</th>\n",
              "      <th>Description</th>\n",
              "      <th>Quantity</th>\n",
              "      <th>InvoiceDate</th>\n",
              "      <th>UnitPrice</th>\n",
              "      <th>CustomerID</th>\n",
              "    </tr>\n",
              "  </thead>\n",
              "  <tbody>\n",
              "    <tr>\n",
              "      <th>141</th>\n",
              "      <td>C536379</td>\n",
              "      <td>D</td>\n",
              "      <td>discount</td>\n",
              "      <td>-1</td>\n",
              "      <td>2020-02-05 09:41:00</td>\n",
              "      <td>27.50</td>\n",
              "      <td>14527.0</td>\n",
              "    </tr>\n",
              "    <tr>\n",
              "      <th>154</th>\n",
              "      <td>C536383</td>\n",
              "      <td>35004C</td>\n",
              "      <td>set of 3 coloured  flying ducks</td>\n",
              "      <td>-1</td>\n",
              "      <td>2020-02-05 09:49:00</td>\n",
              "      <td>4.65</td>\n",
              "      <td>15311.0</td>\n",
              "    </tr>\n",
              "    <tr>\n",
              "      <th>235</th>\n",
              "      <td>C536391</td>\n",
              "      <td>22556</td>\n",
              "      <td>plasters in tin circus parade</td>\n",
              "      <td>-12</td>\n",
              "      <td>2020-02-05 10:24:00</td>\n",
              "      <td>1.65</td>\n",
              "      <td>17548.0</td>\n",
              "    </tr>\n",
              "    <tr>\n",
              "      <th>236</th>\n",
              "      <td>C536391</td>\n",
              "      <td>21984</td>\n",
              "      <td>pack of 12 pink paisley tissues</td>\n",
              "      <td>-24</td>\n",
              "      <td>2020-02-05 10:24:00</td>\n",
              "      <td>0.29</td>\n",
              "      <td>17548.0</td>\n",
              "    </tr>\n",
              "    <tr>\n",
              "      <th>237</th>\n",
              "      <td>C536391</td>\n",
              "      <td>21983</td>\n",
              "      <td>pack of 12 blue paisley tissues</td>\n",
              "      <td>-24</td>\n",
              "      <td>2020-02-05 10:24:00</td>\n",
              "      <td>0.29</td>\n",
              "      <td>17548.0</td>\n",
              "    </tr>\n",
              "    <tr>\n",
              "      <th>238</th>\n",
              "      <td>C536391</td>\n",
              "      <td>21980</td>\n",
              "      <td>pack of 12 red retrospot tissues</td>\n",
              "      <td>-24</td>\n",
              "      <td>2020-02-05 10:24:00</td>\n",
              "      <td>0.29</td>\n",
              "      <td>17548.0</td>\n",
              "    </tr>\n",
              "    <tr>\n",
              "      <th>239</th>\n",
              "      <td>C536391</td>\n",
              "      <td>21484</td>\n",
              "      <td>chick grey hot water bottle</td>\n",
              "      <td>-12</td>\n",
              "      <td>2020-02-05 10:24:00</td>\n",
              "      <td>3.45</td>\n",
              "      <td>17548.0</td>\n",
              "    </tr>\n",
              "    <tr>\n",
              "      <th>240</th>\n",
              "      <td>C536391</td>\n",
              "      <td>22557</td>\n",
              "      <td>plasters in tin vintage paisley</td>\n",
              "      <td>-12</td>\n",
              "      <td>2020-02-05 10:24:00</td>\n",
              "      <td>1.65</td>\n",
              "      <td>17548.0</td>\n",
              "    </tr>\n",
              "    <tr>\n",
              "      <th>241</th>\n",
              "      <td>C536391</td>\n",
              "      <td>22553</td>\n",
              "      <td>plasters in tin skulls</td>\n",
              "      <td>-24</td>\n",
              "      <td>2020-02-05 10:24:00</td>\n",
              "      <td>1.65</td>\n",
              "      <td>17548.0</td>\n",
              "    </tr>\n",
              "    <tr>\n",
              "      <th>939</th>\n",
              "      <td>C536506</td>\n",
              "      <td>22960</td>\n",
              "      <td>jam making set with jars</td>\n",
              "      <td>-6</td>\n",
              "      <td>2020-02-05 12:38:00</td>\n",
              "      <td>4.25</td>\n",
              "      <td>17897.0</td>\n",
              "    </tr>\n",
              "  </tbody>\n",
              "</table>\n",
              "</div>"
            ],
            "text/plain": [
              "    InvoiceNo StockCode  ... UnitPrice  CustomerID\n",
              "141   C536379         D  ...     27.50     14527.0\n",
              "154   C536383    35004C  ...      4.65     15311.0\n",
              "235   C536391     22556  ...      1.65     17548.0\n",
              "236   C536391     21984  ...      0.29     17548.0\n",
              "237   C536391     21983  ...      0.29     17548.0\n",
              "238   C536391     21980  ...      0.29     17548.0\n",
              "239   C536391     21484  ...      3.45     17548.0\n",
              "240   C536391     22557  ...      1.65     17548.0\n",
              "241   C536391     22553  ...      1.65     17548.0\n",
              "939   C536506     22960  ...      4.25     17897.0\n",
              "\n",
              "[10 rows x 7 columns]"
            ]
          },
          "metadata": {
            "tags": []
          },
          "execution_count": 41
        }
      ]
    },
    {
      "cell_type": "code",
      "metadata": {
        "colab": {
          "base_uri": "https://localhost:8080/",
          "height": 206
        },
        "id": "Tl1K3RQmYt4Y",
        "outputId": "3f8ee366-8b0f-4fce-c3d4-ff6306b6aa33"
      },
      "source": [
        "#discount : description is discount and quantity is -1\r\n",
        "df3[(df3.Description =='discount')].head(5)"
      ],
      "execution_count": null,
      "outputs": [
        {
          "output_type": "execute_result",
          "data": {
            "text/html": [
              "<div>\n",
              "<style scoped>\n",
              "    .dataframe tbody tr th:only-of-type {\n",
              "        vertical-align: middle;\n",
              "    }\n",
              "\n",
              "    .dataframe tbody tr th {\n",
              "        vertical-align: top;\n",
              "    }\n",
              "\n",
              "    .dataframe thead th {\n",
              "        text-align: right;\n",
              "    }\n",
              "</style>\n",
              "<table border=\"1\" class=\"dataframe\">\n",
              "  <thead>\n",
              "    <tr style=\"text-align: right;\">\n",
              "      <th></th>\n",
              "      <th>InvoiceNo</th>\n",
              "      <th>StockCode</th>\n",
              "      <th>Description</th>\n",
              "      <th>Quantity</th>\n",
              "      <th>InvoiceDate</th>\n",
              "      <th>UnitPrice</th>\n",
              "      <th>CustomerID</th>\n",
              "    </tr>\n",
              "  </thead>\n",
              "  <tbody>\n",
              "    <tr>\n",
              "      <th>141</th>\n",
              "      <td>C536379</td>\n",
              "      <td>D</td>\n",
              "      <td>discount</td>\n",
              "      <td>-1</td>\n",
              "      <td>2020-02-05 09:41:00</td>\n",
              "      <td>27.50</td>\n",
              "      <td>14527.0</td>\n",
              "    </tr>\n",
              "    <tr>\n",
              "      <th>9038</th>\n",
              "      <td>C537164</td>\n",
              "      <td>D</td>\n",
              "      <td>discount</td>\n",
              "      <td>-1</td>\n",
              "      <td>2020-02-09 13:21:00</td>\n",
              "      <td>29.29</td>\n",
              "      <td>14527.0</td>\n",
              "    </tr>\n",
              "    <tr>\n",
              "      <th>14498</th>\n",
              "      <td>C537597</td>\n",
              "      <td>D</td>\n",
              "      <td>discount</td>\n",
              "      <td>-1</td>\n",
              "      <td>2020-02-11 12:34:00</td>\n",
              "      <td>281.00</td>\n",
              "      <td>15498.0</td>\n",
              "    </tr>\n",
              "    <tr>\n",
              "      <th>19392</th>\n",
              "      <td>C537857</td>\n",
              "      <td>D</td>\n",
              "      <td>discount</td>\n",
              "      <td>-1</td>\n",
              "      <td>2020-02-12 16:00:00</td>\n",
              "      <td>267.12</td>\n",
              "      <td>17340.0</td>\n",
              "    </tr>\n",
              "    <tr>\n",
              "      <th>31134</th>\n",
              "      <td>C538897</td>\n",
              "      <td>D</td>\n",
              "      <td>discount</td>\n",
              "      <td>-1</td>\n",
              "      <td>2020-02-19 09:14:00</td>\n",
              "      <td>5.76</td>\n",
              "      <td>16422.0</td>\n",
              "    </tr>\n",
              "  </tbody>\n",
              "</table>\n",
              "</div>"
            ],
            "text/plain": [
              "      InvoiceNo StockCode  ... UnitPrice  CustomerID\n",
              "141     C536379         D  ...     27.50     14527.0\n",
              "9038    C537164         D  ...     29.29     14527.0\n",
              "14498   C537597         D  ...    281.00     15498.0\n",
              "19392   C537857         D  ...    267.12     17340.0\n",
              "31134   C538897         D  ...      5.76     16422.0\n",
              "\n",
              "[5 rows x 7 columns]"
            ]
          },
          "metadata": {
            "tags": []
          },
          "execution_count": 42
        }
      ]
    },
    {
      "cell_type": "code",
      "metadata": {
        "colab": {
          "base_uri": "https://localhost:8080/",
          "height": 49
        },
        "id": "lJqmRVUVYtv8",
        "outputId": "a859be45-ea12-43f5-aedc-77dd8ac40ef4"
      },
      "source": [
        "#example of cancel order (I have change the date, so I forgot the specifct date)\r\n",
        "df3[(df3.CustomerID == 17897) & ((df3.InvoiceDate>='2020-12-09 12:31:00') & (df3.InvoiceDate<='2020-12-09 12:40:00'))].sort_values(by='InvoiceDate').head(40)"
      ],
      "execution_count": null,
      "outputs": [
        {
          "output_type": "execute_result",
          "data": {
            "text/html": [
              "<div>\n",
              "<style scoped>\n",
              "    .dataframe tbody tr th:only-of-type {\n",
              "        vertical-align: middle;\n",
              "    }\n",
              "\n",
              "    .dataframe tbody tr th {\n",
              "        vertical-align: top;\n",
              "    }\n",
              "\n",
              "    .dataframe thead th {\n",
              "        text-align: right;\n",
              "    }\n",
              "</style>\n",
              "<table border=\"1\" class=\"dataframe\">\n",
              "  <thead>\n",
              "    <tr style=\"text-align: right;\">\n",
              "      <th></th>\n",
              "      <th>InvoiceNo</th>\n",
              "      <th>StockCode</th>\n",
              "      <th>Description</th>\n",
              "      <th>Quantity</th>\n",
              "      <th>InvoiceDate</th>\n",
              "      <th>UnitPrice</th>\n",
              "      <th>CustomerID</th>\n",
              "    </tr>\n",
              "  </thead>\n",
              "  <tbody>\n",
              "  </tbody>\n",
              "</table>\n",
              "</div>"
            ],
            "text/plain": [
              "Empty DataFrame\n",
              "Columns: [InvoiceNo, StockCode, Description, Quantity, InvoiceDate, UnitPrice, CustomerID]\n",
              "Index: []"
            ]
          },
          "metadata": {
            "tags": []
          },
          "execution_count": 43
        }
      ]
    },
    {
      "cell_type": "code",
      "metadata": {
        "colab": {
          "base_uri": "https://localhost:8080/",
          "height": 583
        },
        "id": "GMvnDLlKYtrp",
        "outputId": "9bf24ac0-e3f6-4f95-dd6e-e208dd52c7ac"
      },
      "source": [
        "#Anomaly data, I don't know why there are a lot of negative data. And surely we need to drop this \r\n",
        "df3[(df3.CustomerID == 17548)]"
      ],
      "execution_count": null,
      "outputs": [
        {
          "output_type": "execute_result",
          "data": {
            "text/html": [
              "<div>\n",
              "<style scoped>\n",
              "    .dataframe tbody tr th:only-of-type {\n",
              "        vertical-align: middle;\n",
              "    }\n",
              "\n",
              "    .dataframe tbody tr th {\n",
              "        vertical-align: top;\n",
              "    }\n",
              "\n",
              "    .dataframe thead th {\n",
              "        text-align: right;\n",
              "    }\n",
              "</style>\n",
              "<table border=\"1\" class=\"dataframe\">\n",
              "  <thead>\n",
              "    <tr style=\"text-align: right;\">\n",
              "      <th></th>\n",
              "      <th>InvoiceNo</th>\n",
              "      <th>StockCode</th>\n",
              "      <th>Description</th>\n",
              "      <th>Quantity</th>\n",
              "      <th>InvoiceDate</th>\n",
              "      <th>UnitPrice</th>\n",
              "      <th>CustomerID</th>\n",
              "    </tr>\n",
              "  </thead>\n",
              "  <tbody>\n",
              "    <tr>\n",
              "      <th>235</th>\n",
              "      <td>C536391</td>\n",
              "      <td>22556</td>\n",
              "      <td>plasters in tin circus parade</td>\n",
              "      <td>-12</td>\n",
              "      <td>2020-02-05 10:24:00</td>\n",
              "      <td>1.65</td>\n",
              "      <td>17548.0</td>\n",
              "    </tr>\n",
              "    <tr>\n",
              "      <th>236</th>\n",
              "      <td>C536391</td>\n",
              "      <td>21984</td>\n",
              "      <td>pack of 12 pink paisley tissues</td>\n",
              "      <td>-24</td>\n",
              "      <td>2020-02-05 10:24:00</td>\n",
              "      <td>0.29</td>\n",
              "      <td>17548.0</td>\n",
              "    </tr>\n",
              "    <tr>\n",
              "      <th>237</th>\n",
              "      <td>C536391</td>\n",
              "      <td>21983</td>\n",
              "      <td>pack of 12 blue paisley tissues</td>\n",
              "      <td>-24</td>\n",
              "      <td>2020-02-05 10:24:00</td>\n",
              "      <td>0.29</td>\n",
              "      <td>17548.0</td>\n",
              "    </tr>\n",
              "    <tr>\n",
              "      <th>238</th>\n",
              "      <td>C536391</td>\n",
              "      <td>21980</td>\n",
              "      <td>pack of 12 red retrospot tissues</td>\n",
              "      <td>-24</td>\n",
              "      <td>2020-02-05 10:24:00</td>\n",
              "      <td>0.29</td>\n",
              "      <td>17548.0</td>\n",
              "    </tr>\n",
              "    <tr>\n",
              "      <th>239</th>\n",
              "      <td>C536391</td>\n",
              "      <td>21484</td>\n",
              "      <td>chick grey hot water bottle</td>\n",
              "      <td>-12</td>\n",
              "      <td>2020-02-05 10:24:00</td>\n",
              "      <td>3.45</td>\n",
              "      <td>17548.0</td>\n",
              "    </tr>\n",
              "    <tr>\n",
              "      <th>240</th>\n",
              "      <td>C536391</td>\n",
              "      <td>22557</td>\n",
              "      <td>plasters in tin vintage paisley</td>\n",
              "      <td>-12</td>\n",
              "      <td>2020-02-05 10:24:00</td>\n",
              "      <td>1.65</td>\n",
              "      <td>17548.0</td>\n",
              "    </tr>\n",
              "    <tr>\n",
              "      <th>241</th>\n",
              "      <td>C536391</td>\n",
              "      <td>22553</td>\n",
              "      <td>plasters in tin skulls</td>\n",
              "      <td>-24</td>\n",
              "      <td>2020-02-05 10:24:00</td>\n",
              "      <td>1.65</td>\n",
              "      <td>17548.0</td>\n",
              "    </tr>\n",
              "    <tr>\n",
              "      <th>165024</th>\n",
              "      <td>550755</td>\n",
              "      <td>22585</td>\n",
              "      <td>pack of 6 birdy gift tags</td>\n",
              "      <td>24</td>\n",
              "      <td>2020-06-24 12:01:00</td>\n",
              "      <td>1.25</td>\n",
              "      <td>17548.0</td>\n",
              "    </tr>\n",
              "    <tr>\n",
              "      <th>165025</th>\n",
              "      <td>550755</td>\n",
              "      <td>22082</td>\n",
              "      <td>ribbon reel stripes design</td>\n",
              "      <td>10</td>\n",
              "      <td>2020-06-24 12:01:00</td>\n",
              "      <td>1.65</td>\n",
              "      <td>17548.0</td>\n",
              "    </tr>\n",
              "    <tr>\n",
              "      <th>165026</th>\n",
              "      <td>550755</td>\n",
              "      <td>22081</td>\n",
              "      <td>ribbon reel flora + fauna</td>\n",
              "      <td>10</td>\n",
              "      <td>2020-06-24 12:01:00</td>\n",
              "      <td>1.65</td>\n",
              "      <td>17548.0</td>\n",
              "    </tr>\n",
              "    <tr>\n",
              "      <th>165027</th>\n",
              "      <td>550755</td>\n",
              "      <td>22079</td>\n",
              "      <td>ribbon reel hearts design</td>\n",
              "      <td>10</td>\n",
              "      <td>2020-06-24 12:01:00</td>\n",
              "      <td>1.65</td>\n",
              "      <td>17548.0</td>\n",
              "    </tr>\n",
              "    <tr>\n",
              "      <th>165028</th>\n",
              "      <td>550755</td>\n",
              "      <td>22926</td>\n",
              "      <td>ivory giant garden thermometer</td>\n",
              "      <td>4</td>\n",
              "      <td>2020-06-24 12:01:00</td>\n",
              "      <td>5.95</td>\n",
              "      <td>17548.0</td>\n",
              "    </tr>\n",
              "    <tr>\n",
              "      <th>177223</th>\n",
              "      <td>C552049</td>\n",
              "      <td>22926</td>\n",
              "      <td>ivory giant garden thermometer</td>\n",
              "      <td>-4</td>\n",
              "      <td>2020-07-10 10:00:00</td>\n",
              "      <td>5.95</td>\n",
              "      <td>17548.0</td>\n",
              "    </tr>\n",
              "    <tr>\n",
              "      <th>177224</th>\n",
              "      <td>C552049</td>\n",
              "      <td>22585</td>\n",
              "      <td>pack of 6 birdy gift tags</td>\n",
              "      <td>-24</td>\n",
              "      <td>2020-07-10 10:00:00</td>\n",
              "      <td>1.25</td>\n",
              "      <td>17548.0</td>\n",
              "    </tr>\n",
              "    <tr>\n",
              "      <th>177225</th>\n",
              "      <td>C552049</td>\n",
              "      <td>22082</td>\n",
              "      <td>ribbon reel stripes design</td>\n",
              "      <td>-10</td>\n",
              "      <td>2020-07-10 10:00:00</td>\n",
              "      <td>1.65</td>\n",
              "      <td>17548.0</td>\n",
              "    </tr>\n",
              "    <tr>\n",
              "      <th>177226</th>\n",
              "      <td>C552049</td>\n",
              "      <td>22081</td>\n",
              "      <td>ribbon reel flora + fauna</td>\n",
              "      <td>-10</td>\n",
              "      <td>2020-07-10 10:00:00</td>\n",
              "      <td>1.65</td>\n",
              "      <td>17548.0</td>\n",
              "    </tr>\n",
              "    <tr>\n",
              "      <th>177227</th>\n",
              "      <td>C552049</td>\n",
              "      <td>22079</td>\n",
              "      <td>ribbon reel hearts design</td>\n",
              "      <td>-10</td>\n",
              "      <td>2020-07-10 10:00:00</td>\n",
              "      <td>1.65</td>\n",
              "      <td>17548.0</td>\n",
              "    </tr>\n",
              "  </tbody>\n",
              "</table>\n",
              "</div>"
            ],
            "text/plain": [
              "       InvoiceNo StockCode  ... UnitPrice  CustomerID\n",
              "235      C536391     22556  ...      1.65     17548.0\n",
              "236      C536391     21984  ...      0.29     17548.0\n",
              "237      C536391     21983  ...      0.29     17548.0\n",
              "238      C536391     21980  ...      0.29     17548.0\n",
              "239      C536391     21484  ...      3.45     17548.0\n",
              "240      C536391     22557  ...      1.65     17548.0\n",
              "241      C536391     22553  ...      1.65     17548.0\n",
              "165024    550755     22585  ...      1.25     17548.0\n",
              "165025    550755     22082  ...      1.65     17548.0\n",
              "165026    550755     22081  ...      1.65     17548.0\n",
              "165027    550755     22079  ...      1.65     17548.0\n",
              "165028    550755     22926  ...      5.95     17548.0\n",
              "177223   C552049     22926  ...      5.95     17548.0\n",
              "177224   C552049     22585  ...      1.25     17548.0\n",
              "177225   C552049     22082  ...      1.65     17548.0\n",
              "177226   C552049     22081  ...      1.65     17548.0\n",
              "177227   C552049     22079  ...      1.65     17548.0\n",
              "\n",
              "[17 rows x 7 columns]"
            ]
          },
          "metadata": {
            "tags": []
          },
          "execution_count": 44
        }
      ]
    },
    {
      "cell_type": "markdown",
      "metadata": {
        "id": "IgmrURrKq1hf"
      },
      "source": [
        "**Check StockCode**"
      ]
    },
    {
      "cell_type": "code",
      "metadata": {
        "colab": {
          "base_uri": "https://localhost:8080/"
        },
        "id": "hyaE17vHWD9O",
        "outputId": "3d3a464f-c13f-48a6-fc23-f2e341e66f21"
      },
      "source": [
        "invoice_code = df3.loc[df3.StockCode.str.contains('^[a-zA-Z]', regex=True), 'StockCode'].unique()\r\n",
        "invoice_code"
      ],
      "execution_count": null,
      "outputs": [
        {
          "output_type": "execute_result",
          "data": {
            "text/plain": [
              "array(['POST', 'D', 'C2', 'DOT', 'M', 'BANK CHARGES', 'S', 'AMAZONFEE',\n",
              "       'DCGS0076', 'DCGS0003', 'gift_0001_40', 'DCGS0070', 'm',\n",
              "       'gift_0001_50', 'gift_0001_30', 'gift_0001_20', 'DCGS0069',\n",
              "       'DCGSSBOY', 'DCGSSGIRL', 'gift_0001_10', 'PADS', 'DCGS0004',\n",
              "       'CRUK'], dtype=object)"
            ]
          },
          "metadata": {
            "tags": []
          },
          "execution_count": 45
        }
      ]
    },
    {
      "cell_type": "markdown",
      "metadata": {
        "id": "0a94Kd2Zrdu8"
      },
      "source": [
        "The Meaning of StockCode:\r\n",
        "- POST, DOT : postage (how much we have to pay to the sender)\r\n",
        "- D, cruk : Discount (-1)\r\n",
        "- C2 == POST\r\n",
        "- M/m : Manual opperation\r\n",
        "- BANK CHARGES, AMAZONFEE : charges\r\n",
        "- S : sample (drop this data)\r\n",
        "- gift_0001_40, gift_0001_30, gift_0001_20, gift_0001_10 : voucher\r\n",
        "- DCGS0076, DCGS0003, DCGS0070, DCGS0069, DCGS0004, DCGSSBOY, DCGSSGIRL : product\r\n",
        "- PADS : pads to match all cushions \t(i dont know)"
      ]
    },
    {
      "cell_type": "code",
      "metadata": {
        "id": "PMCHLvJIq54t"
      },
      "source": [
        "#drop sample\r\n",
        "df3.drop(index=df3[df3.StockCode == 'S'].index, inplace=True)"
      ],
      "execution_count": null,
      "outputs": []
    },
    {
      "cell_type": "markdown",
      "metadata": {
        "id": "dMn-hQCj7YE5"
      },
      "source": [
        "#**Customer Segmentation**\r\n",
        "We need to filter the dataset where CustomerID isn't null, we doing this step because we want to analyze the customer transaction. What will be analyze if the customerID is null..? But to analze the product, we will use all data (include null customerID)"
      ]
    },
    {
      "cell_type": "code",
      "metadata": {
        "id": "6XdaMzhY70js"
      },
      "source": [
        "#filter the data\r\n",
        "df_customer = df3[df3.CustomerID.notnull()]"
      ],
      "execution_count": null,
      "outputs": []
    },
    {
      "cell_type": "code",
      "metadata": {
        "colab": {
          "base_uri": "https://localhost:8080/",
          "height": 300
        },
        "id": "A168tKRuYtlL",
        "outputId": "71ece74e-a25c-46c4-f958-02873467bdbc"
      },
      "source": [
        "df_customer.describe()"
      ],
      "execution_count": null,
      "outputs": [
        {
          "output_type": "execute_result",
          "data": {
            "text/html": [
              "<div>\n",
              "<style scoped>\n",
              "    .dataframe tbody tr th:only-of-type {\n",
              "        vertical-align: middle;\n",
              "    }\n",
              "\n",
              "    .dataframe tbody tr th {\n",
              "        vertical-align: top;\n",
              "    }\n",
              "\n",
              "    .dataframe thead th {\n",
              "        text-align: right;\n",
              "    }\n",
              "</style>\n",
              "<table border=\"1\" class=\"dataframe\">\n",
              "  <thead>\n",
              "    <tr style=\"text-align: right;\">\n",
              "      <th></th>\n",
              "      <th>Quantity</th>\n",
              "      <th>UnitPrice</th>\n",
              "      <th>CustomerID</th>\n",
              "    </tr>\n",
              "  </thead>\n",
              "  <tbody>\n",
              "    <tr>\n",
              "      <th>count</th>\n",
              "      <td>406829.000000</td>\n",
              "      <td>406829.000000</td>\n",
              "      <td>406829.000000</td>\n",
              "    </tr>\n",
              "    <tr>\n",
              "      <th>mean</th>\n",
              "      <td>12.061303</td>\n",
              "      <td>3.460471</td>\n",
              "      <td>15287.690570</td>\n",
              "    </tr>\n",
              "    <tr>\n",
              "      <th>std</th>\n",
              "      <td>248.693370</td>\n",
              "      <td>69.315162</td>\n",
              "      <td>1713.600303</td>\n",
              "    </tr>\n",
              "    <tr>\n",
              "      <th>min</th>\n",
              "      <td>-80995.000000</td>\n",
              "      <td>0.000000</td>\n",
              "      <td>12346.000000</td>\n",
              "    </tr>\n",
              "    <tr>\n",
              "      <th>25%</th>\n",
              "      <td>2.000000</td>\n",
              "      <td>1.250000</td>\n",
              "      <td>13953.000000</td>\n",
              "    </tr>\n",
              "    <tr>\n",
              "      <th>50%</th>\n",
              "      <td>5.000000</td>\n",
              "      <td>1.950000</td>\n",
              "      <td>15152.000000</td>\n",
              "    </tr>\n",
              "    <tr>\n",
              "      <th>75%</th>\n",
              "      <td>12.000000</td>\n",
              "      <td>3.750000</td>\n",
              "      <td>16791.000000</td>\n",
              "    </tr>\n",
              "    <tr>\n",
              "      <th>max</th>\n",
              "      <td>80995.000000</td>\n",
              "      <td>38970.000000</td>\n",
              "      <td>18287.000000</td>\n",
              "    </tr>\n",
              "  </tbody>\n",
              "</table>\n",
              "</div>"
            ],
            "text/plain": [
              "            Quantity      UnitPrice     CustomerID\n",
              "count  406829.000000  406829.000000  406829.000000\n",
              "mean       12.061303       3.460471   15287.690570\n",
              "std       248.693370      69.315162    1713.600303\n",
              "min    -80995.000000       0.000000   12346.000000\n",
              "25%         2.000000       1.250000   13953.000000\n",
              "50%         5.000000       1.950000   15152.000000\n",
              "75%        12.000000       3.750000   16791.000000\n",
              "max     80995.000000   38970.000000   18287.000000"
            ]
          },
          "metadata": {
            "tags": []
          },
          "execution_count": 48
        }
      ]
    },
    {
      "cell_type": "code",
      "metadata": {
        "colab": {
          "base_uri": "https://localhost:8080/"
        },
        "id": "KHNEOB3xv7PV",
        "outputId": "184068e1-67a7-4866-d9b4-336026906360"
      },
      "source": [
        "#max item price\r\n",
        "df_customer[(~df_customer.StockCode.isin(['POST', 'D', 'C2', 'DOT', 'M', 'BANK CHARGES', 'S', 'AMAZONFEE','CRUK']))]['UnitPrice'].max()"
      ],
      "execution_count": null,
      "outputs": [
        {
          "output_type": "execute_result",
          "data": {
            "text/plain": [
              "649.5"
            ]
          },
          "metadata": {
            "tags": []
          },
          "execution_count": 49
        }
      ]
    },
    {
      "cell_type": "markdown",
      "metadata": {
        "id": "Kykim5oMBQ0j"
      },
      "source": [
        "##**Make RFM**\r\n",
        "- To make RFM, we need to group the data. We can not use InvoiceNo because it will be used to handle cancel order.\r\n",
        "- Use the Invoice date, but just take the date + hour"
      ]
    },
    {
      "cell_type": "code",
      "metadata": {
        "colab": {
          "base_uri": "https://localhost:8080/",
          "height": 206
        },
        "id": "M9rAT2yvv7FY",
        "outputId": "766e61bb-a830-40c9-ceb7-371450367c61"
      },
      "source": [
        "df_customer.InvoiceDate = pd.to_datetime(df_customer['InvoiceDate'].dt.strftime('%Y-%m-%d %H'))\r\n",
        "df_customer.head()"
      ],
      "execution_count": null,
      "outputs": [
        {
          "output_type": "execute_result",
          "data": {
            "text/html": [
              "<div>\n",
              "<style scoped>\n",
              "    .dataframe tbody tr th:only-of-type {\n",
              "        vertical-align: middle;\n",
              "    }\n",
              "\n",
              "    .dataframe tbody tr th {\n",
              "        vertical-align: top;\n",
              "    }\n",
              "\n",
              "    .dataframe thead th {\n",
              "        text-align: right;\n",
              "    }\n",
              "</style>\n",
              "<table border=\"1\" class=\"dataframe\">\n",
              "  <thead>\n",
              "    <tr style=\"text-align: right;\">\n",
              "      <th></th>\n",
              "      <th>InvoiceNo</th>\n",
              "      <th>StockCode</th>\n",
              "      <th>Description</th>\n",
              "      <th>Quantity</th>\n",
              "      <th>InvoiceDate</th>\n",
              "      <th>UnitPrice</th>\n",
              "      <th>CustomerID</th>\n",
              "    </tr>\n",
              "  </thead>\n",
              "  <tbody>\n",
              "    <tr>\n",
              "      <th>0</th>\n",
              "      <td>536365</td>\n",
              "      <td>85123A</td>\n",
              "      <td>white hanging heart t-light holder</td>\n",
              "      <td>6</td>\n",
              "      <td>2020-02-05 08:00:00</td>\n",
              "      <td>2.55</td>\n",
              "      <td>17850.0</td>\n",
              "    </tr>\n",
              "    <tr>\n",
              "      <th>1</th>\n",
              "      <td>536365</td>\n",
              "      <td>71053</td>\n",
              "      <td>white metal lantern</td>\n",
              "      <td>6</td>\n",
              "      <td>2020-02-05 08:00:00</td>\n",
              "      <td>3.39</td>\n",
              "      <td>17850.0</td>\n",
              "    </tr>\n",
              "    <tr>\n",
              "      <th>2</th>\n",
              "      <td>536365</td>\n",
              "      <td>84406B</td>\n",
              "      <td>cream cupid hearts coat hanger</td>\n",
              "      <td>8</td>\n",
              "      <td>2020-02-05 08:00:00</td>\n",
              "      <td>2.75</td>\n",
              "      <td>17850.0</td>\n",
              "    </tr>\n",
              "    <tr>\n",
              "      <th>3</th>\n",
              "      <td>536365</td>\n",
              "      <td>84029G</td>\n",
              "      <td>knitted union flag hot water bottle</td>\n",
              "      <td>6</td>\n",
              "      <td>2020-02-05 08:00:00</td>\n",
              "      <td>3.39</td>\n",
              "      <td>17850.0</td>\n",
              "    </tr>\n",
              "    <tr>\n",
              "      <th>4</th>\n",
              "      <td>536365</td>\n",
              "      <td>84029E</td>\n",
              "      <td>red woolly hottie white heart.</td>\n",
              "      <td>6</td>\n",
              "      <td>2020-02-05 08:00:00</td>\n",
              "      <td>3.39</td>\n",
              "      <td>17850.0</td>\n",
              "    </tr>\n",
              "  </tbody>\n",
              "</table>\n",
              "</div>"
            ],
            "text/plain": [
              "  InvoiceNo StockCode  ... UnitPrice  CustomerID\n",
              "0    536365    85123A  ...      2.55     17850.0\n",
              "1    536365     71053  ...      3.39     17850.0\n",
              "2    536365    84406B  ...      2.75     17850.0\n",
              "3    536365    84029G  ...      3.39     17850.0\n",
              "4    536365    84029E  ...      3.39     17850.0\n",
              "\n",
              "[5 rows x 7 columns]"
            ]
          },
          "metadata": {
            "tags": []
          },
          "execution_count": 50
        }
      ]
    },
    {
      "cell_type": "markdown",
      "metadata": {
        "id": "SiKg45EDoBoJ"
      },
      "source": [
        "###**handling anomali data before build rfm**"
      ]
    },
    {
      "cell_type": "code",
      "metadata": {
        "colab": {
          "base_uri": "https://localhost:8080/"
        },
        "id": "QG6wmZuB0aFy",
        "outputId": "12087649-0a72-4961-813b-f1c2a59037a6"
      },
      "source": [
        "df_customer.shape[0]"
      ],
      "execution_count": null,
      "outputs": [
        {
          "output_type": "execute_result",
          "data": {
            "text/plain": [
              "406829"
            ]
          },
          "metadata": {
            "tags": []
          },
          "execution_count": 51
        }
      ]
    },
    {
      "cell_type": "code",
      "metadata": {
        "colab": {
          "base_uri": "https://localhost:8080/",
          "height": 206
        },
        "id": "pdKZViILnDD4",
        "outputId": "833521f6-7a29-4f75-f2b5-bcd39ea44373"
      },
      "source": [
        "#handling cancel ordering\r\n",
        "df_customer_group = df_customer.groupby(['Description','InvoiceDate','UnitPrice','CustomerID']).agg({'Quantity':'sum'})\r\n",
        "df_customer_group = df_customer_group.reset_index(level=['Description','InvoiceDate','UnitPrice','CustomerID'])\r\n",
        "df_customer_group.head()"
      ],
      "execution_count": null,
      "outputs": [
        {
          "output_type": "execute_result",
          "data": {
            "text/html": [
              "<div>\n",
              "<style scoped>\n",
              "    .dataframe tbody tr th:only-of-type {\n",
              "        vertical-align: middle;\n",
              "    }\n",
              "\n",
              "    .dataframe tbody tr th {\n",
              "        vertical-align: top;\n",
              "    }\n",
              "\n",
              "    .dataframe thead th {\n",
              "        text-align: right;\n",
              "    }\n",
              "</style>\n",
              "<table border=\"1\" class=\"dataframe\">\n",
              "  <thead>\n",
              "    <tr style=\"text-align: right;\">\n",
              "      <th></th>\n",
              "      <th>Description</th>\n",
              "      <th>InvoiceDate</th>\n",
              "      <th>UnitPrice</th>\n",
              "      <th>CustomerID</th>\n",
              "      <th>Quantity</th>\n",
              "    </tr>\n",
              "  </thead>\n",
              "  <tbody>\n",
              "    <tr>\n",
              "      <th>0</th>\n",
              "      <td>4 purple flock dinner candles</td>\n",
              "      <td>2020-02-05 12:00:00</td>\n",
              "      <td>2.55</td>\n",
              "      <td>15012.0</td>\n",
              "      <td>2</td>\n",
              "    </tr>\n",
              "    <tr>\n",
              "      <th>1</th>\n",
              "      <td>4 purple flock dinner candles</td>\n",
              "      <td>2020-02-09 10:00:00</td>\n",
              "      <td>2.55</td>\n",
              "      <td>18055.0</td>\n",
              "      <td>12</td>\n",
              "    </tr>\n",
              "    <tr>\n",
              "      <th>2</th>\n",
              "      <td>4 purple flock dinner candles</td>\n",
              "      <td>2020-03-11 15:00:00</td>\n",
              "      <td>2.55</td>\n",
              "      <td>15464.0</td>\n",
              "      <td>1</td>\n",
              "    </tr>\n",
              "    <tr>\n",
              "      <th>3</th>\n",
              "      <td>4 purple flock dinner candles</td>\n",
              "      <td>2020-04-01 13:00:00</td>\n",
              "      <td>2.55</td>\n",
              "      <td>17075.0</td>\n",
              "      <td>1</td>\n",
              "    </tr>\n",
              "    <tr>\n",
              "      <th>4</th>\n",
              "      <td>4 purple flock dinner candles</td>\n",
              "      <td>2020-05-04 15:00:00</td>\n",
              "      <td>2.55</td>\n",
              "      <td>17841.0</td>\n",
              "      <td>1</td>\n",
              "    </tr>\n",
              "  </tbody>\n",
              "</table>\n",
              "</div>"
            ],
            "text/plain": [
              "                      Description         InvoiceDate  ...  CustomerID  Quantity\n",
              "0   4 purple flock dinner candles 2020-02-05 12:00:00  ...     15012.0         2\n",
              "1   4 purple flock dinner candles 2020-02-09 10:00:00  ...     18055.0        12\n",
              "2   4 purple flock dinner candles 2020-03-11 15:00:00  ...     15464.0         1\n",
              "3   4 purple flock dinner candles 2020-04-01 13:00:00  ...     17075.0         1\n",
              "4   4 purple flock dinner candles 2020-05-04 15:00:00  ...     17841.0         1\n",
              "\n",
              "[5 rows x 5 columns]"
            ]
          },
          "metadata": {
            "tags": []
          },
          "execution_count": 52
        }
      ]
    },
    {
      "cell_type": "code",
      "metadata": {
        "colab": {
          "base_uri": "https://localhost:8080/",
          "height": 394
        },
        "id": "mb5qnRqBnC3l",
        "outputId": "81a67ffc-24f0-42fe-8f14-4e44a2deaeaa"
      },
      "source": [
        "ex_anomali_data = df_customer_group[df_customer_group.CustomerID==15128].sort_values(by='InvoiceDate').reset_index()\r\n",
        "ex_anomali_data.loc[30:40]"
      ],
      "execution_count": null,
      "outputs": [
        {
          "output_type": "execute_result",
          "data": {
            "text/html": [
              "<div>\n",
              "<style scoped>\n",
              "    .dataframe tbody tr th:only-of-type {\n",
              "        vertical-align: middle;\n",
              "    }\n",
              "\n",
              "    .dataframe tbody tr th {\n",
              "        vertical-align: top;\n",
              "    }\n",
              "\n",
              "    .dataframe thead th {\n",
              "        text-align: right;\n",
              "    }\n",
              "</style>\n",
              "<table border=\"1\" class=\"dataframe\">\n",
              "  <thead>\n",
              "    <tr style=\"text-align: right;\">\n",
              "      <th></th>\n",
              "      <th>index</th>\n",
              "      <th>Description</th>\n",
              "      <th>InvoiceDate</th>\n",
              "      <th>UnitPrice</th>\n",
              "      <th>CustomerID</th>\n",
              "      <th>Quantity</th>\n",
              "    </tr>\n",
              "  </thead>\n",
              "  <tbody>\n",
              "    <tr>\n",
              "      <th>30</th>\n",
              "      <td>18503</td>\n",
              "      <td>alarm clock bakelike red</td>\n",
              "      <td>2020-07-08 12:00:00</td>\n",
              "      <td>3.75</td>\n",
              "      <td>15128.0</td>\n",
              "      <td>4</td>\n",
              "    </tr>\n",
              "    <tr>\n",
              "      <th>31</th>\n",
              "      <td>34264</td>\n",
              "      <td>black kitchen scales</td>\n",
              "      <td>2020-07-08 12:00:00</td>\n",
              "      <td>8.50</td>\n",
              "      <td>15128.0</td>\n",
              "      <td>2</td>\n",
              "    </tr>\n",
              "    <tr>\n",
              "      <th>32</th>\n",
              "      <td>30127</td>\n",
              "      <td>bathroom metal sign</td>\n",
              "      <td>2020-07-08 12:00:00</td>\n",
              "      <td>0.55</td>\n",
              "      <td>15128.0</td>\n",
              "      <td>12</td>\n",
              "    </tr>\n",
              "    <tr>\n",
              "      <th>33</th>\n",
              "      <td>253296</td>\n",
              "      <td>postage</td>\n",
              "      <td>2020-07-22 12:00:00</td>\n",
              "      <td>3.71</td>\n",
              "      <td>15128.0</td>\n",
              "      <td>-1</td>\n",
              "    </tr>\n",
              "    <tr>\n",
              "      <th>34</th>\n",
              "      <td>264072</td>\n",
              "      <td>red kitchen scales</td>\n",
              "      <td>2020-07-27 17:00:00</td>\n",
              "      <td>8.50</td>\n",
              "      <td>15128.0</td>\n",
              "      <td>-1</td>\n",
              "    </tr>\n",
              "    <tr>\n",
              "      <th>35</th>\n",
              "      <td>715</td>\n",
              "      <td>set 2 tea towels i love london</td>\n",
              "      <td>2020-07-28 11:00:00</td>\n",
              "      <td>3.25</td>\n",
              "      <td>15128.0</td>\n",
              "      <td>-6</td>\n",
              "    </tr>\n",
              "    <tr>\n",
              "      <th>36</th>\n",
              "      <td>257818</td>\n",
              "      <td>recipe box pantry yellow design</td>\n",
              "      <td>2020-07-28 11:00:00</td>\n",
              "      <td>2.95</td>\n",
              "      <td>15128.0</td>\n",
              "      <td>-1</td>\n",
              "    </tr>\n",
              "    <tr>\n",
              "      <th>37</th>\n",
              "      <td>3068</td>\n",
              "      <td>12 pencils tall tube skulls</td>\n",
              "      <td>2020-08-28 11:00:00</td>\n",
              "      <td>0.85</td>\n",
              "      <td>15128.0</td>\n",
              "      <td>12</td>\n",
              "    </tr>\n",
              "    <tr>\n",
              "      <th>38</th>\n",
              "      <td>311788</td>\n",
              "      <td>set of 4 knick knack tins london</td>\n",
              "      <td>2020-08-28 11:00:00</td>\n",
              "      <td>4.15</td>\n",
              "      <td>15128.0</td>\n",
              "      <td>6</td>\n",
              "    </tr>\n",
              "    <tr>\n",
              "      <th>39</th>\n",
              "      <td>237492</td>\n",
              "      <td>piggy bank retrospot</td>\n",
              "      <td>2020-08-28 11:00:00</td>\n",
              "      <td>2.55</td>\n",
              "      <td>15128.0</td>\n",
              "      <td>4</td>\n",
              "    </tr>\n",
              "    <tr>\n",
              "      <th>40</th>\n",
              "      <td>54065</td>\n",
              "      <td>ceramic strawberry cake money bank</td>\n",
              "      <td>2020-08-28 11:00:00</td>\n",
              "      <td>1.45</td>\n",
              "      <td>15128.0</td>\n",
              "      <td>12</td>\n",
              "    </tr>\n",
              "  </tbody>\n",
              "</table>\n",
              "</div>"
            ],
            "text/plain": [
              "     index                         Description  ... CustomerID  Quantity\n",
              "30   18503           alarm clock bakelike red   ...    15128.0         4\n",
              "31   34264                black kitchen scales  ...    15128.0         2\n",
              "32   30127                 bathroom metal sign  ...    15128.0        12\n",
              "33  253296                             postage  ...    15128.0        -1\n",
              "34  264072                  red kitchen scales  ...    15128.0        -1\n",
              "35     715     set 2 tea towels i love london   ...    15128.0        -6\n",
              "36  257818     recipe box pantry yellow design  ...    15128.0        -1\n",
              "37    3068         12 pencils tall tube skulls  ...    15128.0        12\n",
              "38  311788   set of 4 knick knack tins london   ...    15128.0         6\n",
              "39  237492               piggy bank retrospot   ...    15128.0         4\n",
              "40   54065  ceramic strawberry cake money bank  ...    15128.0        12\n",
              "\n",
              "[11 rows x 6 columns]"
            ]
          },
          "metadata": {
            "tags": []
          },
          "execution_count": 53
        }
      ]
    },
    {
      "cell_type": "code",
      "metadata": {
        "colab": {
          "base_uri": "https://localhost:8080/",
          "height": 81
        },
        "id": "goOT60ZmHXs8",
        "outputId": "cbb635d8-d4e8-46b0-afa8-ba4b6417e261"
      },
      "source": [
        "ex_anomali_data[ex_anomali_data.Description =='red kitchen scales']"
      ],
      "execution_count": null,
      "outputs": [
        {
          "output_type": "execute_result",
          "data": {
            "text/html": [
              "<div>\n",
              "<style scoped>\n",
              "    .dataframe tbody tr th:only-of-type {\n",
              "        vertical-align: middle;\n",
              "    }\n",
              "\n",
              "    .dataframe tbody tr th {\n",
              "        vertical-align: top;\n",
              "    }\n",
              "\n",
              "    .dataframe thead th {\n",
              "        text-align: right;\n",
              "    }\n",
              "</style>\n",
              "<table border=\"1\" class=\"dataframe\">\n",
              "  <thead>\n",
              "    <tr style=\"text-align: right;\">\n",
              "      <th></th>\n",
              "      <th>index</th>\n",
              "      <th>Description</th>\n",
              "      <th>InvoiceDate</th>\n",
              "      <th>UnitPrice</th>\n",
              "      <th>CustomerID</th>\n",
              "      <th>Quantity</th>\n",
              "    </tr>\n",
              "  </thead>\n",
              "  <tbody>\n",
              "    <tr>\n",
              "      <th>34</th>\n",
              "      <td>264072</td>\n",
              "      <td>red kitchen scales</td>\n",
              "      <td>2020-07-27 17:00:00</td>\n",
              "      <td>8.5</td>\n",
              "      <td>15128.0</td>\n",
              "      <td>-1</td>\n",
              "    </tr>\n",
              "  </tbody>\n",
              "</table>\n",
              "</div>"
            ],
            "text/plain": [
              "     index         Description  ... CustomerID  Quantity\n",
              "34  264072  red kitchen scales  ...    15128.0        -1\n",
              "\n",
              "[1 rows x 6 columns]"
            ]
          },
          "metadata": {
            "tags": []
          },
          "execution_count": 54
        }
      ]
    },
    {
      "cell_type": "markdown",
      "metadata": {
        "id": "dxBoZadwFj7T"
      },
      "source": [
        "Look at the data number 34-36, they did not order at that day or another day. But there is a transaction with negative. I thing we need to filter the negative data exclude this transaction D, Cruk, post, M, m and C2 because it's like discount, postage and manual transaction."
      ]
    },
    {
      "cell_type": "code",
      "metadata": {
        "colab": {
          "base_uri": "https://localhost:8080/",
          "height": 424
        },
        "id": "f8dMjAM4nCxX",
        "outputId": "05ad48ea-f7b2-4e14-90bc-1b997262b71c"
      },
      "source": [
        "customer_data = df_customer_group[(df_customer_group.Description.isin(['postage','discount','cruk commission','carriage'])) | (df_customer_group.Quantity>0)]\r\n",
        "customer_data"
      ],
      "execution_count": null,
      "outputs": [
        {
          "output_type": "execute_result",
          "data": {
            "text/html": [
              "<div>\n",
              "<style scoped>\n",
              "    .dataframe tbody tr th:only-of-type {\n",
              "        vertical-align: middle;\n",
              "    }\n",
              "\n",
              "    .dataframe tbody tr th {\n",
              "        vertical-align: top;\n",
              "    }\n",
              "\n",
              "    .dataframe thead th {\n",
              "        text-align: right;\n",
              "    }\n",
              "</style>\n",
              "<table border=\"1\" class=\"dataframe\">\n",
              "  <thead>\n",
              "    <tr style=\"text-align: right;\">\n",
              "      <th></th>\n",
              "      <th>Description</th>\n",
              "      <th>InvoiceDate</th>\n",
              "      <th>UnitPrice</th>\n",
              "      <th>CustomerID</th>\n",
              "      <th>Quantity</th>\n",
              "    </tr>\n",
              "  </thead>\n",
              "  <tbody>\n",
              "    <tr>\n",
              "      <th>0</th>\n",
              "      <td>4 purple flock dinner candles</td>\n",
              "      <td>2020-02-05 12:00:00</td>\n",
              "      <td>2.55</td>\n",
              "      <td>15012.0</td>\n",
              "      <td>2</td>\n",
              "    </tr>\n",
              "    <tr>\n",
              "      <th>1</th>\n",
              "      <td>4 purple flock dinner candles</td>\n",
              "      <td>2020-02-09 10:00:00</td>\n",
              "      <td>2.55</td>\n",
              "      <td>18055.0</td>\n",
              "      <td>12</td>\n",
              "    </tr>\n",
              "    <tr>\n",
              "      <th>2</th>\n",
              "      <td>4 purple flock dinner candles</td>\n",
              "      <td>2020-03-11 15:00:00</td>\n",
              "      <td>2.55</td>\n",
              "      <td>15464.0</td>\n",
              "      <td>1</td>\n",
              "    </tr>\n",
              "    <tr>\n",
              "      <th>3</th>\n",
              "      <td>4 purple flock dinner candles</td>\n",
              "      <td>2020-04-01 13:00:00</td>\n",
              "      <td>2.55</td>\n",
              "      <td>17075.0</td>\n",
              "      <td>1</td>\n",
              "    </tr>\n",
              "    <tr>\n",
              "      <th>4</th>\n",
              "      <td>4 purple flock dinner candles</td>\n",
              "      <td>2020-05-04 15:00:00</td>\n",
              "      <td>2.55</td>\n",
              "      <td>17841.0</td>\n",
              "      <td>1</td>\n",
              "    </tr>\n",
              "    <tr>\n",
              "      <th>...</th>\n",
              "      <td>...</td>\n",
              "      <td>...</td>\n",
              "      <td>...</td>\n",
              "      <td>...</td>\n",
              "      <td>...</td>\n",
              "    </tr>\n",
              "    <tr>\n",
              "      <th>394597</th>\n",
              "      <td>zinc wire sweetheart letter tray</td>\n",
              "      <td>2021-01-27 15:00:00</td>\n",
              "      <td>3.75</td>\n",
              "      <td>17290.0</td>\n",
              "      <td>2</td>\n",
              "    </tr>\n",
              "    <tr>\n",
              "      <th>394598</th>\n",
              "      <td>zinc wire sweetheart letter tray</td>\n",
              "      <td>2021-01-28 14:00:00</td>\n",
              "      <td>3.75</td>\n",
              "      <td>17812.0</td>\n",
              "      <td>1</td>\n",
              "    </tr>\n",
              "    <tr>\n",
              "      <th>394599</th>\n",
              "      <td>zinc wire sweetheart letter tray</td>\n",
              "      <td>2021-02-03 17:00:00</td>\n",
              "      <td>3.75</td>\n",
              "      <td>15444.0</td>\n",
              "      <td>1</td>\n",
              "    </tr>\n",
              "    <tr>\n",
              "      <th>394600</th>\n",
              "      <td>zinc wire sweetheart letter tray</td>\n",
              "      <td>2021-02-10 08:00:00</td>\n",
              "      <td>1.25</td>\n",
              "      <td>14911.0</td>\n",
              "      <td>8</td>\n",
              "    </tr>\n",
              "    <tr>\n",
              "      <th>394601</th>\n",
              "      <td>zinc wire sweetheart letter tray</td>\n",
              "      <td>2021-02-10 11:00:00</td>\n",
              "      <td>1.25</td>\n",
              "      <td>17835.0</td>\n",
              "      <td>5</td>\n",
              "    </tr>\n",
              "  </tbody>\n",
              "</table>\n",
              "<p>386219 rows × 5 columns</p>\n",
              "</div>"
            ],
            "text/plain": [
              "                             Description  ... Quantity\n",
              "0          4 purple flock dinner candles  ...        2\n",
              "1          4 purple flock dinner candles  ...       12\n",
              "2          4 purple flock dinner candles  ...        1\n",
              "3          4 purple flock dinner candles  ...        1\n",
              "4          4 purple flock dinner candles  ...        1\n",
              "...                                  ...  ...      ...\n",
              "394597  zinc wire sweetheart letter tray  ...        2\n",
              "394598  zinc wire sweetheart letter tray  ...        1\n",
              "394599  zinc wire sweetheart letter tray  ...        1\n",
              "394600  zinc wire sweetheart letter tray  ...        8\n",
              "394601  zinc wire sweetheart letter tray  ...        5\n",
              "\n",
              "[386219 rows x 5 columns]"
            ]
          },
          "metadata": {
            "tags": []
          },
          "execution_count": 55
        }
      ]
    },
    {
      "cell_type": "code",
      "metadata": {
        "colab": {
          "base_uri": "https://localhost:8080/",
          "height": 300
        },
        "id": "pAZfSruSLIyF",
        "outputId": "7ccaeac9-a7b3-47bd-ab33-8f62cfeabfb0"
      },
      "source": [
        "customer_data.describe()"
      ],
      "execution_count": null,
      "outputs": [
        {
          "output_type": "execute_result",
          "data": {
            "text/html": [
              "<div>\n",
              "<style scoped>\n",
              "    .dataframe tbody tr th:only-of-type {\n",
              "        vertical-align: middle;\n",
              "    }\n",
              "\n",
              "    .dataframe tbody tr th {\n",
              "        vertical-align: top;\n",
              "    }\n",
              "\n",
              "    .dataframe thead th {\n",
              "        text-align: right;\n",
              "    }\n",
              "</style>\n",
              "<table border=\"1\" class=\"dataframe\">\n",
              "  <thead>\n",
              "    <tr style=\"text-align: right;\">\n",
              "      <th></th>\n",
              "      <th>UnitPrice</th>\n",
              "      <th>CustomerID</th>\n",
              "      <th>Quantity</th>\n",
              "    </tr>\n",
              "  </thead>\n",
              "  <tbody>\n",
              "    <tr>\n",
              "      <th>count</th>\n",
              "      <td>386219.000000</td>\n",
              "      <td>386219.000000</td>\n",
              "      <td>386219.000000</td>\n",
              "    </tr>\n",
              "    <tr>\n",
              "      <th>mean</th>\n",
              "      <td>3.110921</td>\n",
              "      <td>15280.361409</td>\n",
              "      <td>12.941758</td>\n",
              "    </tr>\n",
              "    <tr>\n",
              "      <th>std</th>\n",
              "      <td>22.271429</td>\n",
              "      <td>1712.936683</td>\n",
              "      <td>48.282573</td>\n",
              "    </tr>\n",
              "    <tr>\n",
              "      <th>min</th>\n",
              "      <td>0.000000</td>\n",
              "      <td>12347.000000</td>\n",
              "      <td>-720.000000</td>\n",
              "    </tr>\n",
              "    <tr>\n",
              "      <th>25%</th>\n",
              "      <td>1.250000</td>\n",
              "      <td>13941.000000</td>\n",
              "      <td>2.000000</td>\n",
              "    </tr>\n",
              "    <tr>\n",
              "      <th>50%</th>\n",
              "      <td>1.950000</td>\n",
              "      <td>15144.000000</td>\n",
              "      <td>6.000000</td>\n",
              "    </tr>\n",
              "    <tr>\n",
              "      <th>75%</th>\n",
              "      <td>3.750000</td>\n",
              "      <td>16782.000000</td>\n",
              "      <td>12.000000</td>\n",
              "    </tr>\n",
              "    <tr>\n",
              "      <th>max</th>\n",
              "      <td>8142.750000</td>\n",
              "      <td>18287.000000</td>\n",
              "      <td>12540.000000</td>\n",
              "    </tr>\n",
              "  </tbody>\n",
              "</table>\n",
              "</div>"
            ],
            "text/plain": [
              "           UnitPrice     CustomerID       Quantity\n",
              "count  386219.000000  386219.000000  386219.000000\n",
              "mean        3.110921   15280.361409      12.941758\n",
              "std        22.271429    1712.936683      48.282573\n",
              "min         0.000000   12347.000000    -720.000000\n",
              "25%         1.250000   13941.000000       2.000000\n",
              "50%         1.950000   15144.000000       6.000000\n",
              "75%         3.750000   16782.000000      12.000000\n",
              "max      8142.750000   18287.000000   12540.000000"
            ]
          },
          "metadata": {
            "tags": []
          },
          "execution_count": 56
        }
      ]
    },
    {
      "cell_type": "markdown",
      "metadata": {
        "id": "StaAvk6aPo1z"
      },
      "source": [
        "Checking negative quantity"
      ]
    },
    {
      "cell_type": "code",
      "metadata": {
        "colab": {
          "base_uri": "https://localhost:8080/",
          "height": 269
        },
        "id": "KOn2OOmpLIus",
        "outputId": "f71a80a7-1b61-49bc-9ba9-6834894d1a34"
      },
      "source": [
        "customer_data[customer_data.Quantity<-1]"
      ],
      "execution_count": null,
      "outputs": [
        {
          "output_type": "execute_result",
          "data": {
            "text/html": [
              "<div>\n",
              "<style scoped>\n",
              "    .dataframe tbody tr th:only-of-type {\n",
              "        vertical-align: middle;\n",
              "    }\n",
              "\n",
              "    .dataframe tbody tr th {\n",
              "        vertical-align: top;\n",
              "    }\n",
              "\n",
              "    .dataframe thead th {\n",
              "        text-align: right;\n",
              "    }\n",
              "</style>\n",
              "<table border=\"1\" class=\"dataframe\">\n",
              "  <thead>\n",
              "    <tr style=\"text-align: right;\">\n",
              "      <th></th>\n",
              "      <th>Description</th>\n",
              "      <th>InvoiceDate</th>\n",
              "      <th>UnitPrice</th>\n",
              "      <th>CustomerID</th>\n",
              "      <th>Quantity</th>\n",
              "    </tr>\n",
              "  </thead>\n",
              "  <tbody>\n",
              "    <tr>\n",
              "      <th>82431</th>\n",
              "      <td>discount</td>\n",
              "      <td>2020-05-07 11:00:00</td>\n",
              "      <td>0.01</td>\n",
              "      <td>16422.0</td>\n",
              "      <td>-720</td>\n",
              "    </tr>\n",
              "    <tr>\n",
              "      <th>82440</th>\n",
              "      <td>discount</td>\n",
              "      <td>2020-07-14 12:00:00</td>\n",
              "      <td>0.03</td>\n",
              "      <td>12901.0</td>\n",
              "      <td>-240</td>\n",
              "    </tr>\n",
              "    <tr>\n",
              "      <th>82441</th>\n",
              "      <td>discount</td>\n",
              "      <td>2020-07-14 14:00:00</td>\n",
              "      <td>1.45</td>\n",
              "      <td>16672.0</td>\n",
              "      <td>-18</td>\n",
              "    </tr>\n",
              "    <tr>\n",
              "      <th>82444</th>\n",
              "      <td>discount</td>\n",
              "      <td>2020-07-23 12:00:00</td>\n",
              "      <td>0.20</td>\n",
              "      <td>16029.0</td>\n",
              "      <td>-48</td>\n",
              "    </tr>\n",
              "    <tr>\n",
              "      <th>82449</th>\n",
              "      <td>discount</td>\n",
              "      <td>2020-08-18 14:00:00</td>\n",
              "      <td>0.70</td>\n",
              "      <td>16013.0</td>\n",
              "      <td>-96</td>\n",
              "    </tr>\n",
              "    <tr>\n",
              "      <th>253205</th>\n",
              "      <td>postage</td>\n",
              "      <td>2020-06-16 12:00:00</td>\n",
              "      <td>3.00</td>\n",
              "      <td>12463.0</td>\n",
              "      <td>-2</td>\n",
              "    </tr>\n",
              "    <tr>\n",
              "      <th>253964</th>\n",
              "      <td>postage</td>\n",
              "      <td>2021-01-27 10:00:00</td>\n",
              "      <td>1.00</td>\n",
              "      <td>12452.0</td>\n",
              "      <td>-2</td>\n",
              "    </tr>\n",
              "  </tbody>\n",
              "</table>\n",
              "</div>"
            ],
            "text/plain": [
              "       Description         InvoiceDate  UnitPrice  CustomerID  Quantity\n",
              "82431     discount 2020-05-07 11:00:00       0.01     16422.0      -720\n",
              "82440     discount 2020-07-14 12:00:00       0.03     12901.0      -240\n",
              "82441     discount 2020-07-14 14:00:00       1.45     16672.0       -18\n",
              "82444     discount 2020-07-23 12:00:00       0.20     16029.0       -48\n",
              "82449     discount 2020-08-18 14:00:00       0.70     16013.0       -96\n",
              "253205     postage 2020-06-16 12:00:00       3.00     12463.0        -2\n",
              "253964     postage 2021-01-27 10:00:00       1.00     12452.0        -2"
            ]
          },
          "metadata": {
            "tags": []
          },
          "execution_count": 57
        }
      ]
    },
    {
      "cell_type": "code",
      "metadata": {
        "colab": {
          "base_uri": "https://localhost:8080/",
          "height": 175
        },
        "id": "1nvHm8E8LIno",
        "outputId": "78e023fd-3624-4f8b-c323-9c92bb08f31d"
      },
      "source": [
        "customer_data[(customer_data.CustomerID==16422) & (customer_data.Quantity < 0)].sort_values(by='InvoiceDate')"
      ],
      "execution_count": null,
      "outputs": [
        {
          "output_type": "execute_result",
          "data": {
            "text/html": [
              "<div>\n",
              "<style scoped>\n",
              "    .dataframe tbody tr th:only-of-type {\n",
              "        vertical-align: middle;\n",
              "    }\n",
              "\n",
              "    .dataframe tbody tr th {\n",
              "        vertical-align: top;\n",
              "    }\n",
              "\n",
              "    .dataframe thead th {\n",
              "        text-align: right;\n",
              "    }\n",
              "</style>\n",
              "<table border=\"1\" class=\"dataframe\">\n",
              "  <thead>\n",
              "    <tr style=\"text-align: right;\">\n",
              "      <th></th>\n",
              "      <th>Description</th>\n",
              "      <th>InvoiceDate</th>\n",
              "      <th>UnitPrice</th>\n",
              "      <th>CustomerID</th>\n",
              "      <th>Quantity</th>\n",
              "    </tr>\n",
              "  </thead>\n",
              "  <tbody>\n",
              "    <tr>\n",
              "      <th>82422</th>\n",
              "      <td>discount</td>\n",
              "      <td>2020-02-19 09:00:00</td>\n",
              "      <td>5.76</td>\n",
              "      <td>16422.0</td>\n",
              "      <td>-1</td>\n",
              "    </tr>\n",
              "    <tr>\n",
              "      <th>82423</th>\n",
              "      <td>discount</td>\n",
              "      <td>2020-02-19 09:00:00</td>\n",
              "      <td>42.50</td>\n",
              "      <td>16422.0</td>\n",
              "      <td>-1</td>\n",
              "    </tr>\n",
              "    <tr>\n",
              "      <th>82431</th>\n",
              "      <td>discount</td>\n",
              "      <td>2020-05-07 11:00:00</td>\n",
              "      <td>0.01</td>\n",
              "      <td>16422.0</td>\n",
              "      <td>-720</td>\n",
              "    </tr>\n",
              "    <tr>\n",
              "      <th>82471</th>\n",
              "      <td>discount</td>\n",
              "      <td>2020-11-04 17:00:00</td>\n",
              "      <td>57.60</td>\n",
              "      <td>16422.0</td>\n",
              "      <td>-1</td>\n",
              "    </tr>\n",
              "  </tbody>\n",
              "</table>\n",
              "</div>"
            ],
            "text/plain": [
              "      Description         InvoiceDate  UnitPrice  CustomerID  Quantity\n",
              "82422    discount 2020-02-19 09:00:00       5.76     16422.0        -1\n",
              "82423    discount 2020-02-19 09:00:00      42.50     16422.0        -1\n",
              "82431    discount 2020-05-07 11:00:00       0.01     16422.0      -720\n",
              "82471    discount 2020-11-04 17:00:00      57.60     16422.0        -1"
            ]
          },
          "metadata": {
            "tags": []
          },
          "execution_count": 58
        }
      ]
    },
    {
      "cell_type": "code",
      "metadata": {
        "colab": {
          "base_uri": "https://localhost:8080/",
          "height": 81
        },
        "id": "8lk6g0BWPIVr",
        "outputId": "7e35b2be-a427-4a4d-a1c8-e75e303a7bb6"
      },
      "source": [
        "#what he bought on that date\r\n",
        "customer_data[(customer_data.CustomerID==16422) & ((customer_data.InvoiceDate > '2020-05-07 01:00:00')&(customer_data.InvoiceDate < '2020-05-07 23:00:00'))]"
      ],
      "execution_count": null,
      "outputs": [
        {
          "output_type": "execute_result",
          "data": {
            "text/html": [
              "<div>\n",
              "<style scoped>\n",
              "    .dataframe tbody tr th:only-of-type {\n",
              "        vertical-align: middle;\n",
              "    }\n",
              "\n",
              "    .dataframe tbody tr th {\n",
              "        vertical-align: top;\n",
              "    }\n",
              "\n",
              "    .dataframe thead th {\n",
              "        text-align: right;\n",
              "    }\n",
              "</style>\n",
              "<table border=\"1\" class=\"dataframe\">\n",
              "  <thead>\n",
              "    <tr style=\"text-align: right;\">\n",
              "      <th></th>\n",
              "      <th>Description</th>\n",
              "      <th>InvoiceDate</th>\n",
              "      <th>UnitPrice</th>\n",
              "      <th>CustomerID</th>\n",
              "      <th>Quantity</th>\n",
              "    </tr>\n",
              "  </thead>\n",
              "  <tbody>\n",
              "    <tr>\n",
              "      <th>82431</th>\n",
              "      <td>discount</td>\n",
              "      <td>2020-05-07 11:00:00</td>\n",
              "      <td>0.01</td>\n",
              "      <td>16422.0</td>\n",
              "      <td>-720</td>\n",
              "    </tr>\n",
              "  </tbody>\n",
              "</table>\n",
              "</div>"
            ],
            "text/plain": [
              "      Description         InvoiceDate  UnitPrice  CustomerID  Quantity\n",
              "82431    discount 2020-05-07 11:00:00       0.01     16422.0      -720"
            ]
          },
          "metadata": {
            "tags": []
          },
          "execution_count": 59
        }
      ]
    },
    {
      "cell_type": "markdown",
      "metadata": {
        "id": "9bCbkq_fQW5k"
      },
      "source": [
        "He didn't buy anything, but he got a discount. It is anomaly and I think we need to filter the data and negative quantity >= 1"
      ]
    },
    {
      "cell_type": "code",
      "metadata": {
        "id": "N88PEUjeQnEz"
      },
      "source": [
        "customer_data = customer_data[customer_data.Quantity >= -1]"
      ],
      "execution_count": null,
      "outputs": []
    },
    {
      "cell_type": "code",
      "metadata": {
        "colab": {
          "base_uri": "https://localhost:8080/",
          "height": 300
        },
        "id": "6DyETmziQtfN",
        "outputId": "5c52d2a7-52e2-428d-db8d-f7c77531ba14"
      },
      "source": [
        "customer_data.describe()"
      ],
      "execution_count": null,
      "outputs": [
        {
          "output_type": "execute_result",
          "data": {
            "text/html": [
              "<div>\n",
              "<style scoped>\n",
              "    .dataframe tbody tr th:only-of-type {\n",
              "        vertical-align: middle;\n",
              "    }\n",
              "\n",
              "    .dataframe tbody tr th {\n",
              "        vertical-align: top;\n",
              "    }\n",
              "\n",
              "    .dataframe thead th {\n",
              "        text-align: right;\n",
              "    }\n",
              "</style>\n",
              "<table border=\"1\" class=\"dataframe\">\n",
              "  <thead>\n",
              "    <tr style=\"text-align: right;\">\n",
              "      <th></th>\n",
              "      <th>UnitPrice</th>\n",
              "      <th>CustomerID</th>\n",
              "      <th>Quantity</th>\n",
              "    </tr>\n",
              "  </thead>\n",
              "  <tbody>\n",
              "    <tr>\n",
              "      <th>count</th>\n",
              "      <td>386212.000000</td>\n",
              "      <td>386212.000000</td>\n",
              "      <td>386212.000000</td>\n",
              "    </tr>\n",
              "    <tr>\n",
              "      <th>mean</th>\n",
              "      <td>3.110961</td>\n",
              "      <td>15280.371793</td>\n",
              "      <td>12.944908</td>\n",
              "    </tr>\n",
              "    <tr>\n",
              "      <th>std</th>\n",
              "      <td>22.271629</td>\n",
              "      <td>1712.932604</td>\n",
              "      <td>48.266433</td>\n",
              "    </tr>\n",
              "    <tr>\n",
              "      <th>min</th>\n",
              "      <td>0.000000</td>\n",
              "      <td>12347.000000</td>\n",
              "      <td>-1.000000</td>\n",
              "    </tr>\n",
              "    <tr>\n",
              "      <th>25%</th>\n",
              "      <td>1.250000</td>\n",
              "      <td>13941.000000</td>\n",
              "      <td>2.000000</td>\n",
              "    </tr>\n",
              "    <tr>\n",
              "      <th>50%</th>\n",
              "      <td>1.950000</td>\n",
              "      <td>15144.000000</td>\n",
              "      <td>6.000000</td>\n",
              "    </tr>\n",
              "    <tr>\n",
              "      <th>75%</th>\n",
              "      <td>3.750000</td>\n",
              "      <td>16782.000000</td>\n",
              "      <td>12.000000</td>\n",
              "    </tr>\n",
              "    <tr>\n",
              "      <th>max</th>\n",
              "      <td>8142.750000</td>\n",
              "      <td>18287.000000</td>\n",
              "      <td>12540.000000</td>\n",
              "    </tr>\n",
              "  </tbody>\n",
              "</table>\n",
              "</div>"
            ],
            "text/plain": [
              "           UnitPrice     CustomerID       Quantity\n",
              "count  386212.000000  386212.000000  386212.000000\n",
              "mean        3.110961   15280.371793      12.944908\n",
              "std        22.271629    1712.932604      48.266433\n",
              "min         0.000000   12347.000000      -1.000000\n",
              "25%         1.250000   13941.000000       2.000000\n",
              "50%         1.950000   15144.000000       6.000000\n",
              "75%         3.750000   16782.000000      12.000000\n",
              "max      8142.750000   18287.000000   12540.000000"
            ]
          },
          "metadata": {
            "tags": []
          },
          "execution_count": 61
        }
      ]
    },
    {
      "cell_type": "markdown",
      "metadata": {
        "id": "EvkrTKPuREgT"
      },
      "source": [
        "###**RFM DATA**"
      ]
    },
    {
      "cell_type": "code",
      "metadata": {
        "id": "NwAS4pNcRGt3"
      },
      "source": [
        "customer_data['TotalPrice'] = customer_data.UnitPrice*customer_data.Quantity\r\n",
        "customer_data['BookID'] = customer_data['InvoiceDate']"
      ],
      "execution_count": null,
      "outputs": []
    },
    {
      "cell_type": "code",
      "metadata": {
        "colab": {
          "base_uri": "https://localhost:8080/",
          "height": 206
        },
        "id": "j2OZ5aakBgJp",
        "outputId": "4bf1fc29-b33a-4ba5-a3ff-c727e4f28dd2"
      },
      "source": [
        "customer_data.head()"
      ],
      "execution_count": null,
      "outputs": [
        {
          "output_type": "execute_result",
          "data": {
            "text/html": [
              "<div>\n",
              "<style scoped>\n",
              "    .dataframe tbody tr th:only-of-type {\n",
              "        vertical-align: middle;\n",
              "    }\n",
              "\n",
              "    .dataframe tbody tr th {\n",
              "        vertical-align: top;\n",
              "    }\n",
              "\n",
              "    .dataframe thead th {\n",
              "        text-align: right;\n",
              "    }\n",
              "</style>\n",
              "<table border=\"1\" class=\"dataframe\">\n",
              "  <thead>\n",
              "    <tr style=\"text-align: right;\">\n",
              "      <th></th>\n",
              "      <th>Description</th>\n",
              "      <th>InvoiceDate</th>\n",
              "      <th>UnitPrice</th>\n",
              "      <th>CustomerID</th>\n",
              "      <th>Quantity</th>\n",
              "      <th>TotalPrice</th>\n",
              "      <th>BookID</th>\n",
              "    </tr>\n",
              "  </thead>\n",
              "  <tbody>\n",
              "    <tr>\n",
              "      <th>0</th>\n",
              "      <td>4 purple flock dinner candles</td>\n",
              "      <td>2020-02-05 12:00:00</td>\n",
              "      <td>2.55</td>\n",
              "      <td>15012.0</td>\n",
              "      <td>2</td>\n",
              "      <td>5.10</td>\n",
              "      <td>2020-02-05 12:00:00</td>\n",
              "    </tr>\n",
              "    <tr>\n",
              "      <th>1</th>\n",
              "      <td>4 purple flock dinner candles</td>\n",
              "      <td>2020-02-09 10:00:00</td>\n",
              "      <td>2.55</td>\n",
              "      <td>18055.0</td>\n",
              "      <td>12</td>\n",
              "      <td>30.60</td>\n",
              "      <td>2020-02-09 10:00:00</td>\n",
              "    </tr>\n",
              "    <tr>\n",
              "      <th>2</th>\n",
              "      <td>4 purple flock dinner candles</td>\n",
              "      <td>2020-03-11 15:00:00</td>\n",
              "      <td>2.55</td>\n",
              "      <td>15464.0</td>\n",
              "      <td>1</td>\n",
              "      <td>2.55</td>\n",
              "      <td>2020-03-11 15:00:00</td>\n",
              "    </tr>\n",
              "    <tr>\n",
              "      <th>3</th>\n",
              "      <td>4 purple flock dinner candles</td>\n",
              "      <td>2020-04-01 13:00:00</td>\n",
              "      <td>2.55</td>\n",
              "      <td>17075.0</td>\n",
              "      <td>1</td>\n",
              "      <td>2.55</td>\n",
              "      <td>2020-04-01 13:00:00</td>\n",
              "    </tr>\n",
              "    <tr>\n",
              "      <th>4</th>\n",
              "      <td>4 purple flock dinner candles</td>\n",
              "      <td>2020-05-04 15:00:00</td>\n",
              "      <td>2.55</td>\n",
              "      <td>17841.0</td>\n",
              "      <td>1</td>\n",
              "      <td>2.55</td>\n",
              "      <td>2020-05-04 15:00:00</td>\n",
              "    </tr>\n",
              "  </tbody>\n",
              "</table>\n",
              "</div>"
            ],
            "text/plain": [
              "                      Description  ...              BookID\n",
              "0   4 purple flock dinner candles  ... 2020-02-05 12:00:00\n",
              "1   4 purple flock dinner candles  ... 2020-02-09 10:00:00\n",
              "2   4 purple flock dinner candles  ... 2020-03-11 15:00:00\n",
              "3   4 purple flock dinner candles  ... 2020-04-01 13:00:00\n",
              "4   4 purple flock dinner candles  ... 2020-05-04 15:00:00\n",
              "\n",
              "[5 rows x 7 columns]"
            ]
          },
          "metadata": {
            "tags": []
          },
          "execution_count": 63
        }
      ]
    },
    {
      "cell_type": "markdown",
      "metadata": {
        "id": "HkmpLcrHBvs1"
      },
      "source": [
        "**RFM Function**"
      ]
    },
    {
      "cell_type": "code",
      "metadata": {
        "id": "56P8bgoDBrvz"
      },
      "source": [
        "def build_rfm(df):\r\n",
        "  analysis_date = df['InvoiceDate'].max()+datetime.timedelta(days=1)\r\n",
        "  customer_rfm = df.groupby('CustomerID').agg({'InvoiceDate' : lambda x: (analysis_date-x.max()).days,\r\n",
        "                                                'BookID' : lambda x : x.nunique(),\r\n",
        "                                                'TotalPrice': lambda x : x.sum()       \r\n",
        "                                              }).reset_index(level=['CustomerID'])\r\n",
        "\r\n",
        "  customer_rfm.rename(columns={'InvoiceDate':'recency', 'BookID':'frequency', 'TotalPrice':'monetary'}, inplace=True)\r\n",
        "  return customer_rfm"
      ],
      "execution_count": null,
      "outputs": []
    },
    {
      "cell_type": "code",
      "metadata": {
        "colab": {
          "base_uri": "https://localhost:8080/",
          "height": 206
        },
        "id": "-ll_FefSMfed",
        "outputId": "7dd72357-8ef6-46dd-a1e8-18954806fcc8"
      },
      "source": [
        "customer_rfm = build_rfm(customer_data)\r\n",
        "customer_rfm.head()"
      ],
      "execution_count": null,
      "outputs": [
        {
          "output_type": "execute_result",
          "data": {
            "text/html": [
              "<div>\n",
              "<style scoped>\n",
              "    .dataframe tbody tr th:only-of-type {\n",
              "        vertical-align: middle;\n",
              "    }\n",
              "\n",
              "    .dataframe tbody tr th {\n",
              "        vertical-align: top;\n",
              "    }\n",
              "\n",
              "    .dataframe thead th {\n",
              "        text-align: right;\n",
              "    }\n",
              "</style>\n",
              "<table border=\"1\" class=\"dataframe\">\n",
              "  <thead>\n",
              "    <tr style=\"text-align: right;\">\n",
              "      <th></th>\n",
              "      <th>CustomerID</th>\n",
              "      <th>recency</th>\n",
              "      <th>frequency</th>\n",
              "      <th>monetary</th>\n",
              "    </tr>\n",
              "  </thead>\n",
              "  <tbody>\n",
              "    <tr>\n",
              "      <th>0</th>\n",
              "      <td>12347.0</td>\n",
              "      <td>2</td>\n",
              "      <td>7</td>\n",
              "      <td>4310.00</td>\n",
              "    </tr>\n",
              "    <tr>\n",
              "      <th>1</th>\n",
              "      <td>12348.0</td>\n",
              "      <td>75</td>\n",
              "      <td>4</td>\n",
              "      <td>1797.24</td>\n",
              "    </tr>\n",
              "    <tr>\n",
              "      <th>2</th>\n",
              "      <td>12349.0</td>\n",
              "      <td>19</td>\n",
              "      <td>1</td>\n",
              "      <td>1757.55</td>\n",
              "    </tr>\n",
              "    <tr>\n",
              "      <th>3</th>\n",
              "      <td>12350.0</td>\n",
              "      <td>310</td>\n",
              "      <td>1</td>\n",
              "      <td>334.40</td>\n",
              "    </tr>\n",
              "    <tr>\n",
              "      <th>4</th>\n",
              "      <td>12352.0</td>\n",
              "      <td>36</td>\n",
              "      <td>7</td>\n",
              "      <td>1545.41</td>\n",
              "    </tr>\n",
              "  </tbody>\n",
              "</table>\n",
              "</div>"
            ],
            "text/plain": [
              "   CustomerID  recency  frequency  monetary\n",
              "0     12347.0        2          7   4310.00\n",
              "1     12348.0       75          4   1797.24\n",
              "2     12349.0       19          1   1757.55\n",
              "3     12350.0      310          1    334.40\n",
              "4     12352.0       36          7   1545.41"
            ]
          },
          "metadata": {
            "tags": []
          },
          "execution_count": 65
        }
      ]
    },
    {
      "cell_type": "code",
      "metadata": {
        "colab": {
          "base_uri": "https://localhost:8080/"
        },
        "id": "vcoUACjNAw0w",
        "outputId": "249d5239-db95-42ed-a5c5-14f06dced37b"
      },
      "source": [
        "customer_rfm.shape[0]"
      ],
      "execution_count": null,
      "outputs": [
        {
          "output_type": "execute_result",
          "data": {
            "text/plain": [
              "4337"
            ]
          },
          "metadata": {
            "tags": []
          },
          "execution_count": 66
        }
      ]
    },
    {
      "cell_type": "markdown",
      "metadata": {
        "id": "LG9jdgklNlDh"
      },
      "source": [
        "###**K-Means Clustering**"
      ]
    },
    {
      "cell_type": "markdown",
      "metadata": {
        "id": "9iyLXDo4Utv3"
      },
      "source": [
        "**Get The Number of Cluster**"
      ]
    },
    {
      "cell_type": "code",
      "metadata": {
        "id": "Ph8AaRDPNjjP"
      },
      "source": [
        "def kmeans_clustering(df):\r\n",
        "    sse, score = {}, []\r\n",
        "    \r\n",
        "    #Starting to do data clustering with K=(2-11), and save the kmeans inertia value + elbow.\r\n",
        "    for k in range(2, 11):\r\n",
        "        kmeans = KMeans(n_clusters=k, random_state=123)\r\n",
        "        cluster_labels = kmeans.fit_predict(df)\r\n",
        "        sse[k] = kmeans.inertia_        \r\n",
        "        score.append(silhouette_score(df, cluster_labels))    # Plot Elbow and Sillhouette curve\r\n",
        "    \r\n",
        "    #visualize the value (inertia and sillhouette) using line plot\r\n",
        "    fig, ax1 = plt.subplots(figsize=(12, 9))    \r\n",
        "    ax2 = ax1.twinx()    \r\n",
        "    ax1.plot([*sse.keys()], [*sse.values()], marker='o', label='SSE Line')\r\n",
        "    ax2.plot([*sse.keys()], score, marker='o', color='r', label='Silhouette Line')\r\n",
        "    ax1.set_xlabel('Number of k')\r\n",
        "    ax1.set_ylabel('SSE')\r\n",
        "    ax2.set_ylabel('Silhouette_score')\r\n",
        "    plt.title('Elbow Method Visualization')    \r\n",
        "    plt.legend()\r\n",
        "    plt.show()\r\n",
        "    return sse, score"
      ],
      "execution_count": null,
      "outputs": []
    },
    {
      "cell_type": "code",
      "metadata": {
        "colab": {
          "base_uri": "https://localhost:8080/",
          "height": 567
        },
        "id": "bef4HSwVTToc",
        "outputId": "c8a0e5f5-905f-42f6-ec7e-0d366d12e389"
      },
      "source": [
        "sse, silhouette = kmeans_clustering(customer_rfm.drop('CustomerID', axis=1))"
      ],
      "execution_count": null,
      "outputs": [
        {
          "output_type": "display_data",
          "data": {
            "image/png": "[encoded data removed]",
            "text/plain": [
              "<Figure size 864x648 with 2 Axes>"
            ]
          },
          "metadata": {
            "tags": [],
            "needs_background": "light"
          }
        }
      ]
    },
    {
      "cell_type": "markdown",
      "metadata": {
        "id": "X4PFvy30Uy7F"
      },
      "source": [
        "From this evaluation, we know that the number of suitable cluster is 5<br>\r\n",
        "<br>\r\n",
        "**Build Cluster Model and Snake Plot**"
      ]
    },
    {
      "cell_type": "code",
      "metadata": {
        "id": "wLlrmBWsVdRf"
      },
      "source": [
        "def segmentation_model(df, customer_rfm, n_clusters):\r\n",
        "    scale = StandardScaler()\r\n",
        "    df_scale = scale.fit_transform(df)\r\n",
        "    df_scale = pd.DataFrame(data = df_scale, columns=['recency','frequency','monetary'])\r\n",
        "\r\n",
        "    #Final clustering on the data after we know the number of K\r\n",
        "    model = KMeans(n_clusters=n_clusters, random_state=123)\r\n",
        "    model.fit(df_scale)\r\n",
        "    cluster_labels = model.labels_    \r\n",
        "    \r\n",
        "    #Assign cluster labels into customer_rfm\r\n",
        "    customer_rfm = customer_rfm.assign(Cluster=cluster_labels)  \r\n",
        "    df_scale = df_scale.assign(Cluster=cluster_labels)\r\n",
        "    \r\n",
        "    # inverse recency (the smaller the value, the better it is)\r\n",
        "    # df_scale.recency = df_scale.recency*-1\r\n",
        "    \r\n",
        "    grouped_customer_rfm = customer_rfm.groupby(['Cluster']).agg({\r\n",
        "                                 'recency': 'mean',\r\n",
        "                                 'frequency': 'mean',\r\n",
        "                                 'monetary': 'mean'\r\n",
        "                                }).round(2) \r\n",
        "    print(\"\\tCustomer Characteristic\")\r\n",
        "    display(grouped_customer_rfm)\r\n",
        "\r\n",
        "    grouped_data = df_scale.groupby(['Cluster']).agg({\r\n",
        "                              'recency': 'mean',\r\n",
        "                              'frequency': 'mean',\r\n",
        "                              'monetary': 'mean'\r\n",
        "                            }).round(2) \r\n",
        "    print(\"\\n\\n\\tCustomer Characteristic - Scaled Data\")\r\n",
        "    display(grouped_data)\r\n",
        "\r\n",
        "    # grouped_data['avg'] = grouped_data[['recency','frequency','monetary']].mean(axis=1) \r\n",
        "    # grouped_data.sort_values(by='avg', ascending=False)\r\n",
        "    # grouped_data['Label'] = [*np.arange(1, n_clusters+1)]\r\n",
        "    # display(grouped_data.sort_values(by=['avg'], ascending=False))\r\n",
        "    \r\n",
        "    grouped_data = grouped_data.reset_index(level=['Cluster'])\r\n",
        "    cols = ['recency','frequency','monetary']\r\n",
        "    RFM_melt = pd.melt(grouped_data, id_vars='Cluster', value_vars=cols, var_name='Metric', value_name='Value')\r\n",
        "\r\n",
        "    plt.figure(figsize=(12,5))\r\n",
        "    plt.title('Snake plot')    # Add the x axis label\r\n",
        "    plt.xlabel('Metric')    # Add the y axis label\r\n",
        "    plt.ylabel('Value')    # Plot a line for each value of the cluster variable\r\n",
        "    sns.lineplot(data=RFM_melt, x='Metric', y='Value', hue='Cluster', )\r\n",
        "    plt.show() \r\n",
        "    \r\n",
        "    return customer_rfm"
      ],
      "execution_count": null,
      "outputs": []
    },
    {
      "cell_type": "code",
      "metadata": {
        "colab": {
          "base_uri": "https://localhost:8080/",
          "height": 865
        },
        "id": "wV9nXplEXN_m",
        "outputId": "71eb31f0-8529-4fa5-9470-0ebf978e7e2f"
      },
      "source": [
        "customer_char = segmentation_model(customer_rfm.drop('CustomerID', axis=1), customer_rfm, 5)"
      ],
      "execution_count": null,
      "outputs": [
        {
          "output_type": "stream",
          "text": [
            "\tCustomer Characteristic\n"
          ],
          "name": "stdout"
        },
        {
          "output_type": "display_data",
          "data": {
            "text/html": [
              "<div>\n",
              "<style scoped>\n",
              "    .dataframe tbody tr th:only-of-type {\n",
              "        vertical-align: middle;\n",
              "    }\n",
              "\n",
              "    .dataframe tbody tr th {\n",
              "        vertical-align: top;\n",
              "    }\n",
              "\n",
              "    .dataframe thead th {\n",
              "        text-align: right;\n",
              "    }\n",
              "</style>\n",
              "<table border=\"1\" class=\"dataframe\">\n",
              "  <thead>\n",
              "    <tr style=\"text-align: right;\">\n",
              "      <th></th>\n",
              "      <th>recency</th>\n",
              "      <th>frequency</th>\n",
              "      <th>monetary</th>\n",
              "    </tr>\n",
              "    <tr>\n",
              "      <th>Cluster</th>\n",
              "      <th></th>\n",
              "      <th></th>\n",
              "      <th></th>\n",
              "    </tr>\n",
              "  </thead>\n",
              "  <tbody>\n",
              "    <tr>\n",
              "      <th>0</th>\n",
              "      <td>11.38</td>\n",
              "      <td>18.37</td>\n",
              "      <td>11379.47</td>\n",
              "    </tr>\n",
              "    <tr>\n",
              "      <th>1</th>\n",
              "      <td>44.31</td>\n",
              "      <td>3.38</td>\n",
              "      <td>1306.56</td>\n",
              "    </tr>\n",
              "    <tr>\n",
              "      <th>2</th>\n",
              "      <td>248.88</td>\n",
              "      <td>1.50</td>\n",
              "      <td>518.17</td>\n",
              "    </tr>\n",
              "    <tr>\n",
              "      <th>3</th>\n",
              "      <td>9.00</td>\n",
              "      <td>37.40</td>\n",
              "      <td>195034.19</td>\n",
              "    </tr>\n",
              "    <tr>\n",
              "      <th>4</th>\n",
              "      <td>1.86</td>\n",
              "      <td>112.29</td>\n",
              "      <td>50302.14</td>\n",
              "    </tr>\n",
              "  </tbody>\n",
              "</table>\n",
              "</div>"
            ],
            "text/plain": [
              "         recency  frequency   monetary\n",
              "Cluster                               \n",
              "0          11.38      18.37   11379.47\n",
              "1          44.31       3.38    1306.56\n",
              "2         248.88       1.50     518.17\n",
              "3           9.00      37.40  195034.19\n",
              "4           1.86     112.29   50302.14"
            ]
          },
          "metadata": {
            "tags": []
          }
        },
        {
          "output_type": "stream",
          "text": [
            "\n",
            "\n",
            "\tCustomer Characteristic - Scaled Data\n"
          ],
          "name": "stdout"
        },
        {
          "output_type": "display_data",
          "data": {
            "text/html": [
              "<div>\n",
              "<style scoped>\n",
              "    .dataframe tbody tr th:only-of-type {\n",
              "        vertical-align: middle;\n",
              "    }\n",
              "\n",
              "    .dataframe tbody tr th {\n",
              "        vertical-align: top;\n",
              "    }\n",
              "\n",
              "    .dataframe thead th {\n",
              "        text-align: right;\n",
              "    }\n",
              "</style>\n",
              "<table border=\"1\" class=\"dataframe\">\n",
              "  <thead>\n",
              "    <tr style=\"text-align: right;\">\n",
              "      <th></th>\n",
              "      <th>recency</th>\n",
              "      <th>frequency</th>\n",
              "      <th>monetary</th>\n",
              "    </tr>\n",
              "    <tr>\n",
              "      <th>Cluster</th>\n",
              "      <th></th>\n",
              "      <th></th>\n",
              "      <th></th>\n",
              "    </tr>\n",
              "  </thead>\n",
              "  <tbody>\n",
              "    <tr>\n",
              "      <th>0</th>\n",
              "      <td>-0.81</td>\n",
              "      <td>2.16</td>\n",
              "      <td>1.12</td>\n",
              "    </tr>\n",
              "    <tr>\n",
              "      <th>1</th>\n",
              "      <td>-0.48</td>\n",
              "      <td>-0.09</td>\n",
              "      <td>-0.08</td>\n",
              "    </tr>\n",
              "    <tr>\n",
              "      <th>2</th>\n",
              "      <td>1.56</td>\n",
              "      <td>-0.37</td>\n",
              "      <td>-0.17</td>\n",
              "    </tr>\n",
              "    <tr>\n",
              "      <th>3</th>\n",
              "      <td>-0.84</td>\n",
              "      <td>5.02</td>\n",
              "      <td>22.90</td>\n",
              "    </tr>\n",
              "    <tr>\n",
              "      <th>4</th>\n",
              "      <td>-0.91</td>\n",
              "      <td>16.28</td>\n",
              "      <td>5.73</td>\n",
              "    </tr>\n",
              "  </tbody>\n",
              "</table>\n",
              "</div>"
            ],
            "text/plain": [
              "         recency  frequency  monetary\n",
              "Cluster                              \n",
              "0          -0.81       2.16      1.12\n",
              "1          -0.48      -0.09     -0.08\n",
              "2           1.56      -0.37     -0.17\n",
              "3          -0.84       5.02     22.90\n",
              "4          -0.91      16.28      5.73"
            ]
          },
          "metadata": {
            "tags": []
          }
        },
        {
          "output_type": "display_data",
          "data": {
            "image/png": "[encoded data removed]",
            "text/plain": [
              "<Figure size 864x360 with 1 Axes>"
            ]
          },
          "metadata": {
            "tags": [],
            "needs_background": "light"
          }
        }
      ]
    },
    {
      "cell_type": "code",
      "metadata": {
        "colab": {
          "base_uri": "https://localhost:8080/"
        },
        "id": "ks5TEVpZaQfl",
        "outputId": "5061ff48-505a-4014-ee9b-bcc35e4f4ed6"
      },
      "source": [
        "customer_char.Cluster.value_counts()"
      ],
      "execution_count": null,
      "outputs": [
        {
          "output_type": "execute_result",
          "data": {
            "text/plain": [
              "1    3021\n",
              "2    1064\n",
              "0     240\n",
              "4       7\n",
              "3       5\n",
              "Name: Cluster, dtype: int64"
            ]
          },
          "metadata": {
            "tags": []
          },
          "execution_count": 71
        }
      ]
    },
    {
      "cell_type": "code",
      "metadata": {
        "colab": {
          "base_uri": "https://localhost:8080/",
          "height": 279
        },
        "id": "aSqH6PuCiQzB",
        "outputId": "b65b446c-9256-4113-d84b-c74040a3b5e2"
      },
      "source": [
        "sns.countplot(customer_char.Cluster)\r\n",
        "plt.ylabel('Frequency')\r\n",
        "plt.show()"
      ],
      "execution_count": null,
      "outputs": [
        {
          "output_type": "display_data",
          "data": {
            "image/png": "[encoded data removed]",
            "text/plain": [
              "<Figure size 432x288 with 1 Axes>"
            ]
          },
          "metadata": {
            "tags": [],
            "needs_background": "light"
          }
        }
      ]
    },
    {
      "cell_type": "code",
      "metadata": {
        "colab": {
          "base_uri": "https://localhost:8080/",
          "height": 206
        },
        "id": "xMkt6MC-kKOk",
        "outputId": "ea5b9aba-c8c3-419d-a952-3ff0a7f7a5e7"
      },
      "source": [
        "customer_char.sort_values(by='CustomerID').head()"
      ],
      "execution_count": null,
      "outputs": [
        {
          "output_type": "execute_result",
          "data": {
            "text/html": [
              "<div>\n",
              "<style scoped>\n",
              "    .dataframe tbody tr th:only-of-type {\n",
              "        vertical-align: middle;\n",
              "    }\n",
              "\n",
              "    .dataframe tbody tr th {\n",
              "        vertical-align: top;\n",
              "    }\n",
              "\n",
              "    .dataframe thead th {\n",
              "        text-align: right;\n",
              "    }\n",
              "</style>\n",
              "<table border=\"1\" class=\"dataframe\">\n",
              "  <thead>\n",
              "    <tr style=\"text-align: right;\">\n",
              "      <th></th>\n",
              "      <th>CustomerID</th>\n",
              "      <th>recency</th>\n",
              "      <th>frequency</th>\n",
              "      <th>monetary</th>\n",
              "      <th>Cluster</th>\n",
              "    </tr>\n",
              "  </thead>\n",
              "  <tbody>\n",
              "    <tr>\n",
              "      <th>0</th>\n",
              "      <td>12347.0</td>\n",
              "      <td>2</td>\n",
              "      <td>7</td>\n",
              "      <td>4310.00</td>\n",
              "      <td>1</td>\n",
              "    </tr>\n",
              "    <tr>\n",
              "      <th>1</th>\n",
              "      <td>12348.0</td>\n",
              "      <td>75</td>\n",
              "      <td>4</td>\n",
              "      <td>1797.24</td>\n",
              "      <td>1</td>\n",
              "    </tr>\n",
              "    <tr>\n",
              "      <th>2</th>\n",
              "      <td>12349.0</td>\n",
              "      <td>19</td>\n",
              "      <td>1</td>\n",
              "      <td>1757.55</td>\n",
              "      <td>1</td>\n",
              "    </tr>\n",
              "    <tr>\n",
              "      <th>3</th>\n",
              "      <td>12350.0</td>\n",
              "      <td>310</td>\n",
              "      <td>1</td>\n",
              "      <td>334.40</td>\n",
              "      <td>2</td>\n",
              "    </tr>\n",
              "    <tr>\n",
              "      <th>4</th>\n",
              "      <td>12352.0</td>\n",
              "      <td>36</td>\n",
              "      <td>7</td>\n",
              "      <td>1545.41</td>\n",
              "      <td>1</td>\n",
              "    </tr>\n",
              "  </tbody>\n",
              "</table>\n",
              "</div>"
            ],
            "text/plain": [
              "   CustomerID  recency  frequency  monetary  Cluster\n",
              "0     12347.0        2          7   4310.00        1\n",
              "1     12348.0       75          4   1797.24        1\n",
              "2     12349.0       19          1   1757.55        1\n",
              "3     12350.0      310          1    334.40        2\n",
              "4     12352.0       36          7   1545.41        1"
            ]
          },
          "metadata": {
            "tags": []
          },
          "execution_count": 76
        }
      ]
    },
    {
      "cell_type": "markdown",
      "metadata": {
        "id": "U6H20PpTnPHO"
      },
      "source": [
        "#**Time Analysis**"
      ]
    },
    {
      "cell_type": "code",
      "metadata": {
        "colab": {
          "base_uri": "https://localhost:8080/",
          "height": 206
        },
        "id": "9a6NrpPunxwL",
        "outputId": "74daa395-e132-4603-9dac-35ff7f5aedde"
      },
      "source": [
        "#take only the date from the InvoiceDate\r\n",
        "df_time_data = customer_data.copy()\r\n",
        "df_time_data.InvoiceDate = pd.to_datetime(df_time_data['InvoiceDate'].dt.strftime('%Y-%m-%d'))\r\n",
        "df_time_data.head()"
      ],
      "execution_count": null,
      "outputs": [
        {
          "output_type": "execute_result",
          "data": {
            "text/html": [
              "<div>\n",
              "<style scoped>\n",
              "    .dataframe tbody tr th:only-of-type {\n",
              "        vertical-align: middle;\n",
              "    }\n",
              "\n",
              "    .dataframe tbody tr th {\n",
              "        vertical-align: top;\n",
              "    }\n",
              "\n",
              "    .dataframe thead th {\n",
              "        text-align: right;\n",
              "    }\n",
              "</style>\n",
              "<table border=\"1\" class=\"dataframe\">\n",
              "  <thead>\n",
              "    <tr style=\"text-align: right;\">\n",
              "      <th></th>\n",
              "      <th>Description</th>\n",
              "      <th>InvoiceDate</th>\n",
              "      <th>UnitPrice</th>\n",
              "      <th>CustomerID</th>\n",
              "      <th>Quantity</th>\n",
              "      <th>TotalPrice</th>\n",
              "      <th>BookID</th>\n",
              "    </tr>\n",
              "  </thead>\n",
              "  <tbody>\n",
              "    <tr>\n",
              "      <th>0</th>\n",
              "      <td>4 purple flock dinner candles</td>\n",
              "      <td>2020-02-05</td>\n",
              "      <td>2.55</td>\n",
              "      <td>15012.0</td>\n",
              "      <td>2</td>\n",
              "      <td>5.10</td>\n",
              "      <td>2020-02-05 12:00:00</td>\n",
              "    </tr>\n",
              "    <tr>\n",
              "      <th>1</th>\n",
              "      <td>4 purple flock dinner candles</td>\n",
              "      <td>2020-02-09</td>\n",
              "      <td>2.55</td>\n",
              "      <td>18055.0</td>\n",
              "      <td>12</td>\n",
              "      <td>30.60</td>\n",
              "      <td>2020-02-09 10:00:00</td>\n",
              "    </tr>\n",
              "    <tr>\n",
              "      <th>2</th>\n",
              "      <td>4 purple flock dinner candles</td>\n",
              "      <td>2020-03-11</td>\n",
              "      <td>2.55</td>\n",
              "      <td>15464.0</td>\n",
              "      <td>1</td>\n",
              "      <td>2.55</td>\n",
              "      <td>2020-03-11 15:00:00</td>\n",
              "    </tr>\n",
              "    <tr>\n",
              "      <th>3</th>\n",
              "      <td>4 purple flock dinner candles</td>\n",
              "      <td>2020-04-01</td>\n",
              "      <td>2.55</td>\n",
              "      <td>17075.0</td>\n",
              "      <td>1</td>\n",
              "      <td>2.55</td>\n",
              "      <td>2020-04-01 13:00:00</td>\n",
              "    </tr>\n",
              "    <tr>\n",
              "      <th>4</th>\n",
              "      <td>4 purple flock dinner candles</td>\n",
              "      <td>2020-05-04</td>\n",
              "      <td>2.55</td>\n",
              "      <td>17841.0</td>\n",
              "      <td>1</td>\n",
              "      <td>2.55</td>\n",
              "      <td>2020-05-04 15:00:00</td>\n",
              "    </tr>\n",
              "  </tbody>\n",
              "</table>\n",
              "</div>"
            ],
            "text/plain": [
              "                      Description InvoiceDate  ...  TotalPrice              BookID\n",
              "0   4 purple flock dinner candles  2020-02-05  ...        5.10 2020-02-05 12:00:00\n",
              "1   4 purple flock dinner candles  2020-02-09  ...       30.60 2020-02-09 10:00:00\n",
              "2   4 purple flock dinner candles  2020-03-11  ...        2.55 2020-03-11 15:00:00\n",
              "3   4 purple flock dinner candles  2020-04-01  ...        2.55 2020-04-01 13:00:00\n",
              "4   4 purple flock dinner candles  2020-05-04  ...        2.55 2020-05-04 15:00:00\n",
              "\n",
              "[5 rows x 7 columns]"
            ]
          },
          "metadata": {
            "tags": []
          },
          "execution_count": 79
        }
      ]
    },
    {
      "cell_type": "code",
      "metadata": {
        "colab": {
          "base_uri": "https://localhost:8080/",
          "height": 206
        },
        "id": "cw6JlVyupCJu",
        "outputId": "4e05c7df-204b-4700-9b6c-ef7f0bd11443"
      },
      "source": [
        "ts_data = df_time_data.groupby(['InvoiceDate']).agg({'BookID':lambda x : x.count()}).reset_index(level=['InvoiceDate'])\r\n",
        "ts_data.rename(columns={'BookID':'frequency'}, inplace=True)\r\n",
        "ts_data.sort_values(by='InvoiceDate').head()"
      ],
      "execution_count": null,
      "outputs": [
        {
          "output_type": "execute_result",
          "data": {
            "text/html": [
              "<div>\n",
              "<style scoped>\n",
              "    .dataframe tbody tr th:only-of-type {\n",
              "        vertical-align: middle;\n",
              "    }\n",
              "\n",
              "    .dataframe tbody tr th {\n",
              "        vertical-align: top;\n",
              "    }\n",
              "\n",
              "    .dataframe thead th {\n",
              "        text-align: right;\n",
              "    }\n",
              "</style>\n",
              "<table border=\"1\" class=\"dataframe\">\n",
              "  <thead>\n",
              "    <tr style=\"text-align: right;\">\n",
              "      <th></th>\n",
              "      <th>InvoiceDate</th>\n",
              "      <th>frequency</th>\n",
              "    </tr>\n",
              "  </thead>\n",
              "  <tbody>\n",
              "    <tr>\n",
              "      <th>0</th>\n",
              "      <td>2020-02-05</td>\n",
              "      <td>1821</td>\n",
              "    </tr>\n",
              "    <tr>\n",
              "      <th>1</th>\n",
              "      <td>2020-02-06</td>\n",
              "      <td>1814</td>\n",
              "    </tr>\n",
              "    <tr>\n",
              "      <th>2</th>\n",
              "      <td>2020-02-07</td>\n",
              "      <td>1071</td>\n",
              "    </tr>\n",
              "    <tr>\n",
              "      <th>3</th>\n",
              "      <td>2020-02-09</td>\n",
              "      <td>2510</td>\n",
              "    </tr>\n",
              "    <tr>\n",
              "      <th>4</th>\n",
              "      <td>2020-02-10</td>\n",
              "      <td>1848</td>\n",
              "    </tr>\n",
              "  </tbody>\n",
              "</table>\n",
              "</div>"
            ],
            "text/plain": [
              "  InvoiceDate  frequency\n",
              "0  2020-02-05       1821\n",
              "1  2020-02-06       1814\n",
              "2  2020-02-07       1071\n",
              "3  2020-02-09       2510\n",
              "4  2020-02-10       1848"
            ]
          },
          "metadata": {
            "tags": []
          },
          "execution_count": 86
        }
      ]
    },
    {
      "cell_type": "markdown",
      "metadata": {
        "id": "khZn47Y9ufHk"
      },
      "source": [
        "**plot for all the date**"
      ]
    },
    {
      "cell_type": "code",
      "metadata": {
        "colab": {
          "base_uri": "https://localhost:8080/",
          "height": 281
        },
        "id": "LnSPyi1vqc5z",
        "outputId": "5d2da18e-b208-44e6-c82f-f88486cafeb4"
      },
      "source": [
        "plt.figure(figsize=(20,5))\r\n",
        "plt.plot(ts_data['InvoiceDate'], ts_data['frequency'])\r\n",
        "plt.xticks(rotation='60')\r\n",
        "plt.ylabel('Frequency')\r\n",
        "plt.show()"
      ],
      "execution_count": null,
      "outputs": [
        {
          "output_type": "display_data",
          "data": {
            "image/png": "[encoded data removed]",
            "text/plain": [
              "<Figure size 1440x360 with 1 Axes>"
            ]
          },
          "metadata": {
            "tags": [],
            "needs_background": "light"
          }
        }
      ]
    },
    {
      "cell_type": "markdown",
      "metadata": {
        "id": "yFfCcFO7vIRb"
      },
      "source": [
        "**Plot the data in April**"
      ]
    },
    {
      "cell_type": "code",
      "metadata": {
        "colab": {
          "base_uri": "https://localhost:8080/",
          "height": 295
        },
        "id": "lXlCYqmNvH1-",
        "outputId": "44b0637d-cd90-473c-cd8d-c65f3fb93673"
      },
      "source": [
        "data_april = ts_data[(ts_data.InvoiceDate >= '2020-04-01')&(ts_data.InvoiceDate <='2020-04-15')]\r\n",
        "plt.figure(figsize=(20,5))\r\n",
        "plt.plot(data_april['InvoiceDate'], data_april['frequency'])\r\n",
        "plt.xticks(rotation='60')\r\n",
        "plt.ylabel('Frequency')\r\n",
        "plt.show()"
      ],
      "execution_count": null,
      "outputs": [
        {
          "output_type": "display_data",
          "data": {
            "image/png": "[encoded data removed]",
            "text/plain": [
              "<Figure size 1440x360 with 1 Axes>"
            ]
          },
          "metadata": {
            "tags": [],
            "needs_background": "light"
          }
        }
      ]
    },
    {
      "cell_type": "code",
      "metadata": {
        "colab": {
          "base_uri": "https://localhost:8080/",
          "height": 295
        },
        "id": "m4LjT0aIwQK6",
        "outputId": "e4854a51-05c7-4cdc-a017-662337a0fcb0"
      },
      "source": [
        "data_april = ts_data[(ts_data.InvoiceDate >= '2020-04-16')&(ts_data.InvoiceDate <='2020-04-30')]\r\n",
        "plt.figure(figsize=(20,5))\r\n",
        "plt.plot(data_april['InvoiceDate'], data_april['frequency'])\r\n",
        "plt.xticks(rotation='60')\r\n",
        "plt.ylabel('Frequency')\r\n",
        "plt.show()"
      ],
      "execution_count": null,
      "outputs": [
        {
          "output_type": "display_data",
          "data": {
            "image/png": "[encoded data removed]",
            "text/plain": [
              "<Figure size 1440x360 with 1 Axes>"
            ]
          },
          "metadata": {
            "tags": [],
            "needs_background": "light"
          }
        }
      ]
    },
    {
      "cell_type": "markdown",
      "metadata": {
        "id": "gfIH1F9rvO-t"
      },
      "source": [
        "**Plot the data in January 2021**"
      ]
    },
    {
      "cell_type": "code",
      "metadata": {
        "colab": {
          "base_uri": "https://localhost:8080/",
          "height": 295
        },
        "id": "R5fut5QrvTwg",
        "outputId": "4be4f49d-4824-4382-b383-b06b0f4dfbe9"
      },
      "source": [
        "data_januari = ts_data[(ts_data.InvoiceDate >= '2021-01-01')&(ts_data.InvoiceDate <='2021-01-15')]\r\n",
        "plt.figure(figsize=(20,5))\r\n",
        "plt.plot(data_januari['InvoiceDate'], data_januari['frequency'])\r\n",
        "plt.xticks(rotation='60')\r\n",
        "plt.ylabel('Frequency')\r\n",
        "plt.show()"
      ],
      "execution_count": null,
      "outputs": [
        {
          "output_type": "display_data",
          "data": {
            "image/png": "[encoded data removed]",
            "text/plain": [
              "<Figure size 1440x360 with 1 Axes>"
            ]
          },
          "metadata": {
            "tags": [],
            "needs_background": "light"
          }
        }
      ]
    },
    {
      "cell_type": "code",
      "metadata": {
        "colab": {
          "base_uri": "https://localhost:8080/",
          "height": 295
        },
        "id": "IALuvWG5yiet",
        "outputId": "6fbc36a7-795c-4904-b139-3a11271623c2"
      },
      "source": [
        "data_januari = ts_data[(ts_data.InvoiceDate >= '2021-01-16')&(ts_data.InvoiceDate <='2021-01-31')]\r\n",
        "plt.figure(figsize=(20,5))\r\n",
        "plt.plot(data_januari['InvoiceDate'], data_januari['frequency'])\r\n",
        "plt.xticks(rotation='60')\r\n",
        "plt.ylabel('Frequency')\r\n",
        "plt.show()"
      ],
      "execution_count": null,
      "outputs": [
        {
          "output_type": "display_data",
          "data": {
            "image/png": "[encoded data removed]",
            "text/plain": [
              "<Figure size 1440x360 with 1 Axes>"
            ]
          },
          "metadata": {
            "tags": [],
            "needs_background": "light"
          }
        }
      ]
    },
    {
      "cell_type": "markdown",
      "metadata": {
        "id": "fPOf5sD6ztze"
      },
      "source": [
        "#**Product Analysis**"
      ]
    },
    {
      "cell_type": "code",
      "metadata": {
        "id": "iAld2emINq1w"
      },
      "source": [
        "product = df3.copy()\r\n",
        "product = product.fillna(00000)"
      ],
      "execution_count": null,
      "outputs": []
    },
    {
      "cell_type": "code",
      "metadata": {
        "colab": {
          "base_uri": "https://localhost:8080/"
        },
        "id": "bp2JdLGWDOZA",
        "outputId": "64fbb200-faf0-4865-828f-fbe131a25f4f"
      },
      "source": [
        "# handling missng customer (because we just need the product number)\r\n",
        "product.isna().sum()"
      ],
      "execution_count": null,
      "outputs": [
        {
          "output_type": "execute_result",
          "data": {
            "text/plain": [
              "InvoiceNo      0\n",
              "StockCode      0\n",
              "Description    0\n",
              "Quantity       0\n",
              "InvoiceDate    0\n",
              "UnitPrice      0\n",
              "CustomerID     0\n",
              "dtype: int64"
            ]
          },
          "metadata": {
            "tags": []
          },
          "execution_count": 110
        }
      ]
    },
    {
      "cell_type": "code",
      "metadata": {
        "colab": {
          "base_uri": "https://localhost:8080/",
          "height": 206
        },
        "id": "WeyqFgfWDhor",
        "outputId": "3001bdb3-8bc1-40b5-cdf2-70e925592140"
      },
      "source": [
        "product.head()"
      ],
      "execution_count": null,
      "outputs": [
        {
          "output_type": "execute_result",
          "data": {
            "text/html": [
              "<div>\n",
              "<style scoped>\n",
              "    .dataframe tbody tr th:only-of-type {\n",
              "        vertical-align: middle;\n",
              "    }\n",
              "\n",
              "    .dataframe tbody tr th {\n",
              "        vertical-align: top;\n",
              "    }\n",
              "\n",
              "    .dataframe thead th {\n",
              "        text-align: right;\n",
              "    }\n",
              "</style>\n",
              "<table border=\"1\" class=\"dataframe\">\n",
              "  <thead>\n",
              "    <tr style=\"text-align: right;\">\n",
              "      <th></th>\n",
              "      <th>InvoiceNo</th>\n",
              "      <th>StockCode</th>\n",
              "      <th>Description</th>\n",
              "      <th>Quantity</th>\n",
              "      <th>InvoiceDate</th>\n",
              "      <th>UnitPrice</th>\n",
              "      <th>CustomerID</th>\n",
              "    </tr>\n",
              "  </thead>\n",
              "  <tbody>\n",
              "    <tr>\n",
              "      <th>0</th>\n",
              "      <td>536365</td>\n",
              "      <td>85123A</td>\n",
              "      <td>white hanging heart t-light holder</td>\n",
              "      <td>6</td>\n",
              "      <td>2020-02-05 08:26:00</td>\n",
              "      <td>2.55</td>\n",
              "      <td>17850.0</td>\n",
              "    </tr>\n",
              "    <tr>\n",
              "      <th>1</th>\n",
              "      <td>536365</td>\n",
              "      <td>71053</td>\n",
              "      <td>white metal lantern</td>\n",
              "      <td>6</td>\n",
              "      <td>2020-02-05 08:26:00</td>\n",
              "      <td>3.39</td>\n",
              "      <td>17850.0</td>\n",
              "    </tr>\n",
              "    <tr>\n",
              "      <th>2</th>\n",
              "      <td>536365</td>\n",
              "      <td>84406B</td>\n",
              "      <td>cream cupid hearts coat hanger</td>\n",
              "      <td>8</td>\n",
              "      <td>2020-02-05 08:26:00</td>\n",
              "      <td>2.75</td>\n",
              "      <td>17850.0</td>\n",
              "    </tr>\n",
              "    <tr>\n",
              "      <th>3</th>\n",
              "      <td>536365</td>\n",
              "      <td>84029G</td>\n",
              "      <td>knitted union flag hot water bottle</td>\n",
              "      <td>6</td>\n",
              "      <td>2020-02-05 08:26:00</td>\n",
              "      <td>3.39</td>\n",
              "      <td>17850.0</td>\n",
              "    </tr>\n",
              "    <tr>\n",
              "      <th>4</th>\n",
              "      <td>536365</td>\n",
              "      <td>84029E</td>\n",
              "      <td>red woolly hottie white heart.</td>\n",
              "      <td>6</td>\n",
              "      <td>2020-02-05 08:26:00</td>\n",
              "      <td>3.39</td>\n",
              "      <td>17850.0</td>\n",
              "    </tr>\n",
              "  </tbody>\n",
              "</table>\n",
              "</div>"
            ],
            "text/plain": [
              "  InvoiceNo StockCode  ... UnitPrice  CustomerID\n",
              "0    536365    85123A  ...      2.55     17850.0\n",
              "1    536365     71053  ...      3.39     17850.0\n",
              "2    536365    84406B  ...      2.75     17850.0\n",
              "3    536365    84029G  ...      3.39     17850.0\n",
              "4    536365    84029E  ...      3.39     17850.0\n",
              "\n",
              "[5 rows x 7 columns]"
            ]
          },
          "metadata": {
            "tags": []
          },
          "execution_count": 111
        }
      ]
    },
    {
      "cell_type": "code",
      "metadata": {
        "colab": {
          "base_uri": "https://localhost:8080/",
          "height": 206
        },
        "id": "Ovc7eLbKD3M5",
        "outputId": "429c0025-f007-4f2f-d34f-f8d3bae80a1b"
      },
      "source": [
        "#handling cancel ordering\r\n",
        "product_group = product.groupby(['Description','UnitPrice','CustomerID']).agg({'Quantity':'sum'})\r\n",
        "product_group = product_group.reset_index(level=['Description','UnitPrice','CustomerID'])\r\n",
        "product_group.head()"
      ],
      "execution_count": null,
      "outputs": [
        {
          "output_type": "execute_result",
          "data": {
            "text/html": [
              "<div>\n",
              "<style scoped>\n",
              "    .dataframe tbody tr th:only-of-type {\n",
              "        vertical-align: middle;\n",
              "    }\n",
              "\n",
              "    .dataframe tbody tr th {\n",
              "        vertical-align: top;\n",
              "    }\n",
              "\n",
              "    .dataframe thead th {\n",
              "        text-align: right;\n",
              "    }\n",
              "</style>\n",
              "<table border=\"1\" class=\"dataframe\">\n",
              "  <thead>\n",
              "    <tr style=\"text-align: right;\">\n",
              "      <th></th>\n",
              "      <th>Description</th>\n",
              "      <th>UnitPrice</th>\n",
              "      <th>CustomerID</th>\n",
              "      <th>Quantity</th>\n",
              "    </tr>\n",
              "  </thead>\n",
              "  <tbody>\n",
              "    <tr>\n",
              "      <th>0</th>\n",
              "      <td>4 purple flock dinner candles</td>\n",
              "      <td>0.79</td>\n",
              "      <td>13949.0</td>\n",
              "      <td>12</td>\n",
              "    </tr>\n",
              "    <tr>\n",
              "      <th>1</th>\n",
              "      <td>4 purple flock dinner candles</td>\n",
              "      <td>0.79</td>\n",
              "      <td>14071.0</td>\n",
              "      <td>1</td>\n",
              "    </tr>\n",
              "    <tr>\n",
              "      <th>2</th>\n",
              "      <td>4 purple flock dinner candles</td>\n",
              "      <td>0.79</td>\n",
              "      <td>15621.0</td>\n",
              "      <td>12</td>\n",
              "    </tr>\n",
              "    <tr>\n",
              "      <th>3</th>\n",
              "      <td>4 purple flock dinner candles</td>\n",
              "      <td>0.79</td>\n",
              "      <td>16779.0</td>\n",
              "      <td>12</td>\n",
              "    </tr>\n",
              "    <tr>\n",
              "      <th>4</th>\n",
              "      <td>4 purple flock dinner candles</td>\n",
              "      <td>0.79</td>\n",
              "      <td>17315.0</td>\n",
              "      <td>12</td>\n",
              "    </tr>\n",
              "  </tbody>\n",
              "</table>\n",
              "</div>"
            ],
            "text/plain": [
              "                      Description  UnitPrice  CustomerID  Quantity\n",
              "0   4 purple flock dinner candles       0.79     13949.0        12\n",
              "1   4 purple flock dinner candles       0.79     14071.0         1\n",
              "2   4 purple flock dinner candles       0.79     15621.0        12\n",
              "3   4 purple flock dinner candles       0.79     16779.0        12\n",
              "4   4 purple flock dinner candles       0.79     17315.0        12"
            ]
          },
          "metadata": {
            "tags": []
          },
          "execution_count": 112
        }
      ]
    },
    {
      "cell_type": "code",
      "metadata": {
        "colab": {
          "base_uri": "https://localhost:8080/",
          "height": 300
        },
        "id": "V02a_CJbEaaQ",
        "outputId": "9d9b1ea7-efff-4068-d602-04b2029fd6a7"
      },
      "source": [
        "#take only the product transaction\r\n",
        "product_group = product_group[(product_group.Quantity>0)]\r\n",
        "product_group.describe()"
      ],
      "execution_count": null,
      "outputs": [
        {
          "output_type": "execute_result",
          "data": {
            "text/html": [
              "<div>\n",
              "<style scoped>\n",
              "    .dataframe tbody tr th:only-of-type {\n",
              "        vertical-align: middle;\n",
              "    }\n",
              "\n",
              "    .dataframe tbody tr th {\n",
              "        vertical-align: top;\n",
              "    }\n",
              "\n",
              "    .dataframe thead th {\n",
              "        text-align: right;\n",
              "    }\n",
              "</style>\n",
              "<table border=\"1\" class=\"dataframe\">\n",
              "  <thead>\n",
              "    <tr style=\"text-align: right;\">\n",
              "      <th></th>\n",
              "      <th>UnitPrice</th>\n",
              "      <th>CustomerID</th>\n",
              "      <th>Quantity</th>\n",
              "    </tr>\n",
              "  </thead>\n",
              "  <tbody>\n",
              "    <tr>\n",
              "      <th>count</th>\n",
              "      <td>284513.000000</td>\n",
              "      <td>284513.000000</td>\n",
              "      <td>284513.000000</td>\n",
              "    </tr>\n",
              "    <tr>\n",
              "      <th>mean</th>\n",
              "      <td>3.785237</td>\n",
              "      <td>14735.325676</td>\n",
              "      <td>18.867872</td>\n",
              "    </tr>\n",
              "    <tr>\n",
              "      <th>std</th>\n",
              "      <td>26.372114</td>\n",
              "      <td>3291.815787</td>\n",
              "      <td>89.702828</td>\n",
              "    </tr>\n",
              "    <tr>\n",
              "      <th>min</th>\n",
              "      <td>0.000000</td>\n",
              "      <td>0.000000</td>\n",
              "      <td>1.000000</td>\n",
              "    </tr>\n",
              "    <tr>\n",
              "      <th>25%</th>\n",
              "      <td>1.250000</td>\n",
              "      <td>13668.000000</td>\n",
              "      <td>2.000000</td>\n",
              "    </tr>\n",
              "    <tr>\n",
              "      <th>50%</th>\n",
              "      <td>1.950000</td>\n",
              "      <td>15088.000000</td>\n",
              "      <td>6.000000</td>\n",
              "    </tr>\n",
              "    <tr>\n",
              "      <th>75%</th>\n",
              "      <td>3.750000</td>\n",
              "      <td>16729.000000</td>\n",
              "      <td>12.000000</td>\n",
              "    </tr>\n",
              "    <tr>\n",
              "      <th>max</th>\n",
              "      <td>4505.170000</td>\n",
              "      <td>18287.000000</td>\n",
              "      <td>12540.000000</td>\n",
              "    </tr>\n",
              "  </tbody>\n",
              "</table>\n",
              "</div>"
            ],
            "text/plain": [
              "           UnitPrice     CustomerID       Quantity\n",
              "count  284513.000000  284513.000000  284513.000000\n",
              "mean        3.785237   14735.325676      18.867872\n",
              "std        26.372114    3291.815787      89.702828\n",
              "min         0.000000       0.000000       1.000000\n",
              "25%         1.250000   13668.000000       2.000000\n",
              "50%         1.950000   15088.000000       6.000000\n",
              "75%         3.750000   16729.000000      12.000000\n",
              "max      4505.170000   18287.000000   12540.000000"
            ]
          },
          "metadata": {
            "tags": []
          },
          "execution_count": 113
        }
      ]
    },
    {
      "cell_type": "code",
      "metadata": {
        "colab": {
          "base_uri": "https://localhost:8080/",
          "height": 206
        },
        "id": "6V96ClJtE4_w",
        "outputId": "2621d9f3-90c6-41f5-b406-94ff7bdd9d55"
      },
      "source": [
        "product_group.head()"
      ],
      "execution_count": null,
      "outputs": [
        {
          "output_type": "execute_result",
          "data": {
            "text/html": [
              "<div>\n",
              "<style scoped>\n",
              "    .dataframe tbody tr th:only-of-type {\n",
              "        vertical-align: middle;\n",
              "    }\n",
              "\n",
              "    .dataframe tbody tr th {\n",
              "        vertical-align: top;\n",
              "    }\n",
              "\n",
              "    .dataframe thead th {\n",
              "        text-align: right;\n",
              "    }\n",
              "</style>\n",
              "<table border=\"1\" class=\"dataframe\">\n",
              "  <thead>\n",
              "    <tr style=\"text-align: right;\">\n",
              "      <th></th>\n",
              "      <th>Description</th>\n",
              "      <th>UnitPrice</th>\n",
              "      <th>CustomerID</th>\n",
              "      <th>Quantity</th>\n",
              "    </tr>\n",
              "  </thead>\n",
              "  <tbody>\n",
              "    <tr>\n",
              "      <th>0</th>\n",
              "      <td>4 purple flock dinner candles</td>\n",
              "      <td>0.79</td>\n",
              "      <td>13949.0</td>\n",
              "      <td>12</td>\n",
              "    </tr>\n",
              "    <tr>\n",
              "      <th>1</th>\n",
              "      <td>4 purple flock dinner candles</td>\n",
              "      <td>0.79</td>\n",
              "      <td>14071.0</td>\n",
              "      <td>1</td>\n",
              "    </tr>\n",
              "    <tr>\n",
              "      <th>2</th>\n",
              "      <td>4 purple flock dinner candles</td>\n",
              "      <td>0.79</td>\n",
              "      <td>15621.0</td>\n",
              "      <td>12</td>\n",
              "    </tr>\n",
              "    <tr>\n",
              "      <th>3</th>\n",
              "      <td>4 purple flock dinner candles</td>\n",
              "      <td>0.79</td>\n",
              "      <td>16779.0</td>\n",
              "      <td>12</td>\n",
              "    </tr>\n",
              "    <tr>\n",
              "      <th>4</th>\n",
              "      <td>4 purple flock dinner candles</td>\n",
              "      <td>0.79</td>\n",
              "      <td>17315.0</td>\n",
              "      <td>12</td>\n",
              "    </tr>\n",
              "  </tbody>\n",
              "</table>\n",
              "</div>"
            ],
            "text/plain": [
              "                      Description  UnitPrice  CustomerID  Quantity\n",
              "0   4 purple flock dinner candles       0.79     13949.0        12\n",
              "1   4 purple flock dinner candles       0.79     14071.0         1\n",
              "2   4 purple flock dinner candles       0.79     15621.0        12\n",
              "3   4 purple flock dinner candles       0.79     16779.0        12\n",
              "4   4 purple flock dinner candles       0.79     17315.0        12"
            ]
          },
          "metadata": {
            "tags": []
          },
          "execution_count": 114
        }
      ]
    },
    {
      "cell_type": "code",
      "metadata": {
        "colab": {
          "base_uri": "https://localhost:8080/",
          "height": 363
        },
        "id": "k1ulzFEAE9QR",
        "outputId": "fd300950-0f3c-4131-ed73-012972374822"
      },
      "source": [
        "#best selling product\r\n",
        "product_final = product_group.groupby(['Description']).agg({'Quantity':'sum'})\r\n",
        "product_final = product_final.reset_index(level=['Description'])\r\n",
        "product_final = product_final.sort_values(by='Quantity', ascending=False)\r\n",
        "product_final.head(10)"
      ],
      "execution_count": null,
      "outputs": [
        {
          "output_type": "execute_result",
          "data": {
            "text/html": [
              "<div>\n",
              "<style scoped>\n",
              "    .dataframe tbody tr th:only-of-type {\n",
              "        vertical-align: middle;\n",
              "    }\n",
              "\n",
              "    .dataframe tbody tr th {\n",
              "        vertical-align: top;\n",
              "    }\n",
              "\n",
              "    .dataframe thead th {\n",
              "        text-align: right;\n",
              "    }\n",
              "</style>\n",
              "<table border=\"1\" class=\"dataframe\">\n",
              "  <thead>\n",
              "    <tr style=\"text-align: right;\">\n",
              "      <th></th>\n",
              "      <th>Description</th>\n",
              "      <th>Quantity</th>\n",
              "    </tr>\n",
              "  </thead>\n",
              "  <tbody>\n",
              "    <tr>\n",
              "      <th>3965</th>\n",
              "      <td>world war 2 gliders asstd designs</td>\n",
              "      <td>53943</td>\n",
              "    </tr>\n",
              "    <tr>\n",
              "      <th>1837</th>\n",
              "      <td>jumbo bag red retrospot</td>\n",
              "      <td>47475</td>\n",
              "    </tr>\n",
              "    <tr>\n",
              "      <th>2705</th>\n",
              "      <td>popcorn holder</td>\n",
              "      <td>36459</td>\n",
              "    </tr>\n",
              "    <tr>\n",
              "      <th>234</th>\n",
              "      <td>assorted colour bird ornament</td>\n",
              "      <td>36389</td>\n",
              "    </tr>\n",
              "    <tr>\n",
              "      <th>2364</th>\n",
              "      <td>pack of 72 retrospot cake cases</td>\n",
              "      <td>36132</td>\n",
              "    </tr>\n",
              "    <tr>\n",
              "      <th>3875</th>\n",
              "      <td>white hanging heart t-light holder</td>\n",
              "      <td>35320</td>\n",
              "    </tr>\n",
              "    <tr>\n",
              "      <th>2765</th>\n",
              "      <td>rabbit night light</td>\n",
              "      <td>30691</td>\n",
              "    </tr>\n",
              "    <tr>\n",
              "      <th>2134</th>\n",
              "      <td>mini paint set vintage</td>\n",
              "      <td>26437</td>\n",
              "    </tr>\n",
              "    <tr>\n",
              "      <th>2330</th>\n",
              "      <td>pack of 12 london tissues</td>\n",
              "      <td>26315</td>\n",
              "    </tr>\n",
              "    <tr>\n",
              "      <th>2362</th>\n",
              "      <td>pack of 60 pink paisley cake cases</td>\n",
              "      <td>24757</td>\n",
              "    </tr>\n",
              "  </tbody>\n",
              "</table>\n",
              "</div>"
            ],
            "text/plain": [
              "                             Description  Quantity\n",
              "3965   world war 2 gliders asstd designs     53943\n",
              "1837             jumbo bag red retrospot     47475\n",
              "2705                      popcorn holder     36459\n",
              "234        assorted colour bird ornament     36389\n",
              "2364     pack of 72 retrospot cake cases     36132\n",
              "3875  white hanging heart t-light holder     35320\n",
              "2765                  rabbit night light     30691\n",
              "2134             mini paint set vintage      26437\n",
              "2330          pack of 12 london tissues      26315\n",
              "2362  pack of 60 pink paisley cake cases     24757"
            ]
          },
          "metadata": {
            "tags": []
          },
          "execution_count": 118
        }
      ]
    },
    {
      "cell_type": "code",
      "metadata": {
        "colab": {
          "base_uri": "https://localhost:8080/",
          "height": 363
        },
        "id": "URMe8NR9FLSM",
        "outputId": "e0a3c2ef-e46d-4269-ed18-61060fe88482"
      },
      "source": [
        "#the product didn't sell very well\r\n",
        "product_final.sort_values(by='Quantity').head(10)"
      ],
      "execution_count": null,
      "outputs": [
        {
          "output_type": "execute_result",
          "data": {
            "text/html": [
              "<div>\n",
              "<style scoped>\n",
              "    .dataframe tbody tr th:only-of-type {\n",
              "        vertical-align: middle;\n",
              "    }\n",
              "\n",
              "    .dataframe tbody tr th {\n",
              "        vertical-align: top;\n",
              "    }\n",
              "\n",
              "    .dataframe thead th {\n",
              "        text-align: right;\n",
              "    }\n",
              "</style>\n",
              "<table border=\"1\" class=\"dataframe\">\n",
              "  <thead>\n",
              "    <tr style=\"text-align: right;\">\n",
              "      <th></th>\n",
              "      <th>Description</th>\n",
              "      <th>Quantity</th>\n",
              "    </tr>\n",
              "  </thead>\n",
              "  <tbody>\n",
              "    <tr>\n",
              "      <th>1209</th>\n",
              "      <td>etched glass star tree decoration</td>\n",
              "      <td>1</td>\n",
              "    </tr>\n",
              "    <tr>\n",
              "      <th>388</th>\n",
              "      <td>black glass/shell/pearl necklace</td>\n",
              "      <td>1</td>\n",
              "    </tr>\n",
              "    <tr>\n",
              "      <th>2069</th>\n",
              "      <td>marie antoienett trinket box gold</td>\n",
              "      <td>1</td>\n",
              "    </tr>\n",
              "    <tr>\n",
              "      <th>3109</th>\n",
              "      <td>set 36 colouring pencils doiley</td>\n",
              "      <td>1</td>\n",
              "    </tr>\n",
              "    <tr>\n",
              "      <th>3169</th>\n",
              "      <td>set of 3 pink flying ducks</td>\n",
              "      <td>1</td>\n",
              "    </tr>\n",
              "    <tr>\n",
              "      <th>479</th>\n",
              "      <td>blue new baroque flock candlestick</td>\n",
              "      <td>1</td>\n",
              "    </tr>\n",
              "    <tr>\n",
              "      <th>1350</th>\n",
              "      <td>for online retail orders</td>\n",
              "      <td>1</td>\n",
              "    </tr>\n",
              "    <tr>\n",
              "      <th>1109</th>\n",
              "      <td>dusty pink christmas tree 30cm</td>\n",
              "      <td>1</td>\n",
              "    </tr>\n",
              "    <tr>\n",
              "      <th>3306</th>\n",
              "      <td>set/6 ivory bird t-light candles</td>\n",
              "      <td>1</td>\n",
              "    </tr>\n",
              "    <tr>\n",
              "      <th>2543</th>\n",
              "      <td>pink crystal guitar phone charm</td>\n",
              "      <td>1</td>\n",
              "    </tr>\n",
              "  </tbody>\n",
              "</table>\n",
              "</div>"
            ],
            "text/plain": [
              "                             Description  Quantity\n",
              "1209   etched glass star tree decoration         1\n",
              "388     black glass/shell/pearl necklace         1\n",
              "2069   marie antoienett trinket box gold         1\n",
              "3109     set 36 colouring pencils doiley         1\n",
              "3169          set of 3 pink flying ducks         1\n",
              "479   blue new baroque flock candlestick         1\n",
              "1350            for online retail orders         1\n",
              "1109      dusty pink christmas tree 30cm         1\n",
              "3306    set/6 ivory bird t-light candles         1\n",
              "2543     pink crystal guitar phone charm         1"
            ]
          },
          "metadata": {
            "tags": []
          },
          "execution_count": 120
        }
      ]
    },
    {
      "cell_type": "code",
      "metadata": {
        "colab": {
          "base_uri": "https://localhost:8080/",
          "height": 462
        },
        "id": "waa7KL5sLDTN",
        "outputId": "1aad0bf1-7eb4-47e7-9896-04e787ff61ee"
      },
      "source": [
        "plt.figure(figsize=(15, 7))\r\n",
        "best_seller = product_final.sort_values(by='Quantity', ascending=False).head(15)\r\n",
        "sns.barplot(x=best_seller.Quantity, y=best_seller.Description)\r\n",
        "plt.xlabel('Product')\r\n",
        "plt.show()"
      ],
      "execution_count": null,
      "outputs": [
        {
          "output_type": "display_data",
          "data": {
            "image/png": "[encoded data removed]",
            "text/plain": [
              "<Figure size 1080x504 with 1 Axes>"
            ]
          },
          "metadata": {
            "tags": [],
            "needs_background": "light"
          }
        }
      ]
    },
    {
      "cell_type": "code",
      "metadata": {
        "id": "1rpt_fG2L9pi"
      },
      "source": [
        ""
      ],
      "execution_count": null,
      "outputs": []
    }
  ]
}