{
  "nbformat": 4,
  "nbformat_minor": 0,
  "metadata": {
    "colab": {
      "name": "DPhi Quis 3 - Loan Prediction.ipynb",
      "provenance": [],
      "collapsed_sections": [
        "Ug2P6Q9V3V-T",
        "650inaMb08rE",
        "wVfxAaW9ZcKZ",
        "jVMVZNz91UHF",
        "6GO4Q-9AskEs",
        "gdRO8_d262GI",
        "WfkCu4o0qip5",
        "GGdGvqsKhaRv"
      ],
      "toc_visible": true
    },
    "kernelspec": {
      "name": "python3",
      "display_name": "Python 3"
    }
  },
  "cells": [
    {
      "cell_type": "markdown",
      "metadata": {
        "id": "uQEYidpJytP5"
      },
      "source": [
        "#**Loan Application on Banking**\r\n",
        "The director of SZE bank identified that going through the loan applications to filter the people who can be granted loans or need to be rejected is a tedious and time-consuming process. He wants to automate it and increase his bank’s efficiency. So in this project, I want to make ML model to predict whether the application will accepted or rejected based on their data (history).\r\n",
        "\r\n",
        "Mohamad Irwan Afandi - Data Scientist Enthusiastic\r\n",
        "__________"
      ]
    },
    {
      "cell_type": "markdown",
      "metadata": {
        "id": "mhB97Rzr0CsS"
      },
      "source": [
        "The list of content on this notebook:\r\n",
        "\r\n",
        "**Import Library and Load Dataset**\r\n",
        "- Import library is needed\r\n",
        "- Load the dataset (train and test)\r\n",
        "\r\n",
        "**Data Preparation**\r\n",
        "- Brief information from dataset such as null values and data types\r\n",
        "- Take care the null values\r\n",
        "\r\n",
        "**Exploratory Data Analysis**\r\n",
        "- Perform descriptive statistic between categorical and numerical variable\r\n",
        "- Perform correlation\r\n",
        "\r\n",
        "**Data pre-processing**\r\n",
        "- Drop any duplicate values\r\n",
        "- Perform one-hot encoding\r\n",
        "\r\n",
        "**Modelling**\r\n",
        "- LogisticRegression\r\n",
        "- Random Forest\r\n",
        "- Decision Tree\r\n",
        "- Gradient Boosting\r\n",
        "- XGBoost\r\n"
      ]
    },
    {
      "cell_type": "markdown",
      "metadata": {
        "id": "Ug2P6Q9V3V-T"
      },
      "source": [
        "#**Import Library and Load Dataset**"
      ]
    },
    {
      "cell_type": "code",
      "metadata": {
        "id": "U87rYwhcL_06"
      },
      "source": [
        "#import common library\r\n",
        "import numpy as np\r\n",
        "import pandas as pd\r\n",
        "import matplotlib.pyplot as plt\r\n",
        "import seaborn as sns\r\n",
        "sns.set()\r\n",
        "import warnings\r\n",
        "warnings.filterwarnings('ignore')\r\n",
        "\r\n",
        "#import sklearn\r\n",
        "from sklearn.model_selection import train_test_split, GridSearchCV\r\n",
        "from sklearn.preprocessing import StandardScaler, PowerTransformer\r\n",
        "from imblearn.over_sampling import SMOTE\r\n",
        "from sklearn.linear_model import LogisticRegression\r\n",
        "from sklearn.tree import DecisionTreeClassifier\r\n",
        "from sklearn.ensemble import RandomForestClassifier, GradientBoostingClassifier\r\n",
        "from sklearn.neighbors import KNeighborsClassifier\r\n",
        "from sklearn.svm import SVC\r\n",
        "from xgboost import XGBClassifier\r\n",
        "from sklearn.metrics import f1_score, accuracy_score, make_scorer, classification_report\r\n",
        "\r\n",
        "#import for output library\r\n",
        "import pickle\r\n",
        "import json\r\n",
        "from google.colab import files"
      ],
      "execution_count": null,
      "outputs": []
    },
    {
      "cell_type": "code",
      "metadata": {
        "colab": {
          "base_uri": "https://localhost:8080/",
          "height": 278
        },
        "id": "6UwUNM60MGJa",
        "outputId": "e4fb607a-f2ee-4c33-f557-7ca5edac18cb"
      },
      "source": [
        "df = pd.read_csv(\"https://raw.githubusercontent.com/dphi-official/Datasets/master/Loan_Data/loan_train.csv\" )\r\n",
        "test_data = pd.read_csv('https://raw.githubusercontent.com/dphi-official/Datasets/master/Loan_Data/loan_test.csv')\r\n",
        "df.head()"
      ],
      "execution_count": null,
      "outputs": [
        {
          "output_type": "execute_result",
          "data": {
            "text/html": [
              "<div>\n",
              "<style scoped>\n",
              "    .dataframe tbody tr th:only-of-type {\n",
              "        vertical-align: middle;\n",
              "    }\n",
              "\n",
              "    .dataframe tbody tr th {\n",
              "        vertical-align: top;\n",
              "    }\n",
              "\n",
              "    .dataframe thead th {\n",
              "        text-align: right;\n",
              "    }\n",
              "</style>\n",
              "<table border=\"1\" class=\"dataframe\">\n",
              "  <thead>\n",
              "    <tr style=\"text-align: right;\">\n",
              "      <th></th>\n",
              "      <th>Unnamed: 0</th>\n",
              "      <th>Loan_ID</th>\n",
              "      <th>Gender</th>\n",
              "      <th>Married</th>\n",
              "      <th>Dependents</th>\n",
              "      <th>Education</th>\n",
              "      <th>Self_Employed</th>\n",
              "      <th>ApplicantIncome</th>\n",
              "      <th>CoapplicantIncome</th>\n",
              "      <th>LoanAmount</th>\n",
              "      <th>Loan_Amount_Term</th>\n",
              "      <th>Credit_History</th>\n",
              "      <th>Property_Area</th>\n",
              "      <th>Loan_Status</th>\n",
              "    </tr>\n",
              "  </thead>\n",
              "  <tbody>\n",
              "    <tr>\n",
              "      <th>0</th>\n",
              "      <td>0</td>\n",
              "      <td>LP002305</td>\n",
              "      <td>Female</td>\n",
              "      <td>No</td>\n",
              "      <td>0</td>\n",
              "      <td>Graduate</td>\n",
              "      <td>No</td>\n",
              "      <td>4547</td>\n",
              "      <td>0.0</td>\n",
              "      <td>115.0</td>\n",
              "      <td>360.0</td>\n",
              "      <td>1.0</td>\n",
              "      <td>Semiurban</td>\n",
              "      <td>1</td>\n",
              "    </tr>\n",
              "    <tr>\n",
              "      <th>1</th>\n",
              "      <td>1</td>\n",
              "      <td>LP001715</td>\n",
              "      <td>Male</td>\n",
              "      <td>Yes</td>\n",
              "      <td>3+</td>\n",
              "      <td>Not Graduate</td>\n",
              "      <td>Yes</td>\n",
              "      <td>5703</td>\n",
              "      <td>0.0</td>\n",
              "      <td>130.0</td>\n",
              "      <td>360.0</td>\n",
              "      <td>1.0</td>\n",
              "      <td>Rural</td>\n",
              "      <td>1</td>\n",
              "    </tr>\n",
              "    <tr>\n",
              "      <th>2</th>\n",
              "      <td>2</td>\n",
              "      <td>LP002086</td>\n",
              "      <td>Female</td>\n",
              "      <td>Yes</td>\n",
              "      <td>0</td>\n",
              "      <td>Graduate</td>\n",
              "      <td>No</td>\n",
              "      <td>4333</td>\n",
              "      <td>2451.0</td>\n",
              "      <td>110.0</td>\n",
              "      <td>360.0</td>\n",
              "      <td>1.0</td>\n",
              "      <td>Urban</td>\n",
              "      <td>0</td>\n",
              "    </tr>\n",
              "    <tr>\n",
              "      <th>3</th>\n",
              "      <td>3</td>\n",
              "      <td>LP001136</td>\n",
              "      <td>Male</td>\n",
              "      <td>Yes</td>\n",
              "      <td>0</td>\n",
              "      <td>Not Graduate</td>\n",
              "      <td>Yes</td>\n",
              "      <td>4695</td>\n",
              "      <td>0.0</td>\n",
              "      <td>96.0</td>\n",
              "      <td>NaN</td>\n",
              "      <td>1.0</td>\n",
              "      <td>Urban</td>\n",
              "      <td>1</td>\n",
              "    </tr>\n",
              "    <tr>\n",
              "      <th>4</th>\n",
              "      <td>4</td>\n",
              "      <td>LP002529</td>\n",
              "      <td>Male</td>\n",
              "      <td>Yes</td>\n",
              "      <td>2</td>\n",
              "      <td>Graduate</td>\n",
              "      <td>No</td>\n",
              "      <td>6700</td>\n",
              "      <td>1750.0</td>\n",
              "      <td>230.0</td>\n",
              "      <td>300.0</td>\n",
              "      <td>1.0</td>\n",
              "      <td>Semiurban</td>\n",
              "      <td>1</td>\n",
              "    </tr>\n",
              "  </tbody>\n",
              "</table>\n",
              "</div>"
            ],
            "text/plain": [
              "   Unnamed: 0   Loan_ID  Gender  ... Credit_History Property_Area Loan_Status\n",
              "0           0  LP002305  Female  ...            1.0     Semiurban           1\n",
              "1           1  LP001715    Male  ...            1.0         Rural           1\n",
              "2           2  LP002086  Female  ...            1.0         Urban           0\n",
              "3           3  LP001136    Male  ...            1.0         Urban           1\n",
              "4           4  LP002529    Male  ...            1.0     Semiurban           1\n",
              "\n",
              "[5 rows x 14 columns]"
            ]
          },
          "metadata": {
            "tags": []
          },
          "execution_count": 2
        }
      ]
    },
    {
      "cell_type": "markdown",
      "metadata": {
        "id": "650inaMb08rE"
      },
      "source": [
        "#**Data Preparation**"
      ]
    },
    {
      "cell_type": "markdown",
      "metadata": {
        "id": "kGHlUmUi51gi"
      },
      "source": [
        "##Explore the Data"
      ]
    },
    {
      "cell_type": "code",
      "metadata": {
        "colab": {
          "base_uri": "https://localhost:8080/"
        },
        "id": "MFqjYh3a6EdP",
        "outputId": "2f8016ba-6118-4011-b8e6-f1f6ec888bc0"
      },
      "source": [
        "df.info()"
      ],
      "execution_count": null,
      "outputs": [
        {
          "output_type": "stream",
          "text": [
            "<class 'pandas.core.frame.DataFrame'>\n",
            "RangeIndex: 491 entries, 0 to 490\n",
            "Data columns (total 14 columns):\n",
            " #   Column             Non-Null Count  Dtype  \n",
            "---  ------             --------------  -----  \n",
            " 0   Unnamed: 0         491 non-null    int64  \n",
            " 1   Loan_ID            491 non-null    object \n",
            " 2   Gender             481 non-null    object \n",
            " 3   Married            490 non-null    object \n",
            " 4   Dependents         482 non-null    object \n",
            " 5   Education          491 non-null    object \n",
            " 6   Self_Employed      462 non-null    object \n",
            " 7   ApplicantIncome    491 non-null    int64  \n",
            " 8   CoapplicantIncome  491 non-null    float64\n",
            " 9   LoanAmount         475 non-null    float64\n",
            " 10  Loan_Amount_Term   478 non-null    float64\n",
            " 11  Credit_History     448 non-null    float64\n",
            " 12  Property_Area      491 non-null    object \n",
            " 13  Loan_Status        491 non-null    int64  \n",
            "dtypes: float64(4), int64(3), object(7)\n",
            "memory usage: 53.8+ KB\n"
          ],
          "name": "stdout"
        }
      ]
    },
    {
      "cell_type": "markdown",
      "metadata": {
        "id": "KWRJXpBT8IXc"
      },
      "source": [
        "There are 14 columns with 1 unnamed variable, from that info we can also see some missing values in that data."
      ]
    },
    {
      "cell_type": "code",
      "metadata": {
        "colab": {
          "base_uri": "https://localhost:8080/"
        },
        "id": "rOvSHewk998l",
        "outputId": "8b74c29f-dbaa-4ed1-b231-fc37cd945b92"
      },
      "source": [
        "df.describe()"
      ],
      "execution_count": null,
      "outputs": [
        {
          "output_type": "execute_result",
          "data": {
            "text/html": [
              "<div>\n",
              "<style scoped>\n",
              "    .dataframe tbody tr th:only-of-type {\n",
              "        vertical-align: middle;\n",
              "    }\n",
              "\n",
              "    .dataframe tbody tr th {\n",
              "        vertical-align: top;\n",
              "    }\n",
              "\n",
              "    .dataframe thead th {\n",
              "        text-align: right;\n",
              "    }\n",
              "</style>\n",
              "<table border=\"1\" class=\"dataframe\">\n",
              "  <thead>\n",
              "    <tr style=\"text-align: right;\">\n",
              "      <th></th>\n",
              "      <th>Unnamed: 0</th>\n",
              "      <th>ApplicantIncome</th>\n",
              "      <th>CoapplicantIncome</th>\n",
              "      <th>LoanAmount</th>\n",
              "      <th>Loan_Amount_Term</th>\n",
              "      <th>Credit_History</th>\n",
              "      <th>Loan_Status</th>\n",
              "    </tr>\n",
              "  </thead>\n",
              "  <tbody>\n",
              "    <tr>\n",
              "      <th>count</th>\n",
              "      <td>491.000000</td>\n",
              "      <td>491.000000</td>\n",
              "      <td>491.000000</td>\n",
              "      <td>475.000000</td>\n",
              "      <td>478.000000</td>\n",
              "      <td>448.000000</td>\n",
              "      <td>491.000000</td>\n",
              "    </tr>\n",
              "    <tr>\n",
              "      <th>mean</th>\n",
              "      <td>245.000000</td>\n",
              "      <td>5401.189409</td>\n",
              "      <td>1589.730998</td>\n",
              "      <td>145.014737</td>\n",
              "      <td>341.297071</td>\n",
              "      <td>0.848214</td>\n",
              "      <td>0.698574</td>\n",
              "    </tr>\n",
              "    <tr>\n",
              "      <th>std</th>\n",
              "      <td>141.883755</td>\n",
              "      <td>6419.427177</td>\n",
              "      <td>2919.320624</td>\n",
              "      <td>86.310534</td>\n",
              "      <td>66.964051</td>\n",
              "      <td>0.359214</td>\n",
              "      <td>0.459345</td>\n",
              "    </tr>\n",
              "    <tr>\n",
              "      <th>min</th>\n",
              "      <td>0.000000</td>\n",
              "      <td>150.000000</td>\n",
              "      <td>0.000000</td>\n",
              "      <td>17.000000</td>\n",
              "      <td>12.000000</td>\n",
              "      <td>0.000000</td>\n",
              "      <td>0.000000</td>\n",
              "    </tr>\n",
              "    <tr>\n",
              "      <th>25%</th>\n",
              "      <td>122.500000</td>\n",
              "      <td>2923.500000</td>\n",
              "      <td>0.000000</td>\n",
              "      <td>100.000000</td>\n",
              "      <td>360.000000</td>\n",
              "      <td>1.000000</td>\n",
              "      <td>0.000000</td>\n",
              "    </tr>\n",
              "    <tr>\n",
              "      <th>50%</th>\n",
              "      <td>245.000000</td>\n",
              "      <td>3865.000000</td>\n",
              "      <td>1229.000000</td>\n",
              "      <td>126.000000</td>\n",
              "      <td>360.000000</td>\n",
              "      <td>1.000000</td>\n",
              "      <td>1.000000</td>\n",
              "    </tr>\n",
              "    <tr>\n",
              "      <th>75%</th>\n",
              "      <td>367.500000</td>\n",
              "      <td>5705.500000</td>\n",
              "      <td>2251.500000</td>\n",
              "      <td>162.000000</td>\n",
              "      <td>360.000000</td>\n",
              "      <td>1.000000</td>\n",
              "      <td>1.000000</td>\n",
              "    </tr>\n",
              "    <tr>\n",
              "      <th>max</th>\n",
              "      <td>490.000000</td>\n",
              "      <td>81000.000000</td>\n",
              "      <td>41667.000000</td>\n",
              "      <td>700.000000</td>\n",
              "      <td>480.000000</td>\n",
              "      <td>1.000000</td>\n",
              "      <td>1.000000</td>\n",
              "    </tr>\n",
              "  </tbody>\n",
              "</table>\n",
              "</div>"
            ],
            "text/plain": [
              "       Unnamed: 0  ApplicantIncome  ...  Credit_History  Loan_Status\n",
              "count  491.000000       491.000000  ...      448.000000   491.000000\n",
              "mean   245.000000      5401.189409  ...        0.848214     0.698574\n",
              "std    141.883755      6419.427177  ...        0.359214     0.459345\n",
              "min      0.000000       150.000000  ...        0.000000     0.000000\n",
              "25%    122.500000      2923.500000  ...        1.000000     0.000000\n",
              "50%    245.000000      3865.000000  ...        1.000000     1.000000\n",
              "75%    367.500000      5705.500000  ...        1.000000     1.000000\n",
              "max    490.000000     81000.000000  ...        1.000000     1.000000\n",
              "\n",
              "[8 rows x 7 columns]"
            ]
          },
          "metadata": {
            "tags": []
          },
          "execution_count": 4
        }
      ]
    },
    {
      "cell_type": "markdown",
      "metadata": {
        "id": "nTtAYVWl-5IA"
      },
      "source": [
        "There are some missing value in this data like : CoapplicantIncome, LoanAmount, and ApplicantIncome. We can see the different between mean and max value"
      ]
    },
    {
      "cell_type": "code",
      "metadata": {
        "colab": {
          "base_uri": "https://localhost:8080/"
        },
        "id": "0g9omegY_Ub_",
        "outputId": "8ee0a47c-a365-447e-b61a-2fc770fd7be5"
      },
      "source": [
        "df.select_dtypes(include='object').columns"
      ],
      "execution_count": null,
      "outputs": [
        {
          "output_type": "execute_result",
          "data": {
            "text/plain": [
              "Index(['Loan_ID', 'Gender', 'Married', 'Dependents', 'Education',\n",
              "       'Self_Employed', 'Property_Area'],\n",
              "      dtype='object')"
            ]
          },
          "metadata": {
            "tags": []
          },
          "execution_count": 5
        }
      ]
    },
    {
      "cell_type": "code",
      "metadata": {
        "colab": {
          "base_uri": "https://localhost:8080/"
        },
        "id": "6NghOV6S_t0M",
        "outputId": "73a20a6d-35f9-4044-881b-a34ec92ed558"
      },
      "source": [
        "df.select_dtypes(include='number').columns"
      ],
      "execution_count": null,
      "outputs": [
        {
          "output_type": "execute_result",
          "data": {
            "text/plain": [
              "Index(['Unnamed: 0', 'ApplicantIncome', 'CoapplicantIncome', 'LoanAmount',\n",
              "       'Loan_Amount_Term', 'Credit_History', 'Loan_Status'],\n",
              "      dtype='object')"
            ]
          },
          "metadata": {
            "tags": []
          },
          "execution_count": 6
        }
      ]
    },
    {
      "cell_type": "markdown",
      "metadata": {
        "id": "1lVsD89BACI3"
      },
      "source": [
        "From this data I think we can drop Unnamed: 0, and Loan ID becase it isn't important"
      ]
    },
    {
      "cell_type": "code",
      "metadata": {
        "id": "pslP5zNrMi4M",
        "colab": {
          "base_uri": "https://localhost:8080/"
        },
        "outputId": "8ba4644a-e67b-4017-e553-f25c8c0272fe"
      },
      "source": [
        "df = df.drop(['Unnamed: 0', 'Loan_ID'], axis=1)\r\n",
        "df.head()"
      ],
      "execution_count": null,
      "outputs": [
        {
          "output_type": "execute_result",
          "data": {
            "text/html": [
              "<div>\n",
              "<style scoped>\n",
              "    .dataframe tbody tr th:only-of-type {\n",
              "        vertical-align: middle;\n",
              "    }\n",
              "\n",
              "    .dataframe tbody tr th {\n",
              "        vertical-align: top;\n",
              "    }\n",
              "\n",
              "    .dataframe thead th {\n",
              "        text-align: right;\n",
              "    }\n",
              "</style>\n",
              "<table border=\"1\" class=\"dataframe\">\n",
              "  <thead>\n",
              "    <tr style=\"text-align: right;\">\n",
              "      <th></th>\n",
              "      <th>Gender</th>\n",
              "      <th>Married</th>\n",
              "      <th>Dependents</th>\n",
              "      <th>Education</th>\n",
              "      <th>Self_Employed</th>\n",
              "      <th>ApplicantIncome</th>\n",
              "      <th>CoapplicantIncome</th>\n",
              "      <th>LoanAmount</th>\n",
              "      <th>Loan_Amount_Term</th>\n",
              "      <th>Credit_History</th>\n",
              "      <th>Property_Area</th>\n",
              "      <th>Loan_Status</th>\n",
              "    </tr>\n",
              "  </thead>\n",
              "  <tbody>\n",
              "    <tr>\n",
              "      <th>0</th>\n",
              "      <td>Female</td>\n",
              "      <td>No</td>\n",
              "      <td>0</td>\n",
              "      <td>Graduate</td>\n",
              "      <td>No</td>\n",
              "      <td>4547</td>\n",
              "      <td>0.0</td>\n",
              "      <td>115.0</td>\n",
              "      <td>360.0</td>\n",
              "      <td>1.0</td>\n",
              "      <td>Semiurban</td>\n",
              "      <td>1</td>\n",
              "    </tr>\n",
              "    <tr>\n",
              "      <th>1</th>\n",
              "      <td>Male</td>\n",
              "      <td>Yes</td>\n",
              "      <td>3+</td>\n",
              "      <td>Not Graduate</td>\n",
              "      <td>Yes</td>\n",
              "      <td>5703</td>\n",
              "      <td>0.0</td>\n",
              "      <td>130.0</td>\n",
              "      <td>360.0</td>\n",
              "      <td>1.0</td>\n",
              "      <td>Rural</td>\n",
              "      <td>1</td>\n",
              "    </tr>\n",
              "    <tr>\n",
              "      <th>2</th>\n",
              "      <td>Female</td>\n",
              "      <td>Yes</td>\n",
              "      <td>0</td>\n",
              "      <td>Graduate</td>\n",
              "      <td>No</td>\n",
              "      <td>4333</td>\n",
              "      <td>2451.0</td>\n",
              "      <td>110.0</td>\n",
              "      <td>360.0</td>\n",
              "      <td>1.0</td>\n",
              "      <td>Urban</td>\n",
              "      <td>0</td>\n",
              "    </tr>\n",
              "    <tr>\n",
              "      <th>3</th>\n",
              "      <td>Male</td>\n",
              "      <td>Yes</td>\n",
              "      <td>0</td>\n",
              "      <td>Not Graduate</td>\n",
              "      <td>Yes</td>\n",
              "      <td>4695</td>\n",
              "      <td>0.0</td>\n",
              "      <td>96.0</td>\n",
              "      <td>NaN</td>\n",
              "      <td>1.0</td>\n",
              "      <td>Urban</td>\n",
              "      <td>1</td>\n",
              "    </tr>\n",
              "    <tr>\n",
              "      <th>4</th>\n",
              "      <td>Male</td>\n",
              "      <td>Yes</td>\n",
              "      <td>2</td>\n",
              "      <td>Graduate</td>\n",
              "      <td>No</td>\n",
              "      <td>6700</td>\n",
              "      <td>1750.0</td>\n",
              "      <td>230.0</td>\n",
              "      <td>300.0</td>\n",
              "      <td>1.0</td>\n",
              "      <td>Semiurban</td>\n",
              "      <td>1</td>\n",
              "    </tr>\n",
              "  </tbody>\n",
              "</table>\n",
              "</div>"
            ],
            "text/plain": [
              "   Gender Married Dependents  ... Credit_History Property_Area  Loan_Status\n",
              "0  Female      No          0  ...            1.0     Semiurban            1\n",
              "1    Male     Yes         3+  ...            1.0         Rural            1\n",
              "2  Female     Yes          0  ...            1.0         Urban            0\n",
              "3    Male     Yes          0  ...            1.0         Urban            1\n",
              "4    Male     Yes          2  ...            1.0     Semiurban            1\n",
              "\n",
              "[5 rows x 12 columns]"
            ]
          },
          "metadata": {
            "tags": []
          },
          "execution_count": 7
        }
      ]
    },
    {
      "cell_type": "code",
      "metadata": {
        "colab": {
          "base_uri": "https://localhost:8080/"
        },
        "id": "gbC-_IyNM3-B",
        "outputId": "f29c606b-1d3b-4c5b-9276-a800ce6c03fe"
      },
      "source": [
        "def get_null_value_report(df):\r\n",
        "  null_val = pd.DataFrame(df.dtypes).T.rename(index = {0:'Columns Type'})\r\n",
        "  null_val = null_val.append(pd.DataFrame(df.isnull().sum()).T.rename(index = {0:'Null Value'}))\r\n",
        "  null_val = null_val.append(pd.DataFrame(round(df.isnull().sum()/df.shape[0]*100,2)).T.rename(index = {0:'Percentage'}))\r\n",
        "  return null_val\r\n",
        "  \r\n",
        "get_null_value_report(df).head()"
      ],
      "execution_count": null,
      "outputs": [
        {
          "output_type": "execute_result",
          "data": {
            "text/html": [
              "<div>\n",
              "<style scoped>\n",
              "    .dataframe tbody tr th:only-of-type {\n",
              "        vertical-align: middle;\n",
              "    }\n",
              "\n",
              "    .dataframe tbody tr th {\n",
              "        vertical-align: top;\n",
              "    }\n",
              "\n",
              "    .dataframe thead th {\n",
              "        text-align: right;\n",
              "    }\n",
              "</style>\n",
              "<table border=\"1\" class=\"dataframe\">\n",
              "  <thead>\n",
              "    <tr style=\"text-align: right;\">\n",
              "      <th></th>\n",
              "      <th>Gender</th>\n",
              "      <th>Married</th>\n",
              "      <th>Dependents</th>\n",
              "      <th>Education</th>\n",
              "      <th>Self_Employed</th>\n",
              "      <th>ApplicantIncome</th>\n",
              "      <th>CoapplicantIncome</th>\n",
              "      <th>LoanAmount</th>\n",
              "      <th>Loan_Amount_Term</th>\n",
              "      <th>Credit_History</th>\n",
              "      <th>Property_Area</th>\n",
              "      <th>Loan_Status</th>\n",
              "    </tr>\n",
              "  </thead>\n",
              "  <tbody>\n",
              "    <tr>\n",
              "      <th>Columns Type</th>\n",
              "      <td>object</td>\n",
              "      <td>object</td>\n",
              "      <td>object</td>\n",
              "      <td>object</td>\n",
              "      <td>object</td>\n",
              "      <td>int64</td>\n",
              "      <td>float64</td>\n",
              "      <td>float64</td>\n",
              "      <td>float64</td>\n",
              "      <td>float64</td>\n",
              "      <td>object</td>\n",
              "      <td>int64</td>\n",
              "    </tr>\n",
              "    <tr>\n",
              "      <th>Null Value</th>\n",
              "      <td>10</td>\n",
              "      <td>1</td>\n",
              "      <td>9</td>\n",
              "      <td>0</td>\n",
              "      <td>29</td>\n",
              "      <td>0</td>\n",
              "      <td>0</td>\n",
              "      <td>16</td>\n",
              "      <td>13</td>\n",
              "      <td>43</td>\n",
              "      <td>0</td>\n",
              "      <td>0</td>\n",
              "    </tr>\n",
              "    <tr>\n",
              "      <th>Percentage</th>\n",
              "      <td>2.04</td>\n",
              "      <td>0.2</td>\n",
              "      <td>1.83</td>\n",
              "      <td>0</td>\n",
              "      <td>5.91</td>\n",
              "      <td>0</td>\n",
              "      <td>0</td>\n",
              "      <td>3.26</td>\n",
              "      <td>2.65</td>\n",
              "      <td>8.76</td>\n",
              "      <td>0</td>\n",
              "      <td>0</td>\n",
              "    </tr>\n",
              "  </tbody>\n",
              "</table>\n",
              "</div>"
            ],
            "text/plain": [
              "              Gender Married  ... Property_Area Loan_Status\n",
              "Columns Type  object  object  ...        object       int64\n",
              "Null Value        10       1  ...             0           0\n",
              "Percentage      2.04     0.2  ...             0           0\n",
              "\n",
              "[3 rows x 12 columns]"
            ]
          },
          "metadata": {
            "tags": []
          },
          "execution_count": 8
        }
      ]
    },
    {
      "cell_type": "markdown",
      "metadata": {
        "id": "LyFHgGDAVOoH"
      },
      "source": [
        "Baseds on the result obove, there are 7 columns with missing value but the missing value percentage not more than 10% (minor missing value). We can fill missing value with median(numerical), mode(categorical), or analysis aproach from the data."
      ]
    },
    {
      "cell_type": "markdown",
      "metadata": {
        "id": "rQS0tcBWXJlL"
      },
      "source": [
        "## Missing Value Handling"
      ]
    },
    {
      "cell_type": "code",
      "metadata": {
        "colab": {
          "base_uri": "https://localhost:8080/"
        },
        "id": "7Z1XBpheNjBg",
        "outputId": "fdbb0231-3331-4a24-d4e3-7621b4082052"
      },
      "source": [
        "#inputation in categorical data\r\n",
        "for col in df.select_dtypes(include='object').columns:\r\n",
        "  df[col] = df[col].fillna(df[col].mode()[0])\r\n",
        "\r\n",
        "#inputation in numerical data\r\n",
        "for col in df.select_dtypes(include='number').columns:\r\n",
        "  df[col] = df[col].fillna(df[col].median())\r\n",
        "\r\n",
        "get_null_value_report(df).head()"
      ],
      "execution_count": null,
      "outputs": [
        {
          "output_type": "execute_result",
          "data": {
            "text/html": [
              "<div>\n",
              "<style scoped>\n",
              "    .dataframe tbody tr th:only-of-type {\n",
              "        vertical-align: middle;\n",
              "    }\n",
              "\n",
              "    .dataframe tbody tr th {\n",
              "        vertical-align: top;\n",
              "    }\n",
              "\n",
              "    .dataframe thead th {\n",
              "        text-align: right;\n",
              "    }\n",
              "</style>\n",
              "<table border=\"1\" class=\"dataframe\">\n",
              "  <thead>\n",
              "    <tr style=\"text-align: right;\">\n",
              "      <th></th>\n",
              "      <th>Gender</th>\n",
              "      <th>Married</th>\n",
              "      <th>Dependents</th>\n",
              "      <th>Education</th>\n",
              "      <th>Self_Employed</th>\n",
              "      <th>ApplicantIncome</th>\n",
              "      <th>CoapplicantIncome</th>\n",
              "      <th>LoanAmount</th>\n",
              "      <th>Loan_Amount_Term</th>\n",
              "      <th>Credit_History</th>\n",
              "      <th>Property_Area</th>\n",
              "      <th>Loan_Status</th>\n",
              "    </tr>\n",
              "  </thead>\n",
              "  <tbody>\n",
              "    <tr>\n",
              "      <th>Columns Type</th>\n",
              "      <td>object</td>\n",
              "      <td>object</td>\n",
              "      <td>object</td>\n",
              "      <td>object</td>\n",
              "      <td>object</td>\n",
              "      <td>int64</td>\n",
              "      <td>float64</td>\n",
              "      <td>float64</td>\n",
              "      <td>float64</td>\n",
              "      <td>float64</td>\n",
              "      <td>object</td>\n",
              "      <td>int64</td>\n",
              "    </tr>\n",
              "    <tr>\n",
              "      <th>Null Value</th>\n",
              "      <td>0</td>\n",
              "      <td>0</td>\n",
              "      <td>0</td>\n",
              "      <td>0</td>\n",
              "      <td>0</td>\n",
              "      <td>0</td>\n",
              "      <td>0</td>\n",
              "      <td>0</td>\n",
              "      <td>0</td>\n",
              "      <td>0</td>\n",
              "      <td>0</td>\n",
              "      <td>0</td>\n",
              "    </tr>\n",
              "    <tr>\n",
              "      <th>Percentage</th>\n",
              "      <td>0</td>\n",
              "      <td>0</td>\n",
              "      <td>0</td>\n",
              "      <td>0</td>\n",
              "      <td>0</td>\n",
              "      <td>0</td>\n",
              "      <td>0</td>\n",
              "      <td>0</td>\n",
              "      <td>0</td>\n",
              "      <td>0</td>\n",
              "      <td>0</td>\n",
              "      <td>0</td>\n",
              "    </tr>\n",
              "  </tbody>\n",
              "</table>\n",
              "</div>"
            ],
            "text/plain": [
              "              Gender Married  ... Property_Area Loan_Status\n",
              "Columns Type  object  object  ...        object       int64\n",
              "Null Value         0       0  ...             0           0\n",
              "Percentage         0       0  ...             0           0\n",
              "\n",
              "[3 rows x 12 columns]"
            ]
          },
          "metadata": {
            "tags": []
          },
          "execution_count": 9
        }
      ]
    },
    {
      "cell_type": "markdown",
      "metadata": {
        "id": "wVfxAaW9ZcKZ"
      },
      "source": [
        "#**Exploratory Data Analysis**"
      ]
    },
    {
      "cell_type": "markdown",
      "metadata": {
        "id": "jVMVZNz91UHF"
      },
      "source": [
        "## Numeric Variable"
      ]
    },
    {
      "cell_type": "code",
      "metadata": {
        "colab": {
          "base_uri": "https://localhost:8080/",
          "height": 640
        },
        "id": "7Qq2hIR_Ni5e",
        "outputId": "d61a3802-8f0e-4265-9725-980247c9d14e"
      },
      "source": [
        "fig, axes = plt.subplots(3,2, figsize=(15,10))\r\n",
        "axes = [col for rows in axes for col in rows]\r\n",
        "\r\n",
        "for index, col in enumerate(df.select_dtypes(include='number').columns):\r\n",
        "  plot =sns.distplot(df[col], ax=axes[index])\r\n",
        "plt.tight_layout()"
      ],
      "execution_count": null,
      "outputs": [
        {
          "output_type": "display_data",
          "data": {
            "image/png": "[encoded data removed]",
            "text/plain": [
              "<Figure size 1080x720 with 6 Axes>"
            ]
          },
          "metadata": {
            "tags": [],
            "needs_background": "light"
          }
        }
      ]
    },
    {
      "cell_type": "markdown",
      "metadata": {
        "id": "6GO4Q-9AskEs"
      },
      "source": [
        "## Categorical Variable"
      ]
    },
    {
      "cell_type": "code",
      "metadata": {
        "colab": {
          "base_uri": "https://localhost:8080/",
          "height": 620
        },
        "id": "Etar411ZNi2l",
        "outputId": "8f5a983d-dab7-4f43-d86e-0974bb941295"
      },
      "source": [
        "fig, axes = plt.subplots(2,3, figsize=(17,11))\r\n",
        "axes = [col for rows in axes for col in rows]\r\n",
        "\r\n",
        "for index, col in enumerate(df.select_dtypes(include='object').columns):\r\n",
        "  plot = df[col].value_counts().plot(kind='pie', title=col, autopct='%1.2f%%', fontsize=14, ax=axes[index])\r\n",
        "  plot = axes[index].set_ylabel('')\r\n",
        "plt.tight_layout()\r\n",
        "\r\n",
        "# df.loc[df.Loan_Status==1, 'Gender'].value_counts().plot(kind='pie', title='Gender 1', autopct='%1.2f%%', fontsize=14)\r\n",
        "# df.loc[df.Loan_Status==0, 'Gender'].value_counts().plot(kind='pie', title='Gender 1', autopct='%1.2f%%', fontsize=14)"
      ],
      "execution_count": null,
      "outputs": [
        {
          "output_type": "display_data",
          "data": {
            "image/png": "[encoded data removed]",
            "text/plain": [
              "<Figure size 1224x792 with 6 Axes>"
            ]
          },
          "metadata": {
            "tags": []
          }
        }
      ]
    },
    {
      "cell_type": "markdown",
      "metadata": {
        "id": "DEGylXprz0Ma"
      },
      "source": [
        "Baseds on the visualization above, at least we know the proportion and distribution of the data. So we can use this info for in preprocessing steps."
      ]
    },
    {
      "cell_type": "code",
      "metadata": {
        "colab": {
          "base_uri": "https://localhost:8080/",
          "height": 478
        },
        "id": "wspaUvp-Nizm",
        "outputId": "ba68f20d-b828-40ce-8204-f735ab077f12"
      },
      "source": [
        "plt.figure(figsize=(12,6))\r\n",
        "sns.heatmap(df.corr(), annot=True)\r\n",
        "plt.show()"
      ],
      "execution_count": null,
      "outputs": [
        {
          "output_type": "display_data",
          "data": {
            "image/png": "[encoded data removed]",
            "text/plain": [
              "<Figure size 864x432 with 2 Axes>"
            ]
          },
          "metadata": {
            "tags": [],
            "needs_background": "light"
          }
        }
      ]
    },
    {
      "cell_type": "markdown",
      "metadata": {
        "id": "1sA7oJ7W0avO"
      },
      "source": [
        "See the correlation performace above, the most impactfull features to determine whether a loan application acceted or rejected are LoanAmount(58%) and Credit_History (53%)."
      ]
    },
    {
      "cell_type": "code",
      "metadata": {
        "colab": {
          "base_uri": "https://localhost:8080/",
          "height": 282
        },
        "id": "UgS6YqO9ASek",
        "outputId": "95dc3ad5-92ec-47a8-dc59-4577096c218e"
      },
      "source": [
        "df.Loan_Status.value_counts().plot(kind='bar')\r\n",
        "plt.xlabel('class')\r\n",
        "plt.ylabel('Frequency')\r\n",
        "plt.show()"
      ],
      "execution_count": null,
      "outputs": [
        {
          "output_type": "display_data",
          "data": {
            "image/png": "[encoded data removed]",
            "text/plain": [
              "<Figure size 432x288 with 1 Axes>"
            ]
          },
          "metadata": {
            "tags": [],
            "needs_background": "light"
          }
        }
      ]
    },
    {
      "cell_type": "markdown",
      "metadata": {
        "id": "VH0VhW7cApIQ"
      },
      "source": [
        "This data is imbalance dataset"
      ]
    },
    {
      "cell_type": "markdown",
      "metadata": {
        "id": "C4QlXWt64C4V"
      },
      "source": [
        "#**Preprocessing**"
      ]
    },
    {
      "cell_type": "markdown",
      "metadata": {
        "id": "GodLbyZF4urX"
      },
      "source": [
        "## Drop Duplicate"
      ]
    },
    {
      "cell_type": "code",
      "metadata": {
        "colab": {
          "base_uri": "https://localhost:8080/"
        },
        "id": "-NWDIpzz44bi",
        "outputId": "cbbe4980-fae3-4671-c621-d7518ee9d048"
      },
      "source": [
        "print(\"before droping the duplicate value: \", df.shape[0])\r\n",
        "df = df.drop_duplicates()\r\n",
        "print(\"after droping the duplicate value: \", df.shape[0])"
      ],
      "execution_count": null,
      "outputs": [
        {
          "output_type": "stream",
          "text": [
            "before droping the duplicate value:  491\n",
            "after droping the duplicate value:  491\n"
          ],
          "name": "stdout"
        }
      ]
    },
    {
      "cell_type": "markdown",
      "metadata": {
        "id": "Bx4ePHkL44Hs"
      },
      "source": [
        "There isn't duplicate value"
      ]
    },
    {
      "cell_type": "markdown",
      "metadata": {
        "id": "4GhUEBlc4Zr2"
      },
      "source": [
        "## One Hot Encoding"
      ]
    },
    {
      "cell_type": "code",
      "metadata": {
        "colab": {
          "base_uri": "https://localhost:8080/",
          "height": 244
        },
        "id": "LX_ww5CTSs62",
        "outputId": "fce93cbd-e8cb-42e6-a61e-f37ced3fb95c"
      },
      "source": [
        "#without drop first\r\n",
        "df_dumm = pd.get_dummies(df)\r\n",
        "df_dumm.head()"
      ],
      "execution_count": null,
      "outputs": [
        {
          "output_type": "execute_result",
          "data": {
            "text/html": [
              "<div>\n",
              "<style scoped>\n",
              "    .dataframe tbody tr th:only-of-type {\n",
              "        vertical-align: middle;\n",
              "    }\n",
              "\n",
              "    .dataframe tbody tr th {\n",
              "        vertical-align: top;\n",
              "    }\n",
              "\n",
              "    .dataframe thead th {\n",
              "        text-align: right;\n",
              "    }\n",
              "</style>\n",
              "<table border=\"1\" class=\"dataframe\">\n",
              "  <thead>\n",
              "    <tr style=\"text-align: right;\">\n",
              "      <th></th>\n",
              "      <th>ApplicantIncome</th>\n",
              "      <th>CoapplicantIncome</th>\n",
              "      <th>LoanAmount</th>\n",
              "      <th>Loan_Amount_Term</th>\n",
              "      <th>Credit_History</th>\n",
              "      <th>Loan_Status</th>\n",
              "      <th>Gender_Female</th>\n",
              "      <th>Gender_Male</th>\n",
              "      <th>Married_No</th>\n",
              "      <th>Married_Yes</th>\n",
              "      <th>Dependents_0</th>\n",
              "      <th>Dependents_1</th>\n",
              "      <th>Dependents_2</th>\n",
              "      <th>Dependents_3+</th>\n",
              "      <th>Education_Graduate</th>\n",
              "      <th>Education_Not Graduate</th>\n",
              "      <th>Self_Employed_No</th>\n",
              "      <th>Self_Employed_Yes</th>\n",
              "      <th>Property_Area_Rural</th>\n",
              "      <th>Property_Area_Semiurban</th>\n",
              "      <th>Property_Area_Urban</th>\n",
              "    </tr>\n",
              "  </thead>\n",
              "  <tbody>\n",
              "    <tr>\n",
              "      <th>0</th>\n",
              "      <td>4547</td>\n",
              "      <td>0.0</td>\n",
              "      <td>115.0</td>\n",
              "      <td>360.0</td>\n",
              "      <td>1.0</td>\n",
              "      <td>1</td>\n",
              "      <td>1</td>\n",
              "      <td>0</td>\n",
              "      <td>1</td>\n",
              "      <td>0</td>\n",
              "      <td>1</td>\n",
              "      <td>0</td>\n",
              "      <td>0</td>\n",
              "      <td>0</td>\n",
              "      <td>1</td>\n",
              "      <td>0</td>\n",
              "      <td>1</td>\n",
              "      <td>0</td>\n",
              "      <td>0</td>\n",
              "      <td>1</td>\n",
              "      <td>0</td>\n",
              "    </tr>\n",
              "    <tr>\n",
              "      <th>1</th>\n",
              "      <td>5703</td>\n",
              "      <td>0.0</td>\n",
              "      <td>130.0</td>\n",
              "      <td>360.0</td>\n",
              "      <td>1.0</td>\n",
              "      <td>1</td>\n",
              "      <td>0</td>\n",
              "      <td>1</td>\n",
              "      <td>0</td>\n",
              "      <td>1</td>\n",
              "      <td>0</td>\n",
              "      <td>0</td>\n",
              "      <td>0</td>\n",
              "      <td>1</td>\n",
              "      <td>0</td>\n",
              "      <td>1</td>\n",
              "      <td>0</td>\n",
              "      <td>1</td>\n",
              "      <td>1</td>\n",
              "      <td>0</td>\n",
              "      <td>0</td>\n",
              "    </tr>\n",
              "    <tr>\n",
              "      <th>2</th>\n",
              "      <td>4333</td>\n",
              "      <td>2451.0</td>\n",
              "      <td>110.0</td>\n",
              "      <td>360.0</td>\n",
              "      <td>1.0</td>\n",
              "      <td>0</td>\n",
              "      <td>1</td>\n",
              "      <td>0</td>\n",
              "      <td>0</td>\n",
              "      <td>1</td>\n",
              "      <td>1</td>\n",
              "      <td>0</td>\n",
              "      <td>0</td>\n",
              "      <td>0</td>\n",
              "      <td>1</td>\n",
              "      <td>0</td>\n",
              "      <td>1</td>\n",
              "      <td>0</td>\n",
              "      <td>0</td>\n",
              "      <td>0</td>\n",
              "      <td>1</td>\n",
              "    </tr>\n",
              "    <tr>\n",
              "      <th>3</th>\n",
              "      <td>4695</td>\n",
              "      <td>0.0</td>\n",
              "      <td>96.0</td>\n",
              "      <td>360.0</td>\n",
              "      <td>1.0</td>\n",
              "      <td>1</td>\n",
              "      <td>0</td>\n",
              "      <td>1</td>\n",
              "      <td>0</td>\n",
              "      <td>1</td>\n",
              "      <td>1</td>\n",
              "      <td>0</td>\n",
              "      <td>0</td>\n",
              "      <td>0</td>\n",
              "      <td>0</td>\n",
              "      <td>1</td>\n",
              "      <td>0</td>\n",
              "      <td>1</td>\n",
              "      <td>0</td>\n",
              "      <td>0</td>\n",
              "      <td>1</td>\n",
              "    </tr>\n",
              "    <tr>\n",
              "      <th>4</th>\n",
              "      <td>6700</td>\n",
              "      <td>1750.0</td>\n",
              "      <td>230.0</td>\n",
              "      <td>300.0</td>\n",
              "      <td>1.0</td>\n",
              "      <td>1</td>\n",
              "      <td>0</td>\n",
              "      <td>1</td>\n",
              "      <td>0</td>\n",
              "      <td>1</td>\n",
              "      <td>0</td>\n",
              "      <td>0</td>\n",
              "      <td>1</td>\n",
              "      <td>0</td>\n",
              "      <td>1</td>\n",
              "      <td>0</td>\n",
              "      <td>1</td>\n",
              "      <td>0</td>\n",
              "      <td>0</td>\n",
              "      <td>1</td>\n",
              "      <td>0</td>\n",
              "    </tr>\n",
              "  </tbody>\n",
              "</table>\n",
              "</div>"
            ],
            "text/plain": [
              "   ApplicantIncome  ...  Property_Area_Urban\n",
              "0             4547  ...                    0\n",
              "1             5703  ...                    0\n",
              "2             4333  ...                    1\n",
              "3             4695  ...                    1\n",
              "4             6700  ...                    0\n",
              "\n",
              "[5 rows x 21 columns]"
            ]
          },
          "metadata": {
            "tags": []
          },
          "execution_count": 15
        }
      ]
    },
    {
      "cell_type": "code",
      "metadata": {
        "colab": {
          "base_uri": "https://localhost:8080/",
          "height": 244
        },
        "id": "gDu0SEP554cr",
        "outputId": "0763a57a-4fb5-484a-bec9-7c9d215cb590"
      },
      "source": [
        "#with drop first\r\n",
        "df_dumm_drop = pd.get_dummies(df, drop_first=True)\r\n",
        "df_dumm_drop.head()"
      ],
      "execution_count": null,
      "outputs": [
        {
          "output_type": "execute_result",
          "data": {
            "text/html": [
              "<div>\n",
              "<style scoped>\n",
              "    .dataframe tbody tr th:only-of-type {\n",
              "        vertical-align: middle;\n",
              "    }\n",
              "\n",
              "    .dataframe tbody tr th {\n",
              "        vertical-align: top;\n",
              "    }\n",
              "\n",
              "    .dataframe thead th {\n",
              "        text-align: right;\n",
              "    }\n",
              "</style>\n",
              "<table border=\"1\" class=\"dataframe\">\n",
              "  <thead>\n",
              "    <tr style=\"text-align: right;\">\n",
              "      <th></th>\n",
              "      <th>ApplicantIncome</th>\n",
              "      <th>CoapplicantIncome</th>\n",
              "      <th>LoanAmount</th>\n",
              "      <th>Loan_Amount_Term</th>\n",
              "      <th>Credit_History</th>\n",
              "      <th>Loan_Status</th>\n",
              "      <th>Gender_Male</th>\n",
              "      <th>Married_Yes</th>\n",
              "      <th>Dependents_1</th>\n",
              "      <th>Dependents_2</th>\n",
              "      <th>Dependents_3+</th>\n",
              "      <th>Education_Not Graduate</th>\n",
              "      <th>Self_Employed_Yes</th>\n",
              "      <th>Property_Area_Semiurban</th>\n",
              "      <th>Property_Area_Urban</th>\n",
              "    </tr>\n",
              "  </thead>\n",
              "  <tbody>\n",
              "    <tr>\n",
              "      <th>0</th>\n",
              "      <td>4547</td>\n",
              "      <td>0.0</td>\n",
              "      <td>115.0</td>\n",
              "      <td>360.0</td>\n",
              "      <td>1.0</td>\n",
              "      <td>1</td>\n",
              "      <td>0</td>\n",
              "      <td>0</td>\n",
              "      <td>0</td>\n",
              "      <td>0</td>\n",
              "      <td>0</td>\n",
              "      <td>0</td>\n",
              "      <td>0</td>\n",
              "      <td>1</td>\n",
              "      <td>0</td>\n",
              "    </tr>\n",
              "    <tr>\n",
              "      <th>1</th>\n",
              "      <td>5703</td>\n",
              "      <td>0.0</td>\n",
              "      <td>130.0</td>\n",
              "      <td>360.0</td>\n",
              "      <td>1.0</td>\n",
              "      <td>1</td>\n",
              "      <td>1</td>\n",
              "      <td>1</td>\n",
              "      <td>0</td>\n",
              "      <td>0</td>\n",
              "      <td>1</td>\n",
              "      <td>1</td>\n",
              "      <td>1</td>\n",
              "      <td>0</td>\n",
              "      <td>0</td>\n",
              "    </tr>\n",
              "    <tr>\n",
              "      <th>2</th>\n",
              "      <td>4333</td>\n",
              "      <td>2451.0</td>\n",
              "      <td>110.0</td>\n",
              "      <td>360.0</td>\n",
              "      <td>1.0</td>\n",
              "      <td>0</td>\n",
              "      <td>0</td>\n",
              "      <td>1</td>\n",
              "      <td>0</td>\n",
              "      <td>0</td>\n",
              "      <td>0</td>\n",
              "      <td>0</td>\n",
              "      <td>0</td>\n",
              "      <td>0</td>\n",
              "      <td>1</td>\n",
              "    </tr>\n",
              "    <tr>\n",
              "      <th>3</th>\n",
              "      <td>4695</td>\n",
              "      <td>0.0</td>\n",
              "      <td>96.0</td>\n",
              "      <td>360.0</td>\n",
              "      <td>1.0</td>\n",
              "      <td>1</td>\n",
              "      <td>1</td>\n",
              "      <td>1</td>\n",
              "      <td>0</td>\n",
              "      <td>0</td>\n",
              "      <td>0</td>\n",
              "      <td>1</td>\n",
              "      <td>1</td>\n",
              "      <td>0</td>\n",
              "      <td>1</td>\n",
              "    </tr>\n",
              "    <tr>\n",
              "      <th>4</th>\n",
              "      <td>6700</td>\n",
              "      <td>1750.0</td>\n",
              "      <td>230.0</td>\n",
              "      <td>300.0</td>\n",
              "      <td>1.0</td>\n",
              "      <td>1</td>\n",
              "      <td>1</td>\n",
              "      <td>1</td>\n",
              "      <td>0</td>\n",
              "      <td>1</td>\n",
              "      <td>0</td>\n",
              "      <td>0</td>\n",
              "      <td>0</td>\n",
              "      <td>1</td>\n",
              "      <td>0</td>\n",
              "    </tr>\n",
              "  </tbody>\n",
              "</table>\n",
              "</div>"
            ],
            "text/plain": [
              "   ApplicantIncome  ...  Property_Area_Urban\n",
              "0             4547  ...                    0\n",
              "1             5703  ...                    0\n",
              "2             4333  ...                    1\n",
              "3             4695  ...                    1\n",
              "4             6700  ...                    0\n",
              "\n",
              "[5 rows x 15 columns]"
            ]
          },
          "metadata": {
            "tags": []
          },
          "execution_count": 16
        }
      ]
    },
    {
      "cell_type": "markdown",
      "metadata": {
        "id": "gdRO8_d262GI"
      },
      "source": [
        "## Train Test Split"
      ]
    },
    {
      "cell_type": "code",
      "metadata": {
        "id": "msd07P4s63kW"
      },
      "source": [
        "#without drop first\r\n",
        "X = df_dumm.drop('Loan_Status', axis=1)\r\n",
        "y = df_dumm.Loan_Status\r\n",
        "x_train, x_test, y_train, y_test = train_test_split(X, y, test_size=0.25, random_state=123)"
      ],
      "execution_count": null,
      "outputs": []
    },
    {
      "cell_type": "code",
      "metadata": {
        "id": "No8jdjja9XgI"
      },
      "source": [
        "#wit drop first\r\n",
        "X = df_dumm_drop.drop('Loan_Status', axis=1)\r\n",
        "y = df_dumm_drop.Loan_Status\r\n",
        "x_train_drop, x_test_drop, y_train_drop, y_test_drop = train_test_split(X, y, test_size=0.25, random_state=123)"
      ],
      "execution_count": null,
      "outputs": []
    },
    {
      "cell_type": "markdown",
      "metadata": {
        "id": "Ocn91kxc6Xz-"
      },
      "source": [
        "## Power Transformer"
      ]
    },
    {
      "cell_type": "code",
      "metadata": {
        "id": "9rKQl7-Q9-5d"
      },
      "source": [
        "#without drop first\r\n",
        "pt = PowerTransformer()\r\n",
        "x_train_pt = pd.DataFrame(pt.fit_transform(x_train), columns=x_train.columns)\r\n",
        "x_test_pt = pd.DataFrame(pt.transform(x_test), columns=x_train.columns)"
      ],
      "execution_count": null,
      "outputs": []
    },
    {
      "cell_type": "code",
      "metadata": {
        "id": "M_BG5bxl_HgJ"
      },
      "source": [
        "#wit drop first\r\n",
        "pt_d = PowerTransformer()\r\n",
        "x_train_pt_drop = pd.DataFrame(pt_d.fit_transform(x_train_drop), columns=x_train_drop.columns)\r\n",
        "x_test_pt_drop = pd.DataFrame(pt_d.transform(x_test_drop), columns=x_train_drop.columns)"
      ],
      "execution_count": null,
      "outputs": []
    },
    {
      "cell_type": "markdown",
      "metadata": {
        "id": "amnTDGXynREk"
      },
      "source": [
        "##Standardization"
      ]
    },
    {
      "cell_type": "code",
      "metadata": {
        "id": "JUhIgAtulAB5"
      },
      "source": [
        "#without drop first\r\n",
        "scale = StandardScaler()\r\n",
        "xtrain_scale = pd.DataFrame(scale.fit_transform(x_train_pt), columns=x_train_pt.columns)\r\n",
        "xtest_scale = pd.DataFrame(scale.fit_transform(x_test_pt), columns=x_train_pt.columns)"
      ],
      "execution_count": null,
      "outputs": []
    },
    {
      "cell_type": "code",
      "metadata": {
        "id": "JwhEls8AtTn2"
      },
      "source": [
        "#with drop first\r\n",
        "scale_d = StandardScaler()\r\n",
        "xtrain_scale_drop = pd.DataFrame(scale_d.fit_transform(x_train_pt_drop), columns=x_train_pt_drop.columns)\r\n",
        "xtest_scale_drop = pd.DataFrame(scale_d.fit_transform(x_test_pt_drop), columns=x_train_pt_drop.columns)"
      ],
      "execution_count": null,
      "outputs": []
    },
    {
      "cell_type": "markdown",
      "metadata": {
        "id": "_fupDOn0B4aG"
      },
      "source": [
        "## Imbalance Handling"
      ]
    },
    {
      "cell_type": "code",
      "metadata": {
        "id": "AipfJm0gqp8A"
      },
      "source": [
        "# sm = SMOTE(random_state = 25, sampling_strategy = 1.0)\r\n",
        "# x_train, y_train = sm.fit_sample(x_train, y_train)\r\n",
        "# sns.countplot(y_train)\r\n",
        "# plt.show()"
      ],
      "execution_count": null,
      "outputs": []
    },
    {
      "cell_type": "markdown",
      "metadata": {
        "id": "WfkCu4o0qip5"
      },
      "source": [
        "#**Modelling**"
      ]
    },
    {
      "cell_type": "code",
      "metadata": {
        "id": "PWaWhZ_aDP-A"
      },
      "source": [
        "class Class(object):\r\n",
        "    def __init__(self, clf, params=None):\r\n",
        "        if params:\r\n",
        "            self.clf = clf(**params)\r\n",
        "        else:\r\n",
        "            self.clf = clf()\r\n",
        "            \r\n",
        "    def train(self, x_train, y_train):\r\n",
        "        self.clf.fit(x_train, y_train)\r\n",
        "        \r\n",
        "    def predict(self, x):\r\n",
        "        return self.clf.predict(x)\r\n",
        "    \r\n",
        "    def grid_search(self, parameters, Kfold):\r\n",
        "        self.grid = GridSearchCV(estimator = self.clf, param_grid = parameters, cv = Kfold, n_jobs=-1, verbose= 2)\r\n",
        "        \r\n",
        "    def grid_fit(self, X, Y):\r\n",
        "        self.grid.fit(X, Y)\r\n",
        "        \r\n",
        "    def grid_predict_test(self, X, Y):\r\n",
        "        self.predictions = self.grid.predict(X)\r\n",
        "        print(\"Testing Accuracy: {:.2f}%\".format(100*accuracy_score(Y, self.predictions)))\r\n",
        "        print(\"Testing F1-score: {:.2f}%\".format(100*f1_score(Y, self.predictions)))\r\n",
        "        print()\r\n",
        "        print(classification_report(Y, self.predictions))\r\n",
        "        \r\n",
        "        \r\n",
        "    def grid_predict_train(self, X, Y):\r\n",
        "        self.predictions = self.grid.predict(X)\r\n",
        "        print(\"Training Accuracy: {:.2f}%\".format(100*accuracy_score(Y, self.predictions)))"
      ],
      "execution_count": null,
      "outputs": []
    },
    {
      "cell_type": "markdown",
      "metadata": {
        "id": "flkCHSwvFzzx"
      },
      "source": [
        "## Logistic Regression"
      ]
    },
    {
      "cell_type": "code",
      "metadata": {
        "colab": {
          "base_uri": "https://localhost:8080/"
        },
        "id": "05GORwh0EAfD",
        "outputId": "064fb850-2ff6-46a2-965a-912dda5ad6d3"
      },
      "source": [
        "#one hot encoding\r\n",
        "lr = Class(clf = LogisticRegression)\r\n",
        "params = {'C': np.logspace(-2, 2, 6),\r\n",
        "          'penalty':['l1', 'l2', 'elasticnet'],\r\n",
        "          'max_iter': [50*x for x in range(1,6)]}\r\n",
        "lr.grid_search(parameters = params, Kfold = 5)\r\n",
        "lr.grid_fit(x_train, y_train)\r\n",
        "lr.grid_predict_train(x_train, y_train)\r\n",
        "lr.grid_predict_test(x_test, y_test)"
      ],
      "execution_count": null,
      "outputs": [
        {
          "output_type": "stream",
          "text": [
            "Fitting 5 folds for each of 90 candidates, totalling 450 fits\n"
          ],
          "name": "stdout"
        },
        {
          "output_type": "stream",
          "text": [
            "[Parallel(n_jobs=-1)]: Using backend LokyBackend with 2 concurrent workers.\n",
            "[Parallel(n_jobs=-1)]: Done 186 tasks      | elapsed:    2.9s\n"
          ],
          "name": "stderr"
        },
        {
          "output_type": "stream",
          "text": [
            "Training Accuracy: 80.16%\n",
            "Testing Accuracy: 82.93%\n",
            "\n",
            "              precision    recall  f1-score   support\n",
            "\n",
            "           0       0.85      0.49      0.62        35\n",
            "           1       0.83      0.97      0.89        88\n",
            "\n",
            "    accuracy                           0.83       123\n",
            "   macro avg       0.84      0.73      0.75       123\n",
            "weighted avg       0.83      0.83      0.81       123\n",
            "\n"
          ],
          "name": "stdout"
        },
        {
          "output_type": "stream",
          "text": [
            "[Parallel(n_jobs=-1)]: Done 450 out of 450 | elapsed:    5.7s finished\n"
          ],
          "name": "stderr"
        }
      ]
    },
    {
      "cell_type": "code",
      "metadata": {
        "colab": {
          "base_uri": "https://localhost:8080/"
        },
        "id": "lIWr7d68EXld",
        "outputId": "ae4ce3a9-5864-413d-8beb-b28d9cda8004"
      },
      "source": [
        "#one hot encoding drop\r\n",
        "lr = Class(clf = LogisticRegression)\r\n",
        "params = {'C': np.logspace(-2, 2, 6),\r\n",
        "          'penalty':['l1', 'l2', 'elasticnet'],\r\n",
        "          'max_iter': [50*x for x in range(1,6)]}\r\n",
        "lr.grid_search(parameters = params, Kfold = 5)\r\n",
        "lr.grid_fit(x_train_drop, y_train_drop)\r\n",
        "lr.grid_predict_train(x_train_drop, y_train_drop)\r\n",
        "lr.grid_predict_test(x_test_drop, y_test_drop)"
      ],
      "execution_count": null,
      "outputs": [
        {
          "output_type": "stream",
          "text": [
            "Fitting 5 folds for each of 90 candidates, totalling 450 fits\n"
          ],
          "name": "stdout"
        },
        {
          "output_type": "stream",
          "text": [
            "[Parallel(n_jobs=-1)]: Using backend LokyBackend with 2 concurrent workers.\n",
            "[Parallel(n_jobs=-1)]: Done 396 tasks      | elapsed:    3.2s\n"
          ],
          "name": "stderr"
        },
        {
          "output_type": "stream",
          "text": [
            "Training Accuracy: 80.98%\n",
            "Testing Accuracy: 83.74%\n",
            "Testing F1-score: 89.58%\n",
            "\n",
            "              precision    recall  f1-score   support\n",
            "\n",
            "           0       0.89      0.49      0.63        35\n",
            "           1       0.83      0.98      0.90        88\n",
            "\n",
            "    accuracy                           0.84       123\n",
            "   macro avg       0.86      0.73      0.76       123\n",
            "weighted avg       0.85      0.84      0.82       123\n",
            "\n"
          ],
          "name": "stdout"
        },
        {
          "output_type": "stream",
          "text": [
            "[Parallel(n_jobs=-1)]: Done 450 out of 450 | elapsed:    3.6s finished\n"
          ],
          "name": "stderr"
        }
      ]
    },
    {
      "cell_type": "code",
      "metadata": {
        "colab": {
          "base_uri": "https://localhost:8080/"
        },
        "id": "sYFAkO-YEXiH",
        "outputId": "e29eeaf5-c826-44f0-adb6-120c7b318942"
      },
      "source": [
        "#one hot encoding -transform & scale\r\n",
        "lr = Class(clf = LogisticRegression)\r\n",
        "params = {'C': np.logspace(-2, 2, 6),\r\n",
        "          'penalty':['l1', 'l2', 'elasticnet'],\r\n",
        "          'max_iter': [50*x for x in range(1,6)]}\r\n",
        "lr.grid_search(parameters = params, Kfold = 5)\r\n",
        "lr.grid_fit(xtrain_scale, y_train)\r\n",
        "lr.grid_predict_train(xtrain_scale, y_train)\r\n",
        "lr.grid_predict_test(xtest_scale, y_test)"
      ],
      "execution_count": null,
      "outputs": [
        {
          "output_type": "stream",
          "text": [
            "[Parallel(n_jobs=-1)]: Using backend LokyBackend with 2 concurrent workers.\n"
          ],
          "name": "stderr"
        },
        {
          "output_type": "stream",
          "text": [
            "Fitting 5 folds for each of 90 candidates, totalling 450 fits\n",
            "Training Accuracy: 80.43%\n",
            "Testing Accuracy: 82.93%\n",
            "\n",
            "              precision    recall  f1-score   support\n",
            "\n",
            "           0       0.89      0.46      0.60        35\n",
            "           1       0.82      0.98      0.89        88\n",
            "\n",
            "    accuracy                           0.83       123\n",
            "   macro avg       0.85      0.72      0.75       123\n",
            "weighted avg       0.84      0.83      0.81       123\n",
            "\n"
          ],
          "name": "stdout"
        },
        {
          "output_type": "stream",
          "text": [
            "[Parallel(n_jobs=-1)]: Done 450 out of 450 | elapsed:    1.5s finished\n"
          ],
          "name": "stderr"
        }
      ]
    },
    {
      "cell_type": "code",
      "metadata": {
        "colab": {
          "base_uri": "https://localhost:8080/"
        },
        "id": "fmSPZ-tlEXf7",
        "outputId": "a243a5e3-0851-45fd-9f1d-3dddda910b3d"
      },
      "source": [
        "#one hot encoding drop -transform & scale\r\n",
        "lr = Class(clf = LogisticRegression)\r\n",
        "params = {'C': np.logspace(-2, 2, 6),\r\n",
        "          'penalty':['l1', 'l2', 'elasticnet'],\r\n",
        "          'max_iter': [50*x for x in range(1,6)]}\r\n",
        "lr.grid_search(parameters = params, Kfold = 5)\r\n",
        "lr.grid_fit(xtrain_scale_drop, y_train_drop)\r\n",
        "lr.grid_predict_train(xtrain_scale_drop, y_train_drop)\r\n",
        "lr.grid_predict_test(xtest_scale_drop, y_test_drop)"
      ],
      "execution_count": null,
      "outputs": [
        {
          "output_type": "stream",
          "text": [
            "[Parallel(n_jobs=-1)]: Using backend LokyBackend with 2 concurrent workers.\n"
          ],
          "name": "stderr"
        },
        {
          "output_type": "stream",
          "text": [
            "Fitting 5 folds for each of 90 candidates, totalling 450 fits\n",
            "Training Accuracy: 80.71%\n",
            "Testing Accuracy: 82.93%\n",
            "\n",
            "              precision    recall  f1-score   support\n",
            "\n",
            "           0       0.89      0.46      0.60        35\n",
            "           1       0.82      0.98      0.89        88\n",
            "\n",
            "    accuracy                           0.83       123\n",
            "   macro avg       0.85      0.72      0.75       123\n",
            "weighted avg       0.84      0.83      0.81       123\n",
            "\n"
          ],
          "name": "stdout"
        },
        {
          "output_type": "stream",
          "text": [
            "[Parallel(n_jobs=-1)]: Done 450 out of 450 | elapsed:    1.4s finished\n"
          ],
          "name": "stderr"
        }
      ]
    },
    {
      "cell_type": "markdown",
      "metadata": {
        "id": "dTyzW3B97w7V"
      },
      "source": [
        "## SVM"
      ]
    },
    {
      "cell_type": "code",
      "metadata": {
        "colab": {
          "base_uri": "https://localhost:8080/"
        },
        "id": "qliD4vKF7yu_",
        "outputId": "852a50cd-3deb-4a91-d4ca-fa081a998f30"
      },
      "source": [
        "#one hot encoding\r\n",
        "svm = Class(clf = SVC)\r\n",
        "params = {'C': [0.001, 0.1, 1],\r\n",
        "          'kernel':['linear', 'rbf'],\r\n",
        "          'class_weight':['None', 'dict', 'balanced']}\r\n",
        "svm.grid_search(parameters = params, Kfold = 5)\r\n",
        "svm.grid_fit(x_train, y_train)\r\n",
        "svm.grid_predict_train(x_train, y_train)\r\n",
        "svm.grid_predict_test(x_test, y_test)"
      ],
      "execution_count": null,
      "outputs": [
        {
          "output_type": "stream",
          "text": [
            "Fitting 5 folds for each of 18 candidates, totalling 90 fits\n"
          ],
          "name": "stdout"
        },
        {
          "output_type": "stream",
          "text": [
            "[Parallel(n_jobs=-1)]: Using backend LokyBackend with 2 concurrent workers.\n",
            "[Parallel(n_jobs=-1)]: Done  60 tasks      | elapsed:  6.3min\n",
            "[Parallel(n_jobs=-1)]: Done  90 out of  90 | elapsed: 14.8min finished\n"
          ],
          "name": "stderr"
        },
        {
          "output_type": "stream",
          "text": [
            "Training Accuracy: 72.83%\n",
            "Testing Accuracy: 62.60%\n",
            "\n",
            "              precision    recall  f1-score   support\n",
            "\n",
            "           0       0.39      0.54      0.45        35\n",
            "           1       0.78      0.66      0.72        88\n",
            "\n",
            "    accuracy                           0.63       123\n",
            "   macro avg       0.59      0.60      0.58       123\n",
            "weighted avg       0.67      0.63      0.64       123\n",
            "\n"
          ],
          "name": "stdout"
        }
      ]
    },
    {
      "cell_type": "code",
      "metadata": {
        "colab": {
          "base_uri": "https://localhost:8080/"
        },
        "id": "AnpnEJr59GjT",
        "outputId": "0d3f8a9b-4a9b-4b47-874d-157cace3300d"
      },
      "source": [
        "#one hot encoding drop\r\n",
        "svm = Class(clf = SVC)\r\n",
        "params = {'C': [0.001, 0.1, 1],\r\n",
        "          'kernel':['linear', 'rbf'],\r\n",
        "          'class_weight':['None', 'dict', 'balanced']}\r\n",
        "svm.grid_search(parameters = params, Kfold = 5)\r\n",
        "svm.grid_fit(x_train_drop, y_train_drop)\r\n",
        "svm.grid_predict_train(x_train_drop, y_train_drop)\r\n",
        "svm.grid_predict_test(x_test_drop, y_test_drop)"
      ],
      "execution_count": null,
      "outputs": [
        {
          "output_type": "stream",
          "text": [
            "Fitting 5 folds for each of 18 candidates, totalling 90 fits\n"
          ],
          "name": "stdout"
        },
        {
          "output_type": "stream",
          "text": [
            "[Parallel(n_jobs=-1)]: Using backend LokyBackend with 2 concurrent workers.\n",
            "[Parallel(n_jobs=-1)]: Done  81 tasks      | elapsed:  8.0min\n",
            "[Parallel(n_jobs=-1)]: Done  90 out of  90 | elapsed: 15.1min finished\n"
          ],
          "name": "stderr"
        },
        {
          "output_type": "stream",
          "text": [
            "Training Accuracy: 73.64%\n",
            "Testing Accuracy: 65.04%\n",
            "\n",
            "              precision    recall  f1-score   support\n",
            "\n",
            "           0       0.40      0.49      0.44        35\n",
            "           1       0.78      0.72      0.75        88\n",
            "\n",
            "    accuracy                           0.65       123\n",
            "   macro avg       0.59      0.60      0.59       123\n",
            "weighted avg       0.67      0.65      0.66       123\n",
            "\n"
          ],
          "name": "stdout"
        }
      ]
    },
    {
      "cell_type": "code",
      "metadata": {
        "colab": {
          "base_uri": "https://localhost:8080/"
        },
        "id": "fO4dbDX89Uxr",
        "outputId": "e1f0398f-4fa0-4324-e37c-8dde042cf5fd"
      },
      "source": [
        "#one hot encoding drop -transform & scale\r\n",
        "svm = Class(clf = SVC)\r\n",
        "params = {'C': [0.001, 0.1, 1],\r\n",
        "          'kernel':['linear', 'rbf'],\r\n",
        "          'class_weight':['None', 'dict', 'balanced']}\r\n",
        "svm.grid_search(parameters = params, Kfold = 5)\r\n",
        "svm.grid_fit(xtrain_scale_drop, y_train_drop)\r\n",
        "svm.grid_predict_train(xtrain_scale_drop, y_train_drop)\r\n",
        "svm.grid_predict_test(xtest_scale_drop, y_test_drop)"
      ],
      "execution_count": null,
      "outputs": [
        {
          "output_type": "stream",
          "text": [
            "Fitting 5 folds for each of 18 candidates, totalling 90 fits\n"
          ],
          "name": "stdout"
        },
        {
          "output_type": "stream",
          "text": [
            "[Parallel(n_jobs=-1)]: Using backend LokyBackend with 2 concurrent workers.\n"
          ],
          "name": "stderr"
        },
        {
          "output_type": "stream",
          "text": [
            "Training Accuracy: 81.52%\n",
            "Testing Accuracy: 82.11%\n",
            "Testing F1-score: 88.54%\n",
            "\n",
            "              precision    recall  f1-score   support\n",
            "\n",
            "           0       0.84      0.46      0.59        35\n",
            "           1       0.82      0.97      0.89        88\n",
            "\n",
            "    accuracy                           0.82       123\n",
            "   macro avg       0.83      0.71      0.74       123\n",
            "weighted avg       0.82      0.82      0.80       123\n",
            "\n"
          ],
          "name": "stdout"
        },
        {
          "output_type": "stream",
          "text": [
            "[Parallel(n_jobs=-1)]: Done  81 tasks      | elapsed:    1.4s\n",
            "[Parallel(n_jobs=-1)]: Done  90 out of  90 | elapsed:    1.5s finished\n"
          ],
          "name": "stderr"
        }
      ]
    },
    {
      "cell_type": "markdown",
      "metadata": {
        "id": "6-BPWaXV_ALG"
      },
      "source": [
        "## KNN"
      ]
    },
    {
      "cell_type": "code",
      "metadata": {
        "colab": {
          "base_uri": "https://localhost:8080/"
        },
        "id": "5saZ8C8u_BaZ",
        "outputId": "ec17d0ef-6ced-49b4-a854-11100f282b36"
      },
      "source": [
        "#one hot encoding\r\n",
        "knn = Class(clf = KNeighborsClassifier)\r\n",
        "params = {'n_neighbors': np.arange(5,25,5),\r\n",
        "          'leaf_size':np.arange(25,50,5),\r\n",
        "          'p':[1,2]} #1: manhattan , 2:euclidian\r\n",
        "\r\n",
        "knn.grid_search(parameters = params, Kfold = 5)\r\n",
        "knn.grid_fit(x_train, y_train)\r\n",
        "knn.grid_predict_train(x_train, y_train)\r\n",
        "knn.grid_predict_test(x_test, y_test)"
      ],
      "execution_count": null,
      "outputs": [
        {
          "output_type": "stream",
          "text": [
            "Fitting 5 folds for each of 40 candidates, totalling 200 fits\n"
          ],
          "name": "stdout"
        },
        {
          "output_type": "stream",
          "text": [
            "[Parallel(n_jobs=-1)]: Using backend LokyBackend with 2 concurrent workers.\n"
          ],
          "name": "stderr"
        },
        {
          "output_type": "stream",
          "text": [
            "Training Accuracy: 70.38%\n",
            "Testing Accuracy: 73.17%\n",
            "\n",
            "              precision    recall  f1-score   support\n",
            "\n",
            "           0       0.75      0.09      0.15        35\n",
            "           1       0.73      0.99      0.84        88\n",
            "\n",
            "    accuracy                           0.73       123\n",
            "   macro avg       0.74      0.54      0.50       123\n",
            "weighted avg       0.74      0.73      0.65       123\n",
            "\n"
          ],
          "name": "stdout"
        },
        {
          "output_type": "stream",
          "text": [
            "[Parallel(n_jobs=-1)]: Done 200 out of 200 | elapsed:    2.5s finished\n"
          ],
          "name": "stderr"
        }
      ]
    },
    {
      "cell_type": "code",
      "metadata": {
        "colab": {
          "base_uri": "https://localhost:8080/"
        },
        "id": "pzeDw5m5BJ5x",
        "outputId": "12252150-b53b-4f06-91dc-a465149391f1"
      },
      "source": [
        "#one hot encoding drop\r\n",
        "knn = Class(clf = KNeighborsClassifier)\r\n",
        "params = {'n_neighbors': np.arange(5,25,5),\r\n",
        "          'leaf_size':np.arange(25,50,5),\r\n",
        "          'p':[1,2]} #1: manhattan , 2:euclidian\r\n",
        "\r\n",
        "knn.grid_search(parameters = params, Kfold = 5)\r\n",
        "knn.grid_fit(x_train_drop, y_train_drop)\r\n",
        "knn.grid_predict_train(x_train_drop, y_train_drop)\r\n",
        "knn.grid_predict_test(x_test_drop, y_test_drop)"
      ],
      "execution_count": null,
      "outputs": [
        {
          "output_type": "stream",
          "text": [
            "[Parallel(n_jobs=-1)]: Using backend LokyBackend with 2 concurrent workers.\n"
          ],
          "name": "stderr"
        },
        {
          "output_type": "stream",
          "text": [
            "Fitting 5 folds for each of 40 candidates, totalling 200 fits\n",
            "Training Accuracy: 70.38%\n",
            "Testing Accuracy: 73.17%\n",
            "\n",
            "              precision    recall  f1-score   support\n",
            "\n",
            "           0       0.75      0.09      0.15        35\n",
            "           1       0.73      0.99      0.84        88\n",
            "\n",
            "    accuracy                           0.73       123\n",
            "   macro avg       0.74      0.54      0.50       123\n",
            "weighted avg       0.74      0.73      0.65       123\n",
            "\n"
          ],
          "name": "stdout"
        },
        {
          "output_type": "stream",
          "text": [
            "[Parallel(n_jobs=-1)]: Done 200 out of 200 | elapsed:    1.3s finished\n"
          ],
          "name": "stderr"
        }
      ]
    },
    {
      "cell_type": "code",
      "metadata": {
        "colab": {
          "base_uri": "https://localhost:8080/"
        },
        "id": "G7kF2N4oBkgD",
        "outputId": "0110e69d-85da-45b3-e72a-b7d544aac807"
      },
      "source": [
        "#one hot encoding drop -transform & scale\r\n",
        "knn = Class(clf = KNeighborsClassifier)\r\n",
        "params = {'n_neighbors': np.arange(5,25,5),\r\n",
        "          'leaf_size':np.arange(25,50,5),\r\n",
        "          'p':[1,2]} #1: manhattan , 2:euclidian\r\n",
        "\r\n",
        "knn.grid_search(parameters = params, Kfold = 5)\r\n",
        "knn.grid_fit(xtrain_scale_drop, y_train_drop)\r\n",
        "knn.grid_predict_train(xtrain_scale_drop, y_train_drop)\r\n",
        "knn.grid_predict_test(xtest_scale_drop, y_test_drop)"
      ],
      "execution_count": null,
      "outputs": [
        {
          "output_type": "stream",
          "text": [
            "Fitting 5 folds for each of 40 candidates, totalling 200 fits\n"
          ],
          "name": "stdout"
        },
        {
          "output_type": "stream",
          "text": [
            "[Parallel(n_jobs=-1)]: Using backend LokyBackend with 2 concurrent workers.\n"
          ],
          "name": "stderr"
        },
        {
          "output_type": "stream",
          "text": [
            "Training Accuracy: 80.16%\n",
            "Testing Accuracy: 82.93%\n",
            "Testing F1-score: 88.65%\n",
            "\n",
            "              precision    recall  f1-score   support\n",
            "\n",
            "           0       0.77      0.57      0.66        35\n",
            "           1       0.85      0.93      0.89        88\n",
            "\n",
            "    accuracy                           0.83       123\n",
            "   macro avg       0.81      0.75      0.77       123\n",
            "weighted avg       0.82      0.83      0.82       123\n",
            "\n"
          ],
          "name": "stdout"
        },
        {
          "output_type": "stream",
          "text": [
            "[Parallel(n_jobs=-1)]: Done 200 out of 200 | elapsed:    1.3s finished\n"
          ],
          "name": "stderr"
        }
      ]
    },
    {
      "cell_type": "markdown",
      "metadata": {
        "id": "NNc5tK1pMfcO"
      },
      "source": [
        "## Random Forest"
      ]
    },
    {
      "cell_type": "code",
      "metadata": {
        "id": "7FEXDBLbEXdl",
        "colab": {
          "base_uri": "https://localhost:8080/"
        },
        "outputId": "fa074eed-0dfa-4229-c0f2-5c0ae2f33c8c"
      },
      "source": [
        "#one hot encoding\r\n",
        "rf = Class(clf = RandomForestClassifier)\r\n",
        "params = {'min_samples_leaf': [2, 3, 4, 5],\r\n",
        "          'min_samples_split':[2,3,4],\r\n",
        "          'n_estimators': np.arange(80,300,20),\r\n",
        "          'criterion': ['entropy','gini'],\r\n",
        "          'max_features': [\"auto\", \"sqrt\", \"log2\"]}\r\n",
        "rf.grid_search(parameters = params, Kfold = 5)\r\n",
        "rf.grid_fit(x_train, y_train)\r\n",
        "rf.grid_predict_train(x_train, y_train)\r\n",
        "rf.grid_predict_test(x_test, y_test)"
      ],
      "execution_count": null,
      "outputs": [
        {
          "output_type": "stream",
          "text": [
            "Fitting 5 folds for each of 792 candidates, totalling 3960 fits\n"
          ],
          "name": "stdout"
        },
        {
          "output_type": "stream",
          "text": [
            "[Parallel(n_jobs=-1)]: Using backend LokyBackend with 2 concurrent workers.\n",
            "[Parallel(n_jobs=-1)]: Done  37 tasks      | elapsed:    7.5s\n",
            "[Parallel(n_jobs=-1)]: Done 158 tasks      | elapsed:   37.9s\n",
            "[Parallel(n_jobs=-1)]: Done 361 tasks      | elapsed:  1.4min\n",
            "[Parallel(n_jobs=-1)]: Done 644 tasks      | elapsed:  2.5min\n",
            "[Parallel(n_jobs=-1)]: Done 1009 tasks      | elapsed:  4.0min\n",
            "[Parallel(n_jobs=-1)]: Done 1454 tasks      | elapsed:  5.7min\n",
            "[Parallel(n_jobs=-1)]: Done 1981 tasks      | elapsed:  7.9min\n",
            "[Parallel(n_jobs=-1)]: Done 2588 tasks      | elapsed: 10.2min\n",
            "[Parallel(n_jobs=-1)]: Done 3277 tasks      | elapsed: 12.8min\n",
            "[Parallel(n_jobs=-1)]: Done 3960 out of 3960 | elapsed: 15.4min finished\n"
          ],
          "name": "stderr"
        },
        {
          "output_type": "stream",
          "text": [
            "Training Accuracy: 81.79%\n",
            "Testing Accuracy: 82.93%\n",
            "Testing F1-score: 89.12%\n",
            "\n",
            "              precision    recall  f1-score   support\n",
            "\n",
            "           0       0.89      0.46      0.60        35\n",
            "           1       0.82      0.98      0.89        88\n",
            "\n",
            "    accuracy                           0.83       123\n",
            "   macro avg       0.85      0.72      0.75       123\n",
            "weighted avg       0.84      0.83      0.81       123\n",
            "\n"
          ],
          "name": "stdout"
        }
      ]
    },
    {
      "cell_type": "code",
      "metadata": {
        "id": "Y5sQLjfeEXbR",
        "colab": {
          "base_uri": "https://localhost:8080/"
        },
        "outputId": "3f7d1488-2ea9-46cf-e9aa-243bec531ad8"
      },
      "source": [
        "#one hot encoding drop\r\n",
        "rf = Class(clf = RandomForestClassifier)\r\n",
        "params = {'min_samples_leaf': [2, 3, 4, 5],\r\n",
        "          'min_samples_split':[2,3,4],\r\n",
        "          'n_estimators': np.arange(80,300,20),\r\n",
        "          'criterion': ['entropy','gini'],\r\n",
        "          'max_features': [\"auto\", \"sqrt\", \"log2\"]}\r\n",
        "rf.grid_search(parameters = params, Kfold = 5)\r\n",
        "rf.grid_fit(x_train_drop, y_train_drop)\r\n",
        "rf.grid_predict_train(x_train_drop, y_train_drop)\r\n",
        "rf.grid_predict_test(x_test_drop, y_test_drop)"
      ],
      "execution_count": null,
      "outputs": [
        {
          "output_type": "stream",
          "text": [
            "Fitting 5 folds for each of 792 candidates, totalling 3960 fits\n"
          ],
          "name": "stdout"
        },
        {
          "output_type": "stream",
          "text": [
            "[Parallel(n_jobs=-1)]: Using backend LokyBackend with 2 concurrent workers.\n",
            "[Parallel(n_jobs=-1)]: Done  37 tasks      | elapsed:    7.5s\n",
            "[Parallel(n_jobs=-1)]: Done 158 tasks      | elapsed:   37.6s\n",
            "[Parallel(n_jobs=-1)]: Done 361 tasks      | elapsed:  1.4min\n",
            "[Parallel(n_jobs=-1)]: Done 644 tasks      | elapsed:  2.5min\n",
            "[Parallel(n_jobs=-1)]: Done 1009 tasks      | elapsed:  4.0min\n",
            "[Parallel(n_jobs=-1)]: Done 1454 tasks      | elapsed:  5.7min\n",
            "[Parallel(n_jobs=-1)]: Done 1981 tasks      | elapsed:  7.8min\n",
            "[Parallel(n_jobs=-1)]: Done 2588 tasks      | elapsed: 10.1min\n",
            "[Parallel(n_jobs=-1)]: Done 3277 tasks      | elapsed: 12.7min\n",
            "[Parallel(n_jobs=-1)]: Done 3960 out of 3960 | elapsed: 15.3min finished\n"
          ],
          "name": "stderr"
        },
        {
          "output_type": "stream",
          "text": [
            "Training Accuracy: 90.76%\n",
            "Testing Accuracy: 82.93%\n",
            "\n",
            "              precision    recall  f1-score   support\n",
            "\n",
            "           0       0.85      0.49      0.62        35\n",
            "           1       0.83      0.97      0.89        88\n",
            "\n",
            "    accuracy                           0.83       123\n",
            "   macro avg       0.84      0.73      0.75       123\n",
            "weighted avg       0.83      0.83      0.81       123\n",
            "\n"
          ],
          "name": "stdout"
        }
      ]
    },
    {
      "cell_type": "code",
      "metadata": {
        "id": "cEKt7QX3EXY7",
        "colab": {
          "base_uri": "https://localhost:8080/"
        },
        "outputId": "f97a1724-ee7c-4e0d-c91e-203eb30f884e"
      },
      "source": [
        "#one hot encoding drop -transform & scale\r\n",
        "rf = Class(clf = RandomForestClassifier)\r\n",
        "params = {'min_samples_leaf': [2, 3, 4, 5],\r\n",
        "          'min_samples_split':[2,3,4],\r\n",
        "          'n_estimators': np.arange(80,300,20),\r\n",
        "          'criterion': ['entropy','gini'],\r\n",
        "          'max_features': [\"auto\", \"sqrt\", \"log2\"]}\r\n",
        "rf.grid_search(parameters = params, Kfold = 5)\r\n",
        "rf.grid_fit(xtrain_scale_drop, y_train_drop)\r\n",
        "rf.grid_predict_train(xtrain_scale_drop, y_train_drop)\r\n",
        "rf.grid_predict_test(xtest_scale_drop, y_test_drop)"
      ],
      "execution_count": null,
      "outputs": [
        {
          "output_type": "stream",
          "text": [
            "Fitting 5 folds for each of 792 candidates, totalling 3960 fits\n"
          ],
          "name": "stdout"
        },
        {
          "output_type": "stream",
          "text": [
            "[Parallel(n_jobs=-1)]: Using backend LokyBackend with 2 concurrent workers.\n",
            "[Parallel(n_jobs=-1)]: Done  37 tasks      | elapsed:    7.5s\n",
            "[Parallel(n_jobs=-1)]: Done 158 tasks      | elapsed:   37.4s\n",
            "[Parallel(n_jobs=-1)]: Done 361 tasks      | elapsed:  1.4min\n",
            "[Parallel(n_jobs=-1)]: Done 644 tasks      | elapsed:  2.5min\n",
            "[Parallel(n_jobs=-1)]: Done 1009 tasks      | elapsed:  4.0min\n",
            "[Parallel(n_jobs=-1)]: Done 1454 tasks      | elapsed:  5.7min\n",
            "[Parallel(n_jobs=-1)]: Done 1981 tasks      | elapsed:  7.8min\n",
            "[Parallel(n_jobs=-1)]: Done 2588 tasks      | elapsed: 10.1min\n",
            "[Parallel(n_jobs=-1)]: Done 3277 tasks      | elapsed: 12.7min\n",
            "[Parallel(n_jobs=-1)]: Done 3960 out of 3960 | elapsed: 15.3min finished\n"
          ],
          "name": "stderr"
        },
        {
          "output_type": "stream",
          "text": [
            "Training Accuracy: 82.07%\n",
            "Testing Accuracy: 82.93%\n",
            "Testing F1-score: 89.12%\n",
            "\n",
            "              precision    recall  f1-score   support\n",
            "\n",
            "           0       0.89      0.46      0.60        35\n",
            "           1       0.82      0.98      0.89        88\n",
            "\n",
            "    accuracy                           0.83       123\n",
            "   macro avg       0.85      0.72      0.75       123\n",
            "weighted avg       0.84      0.83      0.81       123\n",
            "\n"
          ],
          "name": "stdout"
        }
      ]
    },
    {
      "cell_type": "markdown",
      "metadata": {
        "id": "UG4Ir1fyipAH"
      },
      "source": [
        "## Decision Tree"
      ]
    },
    {
      "cell_type": "code",
      "metadata": {
        "id": "v-6YOqzhEXWk",
        "colab": {
          "base_uri": "https://localhost:8080/"
        },
        "outputId": "494c385c-0dd0-49ae-9550-0f92b7eb01c3"
      },
      "source": [
        "#one hot encoding\r\n",
        "dt = Class(clf = DecisionTreeClassifier)\r\n",
        "params = {'min_samples_leaf': [1, 2, 3, 4, 5],\r\n",
        "          'min_samples_split':[2,3,4,5],\r\n",
        "          'criterion': ['entropy','gini'],\r\n",
        "          'max_features': [\"auto\", \"sqrt\", \"log2\"]}\r\n",
        "dt.grid_search(parameters = params, Kfold = 5)\r\n",
        "dt.grid_fit(x_train, y_train)\r\n",
        "dt.grid_predict_train(x_train, y_train)\r\n",
        "dt.grid_predict_test(x_test, y_test)"
      ],
      "execution_count": null,
      "outputs": [
        {
          "output_type": "stream",
          "text": [
            "Fitting 5 folds for each of 120 candidates, totalling 600 fits\n"
          ],
          "name": "stdout"
        },
        {
          "output_type": "stream",
          "text": [
            "[Parallel(n_jobs=-1)]: Using backend LokyBackend with 2 concurrent workers.\n"
          ],
          "name": "stderr"
        },
        {
          "output_type": "stream",
          "text": [
            "Training Accuracy: 83.15%\n",
            "Testing Accuracy: 74.80%\n",
            "Testing F1-score: 82.87%\n",
            "\n",
            "              precision    recall  f1-score   support\n",
            "\n",
            "           0       0.57      0.49      0.52        35\n",
            "           1       0.81      0.85      0.83        88\n",
            "\n",
            "    accuracy                           0.75       123\n",
            "   macro avg       0.69      0.67      0.68       123\n",
            "weighted avg       0.74      0.75      0.74       123\n",
            "\n"
          ],
          "name": "stdout"
        },
        {
          "output_type": "stream",
          "text": [
            "[Parallel(n_jobs=-1)]: Done 544 tasks      | elapsed:    1.9s\n",
            "[Parallel(n_jobs=-1)]: Done 600 out of 600 | elapsed:    2.0s finished\n"
          ],
          "name": "stderr"
        }
      ]
    },
    {
      "cell_type": "code",
      "metadata": {
        "id": "HeF9gjiDEXT7",
        "colab": {
          "base_uri": "https://localhost:8080/"
        },
        "outputId": "a66f921c-91f8-4f34-9e07-01f217f14d99"
      },
      "source": [
        "#one hot encoding drop\r\n",
        "dt = Class(clf = DecisionTreeClassifier)\r\n",
        "params = {'min_samples_leaf': [1, 2, 3, 4, 5],\r\n",
        "          'min_samples_split':[2,3,4,5],\r\n",
        "          'criterion': ['entropy','gini'],\r\n",
        "          'max_features': [\"auto\", \"sqrt\", \"log2\"]}\r\n",
        "dt.grid_search(parameters = params, Kfold = 5)\r\n",
        "dt.grid_fit(x_train_drop, y_train_drop)\r\n",
        "dt.grid_predict_train(x_train_drop, y_train_drop)\r\n",
        "dt.grid_predict_test(x_test_drop, y_test_drop)"
      ],
      "execution_count": null,
      "outputs": [
        {
          "output_type": "stream",
          "text": [
            "Fitting 5 folds for each of 120 candidates, totalling 600 fits\n"
          ],
          "name": "stdout"
        },
        {
          "output_type": "stream",
          "text": [
            "[Parallel(n_jobs=-1)]: Using backend LokyBackend with 2 concurrent workers.\n",
            "[Parallel(n_jobs=-1)]: Done 468 tasks      | elapsed:    1.6s\n"
          ],
          "name": "stderr"
        },
        {
          "output_type": "stream",
          "text": [
            "Training Accuracy: 86.14%\n",
            "Testing Accuracy: 78.05%\n",
            "Testing F1-score: 84.75%\n",
            "\n",
            "              precision    recall  f1-score   support\n",
            "\n",
            "           0       0.62      0.60      0.61        35\n",
            "           1       0.84      0.85      0.85        88\n",
            "\n",
            "    accuracy                           0.78       123\n",
            "   macro avg       0.73      0.73      0.73       123\n",
            "weighted avg       0.78      0.78      0.78       123\n",
            "\n"
          ],
          "name": "stdout"
        },
        {
          "output_type": "stream",
          "text": [
            "[Parallel(n_jobs=-1)]: Done 597 out of 600 | elapsed:    2.0s remaining:    0.0s\n",
            "[Parallel(n_jobs=-1)]: Done 600 out of 600 | elapsed:    2.0s finished\n"
          ],
          "name": "stderr"
        }
      ]
    },
    {
      "cell_type": "code",
      "metadata": {
        "id": "qdptCKRdEXQX",
        "colab": {
          "base_uri": "https://localhost:8080/"
        },
        "outputId": "d6c77aef-3257-4b6a-95d6-d15f70d44959"
      },
      "source": [
        "#one hot encoding drop -transform & scale\r\n",
        "dt = Class(clf = DecisionTreeClassifier)\r\n",
        "params = {'min_samples_leaf': [1, 2, 3, 4, 5],\r\n",
        "          'min_samples_split':[2,3,4,5],\r\n",
        "          'criterion': ['entropy','gini'],\r\n",
        "          'max_features': [\"auto\", \"sqrt\", \"log2\"]}\r\n",
        "dt.grid_search(parameters = params, Kfold = 5)\r\n",
        "dt.grid_fit(xtrain_scale_drop, y_train_drop)\r\n",
        "dt.grid_predict_train(xtrain_scale_drop, y_train_drop)\r\n",
        "dt.grid_predict_test(xtest_scale_drop, y_test_drop)"
      ],
      "execution_count": null,
      "outputs": [
        {
          "output_type": "stream",
          "text": [
            "Fitting 5 folds for each of 120 candidates, totalling 600 fits\n"
          ],
          "name": "stdout"
        },
        {
          "output_type": "stream",
          "text": [
            "[Parallel(n_jobs=-1)]: Using backend LokyBackend with 2 concurrent workers.\n"
          ],
          "name": "stderr"
        },
        {
          "output_type": "stream",
          "text": [
            "Training Accuracy: 85.60%\n",
            "Testing Accuracy: 69.11%\n",
            "Testing F1-score: 77.38%\n",
            "\n",
            "              precision    recall  f1-score   support\n",
            "\n",
            "           0       0.47      0.57      0.51        35\n",
            "           1       0.81      0.74      0.77        88\n",
            "\n",
            "    accuracy                           0.69       123\n",
            "   macro avg       0.64      0.66      0.64       123\n",
            "weighted avg       0.71      0.69      0.70       123\n",
            "\n"
          ],
          "name": "stdout"
        },
        {
          "output_type": "stream",
          "text": [
            "[Parallel(n_jobs=-1)]: Done 575 tasks      | elapsed:    1.7s\n",
            "[Parallel(n_jobs=-1)]: Done 600 out of 600 | elapsed:    1.8s finished\n"
          ],
          "name": "stderr"
        }
      ]
    },
    {
      "cell_type": "markdown",
      "metadata": {
        "id": "33Cru6IFl3sb"
      },
      "source": [
        "## Gradient Boosting"
      ]
    },
    {
      "cell_type": "code",
      "metadata": {
        "colab": {
          "base_uri": "https://localhost:8080/"
        },
        "id": "ktrcCbUNl9en",
        "outputId": "17e73d5d-e806-4cf4-8e66-91c640bda801"
      },
      "source": [
        "#one hot encoding\r\n",
        "gb = Class(clf = GradientBoostingClassifier)\r\n",
        "params = {'n_estimators': np.arange(90,300,30),\r\n",
        "          'loss': ['deviance', 'exponential'],\r\n",
        "          'learning_rate': [0.01, 0.1, 1, 5],\r\n",
        "          'criterion': ['friedman_mse', 'mse', 'mae']}\r\n",
        "gb.grid_search(parameters = params, Kfold = 5)\r\n",
        "gb.grid_fit(x_train, y_train)\r\n",
        "gb.grid_predict_train(x_train, y_train)\r\n",
        "gb.grid_predict_test(x_test, y_test)"
      ],
      "execution_count": null,
      "outputs": [
        {
          "output_type": "stream",
          "text": [
            "Fitting 5 folds for each of 168 candidates, totalling 840 fits\n"
          ],
          "name": "stdout"
        },
        {
          "output_type": "stream",
          "text": [
            "[Parallel(n_jobs=-1)]: Using backend LokyBackend with 2 concurrent workers.\n",
            "[Parallel(n_jobs=-1)]: Done  37 tasks      | elapsed:    5.9s\n",
            "[Parallel(n_jobs=-1)]: Done 158 tasks      | elapsed:   22.5s\n",
            "[Parallel(n_jobs=-1)]: Done 361 tasks      | elapsed:   49.5s\n",
            "[Parallel(n_jobs=-1)]: Done 644 tasks      | elapsed:  2.3min\n",
            "[Parallel(n_jobs=-1)]: Done 840 out of 840 | elapsed:  4.9min finished\n"
          ],
          "name": "stderr"
        },
        {
          "output_type": "stream",
          "text": [
            "Training Accuracy: 81.79%\n",
            "Testing Accuracy: 83.74%\n",
            "Testing F1-score: 89.58%\n",
            "\n",
            "              precision    recall  f1-score   support\n",
            "\n",
            "           0       0.89      0.49      0.63        35\n",
            "           1       0.83      0.98      0.90        88\n",
            "\n",
            "    accuracy                           0.84       123\n",
            "   macro avg       0.86      0.73      0.76       123\n",
            "weighted avg       0.85      0.84      0.82       123\n",
            "\n"
          ],
          "name": "stdout"
        }
      ]
    },
    {
      "cell_type": "code",
      "metadata": {
        "colab": {
          "base_uri": "https://localhost:8080/"
        },
        "id": "l9s5fsWDl9Y-",
        "outputId": "d1aa8c67-e66b-440b-e308-09befe603e6c"
      },
      "source": [
        "#one hot encoding drop\r\n",
        "gb = Class(clf = GradientBoostingClassifier)\r\n",
        "params = {'n_estimators': np.arange(90,300,30),\r\n",
        "          'loss': ['deviance', 'exponential'],\r\n",
        "          'learning_rate': [0.01, 0.1, 1, 5],\r\n",
        "          'criterion': ['friedman_mse', 'mse', 'mae']}\r\n",
        "gb.grid_search(parameters = params, Kfold = 5)\r\n",
        "gb.grid_fit(x_train_drop, y_train_drop)\r\n",
        "gb.grid_predict_train(x_train_drop, y_train_drop)\r\n",
        "gb.grid_predict_test(x_test_drop, y_test_drop)"
      ],
      "execution_count": null,
      "outputs": [
        {
          "output_type": "stream",
          "text": [
            "Fitting 5 folds for each of 168 candidates, totalling 840 fits\n"
          ],
          "name": "stdout"
        },
        {
          "output_type": "stream",
          "text": [
            "[Parallel(n_jobs=-1)]: Using backend LokyBackend with 2 concurrent workers.\n",
            "[Parallel(n_jobs=-1)]: Done  70 tasks      | elapsed:    9.4s\n",
            "[Parallel(n_jobs=-1)]: Done 312 tasks      | elapsed:   39.3s\n",
            "[Parallel(n_jobs=-1)]: Done 647 tasks      | elapsed:  2.1min\n"
          ],
          "name": "stderr"
        },
        {
          "output_type": "stream",
          "text": [
            "Training Accuracy: 81.25%\n",
            "Testing Accuracy: 81.30%\n",
            "Testing F1-score: 88.21%\n",
            "\n",
            "              precision    recall  f1-score   support\n",
            "\n",
            "           0       0.88      0.40      0.55        35\n",
            "           1       0.80      0.98      0.88        88\n",
            "\n",
            "    accuracy                           0.81       123\n",
            "   macro avg       0.84      0.69      0.72       123\n",
            "weighted avg       0.82      0.81      0.79       123\n",
            "\n"
          ],
          "name": "stdout"
        },
        {
          "output_type": "stream",
          "text": [
            "[Parallel(n_jobs=-1)]: Done 840 out of 840 | elapsed:  4.2min finished\n"
          ],
          "name": "stderr"
        }
      ]
    },
    {
      "cell_type": "code",
      "metadata": {
        "colab": {
          "base_uri": "https://localhost:8080/"
        },
        "id": "i6mlH4Qwl9Sl",
        "outputId": "9acfe0ea-235d-4050-f7fb-ec2b75b2f758"
      },
      "source": [
        "#one hot encoding drop -transform & scale\r\n",
        "gb = Class(clf = GradientBoostingClassifier)\r\n",
        "params = {'n_estimators': np.arange(90,300,30),\r\n",
        "          'loss': ['deviance', 'exponential'],\r\n",
        "          'learning_rate': [0.01, 0.1, 1, 5],\r\n",
        "          'criterion': ['friedman_mse', 'mse', 'mae']}\r\n",
        "gb.grid_search(parameters = params, Kfold = 5)\r\n",
        "gb.grid_fit(xtrain_scale_drop, y_train_drop)\r\n",
        "gb.grid_predict_train(xtrain_scale_drop, y_train_drop)\r\n",
        "gb.grid_predict_test(xtest_scale_drop, y_test_drop)"
      ],
      "execution_count": null,
      "outputs": [
        {
          "output_type": "stream",
          "text": [
            "[Parallel(n_jobs=-1)]: Using backend LokyBackend with 2 concurrent workers.\n"
          ],
          "name": "stderr"
        },
        {
          "output_type": "stream",
          "text": [
            "Fitting 5 folds for each of 168 candidates, totalling 840 fits\n"
          ],
          "name": "stdout"
        },
        {
          "output_type": "stream",
          "text": [
            "[Parallel(n_jobs=-1)]: Done  70 tasks      | elapsed:    9.4s\n",
            "[Parallel(n_jobs=-1)]: Done 312 tasks      | elapsed:   39.2s\n",
            "[Parallel(n_jobs=-1)]: Done 647 tasks      | elapsed:  2.0min\n",
            "[Parallel(n_jobs=-1)]: Done 840 out of 840 | elapsed:  4.1min finished\n"
          ],
          "name": "stderr"
        },
        {
          "output_type": "stream",
          "text": [
            "Training Accuracy: 82.07%\n",
            "Testing Accuracy: 80.49%\n",
            "Testing F1-score: 87.76%\n",
            "\n",
            "              precision    recall  f1-score   support\n",
            "\n",
            "           0       0.87      0.37      0.52        35\n",
            "           1       0.80      0.98      0.88        88\n",
            "\n",
            "    accuracy                           0.80       123\n",
            "   macro avg       0.83      0.67      0.70       123\n",
            "weighted avg       0.82      0.80      0.78       123\n",
            "\n"
          ],
          "name": "stdout"
        }
      ]
    },
    {
      "cell_type": "markdown",
      "metadata": {
        "id": "Iw8BunL9mDYn"
      },
      "source": [
        "## XGBoost"
      ]
    },
    {
      "cell_type": "code",
      "metadata": {
        "colab": {
          "base_uri": "https://localhost:8080/"
        },
        "id": "KQDDP0FkmIMC",
        "outputId": "cae671d1-b80d-4d36-c9f3-3b296a8b6b1c"
      },
      "source": [
        "#one hot encoding\r\n",
        "xgb = Class(clf = XGBClassifier)\r\n",
        "params = {'n_estimators': np.arange(100,500,100),\r\n",
        "          'loss': ['deviance', 'exponential'],\r\n",
        "          'eta': [0.01, 0.1, 1, 5],\r\n",
        "          'min_child_weight':[1, 2, 3],\r\n",
        "          'max_depth': [5,6,7]}\r\n",
        "\r\n",
        "xgb.grid_search(parameters = params, Kfold = 5)\r\n",
        "xgb.grid_fit(x_train, y_train)\r\n",
        "xgb.grid_predict_train(x_train, y_train)\r\n",
        "xgb.grid_predict_test(x_test, y_test)"
      ],
      "execution_count": null,
      "outputs": [
        {
          "output_type": "stream",
          "text": [
            "Fitting 5 folds for each of 288 candidates, totalling 1440 fits\n"
          ],
          "name": "stdout"
        },
        {
          "output_type": "stream",
          "text": [
            "[Parallel(n_jobs=-1)]: Using backend LokyBackend with 2 concurrent workers.\n",
            "[Parallel(n_jobs=-1)]: Done  37 tasks      | elapsed:    4.6s\n",
            "[Parallel(n_jobs=-1)]: Done 158 tasks      | elapsed:   17.5s\n",
            "[Parallel(n_jobs=-1)]: Done 361 tasks      | elapsed:   38.6s\n",
            "[Parallel(n_jobs=-1)]: Done 644 tasks      | elapsed:  1.1min\n",
            "[Parallel(n_jobs=-1)]: Done 1009 tasks      | elapsed:  1.7min\n"
          ],
          "name": "stderr"
        },
        {
          "output_type": "stream",
          "text": [
            "Training Accuracy: 91.58%\n",
            "Testing Accuracy: 78.86%\n",
            "Testing F1-score: 85.71%\n",
            "\n",
            "              precision    recall  f1-score   support\n",
            "\n",
            "           0       0.66      0.54      0.59        35\n",
            "           1       0.83      0.89      0.86        88\n",
            "\n",
            "    accuracy                           0.79       123\n",
            "   macro avg       0.74      0.71      0.73       123\n",
            "weighted avg       0.78      0.79      0.78       123\n",
            "\n"
          ],
          "name": "stdout"
        },
        {
          "output_type": "stream",
          "text": [
            "[Parallel(n_jobs=-1)]: Done 1440 out of 1440 | elapsed:  2.5min finished\n"
          ],
          "name": "stderr"
        }
      ]
    },
    {
      "cell_type": "code",
      "metadata": {
        "colab": {
          "base_uri": "https://localhost:8080/"
        },
        "id": "iBwxoBkDmIEW",
        "outputId": "9f7f714a-f77d-430d-c455-8bb13bd0f159"
      },
      "source": [
        "#one hot encoding drop\r\n",
        "xgb = Class(clf = XGBClassifier)\r\n",
        "params = {'n_estimators': np.arange(100,500,100),\r\n",
        "          'loss': ['deviance', 'exponential'],\r\n",
        "          'eta': [0.01, 0.1, 1, 5],\r\n",
        "          'min_child_weight':[1, 2, 3],\r\n",
        "          'max_depth': [5,6,7]}\r\n",
        "xgb.grid_search(parameters = params, Kfold = 5)\r\n",
        "xgb.grid_fit(x_train_drop, y_train_drop)\r\n",
        "xgb.grid_predict_train(x_train_drop, y_train_drop)\r\n",
        "xgb.grid_predict_test(x_test_drop, y_test_drop)"
      ],
      "execution_count": null,
      "outputs": [
        {
          "output_type": "stream",
          "text": [
            "Fitting 5 folds for each of 288 candidates, totalling 1440 fits\n"
          ],
          "name": "stdout"
        },
        {
          "output_type": "stream",
          "text": [
            "[Parallel(n_jobs=-1)]: Using backend LokyBackend with 2 concurrent workers.\n",
            "[Parallel(n_jobs=-1)]: Done  70 tasks      | elapsed:    5.4s\n",
            "[Parallel(n_jobs=-1)]: Done 312 tasks      | elapsed:   26.5s\n",
            "[Parallel(n_jobs=-1)]: Done 718 tasks      | elapsed:  1.0min\n",
            "[Parallel(n_jobs=-1)]: Done 1284 tasks      | elapsed:  1.8min\n"
          ],
          "name": "stderr"
        },
        {
          "output_type": "stream",
          "text": [
            "Training Accuracy: 95.11%\n",
            "Testing Accuracy: 81.30%\n",
            "Testing F1-score: 87.83%\n",
            "\n",
            "              precision    recall  f1-score   support\n",
            "\n",
            "           0       0.77      0.49      0.60        35\n",
            "           1       0.82      0.94      0.88        88\n",
            "\n",
            "    accuracy                           0.81       123\n",
            "   macro avg       0.80      0.71      0.74       123\n",
            "weighted avg       0.81      0.81      0.80       123\n",
            "\n"
          ],
          "name": "stdout"
        },
        {
          "output_type": "stream",
          "text": [
            "[Parallel(n_jobs=-1)]: Done 1440 out of 1440 | elapsed:  2.1min finished\n"
          ],
          "name": "stderr"
        }
      ]
    },
    {
      "cell_type": "code",
      "metadata": {
        "id": "_yv5pVUumH8x",
        "colab": {
          "base_uri": "https://localhost:8080/"
        },
        "outputId": "53d5fd6b-553f-42f9-e762-adc9be54de95"
      },
      "source": [
        "#one hot encoding drop -transform & scale\r\n",
        "xgb = Class(clf = XGBClassifier)\r\n",
        "params = {'n_estimators': np.arange(100,500,100),\r\n",
        "          'loss': ['deviance', 'exponential'],\r\n",
        "          'eta': [0.01, 0.1, 1, 5],\r\n",
        "          'min_child_weight':[1, 2, 3],\r\n",
        "          'max_depth': [5,6,7]}\r\n",
        "xgb.grid_search(parameters = params, Kfold = 5)\r\n",
        "xgb.grid_fit(xtrain_scale_drop, y_train_drop)\r\n",
        "xgb.grid_predict_train(xtrain_scale_drop, y_train_drop)\r\n",
        "xgb.grid_predict_test(xtest_scale_drop, y_test_drop)"
      ],
      "execution_count": null,
      "outputs": [
        {
          "output_type": "stream",
          "text": [
            "Fitting 5 folds for each of 288 candidates, totalling 1440 fits\n"
          ],
          "name": "stdout"
        },
        {
          "output_type": "stream",
          "text": [
            "[Parallel(n_jobs=-1)]: Using backend LokyBackend with 2 concurrent workers.\n",
            "[Parallel(n_jobs=-1)]: Done  70 tasks      | elapsed:    5.4s\n",
            "[Parallel(n_jobs=-1)]: Done 312 tasks      | elapsed:   26.3s\n",
            "[Parallel(n_jobs=-1)]: Done 718 tasks      | elapsed:  1.0min\n",
            "[Parallel(n_jobs=-1)]: Done 1284 tasks      | elapsed:  1.8min\n"
          ],
          "name": "stderr"
        },
        {
          "output_type": "stream",
          "text": [
            "Training Accuracy: 95.11%\n",
            "Testing Accuracy: 81.30%\n",
            "Testing F1-score: 87.96%\n",
            "\n",
            "              precision    recall  f1-score   support\n",
            "\n",
            "           0       0.80      0.46      0.58        35\n",
            "           1       0.82      0.95      0.88        88\n",
            "\n",
            "    accuracy                           0.81       123\n",
            "   macro avg       0.81      0.71      0.73       123\n",
            "weighted avg       0.81      0.81      0.79       123\n",
            "\n"
          ],
          "name": "stdout"
        },
        {
          "output_type": "stream",
          "text": [
            "[Parallel(n_jobs=-1)]: Done 1440 out of 1440 | elapsed:  2.1min finished\n"
          ],
          "name": "stderr"
        }
      ]
    },
    {
      "cell_type": "markdown",
      "metadata": {
        "id": "eugObFY40nXE"
      },
      "source": [
        "<b>Modelling Summarizatoin</b>\r\n",
        "- I used 7 classifiers to buld the model where every classifier has 3 combination (ohe : one hot encoding, ohe_dp : one hot encoding drop first, ohe_dp_tfsc : one hot encoding drop first transform and scaling). So we have 21 results from this modelling step.\r\n",
        "- Three models are overfitting i.e XGBoost(all), Decission Tree(all), and RF (ohe_dp)\r\n",
        "- Some of models have low accuracy score like SVM(ohe, ohe_dp) and knn(ohe, ohe_drop)\r\n",
        "- So we only have 10 good model, to select which is the best. We can see from the accuracy score and also its f1-score. I choose 3 best model : LR ohe (T(train): 80.98% Tt(Test): 83.74% F1: 89.58%), RF ohe_dp_tfsc (T: 82.07% Tt: 82.93% F1: 89.12%) and GB ohe (T: 81.79% Tt: 83.74% F1: 89.58%)"
      ]
    },
    {
      "cell_type": "markdown",
      "metadata": {
        "id": "3QI_YRpm9-oK"
      },
      "source": [
        "#**Predict Data Test**"
      ]
    },
    {
      "cell_type": "code",
      "metadata": {
        "colab": {
          "base_uri": "https://localhost:8080/",
          "height": 181
        },
        "id": "WEMx_W6O-CJO",
        "outputId": "b01261c3-a225-4b12-bf12-a8bc6de3a1d4"
      },
      "source": [
        "#check missing value \r\n",
        "get_null_value_report(test_data)"
      ],
      "execution_count": null,
      "outputs": [
        {
          "output_type": "execute_result",
          "data": {
            "text/html": [
              "<div>\n",
              "<style scoped>\n",
              "    .dataframe tbody tr th:only-of-type {\n",
              "        vertical-align: middle;\n",
              "    }\n",
              "\n",
              "    .dataframe tbody tr th {\n",
              "        vertical-align: top;\n",
              "    }\n",
              "\n",
              "    .dataframe thead th {\n",
              "        text-align: right;\n",
              "    }\n",
              "</style>\n",
              "<table border=\"1\" class=\"dataframe\">\n",
              "  <thead>\n",
              "    <tr style=\"text-align: right;\">\n",
              "      <th></th>\n",
              "      <th>Loan_ID</th>\n",
              "      <th>Gender</th>\n",
              "      <th>Married</th>\n",
              "      <th>Dependents</th>\n",
              "      <th>Education</th>\n",
              "      <th>Self_Employed</th>\n",
              "      <th>ApplicantIncome</th>\n",
              "      <th>CoapplicantIncome</th>\n",
              "      <th>LoanAmount</th>\n",
              "      <th>Loan_Amount_Term</th>\n",
              "      <th>Credit_History</th>\n",
              "      <th>Property_Area</th>\n",
              "    </tr>\n",
              "  </thead>\n",
              "  <tbody>\n",
              "    <tr>\n",
              "      <th>Columns Type</th>\n",
              "      <td>object</td>\n",
              "      <td>object</td>\n",
              "      <td>object</td>\n",
              "      <td>object</td>\n",
              "      <td>object</td>\n",
              "      <td>object</td>\n",
              "      <td>int64</td>\n",
              "      <td>float64</td>\n",
              "      <td>float64</td>\n",
              "      <td>float64</td>\n",
              "      <td>float64</td>\n",
              "      <td>object</td>\n",
              "    </tr>\n",
              "    <tr>\n",
              "      <th>Null Value</th>\n",
              "      <td>0</td>\n",
              "      <td>3</td>\n",
              "      <td>2</td>\n",
              "      <td>6</td>\n",
              "      <td>0</td>\n",
              "      <td>3</td>\n",
              "      <td>0</td>\n",
              "      <td>0</td>\n",
              "      <td>6</td>\n",
              "      <td>1</td>\n",
              "      <td>7</td>\n",
              "      <td>0</td>\n",
              "    </tr>\n",
              "    <tr>\n",
              "      <th>Percentage</th>\n",
              "      <td>0</td>\n",
              "      <td>2.44</td>\n",
              "      <td>1.63</td>\n",
              "      <td>4.88</td>\n",
              "      <td>0</td>\n",
              "      <td>2.44</td>\n",
              "      <td>0</td>\n",
              "      <td>0</td>\n",
              "      <td>4.88</td>\n",
              "      <td>0.81</td>\n",
              "      <td>5.69</td>\n",
              "      <td>0</td>\n",
              "    </tr>\n",
              "  </tbody>\n",
              "</table>\n",
              "</div>"
            ],
            "text/plain": [
              "             Loan_ID  Gender  ... Credit_History Property_Area\n",
              "Columns Type  object  object  ...        float64        object\n",
              "Null Value         0       3  ...              7             0\n",
              "Percentage         0    2.44  ...           5.69             0\n",
              "\n",
              "[3 rows x 12 columns]"
            ]
          },
          "metadata": {
            "tags": []
          },
          "execution_count": 69
        }
      ]
    },
    {
      "cell_type": "code",
      "metadata": {
        "colab": {
          "base_uri": "https://localhost:8080/",
          "height": 181
        },
        "id": "u-YyCtuL-X4-",
        "outputId": "b30e3fdb-1304-4937-e585-9edb95408d43"
      },
      "source": [
        "#missing value handling\r\n",
        "\r\n",
        "#inputation in categorical data\r\n",
        "for col in test_data.select_dtypes(include='object').columns:\r\n",
        "  test_data[col] = test_data[col].fillna(test_data[col].mode()[0])\r\n",
        "\r\n",
        "#inputation in numerical data\r\n",
        "for col in test_data.select_dtypes(include='number').columns:\r\n",
        "  test_data[col] = test_data[col].fillna(test_data[col].median())\r\n",
        "\r\n",
        "get_null_value_report(test_data)"
      ],
      "execution_count": null,
      "outputs": [
        {
          "output_type": "execute_result",
          "data": {
            "text/html": [
              "<div>\n",
              "<style scoped>\n",
              "    .dataframe tbody tr th:only-of-type {\n",
              "        vertical-align: middle;\n",
              "    }\n",
              "\n",
              "    .dataframe tbody tr th {\n",
              "        vertical-align: top;\n",
              "    }\n",
              "\n",
              "    .dataframe thead th {\n",
              "        text-align: right;\n",
              "    }\n",
              "</style>\n",
              "<table border=\"1\" class=\"dataframe\">\n",
              "  <thead>\n",
              "    <tr style=\"text-align: right;\">\n",
              "      <th></th>\n",
              "      <th>Loan_ID</th>\n",
              "      <th>Gender</th>\n",
              "      <th>Married</th>\n",
              "      <th>Dependents</th>\n",
              "      <th>Education</th>\n",
              "      <th>Self_Employed</th>\n",
              "      <th>ApplicantIncome</th>\n",
              "      <th>CoapplicantIncome</th>\n",
              "      <th>LoanAmount</th>\n",
              "      <th>Loan_Amount_Term</th>\n",
              "      <th>Credit_History</th>\n",
              "      <th>Property_Area</th>\n",
              "    </tr>\n",
              "  </thead>\n",
              "  <tbody>\n",
              "    <tr>\n",
              "      <th>Columns Type</th>\n",
              "      <td>object</td>\n",
              "      <td>object</td>\n",
              "      <td>object</td>\n",
              "      <td>object</td>\n",
              "      <td>object</td>\n",
              "      <td>object</td>\n",
              "      <td>int64</td>\n",
              "      <td>float64</td>\n",
              "      <td>float64</td>\n",
              "      <td>float64</td>\n",
              "      <td>float64</td>\n",
              "      <td>object</td>\n",
              "    </tr>\n",
              "    <tr>\n",
              "      <th>Null Value</th>\n",
              "      <td>0</td>\n",
              "      <td>0</td>\n",
              "      <td>0</td>\n",
              "      <td>0</td>\n",
              "      <td>0</td>\n",
              "      <td>0</td>\n",
              "      <td>0</td>\n",
              "      <td>0</td>\n",
              "      <td>0</td>\n",
              "      <td>0</td>\n",
              "      <td>0</td>\n",
              "      <td>0</td>\n",
              "    </tr>\n",
              "    <tr>\n",
              "      <th>Percentage</th>\n",
              "      <td>0</td>\n",
              "      <td>0</td>\n",
              "      <td>0</td>\n",
              "      <td>0</td>\n",
              "      <td>0</td>\n",
              "      <td>0</td>\n",
              "      <td>0</td>\n",
              "      <td>0</td>\n",
              "      <td>0</td>\n",
              "      <td>0</td>\n",
              "      <td>0</td>\n",
              "      <td>0</td>\n",
              "    </tr>\n",
              "  </tbody>\n",
              "</table>\n",
              "</div>"
            ],
            "text/plain": [
              "             Loan_ID  Gender  ... Credit_History Property_Area\n",
              "Columns Type  object  object  ...        float64        object\n",
              "Null Value         0       0  ...              0             0\n",
              "Percentage         0       0  ...              0             0\n",
              "\n",
              "[3 rows x 12 columns]"
            ]
          },
          "metadata": {
            "tags": []
          },
          "execution_count": 70
        }
      ]
    },
    {
      "cell_type": "code",
      "metadata": {
        "colab": {
          "base_uri": "https://localhost:8080/",
          "height": 244
        },
        "id": "QGBRl91j-0lL",
        "outputId": "964fb564-3445-4875-e0f6-105c637eee27"
      },
      "source": [
        "#drop column\r\n",
        "test_data = test_data.drop(['Loan_ID'], axis=1)\r\n",
        "\r\n",
        "#without drop first\r\n",
        "test_data1 = pd.get_dummies(test_data)\r\n",
        "\r\n",
        "#with drop first\r\n",
        "test_data2 = pd.get_dummies(test_data, drop_first=True)\r\n",
        "test_data2.head()"
      ],
      "execution_count": null,
      "outputs": [
        {
          "output_type": "execute_result",
          "data": {
            "text/html": [
              "<div>\n",
              "<style scoped>\n",
              "    .dataframe tbody tr th:only-of-type {\n",
              "        vertical-align: middle;\n",
              "    }\n",
              "\n",
              "    .dataframe tbody tr th {\n",
              "        vertical-align: top;\n",
              "    }\n",
              "\n",
              "    .dataframe thead th {\n",
              "        text-align: right;\n",
              "    }\n",
              "</style>\n",
              "<table border=\"1\" class=\"dataframe\">\n",
              "  <thead>\n",
              "    <tr style=\"text-align: right;\">\n",
              "      <th></th>\n",
              "      <th>ApplicantIncome</th>\n",
              "      <th>CoapplicantIncome</th>\n",
              "      <th>LoanAmount</th>\n",
              "      <th>Loan_Amount_Term</th>\n",
              "      <th>Credit_History</th>\n",
              "      <th>Gender_Male</th>\n",
              "      <th>Married_Yes</th>\n",
              "      <th>Dependents_1</th>\n",
              "      <th>Dependents_2</th>\n",
              "      <th>Dependents_3+</th>\n",
              "      <th>Education_Not Graduate</th>\n",
              "      <th>Self_Employed_Yes</th>\n",
              "      <th>Property_Area_Semiurban</th>\n",
              "      <th>Property_Area_Urban</th>\n",
              "    </tr>\n",
              "  </thead>\n",
              "  <tbody>\n",
              "    <tr>\n",
              "      <th>0</th>\n",
              "      <td>3748</td>\n",
              "      <td>1668.0</td>\n",
              "      <td>110.0</td>\n",
              "      <td>360.0</td>\n",
              "      <td>1.0</td>\n",
              "      <td>1</td>\n",
              "      <td>0</td>\n",
              "      <td>0</td>\n",
              "      <td>0</td>\n",
              "      <td>0</td>\n",
              "      <td>1</td>\n",
              "      <td>0</td>\n",
              "      <td>1</td>\n",
              "      <td>0</td>\n",
              "    </tr>\n",
              "    <tr>\n",
              "      <th>1</th>\n",
              "      <td>4000</td>\n",
              "      <td>7750.0</td>\n",
              "      <td>290.0</td>\n",
              "      <td>360.0</td>\n",
              "      <td>1.0</td>\n",
              "      <td>1</td>\n",
              "      <td>1</td>\n",
              "      <td>0</td>\n",
              "      <td>0</td>\n",
              "      <td>1</td>\n",
              "      <td>0</td>\n",
              "      <td>0</td>\n",
              "      <td>1</td>\n",
              "      <td>0</td>\n",
              "    </tr>\n",
              "    <tr>\n",
              "      <th>2</th>\n",
              "      <td>2625</td>\n",
              "      <td>6250.0</td>\n",
              "      <td>187.0</td>\n",
              "      <td>360.0</td>\n",
              "      <td>1.0</td>\n",
              "      <td>1</td>\n",
              "      <td>1</td>\n",
              "      <td>0</td>\n",
              "      <td>0</td>\n",
              "      <td>0</td>\n",
              "      <td>0</td>\n",
              "      <td>0</td>\n",
              "      <td>0</td>\n",
              "      <td>0</td>\n",
              "    </tr>\n",
              "    <tr>\n",
              "      <th>3</th>\n",
              "      <td>3902</td>\n",
              "      <td>1666.0</td>\n",
              "      <td>109.0</td>\n",
              "      <td>360.0</td>\n",
              "      <td>1.0</td>\n",
              "      <td>1</td>\n",
              "      <td>0</td>\n",
              "      <td>0</td>\n",
              "      <td>0</td>\n",
              "      <td>0</td>\n",
              "      <td>1</td>\n",
              "      <td>0</td>\n",
              "      <td>0</td>\n",
              "      <td>0</td>\n",
              "    </tr>\n",
              "    <tr>\n",
              "      <th>4</th>\n",
              "      <td>6096</td>\n",
              "      <td>0.0</td>\n",
              "      <td>218.0</td>\n",
              "      <td>360.0</td>\n",
              "      <td>0.0</td>\n",
              "      <td>1</td>\n",
              "      <td>1</td>\n",
              "      <td>0</td>\n",
              "      <td>0</td>\n",
              "      <td>0</td>\n",
              "      <td>1</td>\n",
              "      <td>0</td>\n",
              "      <td>0</td>\n",
              "      <td>0</td>\n",
              "    </tr>\n",
              "  </tbody>\n",
              "</table>\n",
              "</div>"
            ],
            "text/plain": [
              "   ApplicantIncome  ...  Property_Area_Urban\n",
              "0             3748  ...                    0\n",
              "1             4000  ...                    0\n",
              "2             2625  ...                    0\n",
              "3             3902  ...                    0\n",
              "4             6096  ...                    0\n",
              "\n",
              "[5 rows x 14 columns]"
            ]
          },
          "metadata": {
            "tags": []
          },
          "execution_count": 75
        }
      ]
    },
    {
      "cell_type": "code",
      "metadata": {
        "id": "ErPNvIYq_0Mb"
      },
      "source": [
        "#transform\r\n",
        "test_data2 = pd.DataFrame(pt.transform(test_data2), columns=test_data2.columns)\r\n",
        "\r\n",
        "#scaling\r\n",
        "test_data2 = pd.DataFrame(scale.transform(test_data2), columns=test_data2.columns)"
      ],
      "execution_count": null,
      "outputs": []
    },
    {
      "cell_type": "markdown",
      "metadata": {
        "id": "C8rRKe7dsVQT"
      },
      "source": [
        "#**Export to File**"
      ]
    },
    {
      "cell_type": "code",
      "metadata": {
        "colab": {
          "base_uri": "https://localhost:8080/"
        },
        "id": "gDGxDSuJBWhM",
        "outputId": "5d85878a-b73e-4036-a53e-93490d8e947e"
      },
      "source": [
        "#LR ohe (Best based on submission - 87.15)\r\n",
        "params = {'C': np.logspace(-2, 2, 6),\r\n",
        "          'penalty':['l1', 'l2', 'elasticnet'],\r\n",
        "          'max_iter': [50*x for x in range(1,6)]}\r\n",
        "lr = GridSearchCV(LogisticRegression(), params, cv=5)\r\n",
        "lr.fit(x_train, y_train)\r\n",
        "print(lr.best_params_)"
      ],
      "execution_count": null,
      "outputs": [
        {
          "output_type": "stream",
          "text": [
            "{'C': 2.5118864315095824, 'max_iter': 100, 'penalty': 'l2'}\n"
          ],
          "name": "stdout"
        }
      ]
    },
    {
      "cell_type": "code",
      "metadata": {
        "id": "AdKWKnUi0yff",
        "colab": {
          "base_uri": "https://localhost:8080/",
          "height": 17
        },
        "outputId": "2497f187-f8a2-4213-ad5f-c730572592be"
      },
      "source": [
        "#predict LR \r\n",
        "predict = lr.predict(test_data1)\r\n",
        "result = pd.DataFrame({'prediction':predict})\r\n",
        "result.to_csv(\"lr.csv\", index= False)\r\n",
        "files.download('lr.csv')"
      ],
      "execution_count": null,
      "outputs": [
        {
          "output_type": "display_data",
          "data": {
            "application/javascript": [
              "\n",
              "    async function download(id, filename, size) {\n",
              "      if (!google.colab.kernel.accessAllowed) {\n",
              "        return;\n",
              "      }\n",
              "      const div = document.createElement('div');\n",
              "      const label = document.createElement('label');\n",
              "      label.textContent = `Downloading \"${filename}\": `;\n",
              "      div.appendChild(label);\n",
              "      const progress = document.createElement('progress');\n",
              "      progress.max = size;\n",
              "      div.appendChild(progress);\n",
              "      document.body.appendChild(div);\n",
              "\n",
              "      const buffers = [];\n",
              "      let downloaded = 0;\n",
              "\n",
              "      const channel = await google.colab.kernel.comms.open(id);\n",
              "      // Send a message to notify the kernel that we're ready.\n",
              "      channel.send({})\n",
              "\n",
              "      for await (const message of channel.messages) {\n",
              "        // Send a message to notify the kernel that we're ready.\n",
              "        channel.send({})\n",
              "        if (message.buffers) {\n",
              "          for (const buffer of message.buffers) {\n",
              "            buffers.push(buffer);\n",
              "            downloaded += buffer.byteLength;\n",
              "            progress.value = downloaded;\n",
              "          }\n",
              "        }\n",
              "      }\n",
              "      const blob = new Blob(buffers, {type: 'application/binary'});\n",
              "      const a = document.createElement('a');\n",
              "      a.href = window.URL.createObjectURL(blob);\n",
              "      a.download = filename;\n",
              "      div.appendChild(a);\n",
              "      a.click();\n",
              "      div.remove();\n",
              "    }\n",
              "  "
            ],
            "text/plain": [
              "<IPython.core.display.Javascript object>"
            ]
          },
          "metadata": {
            "tags": []
          }
        },
        {
          "output_type": "display_data",
          "data": {
            "application/javascript": [
              "download(\"download_260ddab0-b09b-4f65-a42f-735d35ff606a\", \"lr.csv\", 257)"
            ],
            "text/plain": [
              "<IPython.core.display.Javascript object>"
            ]
          },
          "metadata": {
            "tags": []
          }
        }
      ]
    },
    {
      "cell_type": "code",
      "metadata": {
        "colab": {
          "base_uri": "https://localhost:8080/"
        },
        "id": "rmC5t9YdBenE",
        "outputId": "8fd931be-99ae-4a5f-ea08-c3bb69145d79"
      },
      "source": [
        "#RF ohe_dp_tfsc (86.19)\r\n",
        "params = {'min_samples_leaf': [2, 3, 4, 5],\r\n",
        "          'min_samples_split':[2,3,4],\r\n",
        "          'n_estimators': np.arange(80,300,20),\r\n",
        "          'criterion': ['entropy','gini'],\r\n",
        "          'max_features': [\"auto\", \"sqrt\", \"log2\"]}\r\n",
        "rf = GridSearchCV(RandomForestClassifier(), params, cv=5)\r\n",
        "rf.fit(xtrain_scale_drop, y_train_drop)\r\n",
        "print(rf.best_params_)"
      ],
      "execution_count": null,
      "outputs": [
        {
          "output_type": "stream",
          "text": [
            "{'criterion': 'entropy', 'max_features': 'auto', 'min_samples_leaf': 5, 'min_samples_split': 4, 'n_estimators': 140}\n"
          ],
          "name": "stdout"
        }
      ]
    },
    {
      "cell_type": "code",
      "metadata": {
        "colab": {
          "base_uri": "https://localhost:8080/",
          "height": 17
        },
        "id": "h9fVfQeCEIDG",
        "outputId": "ea5cb180-d8f2-4004-89bd-c485e5f59106"
      },
      "source": [
        "#predict RF\r\n",
        "predict = rf.predict(test_data2)\r\n",
        "result = pd.DataFrame({'prediction':predict})\r\n",
        "result.to_csv(\"rf.csv\", index= False)\r\n",
        "files.download('rf.csv')"
      ],
      "execution_count": null,
      "outputs": [
        {
          "output_type": "display_data",
          "data": {
            "application/javascript": [
              "\n",
              "    async function download(id, filename, size) {\n",
              "      if (!google.colab.kernel.accessAllowed) {\n",
              "        return;\n",
              "      }\n",
              "      const div = document.createElement('div');\n",
              "      const label = document.createElement('label');\n",
              "      label.textContent = `Downloading \"${filename}\": `;\n",
              "      div.appendChild(label);\n",
              "      const progress = document.createElement('progress');\n",
              "      progress.max = size;\n",
              "      div.appendChild(progress);\n",
              "      document.body.appendChild(div);\n",
              "\n",
              "      const buffers = [];\n",
              "      let downloaded = 0;\n",
              "\n",
              "      const channel = await google.colab.kernel.comms.open(id);\n",
              "      // Send a message to notify the kernel that we're ready.\n",
              "      channel.send({})\n",
              "\n",
              "      for await (const message of channel.messages) {\n",
              "        // Send a message to notify the kernel that we're ready.\n",
              "        channel.send({})\n",
              "        if (message.buffers) {\n",
              "          for (const buffer of message.buffers) {\n",
              "            buffers.push(buffer);\n",
              "            downloaded += buffer.byteLength;\n",
              "            progress.value = downloaded;\n",
              "          }\n",
              "        }\n",
              "      }\n",
              "      const blob = new Blob(buffers, {type: 'application/binary'});\n",
              "      const a = document.createElement('a');\n",
              "      a.href = window.URL.createObjectURL(blob);\n",
              "      a.download = filename;\n",
              "      div.appendChild(a);\n",
              "      a.click();\n",
              "      div.remove();\n",
              "    }\n",
              "  "
            ],
            "text/plain": [
              "<IPython.core.display.Javascript object>"
            ]
          },
          "metadata": {
            "tags": []
          }
        },
        {
          "output_type": "display_data",
          "data": {
            "application/javascript": [
              "download(\"download_656283cb-823e-4068-aec2-0dd6ee6c8518\", \"rf.csv\", 257)"
            ],
            "text/plain": [
              "<IPython.core.display.Javascript object>"
            ]
          },
          "metadata": {
            "tags": []
          }
        }
      ]
    },
    {
      "cell_type": "code",
      "metadata": {
        "colab": {
          "base_uri": "https://localhost:8080/"
        },
        "id": "cCRqCv-YBeOr",
        "outputId": "1520f33f-0abb-47fb-d154-b491d670e0d6"
      },
      "source": [
        "#GB ohe (85.08)\r\n",
        "params = {'n_estimators': np.arange(90,300,30),\r\n",
        "          'loss': ['deviance', 'exponential'],\r\n",
        "          'learning_rate': [0.01, 0.1, 1, 5],\r\n",
        "          'criterion': ['friedman_mse', 'mse', 'mae']}\r\n",
        "gb = GridSearchCV(GradientBoostingClassifier(), params, cv=5)\r\n",
        "gb.fit(x_train, y_train)\r\n",
        "print(gb.best_params_)"
      ],
      "execution_count": null,
      "outputs": [
        {
          "output_type": "stream",
          "text": [
            "{'criterion': 'mse', 'learning_rate': 0.01, 'loss': 'exponential', 'n_estimators': 90}\n"
          ],
          "name": "stdout"
        }
      ]
    },
    {
      "cell_type": "code",
      "metadata": {
        "colab": {
          "base_uri": "https://localhost:8080/",
          "height": 17
        },
        "id": "BhpnIAQbDwCu",
        "outputId": "a3053f13-063c-42fc-fe7f-cb75df95d23b"
      },
      "source": [
        "#predict GB\r\n",
        "predict = gb.predict(test_data1)\r\n",
        "result = pd.DataFrame({'prediction':predict})\r\n",
        "result.to_csv(\"gb.csv\", index= False)\r\n",
        "files.download('gb.csv')"
      ],
      "execution_count": null,
      "outputs": [
        {
          "output_type": "display_data",
          "data": {
            "application/javascript": [
              "\n",
              "    async function download(id, filename, size) {\n",
              "      if (!google.colab.kernel.accessAllowed) {\n",
              "        return;\n",
              "      }\n",
              "      const div = document.createElement('div');\n",
              "      const label = document.createElement('label');\n",
              "      label.textContent = `Downloading \"${filename}\": `;\n",
              "      div.appendChild(label);\n",
              "      const progress = document.createElement('progress');\n",
              "      progress.max = size;\n",
              "      div.appendChild(progress);\n",
              "      document.body.appendChild(div);\n",
              "\n",
              "      const buffers = [];\n",
              "      let downloaded = 0;\n",
              "\n",
              "      const channel = await google.colab.kernel.comms.open(id);\n",
              "      // Send a message to notify the kernel that we're ready.\n",
              "      channel.send({})\n",
              "\n",
              "      for await (const message of channel.messages) {\n",
              "        // Send a message to notify the kernel that we're ready.\n",
              "        channel.send({})\n",
              "        if (message.buffers) {\n",
              "          for (const buffer of message.buffers) {\n",
              "            buffers.push(buffer);\n",
              "            downloaded += buffer.byteLength;\n",
              "            progress.value = downloaded;\n",
              "          }\n",
              "        }\n",
              "      }\n",
              "      const blob = new Blob(buffers, {type: 'application/binary'});\n",
              "      const a = document.createElement('a');\n",
              "      a.href = window.URL.createObjectURL(blob);\n",
              "      a.download = filename;\n",
              "      div.appendChild(a);\n",
              "      a.click();\n",
              "      div.remove();\n",
              "    }\n",
              "  "
            ],
            "text/plain": [
              "<IPython.core.display.Javascript object>"
            ]
          },
          "metadata": {
            "tags": []
          }
        },
        {
          "output_type": "display_data",
          "data": {
            "application/javascript": [
              "download(\"download_86de76b9-6be0-44b3-847e-88046abf1a47\", \"gb.csv\", 257)"
            ],
            "text/plain": [
              "<IPython.core.display.Javascript object>"
            ]
          },
          "metadata": {
            "tags": []
          }
        }
      ]
    },
    {
      "cell_type": "markdown",
      "metadata": {
        "id": "-s_TFfKfFqkC"
      },
      "source": [
        "#**Pickel Model**"
      ]
    },
    {
      "cell_type": "code",
      "metadata": {
        "id": "TzTsxQaS2Fgu"
      },
      "source": [
        "#pickle file\r\n",
        "with open('logistic_regression.pickle','wb') as f:\r\n",
        "  pickle.dump(lr,f)"
      ],
      "execution_count": null,
      "outputs": []
    },
    {
      "cell_type": "code",
      "metadata": {
        "id": "j0NUPSY1FEik"
      },
      "source": [
        "#column file\r\n",
        "columns = {\r\n",
        "    'data_columns' : [col.lower() for col in x_train.columns]\r\n",
        "}\r\n",
        "\r\n",
        "with open('columns.json','w') as f:\r\n",
        "  f.write(json.dumps(columns))"
      ],
      "execution_count": null,
      "outputs": []
    },
    {
      "cell_type": "code",
      "metadata": {
        "id": "fr-sAMgWFT1i"
      },
      "source": [
        "#transform pickle\r\n",
        "with open('transform.pickle','wb') as f:\r\n",
        "  pickle.dump(pt_d,f)\r\n",
        "\r\n",
        "#scaling pickle\r\n",
        "with open('scale.pickle','wb') as f:\r\n",
        "  pickle.dump(scale_d,f)"
      ],
      "execution_count": null,
      "outputs": []
    },
    {
      "cell_type": "markdown",
      "metadata": {
        "id": "GGdGvqsKhaRv"
      },
      "source": [
        "### outlier handling (Doesn't use)"
      ]
    },
    {
      "cell_type": "code",
      "metadata": {
        "id": "xEJJrG5MhYzY"
      },
      "source": [
        "data = pd.concat([x_train, y_train], axis=1)\r\n",
        "for col in df1.select_dtypes('number').columns:\r\n",
        "  print(\"Ini adalah : \", col)\r\n",
        "  sns.boxplot(data[col])\r\n",
        "  plt.show()\r\n",
        "  print(\"\")"
      ],
      "execution_count": null,
      "outputs": []
    },
    {
      "cell_type": "code",
      "metadata": {
        "id": "CgkEnp4gi5qA"
      },
      "source": [
        "def remove_outlier(df, column):\r\n",
        "  for col in column:\r\n",
        "    mean = np.mean(df[col])\r\n",
        "    std = np.std(df[col])\r\n",
        "    df = df[(df[col]>(mean-std)) & (df[col]<(mean+std))]\r\n",
        "    df.reset_index(inplace=True)\r\n",
        "    df.drop('index', axis=1,inplace=True)\r\n",
        "  return df"
      ],
      "execution_count": null,
      "outputs": []
    },
    {
      "cell_type": "code",
      "metadata": {
        "id": "SbDlaXOFjwyt"
      },
      "source": [
        "df5 = remove_outlier(data, ['ApplicantIncome','CoapplicantIncome','LoanAmount'])"
      ],
      "execution_count": null,
      "outputs": []
    },
    {
      "cell_type": "code",
      "metadata": {
        "id": "huSkgS9mj_mv"
      },
      "source": [
        "df5.shape"
      ],
      "execution_count": null,
      "outputs": []
    },
    {
      "cell_type": "code",
      "metadata": {
        "id": "DlCVH8GLkMn5"
      },
      "source": [
        "df5.Loan_Status.value_counts()"
      ],
      "execution_count": null,
      "outputs": []
    },
    {
      "cell_type": "code",
      "metadata": {
        "id": "Jjou1ufukBZo"
      },
      "source": [
        "data.shape"
      ],
      "execution_count": null,
      "outputs": []
    },
    {
      "cell_type": "code",
      "metadata": {
        "id": "0-y714GBk6A5"
      },
      "source": [
        "data.Loan_Status.value_counts()"
      ],
      "execution_count": null,
      "outputs": []
    }
  ]
}