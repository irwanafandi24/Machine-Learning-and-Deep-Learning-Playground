{
  "nbformat": 4,
  "nbformat_minor": 0,
  "metadata": {
    "colab": {
      "name": "DPhi _ Quiz + Datathon.ipynb",
      "provenance": [],
      "collapsed_sections": [
        "pqiiaf79eSE7",
        "7Y5q00TkenpY",
        "kr36F54Ee6jb",
        "AIUGHAVggvJS",
        "QC0aCpuQwnoO",
        "hCuC0_CNy874"
      ]
    },
    "kernelspec": {
      "name": "python3",
      "display_name": "Python 3"
    }
  },
  "cells": [
    {
      "cell_type": "code",
      "metadata": {
        "id": "4nRf2TDb1ARB"
      },
      "source": [
        "import pandas as pd\r\n",
        "import numpy as np\r\n",
        "import matplotlib.pyplot as plt\r\n",
        "import seaborn as sns\r\n",
        "\r\n",
        "from sklearn.preprocessing import OneHotEncoder, LabelEncoder, StandardScaler, PowerTransformer\r\n",
        "from sklearn.model_selection import train_test_split, GridSearchCV\r\n",
        "from sklearn.feature_selection import RFE\r\n",
        "from sklearn.linear_model import LogisticRegression\r\n",
        "from sklearn.tree import DecisionTreeClassifier\r\n",
        "from sklearn.ensemble import RandomForestClassifier\r\n",
        "from sklearn.svm import SVC\r\n",
        "from xgboost import XGBClassifier\r\n",
        "from lightgbm import LGBMClassifier\r\n",
        "from sklearn.metrics import classification_report, f1_score, accuracy_score, confusion_matrix, make_scorer\r\n",
        "from sklearn.metrics import precision_recall_fscore_support as score\r\n",
        "from imblearn.over_sampling import SMOTE\r\n",
        "sns.set\r\n",
        "\r\n",
        "import warnings\r\n",
        "from google.colab import files\r\n",
        "warnings.filterwarnings('ignore')"
      ],
      "execution_count": null,
      "outputs": []
    },
    {
      "cell_type": "markdown",
      "metadata": {
        "id": "MEi8Z5OkeFCQ"
      },
      "source": [
        "#**Datathon**"
      ]
    },
    {
      "cell_type": "code",
      "metadata": {
        "colab": {
          "base_uri": "https://localhost:8080/",
          "height": 206
        },
        "id": "XAFDqV2I1N74",
        "outputId": "504dff56-ff0d-4f35-ebbd-31b1fda15b30"
      },
      "source": [
        "df = pd.read_csv(\"https://raw.githubusercontent.com/dphi-official/Datasets/master/travel_insurance/Training_set_label.csv\")\r\n",
        "test_data = pd.read_csv('https://raw.githubusercontent.com/dphi-official/Datasets/master/travel_insurance/Testing_set_label.csv')\r\n",
        "df.head()"
      ],
      "execution_count": null,
      "outputs": [
        {
          "output_type": "execute_result",
          "data": {
            "text/html": [
              "<div>\n",
              "<style scoped>\n",
              "    .dataframe tbody tr th:only-of-type {\n",
              "        vertical-align: middle;\n",
              "    }\n",
              "\n",
              "    .dataframe tbody tr th {\n",
              "        vertical-align: top;\n",
              "    }\n",
              "\n",
              "    .dataframe thead th {\n",
              "        text-align: right;\n",
              "    }\n",
              "</style>\n",
              "<table border=\"1\" class=\"dataframe\">\n",
              "  <thead>\n",
              "    <tr style=\"text-align: right;\">\n",
              "      <th></th>\n",
              "      <th>Agency</th>\n",
              "      <th>Agency Type</th>\n",
              "      <th>Distribution Channel</th>\n",
              "      <th>Product Name</th>\n",
              "      <th>Duration</th>\n",
              "      <th>Destination</th>\n",
              "      <th>Net Sales</th>\n",
              "      <th>Commision (in value)</th>\n",
              "      <th>Gender</th>\n",
              "      <th>Age</th>\n",
              "      <th>Claim</th>\n",
              "    </tr>\n",
              "  </thead>\n",
              "  <tbody>\n",
              "    <tr>\n",
              "      <th>0</th>\n",
              "      <td>CWT</td>\n",
              "      <td>Travel Agency</td>\n",
              "      <td>Online</td>\n",
              "      <td>Rental Vehicle Excess Insurance</td>\n",
              "      <td>61</td>\n",
              "      <td>UNITED KINGDOM</td>\n",
              "      <td>19.8</td>\n",
              "      <td>11.88</td>\n",
              "      <td>NaN</td>\n",
              "      <td>29</td>\n",
              "      <td>0</td>\n",
              "    </tr>\n",
              "    <tr>\n",
              "      <th>1</th>\n",
              "      <td>EPX</td>\n",
              "      <td>Travel Agency</td>\n",
              "      <td>Online</td>\n",
              "      <td>Cancellation Plan</td>\n",
              "      <td>93</td>\n",
              "      <td>NEW ZEALAND</td>\n",
              "      <td>63.0</td>\n",
              "      <td>0.00</td>\n",
              "      <td>NaN</td>\n",
              "      <td>36</td>\n",
              "      <td>0</td>\n",
              "    </tr>\n",
              "    <tr>\n",
              "      <th>2</th>\n",
              "      <td>EPX</td>\n",
              "      <td>Travel Agency</td>\n",
              "      <td>Online</td>\n",
              "      <td>2 way Comprehensive Plan</td>\n",
              "      <td>22</td>\n",
              "      <td>UNITED STATES</td>\n",
              "      <td>22.0</td>\n",
              "      <td>0.00</td>\n",
              "      <td>NaN</td>\n",
              "      <td>25</td>\n",
              "      <td>0</td>\n",
              "    </tr>\n",
              "    <tr>\n",
              "      <th>3</th>\n",
              "      <td>C2B</td>\n",
              "      <td>Airlines</td>\n",
              "      <td>Online</td>\n",
              "      <td>Silver Plan</td>\n",
              "      <td>14</td>\n",
              "      <td>SINGAPORE</td>\n",
              "      <td>54.5</td>\n",
              "      <td>13.63</td>\n",
              "      <td>M</td>\n",
              "      <td>24</td>\n",
              "      <td>0</td>\n",
              "    </tr>\n",
              "    <tr>\n",
              "      <th>4</th>\n",
              "      <td>EPX</td>\n",
              "      <td>Travel Agency</td>\n",
              "      <td>Online</td>\n",
              "      <td>Cancellation Plan</td>\n",
              "      <td>90</td>\n",
              "      <td>VIET NAM</td>\n",
              "      <td>10.0</td>\n",
              "      <td>0.00</td>\n",
              "      <td>NaN</td>\n",
              "      <td>23</td>\n",
              "      <td>0</td>\n",
              "    </tr>\n",
              "  </tbody>\n",
              "</table>\n",
              "</div>"
            ],
            "text/plain": [
              "  Agency    Agency Type Distribution Channel  ... Gender  Age Claim\n",
              "0    CWT  Travel Agency               Online  ...    NaN   29     0\n",
              "1    EPX  Travel Agency               Online  ...    NaN   36     0\n",
              "2    EPX  Travel Agency               Online  ...    NaN   25     0\n",
              "3    C2B       Airlines               Online  ...      M   24     0\n",
              "4    EPX  Travel Agency               Online  ...    NaN   23     0\n",
              "\n",
              "[5 rows x 11 columns]"
            ]
          },
          "metadata": {
            "tags": []
          },
          "execution_count": 542
        }
      ]
    },
    {
      "cell_type": "code",
      "metadata": {
        "colab": {
          "base_uri": "https://localhost:8080/",
          "height": 206
        },
        "id": "OOMVdGw8fZmx",
        "outputId": "de1208d8-521e-4396-8835-f154b4c0f747"
      },
      "source": [
        "df = df.rename(columns={'Agency':'agency', 'Agency Type':'agency_type','Distribution Channel':'distribution_channel','Product Name':'product_name',\r\n",
        "           'Duration':'duration','Destination':'destination','Net Sales':'net_sales','Commision (in value)':'commision',\r\n",
        "           'Gender':'gender','Age':'age','Claim':'claim'})\r\n",
        "df.head()"
      ],
      "execution_count": null,
      "outputs": [
        {
          "output_type": "execute_result",
          "data": {
            "text/html": [
              "<div>\n",
              "<style scoped>\n",
              "    .dataframe tbody tr th:only-of-type {\n",
              "        vertical-align: middle;\n",
              "    }\n",
              "\n",
              "    .dataframe tbody tr th {\n",
              "        vertical-align: top;\n",
              "    }\n",
              "\n",
              "    .dataframe thead th {\n",
              "        text-align: right;\n",
              "    }\n",
              "</style>\n",
              "<table border=\"1\" class=\"dataframe\">\n",
              "  <thead>\n",
              "    <tr style=\"text-align: right;\">\n",
              "      <th></th>\n",
              "      <th>agency</th>\n",
              "      <th>agency_type</th>\n",
              "      <th>distribution_channel</th>\n",
              "      <th>product_name</th>\n",
              "      <th>duration</th>\n",
              "      <th>destination</th>\n",
              "      <th>net_sales</th>\n",
              "      <th>commision</th>\n",
              "      <th>gender</th>\n",
              "      <th>age</th>\n",
              "      <th>claim</th>\n",
              "    </tr>\n",
              "  </thead>\n",
              "  <tbody>\n",
              "    <tr>\n",
              "      <th>0</th>\n",
              "      <td>CWT</td>\n",
              "      <td>Travel Agency</td>\n",
              "      <td>Online</td>\n",
              "      <td>Rental Vehicle Excess Insurance</td>\n",
              "      <td>61</td>\n",
              "      <td>UNITED KINGDOM</td>\n",
              "      <td>19.8</td>\n",
              "      <td>11.88</td>\n",
              "      <td>NaN</td>\n",
              "      <td>29</td>\n",
              "      <td>0</td>\n",
              "    </tr>\n",
              "    <tr>\n",
              "      <th>1</th>\n",
              "      <td>EPX</td>\n",
              "      <td>Travel Agency</td>\n",
              "      <td>Online</td>\n",
              "      <td>Cancellation Plan</td>\n",
              "      <td>93</td>\n",
              "      <td>NEW ZEALAND</td>\n",
              "      <td>63.0</td>\n",
              "      <td>0.00</td>\n",
              "      <td>NaN</td>\n",
              "      <td>36</td>\n",
              "      <td>0</td>\n",
              "    </tr>\n",
              "    <tr>\n",
              "      <th>2</th>\n",
              "      <td>EPX</td>\n",
              "      <td>Travel Agency</td>\n",
              "      <td>Online</td>\n",
              "      <td>2 way Comprehensive Plan</td>\n",
              "      <td>22</td>\n",
              "      <td>UNITED STATES</td>\n",
              "      <td>22.0</td>\n",
              "      <td>0.00</td>\n",
              "      <td>NaN</td>\n",
              "      <td>25</td>\n",
              "      <td>0</td>\n",
              "    </tr>\n",
              "    <tr>\n",
              "      <th>3</th>\n",
              "      <td>C2B</td>\n",
              "      <td>Airlines</td>\n",
              "      <td>Online</td>\n",
              "      <td>Silver Plan</td>\n",
              "      <td>14</td>\n",
              "      <td>SINGAPORE</td>\n",
              "      <td>54.5</td>\n",
              "      <td>13.63</td>\n",
              "      <td>M</td>\n",
              "      <td>24</td>\n",
              "      <td>0</td>\n",
              "    </tr>\n",
              "    <tr>\n",
              "      <th>4</th>\n",
              "      <td>EPX</td>\n",
              "      <td>Travel Agency</td>\n",
              "      <td>Online</td>\n",
              "      <td>Cancellation Plan</td>\n",
              "      <td>90</td>\n",
              "      <td>VIET NAM</td>\n",
              "      <td>10.0</td>\n",
              "      <td>0.00</td>\n",
              "      <td>NaN</td>\n",
              "      <td>23</td>\n",
              "      <td>0</td>\n",
              "    </tr>\n",
              "  </tbody>\n",
              "</table>\n",
              "</div>"
            ],
            "text/plain": [
              "  agency    agency_type distribution_channel  ... gender  age claim\n",
              "0    CWT  Travel Agency               Online  ...    NaN   29     0\n",
              "1    EPX  Travel Agency               Online  ...    NaN   36     0\n",
              "2    EPX  Travel Agency               Online  ...    NaN   25     0\n",
              "3    C2B       Airlines               Online  ...      M   24     0\n",
              "4    EPX  Travel Agency               Online  ...    NaN   23     0\n",
              "\n",
              "[5 rows x 11 columns]"
            ]
          },
          "metadata": {
            "tags": []
          },
          "execution_count": 543
        }
      ]
    },
    {
      "cell_type": "code",
      "metadata": {
        "id": "Dmkv1nHGhpsL"
      },
      "source": [
        "test_data = test_data.rename(columns={'Agency':'agency', 'Agency Type':'agency_type','Distribution Channel':'distribution_channel','Product Name':'product_name',\r\n",
        "           'Duration':'duration','Destination':'destination','Net Sales':'net_sales','Commision (in value)':'commision','Gender':'gender','Age':'age'})"
      ],
      "execution_count": null,
      "outputs": []
    },
    {
      "cell_type": "markdown",
      "metadata": {
        "id": "qa2L76dFez6n"
      },
      "source": [
        "## Missing  Value Handling"
      ]
    },
    {
      "cell_type": "code",
      "metadata": {
        "colab": {
          "base_uri": "https://localhost:8080/"
        },
        "id": "nctS3_Mw1mDK",
        "outputId": "2f138ddf-4fc8-435b-a84e-137270e60663"
      },
      "source": [
        "df.isna().sum()"
      ],
      "execution_count": null,
      "outputs": [
        {
          "output_type": "execute_result",
          "data": {
            "text/plain": [
              "agency                      0\n",
              "agency_type                 0\n",
              "distribution_channel        0\n",
              "product_name                0\n",
              "duration                    0\n",
              "destination                 0\n",
              "net_sales                   0\n",
              "commision                   0\n",
              "gender                  34361\n",
              "age                         0\n",
              "claim                       0\n",
              "dtype: int64"
            ]
          },
          "metadata": {
            "tags": []
          },
          "execution_count": 545
        }
      ]
    },
    {
      "cell_type": "code",
      "metadata": {
        "id": "TKDHvCcv1uwH"
      },
      "source": [
        "#train and test data\r\n",
        "df.drop(\"gender\", axis=1, inplace=True)\r\n",
        "test_data.drop(\"gender\", axis=1, inplace=True)"
      ],
      "execution_count": null,
      "outputs": []
    },
    {
      "cell_type": "code",
      "metadata": {
        "colab": {
          "base_uri": "https://localhost:8080/"
        },
        "id": "fweCbO2j1qg4",
        "outputId": "477f60f9-7d71-42bc-cacb-ddfa81349ece"
      },
      "source": [
        "df.info()"
      ],
      "execution_count": null,
      "outputs": [
        {
          "output_type": "stream",
          "text": [
            "<class 'pandas.core.frame.DataFrame'>\n",
            "RangeIndex: 48260 entries, 0 to 48259\n",
            "Data columns (total 10 columns):\n",
            " #   Column                Non-Null Count  Dtype  \n",
            "---  ------                --------------  -----  \n",
            " 0   agency                48260 non-null  object \n",
            " 1   agency_type           48260 non-null  object \n",
            " 2   distribution_channel  48260 non-null  object \n",
            " 3   product_name          48260 non-null  object \n",
            " 4   duration              48260 non-null  int64  \n",
            " 5   destination           48260 non-null  object \n",
            " 6   net_sales             48260 non-null  float64\n",
            " 7   commision             48260 non-null  float64\n",
            " 8   age                   48260 non-null  int64  \n",
            " 9   claim                 48260 non-null  int64  \n",
            "dtypes: float64(2), int64(3), object(5)\n",
            "memory usage: 3.7+ MB\n"
          ],
          "name": "stdout"
        }
      ]
    },
    {
      "cell_type": "markdown",
      "metadata": {
        "id": "AVAyXopUjDTg"
      },
      "source": [
        "## Label Encoding and One Hot Encoding"
      ]
    },
    {
      "cell_type": "code",
      "metadata": {
        "colab": {
          "base_uri": "https://localhost:8080/",
          "height": 350
        },
        "id": "YSfWa9C15prM",
        "outputId": "55b0d65b-b67d-41be-a312-51be1ec80c0f"
      },
      "source": [
        "# for col in (train.select_dtypes(include='object').columns):\r\n",
        "#   plt.figure(figsize=(15,7))\r\n",
        "#   plt.title(\"Barplot for\")\r\n",
        "#   sns.barplot(x=train[col].value_counts(), y = train[col].value_counts().index.tolist())\r\n",
        "#   plt.show()\r\n",
        "\r\n",
        "plt.figure(figsize=(15,5))\r\n",
        "plt.title(\"Barplot for Agency\")\r\n",
        "sns.barplot(x=df.agency.value_counts(), y = df.agency.value_counts().index.tolist())\r\n",
        "plt.show()"
      ],
      "execution_count": null,
      "outputs": [
        {
          "output_type": "display_data",
          "data": {
            "image/png": "[encoded data removed]",
            "text/plain": [
              "<Figure size 1080x360 with 1 Axes>"
            ]
          },
          "metadata": {
            "tags": [],
            "needs_background": "light"
          }
        }
      ]
    },
    {
      "cell_type": "code",
      "metadata": {
        "colab": {
          "base_uri": "https://localhost:8080/",
          "height": 282
        },
        "id": "A-hyn8998sUD",
        "outputId": "6ede4696-c1b1-4d61-f553-7017ba9d0b42"
      },
      "source": [
        "print(df.agency_type.value_counts())\r\n",
        "\r\n",
        "plt.figure(figsize=(5,3))\r\n",
        "plt.title(\"Barplot for Agency Type\")\r\n",
        "sns.barplot(x=df.agency_type.value_counts().index.tolist(), y = df.agency_type.value_counts())\r\n",
        "plt.show()"
      ],
      "execution_count": null,
      "outputs": [
        {
          "output_type": "stream",
          "text": [
            "Travel Agency    34917\n",
            "Airlines         13343\n",
            "Name: agency_type, dtype: int64\n"
          ],
          "name": "stdout"
        },
        {
          "output_type": "display_data",
          "data": {
            "image/png": "[encoded data removed]",
            "text/plain": [
              "<Figure size 360x216 with 1 Axes>"
            ]
          },
          "metadata": {
            "tags": [],
            "needs_background": "light"
          }
        }
      ]
    },
    {
      "cell_type": "code",
      "metadata": {
        "colab": {
          "base_uri": "https://localhost:8080/",
          "height": 282
        },
        "id": "ECqQNRLwdAnt",
        "outputId": "758a8748-de18-4a08-9afc-4fe07cbcce14"
      },
      "source": [
        "print(df.distribution_channel.value_counts())\r\n",
        "\r\n",
        "plt.figure(figsize=(5,3))\r\n",
        "plt.title(\"Barplot for Distribution Channel\")\r\n",
        "sns.barplot(x=df.distribution_channel.value_counts().index.tolist(), y = df.distribution_channel.value_counts())\r\n",
        "plt.show()"
      ],
      "execution_count": null,
      "outputs": [
        {
          "output_type": "stream",
          "text": [
            "Online     47434\n",
            "Offline      826\n",
            "Name: distribution_channel, dtype: int64\n"
          ],
          "name": "stdout"
        },
        {
          "output_type": "display_data",
          "data": {
            "image/png": "[encoded data removed]",
            "text/plain": [
              "<Figure size 360x216 with 1 Axes>"
            ]
          },
          "metadata": {
            "tags": [],
            "needs_background": "light"
          }
        }
      ]
    },
    {
      "cell_type": "code",
      "metadata": {
        "colab": {
          "base_uri": "https://localhost:8080/",
          "height": 532
        },
        "id": "f-HDZNModZaQ",
        "outputId": "640ba501-1f0a-415d-fef5-785139c28850"
      },
      "source": [
        "print(\"The number of unique data : \", df.product_name.nunique())\r\n",
        "plt.figure(figsize=(15,8))\r\n",
        "plt.title(\"Barplot for Product Name\")\r\n",
        "sns.barplot(x=df.product_name.value_counts(), y = df.product_name.value_counts().index.tolist())\r\n",
        "plt.show()"
      ],
      "execution_count": null,
      "outputs": [
        {
          "output_type": "stream",
          "text": [
            "The number of unique data :  26\n"
          ],
          "name": "stdout"
        },
        {
          "output_type": "display_data",
          "data": {
            "image/png": "[encoded data removed]",
            "text/plain": [
              "<Figure size 1080x576 with 1 Axes>"
            ]
          },
          "metadata": {
            "tags": [],
            "needs_background": "light"
          }
        }
      ]
    },
    {
      "cell_type": "code",
      "metadata": {
        "colab": {
          "base_uri": "https://localhost:8080/"
        },
        "id": "L9chcD7Oh-p-",
        "outputId": "a6cff4d9-fefd-4dee-d1a9-0f2d2c49c2dd"
      },
      "source": [
        "print(\"The number of unique destination: \", df.destination.nunique())"
      ],
      "execution_count": null,
      "outputs": [
        {
          "output_type": "stream",
          "text": [
            "The number of unique destination:  141\n"
          ],
          "name": "stdout"
        }
      ]
    },
    {
      "cell_type": "markdown",
      "metadata": {
        "id": "ntw8RIWJe_qd"
      },
      "source": [
        "One Hot Encoding"
      ]
    },
    {
      "cell_type": "code",
      "metadata": {
        "colab": {
          "base_uri": "https://localhost:8080/",
          "height": 330
        },
        "id": "pfRykBBgfC9V",
        "outputId": "ff28d90d-742d-42b7-d046-46c0e0bfa075"
      },
      "source": [
        "#OHE on training data\r\n",
        "ohe = OneHotEncoder(sparse=False)\r\n",
        "df_encode = pd.DataFrame(ohe.fit_transform(df[['agency', 'agency_type', 'distribution_channel']]))\r\n",
        "df_encode.columns = ohe.get_feature_names(['agency', 'agency_type', 'distribution_channel'])\r\n",
        "df.drop(['agency', 'agency_type', 'distribution_channel'] ,axis=1, inplace=True)\r\n",
        "df= pd.concat([df, df_encode], axis=1)\r\n",
        "df.head()\r\n",
        "\r\n",
        "#OHE on test data\r\n",
        "ohe = OneHotEncoder(sparse=False)\r\n",
        "test_encode = pd.DataFrame(ohe.fit_transform(test_data[['agency', 'agency_type', 'distribution_channel']]))\r\n",
        "test_encode.columns = ohe.get_feature_names(['agency', 'agency_type', 'distribution_channel'])\r\n",
        "test_data.drop(['agency', 'agency_type', 'distribution_channel'] ,axis=1, inplace=True)\r\n",
        "test_data= pd.concat([test_data, test_encode], axis=1)\r\n",
        "test_data.head()"
      ],
      "execution_count": null,
      "outputs": [
        {
          "output_type": "execute_result",
          "data": {
            "text/html": [
              "<div>\n",
              "<style scoped>\n",
              "    .dataframe tbody tr th:only-of-type {\n",
              "        vertical-align: middle;\n",
              "    }\n",
              "\n",
              "    .dataframe tbody tr th {\n",
              "        vertical-align: top;\n",
              "    }\n",
              "\n",
              "    .dataframe thead th {\n",
              "        text-align: right;\n",
              "    }\n",
              "</style>\n",
              "<table border=\"1\" class=\"dataframe\">\n",
              "  <thead>\n",
              "    <tr style=\"text-align: right;\">\n",
              "      <th></th>\n",
              "      <th>product_name</th>\n",
              "      <th>duration</th>\n",
              "      <th>destination</th>\n",
              "      <th>net_sales</th>\n",
              "      <th>commision</th>\n",
              "      <th>age</th>\n",
              "      <th>agency_ADM</th>\n",
              "      <th>agency_ART</th>\n",
              "      <th>agency_C2B</th>\n",
              "      <th>agency_CBH</th>\n",
              "      <th>agency_CCR</th>\n",
              "      <th>agency_CSR</th>\n",
              "      <th>agency_CWT</th>\n",
              "      <th>agency_EPX</th>\n",
              "      <th>agency_JWT</th>\n",
              "      <th>agency_JZI</th>\n",
              "      <th>agency_KML</th>\n",
              "      <th>agency_LWC</th>\n",
              "      <th>agency_RAB</th>\n",
              "      <th>agency_SSI</th>\n",
              "      <th>agency_TST</th>\n",
              "      <th>agency_TTW</th>\n",
              "      <th>agency_type_Airlines</th>\n",
              "      <th>agency_type_Travel Agency</th>\n",
              "      <th>distribution_channel_Offline</th>\n",
              "      <th>distribution_channel_Online</th>\n",
              "    </tr>\n",
              "  </thead>\n",
              "  <tbody>\n",
              "    <tr>\n",
              "      <th>0</th>\n",
              "      <td>Cancellation Plan</td>\n",
              "      <td>24</td>\n",
              "      <td>HONG KONG</td>\n",
              "      <td>27.0</td>\n",
              "      <td>0.0</td>\n",
              "      <td>36</td>\n",
              "      <td>0.0</td>\n",
              "      <td>0.0</td>\n",
              "      <td>0.0</td>\n",
              "      <td>0.0</td>\n",
              "      <td>0.0</td>\n",
              "      <td>0.0</td>\n",
              "      <td>0.0</td>\n",
              "      <td>1.0</td>\n",
              "      <td>0.0</td>\n",
              "      <td>0.0</td>\n",
              "      <td>0.0</td>\n",
              "      <td>0.0</td>\n",
              "      <td>0.0</td>\n",
              "      <td>0.0</td>\n",
              "      <td>0.0</td>\n",
              "      <td>0.0</td>\n",
              "      <td>0.0</td>\n",
              "      <td>1.0</td>\n",
              "      <td>0.0</td>\n",
              "      <td>1.0</td>\n",
              "    </tr>\n",
              "    <tr>\n",
              "      <th>1</th>\n",
              "      <td>Cancellation Plan</td>\n",
              "      <td>51</td>\n",
              "      <td>JAPAN</td>\n",
              "      <td>45.0</td>\n",
              "      <td>0.0</td>\n",
              "      <td>36</td>\n",
              "      <td>0.0</td>\n",
              "      <td>0.0</td>\n",
              "      <td>0.0</td>\n",
              "      <td>0.0</td>\n",
              "      <td>0.0</td>\n",
              "      <td>0.0</td>\n",
              "      <td>0.0</td>\n",
              "      <td>1.0</td>\n",
              "      <td>0.0</td>\n",
              "      <td>0.0</td>\n",
              "      <td>0.0</td>\n",
              "      <td>0.0</td>\n",
              "      <td>0.0</td>\n",
              "      <td>0.0</td>\n",
              "      <td>0.0</td>\n",
              "      <td>0.0</td>\n",
              "      <td>0.0</td>\n",
              "      <td>1.0</td>\n",
              "      <td>0.0</td>\n",
              "      <td>1.0</td>\n",
              "    </tr>\n",
              "    <tr>\n",
              "      <th>2</th>\n",
              "      <td>Cancellation Plan</td>\n",
              "      <td>52</td>\n",
              "      <td>JAPAN</td>\n",
              "      <td>21.0</td>\n",
              "      <td>0.0</td>\n",
              "      <td>21</td>\n",
              "      <td>0.0</td>\n",
              "      <td>0.0</td>\n",
              "      <td>0.0</td>\n",
              "      <td>0.0</td>\n",
              "      <td>0.0</td>\n",
              "      <td>0.0</td>\n",
              "      <td>0.0</td>\n",
              "      <td>1.0</td>\n",
              "      <td>0.0</td>\n",
              "      <td>0.0</td>\n",
              "      <td>0.0</td>\n",
              "      <td>0.0</td>\n",
              "      <td>0.0</td>\n",
              "      <td>0.0</td>\n",
              "      <td>0.0</td>\n",
              "      <td>0.0</td>\n",
              "      <td>0.0</td>\n",
              "      <td>1.0</td>\n",
              "      <td>0.0</td>\n",
              "      <td>1.0</td>\n",
              "    </tr>\n",
              "    <tr>\n",
              "      <th>3</th>\n",
              "      <td>Cancellation Plan</td>\n",
              "      <td>89</td>\n",
              "      <td>SINGAPORE</td>\n",
              "      <td>11.0</td>\n",
              "      <td>0.0</td>\n",
              "      <td>30</td>\n",
              "      <td>0.0</td>\n",
              "      <td>0.0</td>\n",
              "      <td>0.0</td>\n",
              "      <td>0.0</td>\n",
              "      <td>0.0</td>\n",
              "      <td>0.0</td>\n",
              "      <td>0.0</td>\n",
              "      <td>1.0</td>\n",
              "      <td>0.0</td>\n",
              "      <td>0.0</td>\n",
              "      <td>0.0</td>\n",
              "      <td>0.0</td>\n",
              "      <td>0.0</td>\n",
              "      <td>0.0</td>\n",
              "      <td>0.0</td>\n",
              "      <td>0.0</td>\n",
              "      <td>0.0</td>\n",
              "      <td>1.0</td>\n",
              "      <td>0.0</td>\n",
              "      <td>1.0</td>\n",
              "    </tr>\n",
              "    <tr>\n",
              "      <th>4</th>\n",
              "      <td>Cancellation Plan</td>\n",
              "      <td>5</td>\n",
              "      <td>MALAYSIA</td>\n",
              "      <td>10.0</td>\n",
              "      <td>0.0</td>\n",
              "      <td>33</td>\n",
              "      <td>0.0</td>\n",
              "      <td>0.0</td>\n",
              "      <td>0.0</td>\n",
              "      <td>0.0</td>\n",
              "      <td>0.0</td>\n",
              "      <td>0.0</td>\n",
              "      <td>0.0</td>\n",
              "      <td>1.0</td>\n",
              "      <td>0.0</td>\n",
              "      <td>0.0</td>\n",
              "      <td>0.0</td>\n",
              "      <td>0.0</td>\n",
              "      <td>0.0</td>\n",
              "      <td>0.0</td>\n",
              "      <td>0.0</td>\n",
              "      <td>0.0</td>\n",
              "      <td>0.0</td>\n",
              "      <td>1.0</td>\n",
              "      <td>0.0</td>\n",
              "      <td>1.0</td>\n",
              "    </tr>\n",
              "  </tbody>\n",
              "</table>\n",
              "</div>"
            ],
            "text/plain": [
              "        product_name  ...  distribution_channel_Online\n",
              "0  Cancellation Plan  ...                          1.0\n",
              "1  Cancellation Plan  ...                          1.0\n",
              "2  Cancellation Plan  ...                          1.0\n",
              "3  Cancellation Plan  ...                          1.0\n",
              "4  Cancellation Plan  ...                          1.0\n",
              "\n",
              "[5 rows x 26 columns]"
            ]
          },
          "metadata": {
            "tags": []
          },
          "execution_count": 553
        }
      ]
    },
    {
      "cell_type": "markdown",
      "metadata": {
        "id": "tu52IJeolgXc"
      },
      "source": [
        "Label Encoding"
      ]
    },
    {
      "cell_type": "code",
      "metadata": {
        "id": "QUPpO4QslfVr"
      },
      "source": [
        "labelencoder = LabelEncoder()\r\n",
        "#data train\r\n",
        "df.product_name = labelencoder.fit_transform(df.product_name)\r\n",
        "df.destination = labelencoder.fit_transform(df.destination)\r\n",
        "#data test\r\n",
        "test_data.product_name = labelencoder.fit_transform(test_data.product_name)\r\n",
        "test_data.destination = labelencoder.fit_transform(test_data.destination)"
      ],
      "execution_count": null,
      "outputs": []
    },
    {
      "cell_type": "code",
      "metadata": {
        "colab": {
          "base_uri": "https://localhost:8080/",
          "height": 244
        },
        "id": "h9rz1FWFmMFT",
        "outputId": "ae00af4b-5060-4e01-89b2-222e5cee16c9"
      },
      "source": [
        "df.head()"
      ],
      "execution_count": null,
      "outputs": [
        {
          "output_type": "execute_result",
          "data": {
            "text/html": [
              "<div>\n",
              "<style scoped>\n",
              "    .dataframe tbody tr th:only-of-type {\n",
              "        vertical-align: middle;\n",
              "    }\n",
              "\n",
              "    .dataframe tbody tr th {\n",
              "        vertical-align: top;\n",
              "    }\n",
              "\n",
              "    .dataframe thead th {\n",
              "        text-align: right;\n",
              "    }\n",
              "</style>\n",
              "<table border=\"1\" class=\"dataframe\">\n",
              "  <thead>\n",
              "    <tr style=\"text-align: right;\">\n",
              "      <th></th>\n",
              "      <th>product_name</th>\n",
              "      <th>duration</th>\n",
              "      <th>destination</th>\n",
              "      <th>net_sales</th>\n",
              "      <th>commision</th>\n",
              "      <th>age</th>\n",
              "      <th>claim</th>\n",
              "      <th>agency_ADM</th>\n",
              "      <th>agency_ART</th>\n",
              "      <th>agency_C2B</th>\n",
              "      <th>agency_CBH</th>\n",
              "      <th>agency_CCR</th>\n",
              "      <th>agency_CSR</th>\n",
              "      <th>agency_CWT</th>\n",
              "      <th>agency_EPX</th>\n",
              "      <th>agency_JWT</th>\n",
              "      <th>agency_JZI</th>\n",
              "      <th>agency_KML</th>\n",
              "      <th>agency_LWC</th>\n",
              "      <th>agency_RAB</th>\n",
              "      <th>agency_SSI</th>\n",
              "      <th>agency_TST</th>\n",
              "      <th>agency_TTW</th>\n",
              "      <th>agency_type_Airlines</th>\n",
              "      <th>agency_type_Travel Agency</th>\n",
              "      <th>distribution_channel_Offline</th>\n",
              "      <th>distribution_channel_Online</th>\n",
              "    </tr>\n",
              "  </thead>\n",
              "  <tbody>\n",
              "    <tr>\n",
              "      <th>0</th>\n",
              "      <td>16</td>\n",
              "      <td>61</td>\n",
              "      <td>131</td>\n",
              "      <td>19.8</td>\n",
              "      <td>11.88</td>\n",
              "      <td>29</td>\n",
              "      <td>0</td>\n",
              "      <td>0.0</td>\n",
              "      <td>0.0</td>\n",
              "      <td>0.0</td>\n",
              "      <td>0.0</td>\n",
              "      <td>0.0</td>\n",
              "      <td>0.0</td>\n",
              "      <td>1.0</td>\n",
              "      <td>0.0</td>\n",
              "      <td>0.0</td>\n",
              "      <td>0.0</td>\n",
              "      <td>0.0</td>\n",
              "      <td>0.0</td>\n",
              "      <td>0.0</td>\n",
              "      <td>0.0</td>\n",
              "      <td>0.0</td>\n",
              "      <td>0.0</td>\n",
              "      <td>0.0</td>\n",
              "      <td>1.0</td>\n",
              "      <td>0.0</td>\n",
              "      <td>1.0</td>\n",
              "    </tr>\n",
              "    <tr>\n",
              "      <th>1</th>\n",
              "      <td>10</td>\n",
              "      <td>93</td>\n",
              "      <td>90</td>\n",
              "      <td>63.0</td>\n",
              "      <td>0.00</td>\n",
              "      <td>36</td>\n",
              "      <td>0</td>\n",
              "      <td>0.0</td>\n",
              "      <td>0.0</td>\n",
              "      <td>0.0</td>\n",
              "      <td>0.0</td>\n",
              "      <td>0.0</td>\n",
              "      <td>0.0</td>\n",
              "      <td>0.0</td>\n",
              "      <td>1.0</td>\n",
              "      <td>0.0</td>\n",
              "      <td>0.0</td>\n",
              "      <td>0.0</td>\n",
              "      <td>0.0</td>\n",
              "      <td>0.0</td>\n",
              "      <td>0.0</td>\n",
              "      <td>0.0</td>\n",
              "      <td>0.0</td>\n",
              "      <td>0.0</td>\n",
              "      <td>1.0</td>\n",
              "      <td>0.0</td>\n",
              "      <td>1.0</td>\n",
              "    </tr>\n",
              "    <tr>\n",
              "      <th>2</th>\n",
              "      <td>1</td>\n",
              "      <td>22</td>\n",
              "      <td>132</td>\n",
              "      <td>22.0</td>\n",
              "      <td>0.00</td>\n",
              "      <td>25</td>\n",
              "      <td>0</td>\n",
              "      <td>0.0</td>\n",
              "      <td>0.0</td>\n",
              "      <td>0.0</td>\n",
              "      <td>0.0</td>\n",
              "      <td>0.0</td>\n",
              "      <td>0.0</td>\n",
              "      <td>0.0</td>\n",
              "      <td>1.0</td>\n",
              "      <td>0.0</td>\n",
              "      <td>0.0</td>\n",
              "      <td>0.0</td>\n",
              "      <td>0.0</td>\n",
              "      <td>0.0</td>\n",
              "      <td>0.0</td>\n",
              "      <td>0.0</td>\n",
              "      <td>0.0</td>\n",
              "      <td>0.0</td>\n",
              "      <td>1.0</td>\n",
              "      <td>0.0</td>\n",
              "      <td>1.0</td>\n",
              "    </tr>\n",
              "    <tr>\n",
              "      <th>3</th>\n",
              "      <td>17</td>\n",
              "      <td>14</td>\n",
              "      <td>112</td>\n",
              "      <td>54.5</td>\n",
              "      <td>13.63</td>\n",
              "      <td>24</td>\n",
              "      <td>0</td>\n",
              "      <td>0.0</td>\n",
              "      <td>0.0</td>\n",
              "      <td>1.0</td>\n",
              "      <td>0.0</td>\n",
              "      <td>0.0</td>\n",
              "      <td>0.0</td>\n",
              "      <td>0.0</td>\n",
              "      <td>0.0</td>\n",
              "      <td>0.0</td>\n",
              "      <td>0.0</td>\n",
              "      <td>0.0</td>\n",
              "      <td>0.0</td>\n",
              "      <td>0.0</td>\n",
              "      <td>0.0</td>\n",
              "      <td>0.0</td>\n",
              "      <td>0.0</td>\n",
              "      <td>1.0</td>\n",
              "      <td>0.0</td>\n",
              "      <td>0.0</td>\n",
              "      <td>1.0</td>\n",
              "    </tr>\n",
              "    <tr>\n",
              "      <th>4</th>\n",
              "      <td>10</td>\n",
              "      <td>90</td>\n",
              "      <td>137</td>\n",
              "      <td>10.0</td>\n",
              "      <td>0.00</td>\n",
              "      <td>23</td>\n",
              "      <td>0</td>\n",
              "      <td>0.0</td>\n",
              "      <td>0.0</td>\n",
              "      <td>0.0</td>\n",
              "      <td>0.0</td>\n",
              "      <td>0.0</td>\n",
              "      <td>0.0</td>\n",
              "      <td>0.0</td>\n",
              "      <td>1.0</td>\n",
              "      <td>0.0</td>\n",
              "      <td>0.0</td>\n",
              "      <td>0.0</td>\n",
              "      <td>0.0</td>\n",
              "      <td>0.0</td>\n",
              "      <td>0.0</td>\n",
              "      <td>0.0</td>\n",
              "      <td>0.0</td>\n",
              "      <td>0.0</td>\n",
              "      <td>1.0</td>\n",
              "      <td>0.0</td>\n",
              "      <td>1.0</td>\n",
              "    </tr>\n",
              "  </tbody>\n",
              "</table>\n",
              "</div>"
            ],
            "text/plain": [
              "   product_name  ...  distribution_channel_Online\n",
              "0            16  ...                          1.0\n",
              "1            10  ...                          1.0\n",
              "2             1  ...                          1.0\n",
              "3            17  ...                          1.0\n",
              "4            10  ...                          1.0\n",
              "\n",
              "[5 rows x 27 columns]"
            ]
          },
          "metadata": {
            "tags": []
          },
          "execution_count": 555
        }
      ]
    },
    {
      "cell_type": "markdown",
      "metadata": {
        "id": "GJQbWFWNeqhk"
      },
      "source": [
        "## Train Test Split to Prevent Data Lekage"
      ]
    },
    {
      "cell_type": "code",
      "metadata": {
        "id": "Gl9WS65Je3f3"
      },
      "source": [
        "input = df.drop(\"claim\", axis=1)\r\n",
        "output = df.claim\r\n",
        "\r\n",
        "x_train, x_test, y_train, y_test = train_test_split(input, output, test_size = 0.2, random_state=1, stratify=output)\r\n",
        "train = pd.concat([x_train, y_train], axis=1)\r\n",
        "test = pd.concat([x_test, y_test], axis=1)"
      ],
      "execution_count": null,
      "outputs": []
    },
    {
      "cell_type": "markdown",
      "metadata": {
        "id": "xPWRYV5re8Os"
      },
      "source": [
        "## Outlier Handling"
      ]
    },
    {
      "cell_type": "code",
      "metadata": {
        "colab": {
          "base_uri": "https://localhost:8080/",
          "height": 499
        },
        "id": "wGNENuW_e-_S",
        "outputId": "af5596c4-ed40-42bf-d6f4-3a8d43522140"
      },
      "source": [
        "# duration, net_sales, commision\r\n",
        "fig, ax = plt.subplots(2,4, figsize=(15,8))\r\n",
        "ax[0,0].boxplot(train.duration)\r\n",
        "ax[0,0].set_title(\"Duration\")\r\n",
        "ax[0,1].boxplot(train.net_sales)\r\n",
        "ax[0,1].set_title(\"Net Sales\")\r\n",
        "ax[0,2].boxplot(train.commision)\r\n",
        "ax[0,2].set_title(\"Commision\")\r\n",
        "ax[0,3].boxplot(train.age)\r\n",
        "ax[0,3].set_title(\"Age\")\r\n",
        "\r\n",
        "ax[1,0].hist(train.duration)\r\n",
        "ax[1,1].hist(train.net_sales)\r\n",
        "ax[1,2].hist(train.commision)\r\n",
        "ax[1,3].hist(train.age)\r\n",
        "plt.show()"
      ],
      "execution_count": null,
      "outputs": [
        {
          "output_type": "display_data",
          "data": {
            "image/png": "[encoded data removed]",
            "text/plain": [
              "<Figure size 1080x576 with 8 Axes>"
            ]
          },
          "metadata": {
            "tags": [],
            "needs_background": "light"
          }
        }
      ]
    },
    {
      "cell_type": "code",
      "metadata": {
        "id": "8BwciUuMd1r3"
      },
      "source": [
        "#cek the outlier \r\n",
        "def outlier_check(data):\r\n",
        "  q1, q3 = data.quantile(0.25), data.quantile(0.75)\r\n",
        "  iqr = q3-q1\r\n",
        "  return (q1-iqr*1.5), (q3+iqr*1.5)\r\n",
        "\r\n",
        "#replace the ourlier with uperbound or lowerbound data\r\n",
        "def iqr_replace(lb, ub, col,df):\r\n",
        "  df.at[df[df[col]>ub].index.to_list(),col]= ub\r\n",
        "  df.at[df[df[col]<lb].index.to_list(),col]= lb\r\n",
        "  return df\r\n",
        "\r\n",
        "#data without outlier\r\n",
        "def clean_outlier(df, cols):\r\n",
        "  df_to_clean = df.copy()\r\n",
        "  for col in cols:\r\n",
        "    lb, ub = outlier_check(df[col])\r\n",
        "    df_to_clean = iqr_replace(lb, ub, col, df_to_clean)\r\n",
        "  return df_to_clean\r\n",
        "\r\n",
        "#Handling outlier using Z-score\r\n",
        "def zscore_outlier(df, cols):\r\n",
        "  for col in cols:\r\n",
        "    mean, std = df[cols].mean(), df[cols].std()\r\n",
        "    df['z_score'] = (df[cols]-mean)/std\r\n",
        "    df = df[(df.z_score>-3) & (df.z_score<3)]\r\n",
        "    df.reset_index(inplace=True)\r\n",
        "    df.drop(['z_score','index'], axis=1, inplace=True)\r\n",
        "  return df"
      ],
      "execution_count": null,
      "outputs": []
    },
    {
      "cell_type": "code",
      "metadata": {
        "colab": {
          "base_uri": "https://localhost:8080/"
        },
        "id": "WgcYM8tzvYws",
        "outputId": "131903d2-c87a-4f1f-8b0e-de49f8e083e6"
      },
      "source": [
        "train = zscore_outlier(train, ['duration'])\r\n",
        "train = zscore_outlier(train, ['net_sales'])\r\n",
        "train = zscore_outlier(train, ['commision'])\r\n",
        "train = zscore_outlier(train, ['age'])\r\n",
        "train.shape[0]"
      ],
      "execution_count": null,
      "outputs": [
        {
          "output_type": "execute_result",
          "data": {
            "text/plain": [
              "35297"
            ]
          },
          "metadata": {
            "tags": []
          },
          "execution_count": 559
        }
      ]
    },
    {
      "cell_type": "code",
      "metadata": {
        "colab": {
          "base_uri": "https://localhost:8080/",
          "height": 499
        },
        "id": "oDN_H4MszPiX",
        "outputId": "5455e330-1179-4c95-a2c4-2c9fab0bb175"
      },
      "source": [
        "# duration, net_sales, commision\r\n",
        "fig, ax = plt.subplots(2,4, figsize=(15,8))\r\n",
        "ax[0,0].boxplot(train.duration)\r\n",
        "ax[0,0].set_title(\"Duration\")\r\n",
        "ax[0,1].boxplot(train.net_sales)\r\n",
        "ax[0,1].set_title(\"Net Sales\")\r\n",
        "ax[0,2].boxplot(train.commision)\r\n",
        "ax[0,2].set_title(\"Commision\")\r\n",
        "ax[0,3].boxplot(train.age)\r\n",
        "ax[0,3].set_title(\"Age\")\r\n",
        "\r\n",
        "ax[1,0].hist(train.duration)\r\n",
        "ax[1,1].hist(train.net_sales)\r\n",
        "ax[1,2].hist(train.commision)\r\n",
        "ax[1,3].hist(train.age)\r\n",
        "plt.show()"
      ],
      "execution_count": null,
      "outputs": [
        {
          "output_type": "display_data",
          "data": {
            "image/png": "[encoded data removed]",
            "text/plain": [
              "<Figure size 1080x576 with 8 Axes>"
            ]
          },
          "metadata": {
            "tags": [],
            "needs_background": "light"
          }
        }
      ]
    },
    {
      "cell_type": "code",
      "metadata": {
        "colab": {
          "base_uri": "https://localhost:8080/",
          "height": 338
        },
        "id": "Cycjcjeq6GUf",
        "outputId": "fc92a21c-a21c-4005-96de-15ba7d80b910"
      },
      "source": [
        "train.describe()"
      ],
      "execution_count": null,
      "outputs": [
        {
          "output_type": "execute_result",
          "data": {
            "text/html": [
              "<div>\n",
              "<style scoped>\n",
              "    .dataframe tbody tr th:only-of-type {\n",
              "        vertical-align: middle;\n",
              "    }\n",
              "\n",
              "    .dataframe tbody tr th {\n",
              "        vertical-align: top;\n",
              "    }\n",
              "\n",
              "    .dataframe thead th {\n",
              "        text-align: right;\n",
              "    }\n",
              "</style>\n",
              "<table border=\"1\" class=\"dataframe\">\n",
              "  <thead>\n",
              "    <tr style=\"text-align: right;\">\n",
              "      <th></th>\n",
              "      <th>product_name</th>\n",
              "      <th>duration</th>\n",
              "      <th>destination</th>\n",
              "      <th>net_sales</th>\n",
              "      <th>commision</th>\n",
              "      <th>age</th>\n",
              "      <th>agency_ADM</th>\n",
              "      <th>agency_ART</th>\n",
              "      <th>agency_C2B</th>\n",
              "      <th>agency_CBH</th>\n",
              "      <th>agency_CCR</th>\n",
              "      <th>agency_CSR</th>\n",
              "      <th>agency_CWT</th>\n",
              "      <th>agency_EPX</th>\n",
              "      <th>agency_JWT</th>\n",
              "      <th>agency_JZI</th>\n",
              "      <th>agency_KML</th>\n",
              "      <th>agency_LWC</th>\n",
              "      <th>agency_RAB</th>\n",
              "      <th>agency_SSI</th>\n",
              "      <th>agency_TST</th>\n",
              "      <th>agency_TTW</th>\n",
              "      <th>agency_type_Airlines</th>\n",
              "      <th>agency_type_Travel Agency</th>\n",
              "      <th>distribution_channel_Offline</th>\n",
              "      <th>distribution_channel_Online</th>\n",
              "      <th>claim</th>\n",
              "    </tr>\n",
              "  </thead>\n",
              "  <tbody>\n",
              "    <tr>\n",
              "      <th>count</th>\n",
              "      <td>35297.000000</td>\n",
              "      <td>35297.000000</td>\n",
              "      <td>35297.000000</td>\n",
              "      <td>35297.000000</td>\n",
              "      <td>35297.000000</td>\n",
              "      <td>35297.000000</td>\n",
              "      <td>35297.000000</td>\n",
              "      <td>35297.000000</td>\n",
              "      <td>35297.000000</td>\n",
              "      <td>35297.000000</td>\n",
              "      <td>35297.000000</td>\n",
              "      <td>35297.000000</td>\n",
              "      <td>35297.000000</td>\n",
              "      <td>35297.000000</td>\n",
              "      <td>35297.0</td>\n",
              "      <td>35297.000000</td>\n",
              "      <td>35297.000000</td>\n",
              "      <td>35297.000000</td>\n",
              "      <td>35297.000000</td>\n",
              "      <td>35297.000000</td>\n",
              "      <td>35297.000000</td>\n",
              "      <td>35297.0</td>\n",
              "      <td>35297.000000</td>\n",
              "      <td>35297.000000</td>\n",
              "      <td>35297.000000</td>\n",
              "      <td>35297.000000</td>\n",
              "      <td>35297.000000</td>\n",
              "    </tr>\n",
              "    <tr>\n",
              "      <th>mean</th>\n",
              "      <td>8.967193</td>\n",
              "      <td>36.735190</td>\n",
              "      <td>81.961583</td>\n",
              "      <td>32.266678</td>\n",
              "      <td>5.520493</td>\n",
              "      <td>38.451908</td>\n",
              "      <td>0.000907</td>\n",
              "      <td>0.004646</td>\n",
              "      <td>0.111908</td>\n",
              "      <td>0.001643</td>\n",
              "      <td>0.002550</td>\n",
              "      <td>0.001247</td>\n",
              "      <td>0.115336</td>\n",
              "      <td>0.602431</td>\n",
              "      <td>0.0</td>\n",
              "      <td>0.106666</td>\n",
              "      <td>0.006176</td>\n",
              "      <td>0.007111</td>\n",
              "      <td>0.012862</td>\n",
              "      <td>0.017707</td>\n",
              "      <td>0.008811</td>\n",
              "      <td>0.0</td>\n",
              "      <td>0.253789</td>\n",
              "      <td>0.746211</td>\n",
              "      <td>0.014930</td>\n",
              "      <td>0.985070</td>\n",
              "      <td>0.011276</td>\n",
              "    </tr>\n",
              "    <tr>\n",
              "      <th>std</th>\n",
              "      <td>6.417700</td>\n",
              "      <td>44.621924</td>\n",
              "      <td>39.015388</td>\n",
              "      <td>24.571806</td>\n",
              "      <td>9.247811</td>\n",
              "      <td>9.751064</td>\n",
              "      <td>0.030096</td>\n",
              "      <td>0.068006</td>\n",
              "      <td>0.315257</td>\n",
              "      <td>0.040504</td>\n",
              "      <td>0.050432</td>\n",
              "      <td>0.035285</td>\n",
              "      <td>0.319431</td>\n",
              "      <td>0.489402</td>\n",
              "      <td>0.0</td>\n",
              "      <td>0.308693</td>\n",
              "      <td>0.078347</td>\n",
              "      <td>0.084028</td>\n",
              "      <td>0.112682</td>\n",
              "      <td>0.131886</td>\n",
              "      <td>0.093454</td>\n",
              "      <td>0.0</td>\n",
              "      <td>0.435185</td>\n",
              "      <td>0.435185</td>\n",
              "      <td>0.121276</td>\n",
              "      <td>0.121276</td>\n",
              "      <td>0.105588</td>\n",
              "    </tr>\n",
              "    <tr>\n",
              "      <th>min</th>\n",
              "      <td>0.000000</td>\n",
              "      <td>0.000000</td>\n",
              "      <td>0.000000</td>\n",
              "      <td>-61.000000</td>\n",
              "      <td>0.000000</td>\n",
              "      <td>0.000000</td>\n",
              "      <td>0.000000</td>\n",
              "      <td>0.000000</td>\n",
              "      <td>0.000000</td>\n",
              "      <td>0.000000</td>\n",
              "      <td>0.000000</td>\n",
              "      <td>0.000000</td>\n",
              "      <td>0.000000</td>\n",
              "      <td>0.000000</td>\n",
              "      <td>0.0</td>\n",
              "      <td>0.000000</td>\n",
              "      <td>0.000000</td>\n",
              "      <td>0.000000</td>\n",
              "      <td>0.000000</td>\n",
              "      <td>0.000000</td>\n",
              "      <td>0.000000</td>\n",
              "      <td>0.0</td>\n",
              "      <td>0.000000</td>\n",
              "      <td>0.000000</td>\n",
              "      <td>0.000000</td>\n",
              "      <td>0.000000</td>\n",
              "      <td>0.000000</td>\n",
              "    </tr>\n",
              "    <tr>\n",
              "      <th>25%</th>\n",
              "      <td>1.000000</td>\n",
              "      <td>9.000000</td>\n",
              "      <td>55.000000</td>\n",
              "      <td>18.000000</td>\n",
              "      <td>0.000000</td>\n",
              "      <td>35.000000</td>\n",
              "      <td>0.000000</td>\n",
              "      <td>0.000000</td>\n",
              "      <td>0.000000</td>\n",
              "      <td>0.000000</td>\n",
              "      <td>0.000000</td>\n",
              "      <td>0.000000</td>\n",
              "      <td>0.000000</td>\n",
              "      <td>0.000000</td>\n",
              "      <td>0.0</td>\n",
              "      <td>0.000000</td>\n",
              "      <td>0.000000</td>\n",
              "      <td>0.000000</td>\n",
              "      <td>0.000000</td>\n",
              "      <td>0.000000</td>\n",
              "      <td>0.000000</td>\n",
              "      <td>0.0</td>\n",
              "      <td>0.000000</td>\n",
              "      <td>0.000000</td>\n",
              "      <td>0.000000</td>\n",
              "      <td>1.000000</td>\n",
              "      <td>0.000000</td>\n",
              "    </tr>\n",
              "    <tr>\n",
              "      <th>50%</th>\n",
              "      <td>10.000000</td>\n",
              "      <td>20.000000</td>\n",
              "      <td>86.000000</td>\n",
              "      <td>25.000000</td>\n",
              "      <td>0.000000</td>\n",
              "      <td>36.000000</td>\n",
              "      <td>0.000000</td>\n",
              "      <td>0.000000</td>\n",
              "      <td>0.000000</td>\n",
              "      <td>0.000000</td>\n",
              "      <td>0.000000</td>\n",
              "      <td>0.000000</td>\n",
              "      <td>0.000000</td>\n",
              "      <td>1.000000</td>\n",
              "      <td>0.0</td>\n",
              "      <td>0.000000</td>\n",
              "      <td>0.000000</td>\n",
              "      <td>0.000000</td>\n",
              "      <td>0.000000</td>\n",
              "      <td>0.000000</td>\n",
              "      <td>0.000000</td>\n",
              "      <td>0.0</td>\n",
              "      <td>0.000000</td>\n",
              "      <td>1.000000</td>\n",
              "      <td>0.000000</td>\n",
              "      <td>1.000000</td>\n",
              "      <td>0.000000</td>\n",
              "    </tr>\n",
              "    <tr>\n",
              "      <th>75%</th>\n",
              "      <td>10.000000</td>\n",
              "      <td>47.000000</td>\n",
              "      <td>112.000000</td>\n",
              "      <td>40.000000</td>\n",
              "      <td>7.700000</td>\n",
              "      <td>41.000000</td>\n",
              "      <td>0.000000</td>\n",
              "      <td>0.000000</td>\n",
              "      <td>0.000000</td>\n",
              "      <td>0.000000</td>\n",
              "      <td>0.000000</td>\n",
              "      <td>0.000000</td>\n",
              "      <td>0.000000</td>\n",
              "      <td>1.000000</td>\n",
              "      <td>0.0</td>\n",
              "      <td>0.000000</td>\n",
              "      <td>0.000000</td>\n",
              "      <td>0.000000</td>\n",
              "      <td>0.000000</td>\n",
              "      <td>0.000000</td>\n",
              "      <td>0.000000</td>\n",
              "      <td>0.0</td>\n",
              "      <td>1.000000</td>\n",
              "      <td>1.000000</td>\n",
              "      <td>0.000000</td>\n",
              "      <td>1.000000</td>\n",
              "      <td>0.000000</td>\n",
              "    </tr>\n",
              "    <tr>\n",
              "      <th>max</th>\n",
              "      <td>25.000000</td>\n",
              "      <td>351.000000</td>\n",
              "      <td>140.000000</td>\n",
              "      <td>131.300000</td>\n",
              "      <td>43.750000</td>\n",
              "      <td>81.000000</td>\n",
              "      <td>1.000000</td>\n",
              "      <td>1.000000</td>\n",
              "      <td>1.000000</td>\n",
              "      <td>1.000000</td>\n",
              "      <td>1.000000</td>\n",
              "      <td>1.000000</td>\n",
              "      <td>1.000000</td>\n",
              "      <td>1.000000</td>\n",
              "      <td>0.0</td>\n",
              "      <td>1.000000</td>\n",
              "      <td>1.000000</td>\n",
              "      <td>1.000000</td>\n",
              "      <td>1.000000</td>\n",
              "      <td>1.000000</td>\n",
              "      <td>1.000000</td>\n",
              "      <td>0.0</td>\n",
              "      <td>1.000000</td>\n",
              "      <td>1.000000</td>\n",
              "      <td>1.000000</td>\n",
              "      <td>1.000000</td>\n",
              "      <td>1.000000</td>\n",
              "    </tr>\n",
              "  </tbody>\n",
              "</table>\n",
              "</div>"
            ],
            "text/plain": [
              "       product_name      duration  ...  distribution_channel_Online         claim\n",
              "count  35297.000000  35297.000000  ...                 35297.000000  35297.000000\n",
              "mean       8.967193     36.735190  ...                     0.985070      0.011276\n",
              "std        6.417700     44.621924  ...                     0.121276      0.105588\n",
              "min        0.000000      0.000000  ...                     0.000000      0.000000\n",
              "25%        1.000000      9.000000  ...                     1.000000      0.000000\n",
              "50%       10.000000     20.000000  ...                     1.000000      0.000000\n",
              "75%       10.000000     47.000000  ...                     1.000000      0.000000\n",
              "max       25.000000    351.000000  ...                     1.000000      1.000000\n",
              "\n",
              "[8 rows x 27 columns]"
            ]
          },
          "metadata": {
            "tags": []
          },
          "execution_count": 561
        }
      ]
    },
    {
      "cell_type": "code",
      "metadata": {
        "id": "ajRoCYw45wDl"
      },
      "source": [
        "# #check duration\r\n",
        "# lb, ub = outlier_check(train.duration)\r\n",
        "# train[train.duration>ub]\r\n",
        "# # train[(train.duration<lb) | (train.duration>ub)]\r\n",
        "\r\n",
        "# train_new = clean_outlier(train, ['duration', 'net_sales', 'commision', 'age'])\r\n",
        "\r\n",
        "# fig, ax = plt.subplots(2,4, figsize=(15,8))\r\n",
        "# ax[0,0].boxplot(train_new.duration)\r\n",
        "# ax[0,0].set_title(\"Duration\")\r\n",
        "# ax[0,1].boxplot(train_new.net_sales)\r\n",
        "# ax[0,1].set_title(\"Net Sales\")\r\n",
        "# ax[0,2].boxplot(train_new.commision)\r\n",
        "# ax[0,2].set_title(\"Commision\")\r\n",
        "# ax[0,3].boxplot(train_new.age)\r\n",
        "# ax[0,3].set_title(\"Age\")\r\n",
        "\r\n",
        "# ax[1,0].hist(train_new.duration)\r\n",
        "# ax[1,1].hist(train_new.net_sales)\r\n",
        "# ax[1,2].hist(train_new.commision)\r\n",
        "# ax[1,3].hist(train_new.age)\r\n",
        "# plt.show()"
      ],
      "execution_count": null,
      "outputs": []
    },
    {
      "cell_type": "markdown",
      "metadata": {
        "id": "VvU8YQQ7WO5t"
      },
      "source": [
        "## Data Normalization"
      ]
    },
    {
      "cell_type": "code",
      "metadata": {
        "colab": {
          "base_uri": "https://localhost:8080/",
          "height": 244
        },
        "id": "LLOitMN7WYjg",
        "outputId": "615e14c3-708b-49a4-b196-018236aad2fb"
      },
      "source": [
        "pt = PowerTransformer()\r\n",
        "norm_train = pd.DataFrame(pt.fit_transform(train[['duration', 'net_sales', 'commision', 'age']]), columns=['duration', 'net_sales', 'commision', 'age'])\r\n",
        "train.drop(['duration', 'net_sales', 'commision', 'age'], axis=1, inplace=True)\r\n",
        "train = pd.concat([train, norm_train], axis=1)\r\n",
        "train.head()"
      ],
      "execution_count": null,
      "outputs": [
        {
          "output_type": "execute_result",
          "data": {
            "text/html": [
              "<div>\n",
              "<style scoped>\n",
              "    .dataframe tbody tr th:only-of-type {\n",
              "        vertical-align: middle;\n",
              "    }\n",
              "\n",
              "    .dataframe tbody tr th {\n",
              "        vertical-align: top;\n",
              "    }\n",
              "\n",
              "    .dataframe thead th {\n",
              "        text-align: right;\n",
              "    }\n",
              "</style>\n",
              "<table border=\"1\" class=\"dataframe\">\n",
              "  <thead>\n",
              "    <tr style=\"text-align: right;\">\n",
              "      <th></th>\n",
              "      <th>product_name</th>\n",
              "      <th>destination</th>\n",
              "      <th>agency_ADM</th>\n",
              "      <th>agency_ART</th>\n",
              "      <th>agency_C2B</th>\n",
              "      <th>agency_CBH</th>\n",
              "      <th>agency_CCR</th>\n",
              "      <th>agency_CSR</th>\n",
              "      <th>agency_CWT</th>\n",
              "      <th>agency_EPX</th>\n",
              "      <th>agency_JWT</th>\n",
              "      <th>agency_JZI</th>\n",
              "      <th>agency_KML</th>\n",
              "      <th>agency_LWC</th>\n",
              "      <th>agency_RAB</th>\n",
              "      <th>agency_SSI</th>\n",
              "      <th>agency_TST</th>\n",
              "      <th>agency_TTW</th>\n",
              "      <th>agency_type_Airlines</th>\n",
              "      <th>agency_type_Travel Agency</th>\n",
              "      <th>distribution_channel_Offline</th>\n",
              "      <th>distribution_channel_Online</th>\n",
              "      <th>claim</th>\n",
              "      <th>duration</th>\n",
              "      <th>net_sales</th>\n",
              "      <th>commision</th>\n",
              "      <th>age</th>\n",
              "    </tr>\n",
              "  </thead>\n",
              "  <tbody>\n",
              "    <tr>\n",
              "      <th>0</th>\n",
              "      <td>1</td>\n",
              "      <td>62</td>\n",
              "      <td>0.0</td>\n",
              "      <td>0.0</td>\n",
              "      <td>0.0</td>\n",
              "      <td>0.0</td>\n",
              "      <td>0.0</td>\n",
              "      <td>0.0</td>\n",
              "      <td>0.0</td>\n",
              "      <td>1.0</td>\n",
              "      <td>0.0</td>\n",
              "      <td>0.0</td>\n",
              "      <td>0.0</td>\n",
              "      <td>0.0</td>\n",
              "      <td>0.0</td>\n",
              "      <td>0.0</td>\n",
              "      <td>0.0</td>\n",
              "      <td>0.0</td>\n",
              "      <td>0.0</td>\n",
              "      <td>1.0</td>\n",
              "      <td>0.0</td>\n",
              "      <td>1.0</td>\n",
              "      <td>0</td>\n",
              "      <td>-0.828127</td>\n",
              "      <td>3.041139</td>\n",
              "      <td>-0.795918</td>\n",
              "      <td>-0.161953</td>\n",
              "    </tr>\n",
              "    <tr>\n",
              "      <th>1</th>\n",
              "      <td>10</td>\n",
              "      <td>120</td>\n",
              "      <td>0.0</td>\n",
              "      <td>0.0</td>\n",
              "      <td>0.0</td>\n",
              "      <td>0.0</td>\n",
              "      <td>0.0</td>\n",
              "      <td>0.0</td>\n",
              "      <td>0.0</td>\n",
              "      <td>1.0</td>\n",
              "      <td>0.0</td>\n",
              "      <td>0.0</td>\n",
              "      <td>0.0</td>\n",
              "      <td>0.0</td>\n",
              "      <td>0.0</td>\n",
              "      <td>0.0</td>\n",
              "      <td>0.0</td>\n",
              "      <td>0.0</td>\n",
              "      <td>0.0</td>\n",
              "      <td>1.0</td>\n",
              "      <td>0.0</td>\n",
              "      <td>1.0</td>\n",
              "      <td>0</td>\n",
              "      <td>0.136656</td>\n",
              "      <td>-0.724280</td>\n",
              "      <td>-0.795918</td>\n",
              "      <td>1.915483</td>\n",
              "    </tr>\n",
              "    <tr>\n",
              "      <th>2</th>\n",
              "      <td>8</td>\n",
              "      <td>52</td>\n",
              "      <td>0.0</td>\n",
              "      <td>0.0</td>\n",
              "      <td>0.0</td>\n",
              "      <td>0.0</td>\n",
              "      <td>0.0</td>\n",
              "      <td>0.0</td>\n",
              "      <td>0.0</td>\n",
              "      <td>0.0</td>\n",
              "      <td>0.0</td>\n",
              "      <td>1.0</td>\n",
              "      <td>0.0</td>\n",
              "      <td>0.0</td>\n",
              "      <td>0.0</td>\n",
              "      <td>0.0</td>\n",
              "      <td>0.0</td>\n",
              "      <td>0.0</td>\n",
              "      <td>1.0</td>\n",
              "      <td>0.0</td>\n",
              "      <td>0.0</td>\n",
              "      <td>1.0</td>\n",
              "      <td>0</td>\n",
              "      <td>-0.554780</td>\n",
              "      <td>-0.217881</td>\n",
              "      <td>1.199764</td>\n",
              "      <td>1.454685</td>\n",
              "    </tr>\n",
              "    <tr>\n",
              "      <th>3</th>\n",
              "      <td>9</td>\n",
              "      <td>112</td>\n",
              "      <td>0.0</td>\n",
              "      <td>0.0</td>\n",
              "      <td>1.0</td>\n",
              "      <td>0.0</td>\n",
              "      <td>0.0</td>\n",
              "      <td>0.0</td>\n",
              "      <td>0.0</td>\n",
              "      <td>0.0</td>\n",
              "      <td>0.0</td>\n",
              "      <td>0.0</td>\n",
              "      <td>0.0</td>\n",
              "      <td>0.0</td>\n",
              "      <td>0.0</td>\n",
              "      <td>0.0</td>\n",
              "      <td>0.0</td>\n",
              "      <td>0.0</td>\n",
              "      <td>1.0</td>\n",
              "      <td>0.0</td>\n",
              "      <td>0.0</td>\n",
              "      <td>1.0</td>\n",
              "      <td>0</td>\n",
              "      <td>0.242659</td>\n",
              "      <td>0.306657</td>\n",
              "      <td>1.224090</td>\n",
              "      <td>-0.767742</td>\n",
              "    </tr>\n",
              "    <tr>\n",
              "      <th>4</th>\n",
              "      <td>9</td>\n",
              "      <td>112</td>\n",
              "      <td>0.0</td>\n",
              "      <td>0.0</td>\n",
              "      <td>1.0</td>\n",
              "      <td>0.0</td>\n",
              "      <td>0.0</td>\n",
              "      <td>0.0</td>\n",
              "      <td>0.0</td>\n",
              "      <td>0.0</td>\n",
              "      <td>0.0</td>\n",
              "      <td>0.0</td>\n",
              "      <td>0.0</td>\n",
              "      <td>0.0</td>\n",
              "      <td>0.0</td>\n",
              "      <td>0.0</td>\n",
              "      <td>0.0</td>\n",
              "      <td>0.0</td>\n",
              "      <td>1.0</td>\n",
              "      <td>0.0</td>\n",
              "      <td>0.0</td>\n",
              "      <td>1.0</td>\n",
              "      <td>0</td>\n",
              "      <td>-0.478960</td>\n",
              "      <td>0.346264</td>\n",
              "      <td>1.232829</td>\n",
              "      <td>2.059819</td>\n",
              "    </tr>\n",
              "  </tbody>\n",
              "</table>\n",
              "</div>"
            ],
            "text/plain": [
              "   product_name  destination  agency_ADM  ...  net_sales  commision       age\n",
              "0             1           62         0.0  ...   3.041139  -0.795918 -0.161953\n",
              "1            10          120         0.0  ...  -0.724280  -0.795918  1.915483\n",
              "2             8           52         0.0  ...  -0.217881   1.199764  1.454685\n",
              "3             9          112         0.0  ...   0.306657   1.224090 -0.767742\n",
              "4             9          112         0.0  ...   0.346264   1.232829  2.059819\n",
              "\n",
              "[5 rows x 27 columns]"
            ]
          },
          "metadata": {
            "tags": []
          },
          "execution_count": 563
        }
      ]
    },
    {
      "cell_type": "code",
      "metadata": {
        "colab": {
          "base_uri": "https://localhost:8080/",
          "height": 281
        },
        "id": "tJttyrFuY7P_",
        "outputId": "7d3b7e8c-f3c9-44a5-f696-69a9453214c8"
      },
      "source": [
        "fig, ax = plt.subplots(1,4, figsize=(15,4))\r\n",
        "ax[0].hist(train.duration)\r\n",
        "ax[0].set_title(\"Duration\")\r\n",
        "ax[1].hist(train.net_sales)\r\n",
        "ax[1].set_title(\"Net Sales\")\r\n",
        "ax[2].hist(train.commision)\r\n",
        "ax[2].set_title(\"Commision\")\r\n",
        "ax[3].hist(train.age)\r\n",
        "ax[3].set_title(\"Age\")\r\n",
        "\r\n",
        "plt.show()"
      ],
      "execution_count": null,
      "outputs": [
        {
          "output_type": "display_data",
          "data": {
            "image/png": "[encoded data removed]",
            "text/plain": [
              "<Figure size 1080x288 with 4 Axes>"
            ]
          },
          "metadata": {
            "tags": [],
            "needs_background": "light"
          }
        }
      ]
    },
    {
      "cell_type": "code",
      "metadata": {
        "id": "GrNtPtqLYyDb"
      },
      "source": [
        "#normalization in test\r\n",
        "norm_test = pd.DataFrame(pt.transform(test[['duration', 'net_sales', 'commision', 'age']]), columns=['duration', 'net_sales', 'commision', 'age'])\r\n",
        "test.drop(['duration', 'net_sales', 'commision', 'age'], axis=1, inplace=True)\r\n",
        "test.reset_index(inplace=True)\r\n",
        "test = pd.concat([test, norm_test], axis=1)"
      ],
      "execution_count": null,
      "outputs": []
    },
    {
      "cell_type": "code",
      "metadata": {
        "id": "0Z-Rskk7aGIE"
      },
      "source": [
        "#normalization in test data\r\n",
        "norm_test_data = pd.DataFrame(pt.transform(test_data[['duration', 'net_sales', 'commision', 'age']]), columns=['duration', 'net_sales', 'commision', 'age'])\r\n",
        "test_data.drop(['duration', 'net_sales', 'commision', 'age'], axis=1, inplace=True)\r\n",
        "test_data = pd.concat([test_data, norm_test_data], axis=1)"
      ],
      "execution_count": null,
      "outputs": []
    },
    {
      "cell_type": "markdown",
      "metadata": {
        "id": "TDybKDQHbbEj"
      },
      "source": [
        "## Scaling\r\n",
        "Because the data doesn't normally ditributed, so we use standardization to scale the data"
      ]
    },
    {
      "cell_type": "code",
      "metadata": {
        "colab": {
          "base_uri": "https://localhost:8080/",
          "height": 244
        },
        "id": "lrpsS5ywbZ0X",
        "outputId": "cae71ac2-d909-4b95-d780-fe8108110c68"
      },
      "source": [
        "scale = StandardScaler()\r\n",
        "scale_train = pd.DataFrame(scale.fit_transform(train[['duration', 'net_sales', 'commision', 'age','product_name','destination']]), columns=['duration', 'net_sales', 'commision', 'age','product_name','destination'])\r\n",
        "train.drop(['duration', 'net_sales', 'commision', 'age','product_name','destination'], axis=1, inplace=True)\r\n",
        "train = pd.concat([train, scale_train], axis=1)\r\n",
        "train.head()"
      ],
      "execution_count": null,
      "outputs": [
        {
          "output_type": "execute_result",
          "data": {
            "text/html": [
              "<div>\n",
              "<style scoped>\n",
              "    .dataframe tbody tr th:only-of-type {\n",
              "        vertical-align: middle;\n",
              "    }\n",
              "\n",
              "    .dataframe tbody tr th {\n",
              "        vertical-align: top;\n",
              "    }\n",
              "\n",
              "    .dataframe thead th {\n",
              "        text-align: right;\n",
              "    }\n",
              "</style>\n",
              "<table border=\"1\" class=\"dataframe\">\n",
              "  <thead>\n",
              "    <tr style=\"text-align: right;\">\n",
              "      <th></th>\n",
              "      <th>agency_ADM</th>\n",
              "      <th>agency_ART</th>\n",
              "      <th>agency_C2B</th>\n",
              "      <th>agency_CBH</th>\n",
              "      <th>agency_CCR</th>\n",
              "      <th>agency_CSR</th>\n",
              "      <th>agency_CWT</th>\n",
              "      <th>agency_EPX</th>\n",
              "      <th>agency_JWT</th>\n",
              "      <th>agency_JZI</th>\n",
              "      <th>agency_KML</th>\n",
              "      <th>agency_LWC</th>\n",
              "      <th>agency_RAB</th>\n",
              "      <th>agency_SSI</th>\n",
              "      <th>agency_TST</th>\n",
              "      <th>agency_TTW</th>\n",
              "      <th>agency_type_Airlines</th>\n",
              "      <th>agency_type_Travel Agency</th>\n",
              "      <th>distribution_channel_Offline</th>\n",
              "      <th>distribution_channel_Online</th>\n",
              "      <th>claim</th>\n",
              "      <th>duration</th>\n",
              "      <th>net_sales</th>\n",
              "      <th>commision</th>\n",
              "      <th>age</th>\n",
              "      <th>product_name</th>\n",
              "      <th>destination</th>\n",
              "    </tr>\n",
              "  </thead>\n",
              "  <tbody>\n",
              "    <tr>\n",
              "      <th>0</th>\n",
              "      <td>0.0</td>\n",
              "      <td>0.0</td>\n",
              "      <td>0.0</td>\n",
              "      <td>0.0</td>\n",
              "      <td>0.0</td>\n",
              "      <td>0.0</td>\n",
              "      <td>0.0</td>\n",
              "      <td>1.0</td>\n",
              "      <td>0.0</td>\n",
              "      <td>0.0</td>\n",
              "      <td>0.0</td>\n",
              "      <td>0.0</td>\n",
              "      <td>0.0</td>\n",
              "      <td>0.0</td>\n",
              "      <td>0.0</td>\n",
              "      <td>0.0</td>\n",
              "      <td>0.0</td>\n",
              "      <td>1.0</td>\n",
              "      <td>0.0</td>\n",
              "      <td>1.0</td>\n",
              "      <td>0</td>\n",
              "      <td>-0.828127</td>\n",
              "      <td>3.041139</td>\n",
              "      <td>-0.795918</td>\n",
              "      <td>-0.161953</td>\n",
              "      <td>-1.241458</td>\n",
              "      <td>-0.511641</td>\n",
              "    </tr>\n",
              "    <tr>\n",
              "      <th>1</th>\n",
              "      <td>0.0</td>\n",
              "      <td>0.0</td>\n",
              "      <td>0.0</td>\n",
              "      <td>0.0</td>\n",
              "      <td>0.0</td>\n",
              "      <td>0.0</td>\n",
              "      <td>0.0</td>\n",
              "      <td>1.0</td>\n",
              "      <td>0.0</td>\n",
              "      <td>0.0</td>\n",
              "      <td>0.0</td>\n",
              "      <td>0.0</td>\n",
              "      <td>0.0</td>\n",
              "      <td>0.0</td>\n",
              "      <td>0.0</td>\n",
              "      <td>0.0</td>\n",
              "      <td>0.0</td>\n",
              "      <td>1.0</td>\n",
              "      <td>0.0</td>\n",
              "      <td>1.0</td>\n",
              "      <td>0</td>\n",
              "      <td>0.136656</td>\n",
              "      <td>-0.724280</td>\n",
              "      <td>-0.795918</td>\n",
              "      <td>1.915483</td>\n",
              "      <td>0.160933</td>\n",
              "      <td>0.974973</td>\n",
              "    </tr>\n",
              "    <tr>\n",
              "      <th>2</th>\n",
              "      <td>0.0</td>\n",
              "      <td>0.0</td>\n",
              "      <td>0.0</td>\n",
              "      <td>0.0</td>\n",
              "      <td>0.0</td>\n",
              "      <td>0.0</td>\n",
              "      <td>0.0</td>\n",
              "      <td>0.0</td>\n",
              "      <td>0.0</td>\n",
              "      <td>1.0</td>\n",
              "      <td>0.0</td>\n",
              "      <td>0.0</td>\n",
              "      <td>0.0</td>\n",
              "      <td>0.0</td>\n",
              "      <td>0.0</td>\n",
              "      <td>0.0</td>\n",
              "      <td>1.0</td>\n",
              "      <td>0.0</td>\n",
              "      <td>0.0</td>\n",
              "      <td>1.0</td>\n",
              "      <td>0</td>\n",
              "      <td>-0.554780</td>\n",
              "      <td>-0.217881</td>\n",
              "      <td>1.199764</td>\n",
              "      <td>1.454685</td>\n",
              "      <td>-0.150709</td>\n",
              "      <td>-0.767954</td>\n",
              "    </tr>\n",
              "    <tr>\n",
              "      <th>3</th>\n",
              "      <td>0.0</td>\n",
              "      <td>0.0</td>\n",
              "      <td>1.0</td>\n",
              "      <td>0.0</td>\n",
              "      <td>0.0</td>\n",
              "      <td>0.0</td>\n",
              "      <td>0.0</td>\n",
              "      <td>0.0</td>\n",
              "      <td>0.0</td>\n",
              "      <td>0.0</td>\n",
              "      <td>0.0</td>\n",
              "      <td>0.0</td>\n",
              "      <td>0.0</td>\n",
              "      <td>0.0</td>\n",
              "      <td>0.0</td>\n",
              "      <td>0.0</td>\n",
              "      <td>1.0</td>\n",
              "      <td>0.0</td>\n",
              "      <td>0.0</td>\n",
              "      <td>1.0</td>\n",
              "      <td>0</td>\n",
              "      <td>0.242659</td>\n",
              "      <td>0.306657</td>\n",
              "      <td>1.224090</td>\n",
              "      <td>-0.767742</td>\n",
              "      <td>0.005112</td>\n",
              "      <td>0.769923</td>\n",
              "    </tr>\n",
              "    <tr>\n",
              "      <th>4</th>\n",
              "      <td>0.0</td>\n",
              "      <td>0.0</td>\n",
              "      <td>1.0</td>\n",
              "      <td>0.0</td>\n",
              "      <td>0.0</td>\n",
              "      <td>0.0</td>\n",
              "      <td>0.0</td>\n",
              "      <td>0.0</td>\n",
              "      <td>0.0</td>\n",
              "      <td>0.0</td>\n",
              "      <td>0.0</td>\n",
              "      <td>0.0</td>\n",
              "      <td>0.0</td>\n",
              "      <td>0.0</td>\n",
              "      <td>0.0</td>\n",
              "      <td>0.0</td>\n",
              "      <td>1.0</td>\n",
              "      <td>0.0</td>\n",
              "      <td>0.0</td>\n",
              "      <td>1.0</td>\n",
              "      <td>0</td>\n",
              "      <td>-0.478960</td>\n",
              "      <td>0.346264</td>\n",
              "      <td>1.232829</td>\n",
              "      <td>2.059819</td>\n",
              "      <td>0.005112</td>\n",
              "      <td>0.769923</td>\n",
              "    </tr>\n",
              "  </tbody>\n",
              "</table>\n",
              "</div>"
            ],
            "text/plain": [
              "   agency_ADM  agency_ART  agency_C2B  ...       age  product_name  destination\n",
              "0         0.0         0.0         0.0  ... -0.161953     -1.241458    -0.511641\n",
              "1         0.0         0.0         0.0  ...  1.915483      0.160933     0.974973\n",
              "2         0.0         0.0         0.0  ...  1.454685     -0.150709    -0.767954\n",
              "3         0.0         0.0         1.0  ... -0.767742      0.005112     0.769923\n",
              "4         0.0         0.0         1.0  ...  2.059819      0.005112     0.769923\n",
              "\n",
              "[5 rows x 27 columns]"
            ]
          },
          "metadata": {
            "tags": []
          },
          "execution_count": 567
        }
      ]
    },
    {
      "cell_type": "code",
      "metadata": {
        "id": "UHyfm9DDnZ1E"
      },
      "source": [
        "#scaling in test\r\n",
        "scale_test = pd.DataFrame(scale.transform(test[['duration', 'net_sales', 'commision', 'age','product_name','destination']]), columns=['duration', 'net_sales', 'commision', 'age','product_name','destination'])\r\n",
        "test.drop(['duration', 'net_sales', 'commision', 'age','product_name','destination'], axis=1, inplace=True)\r\n",
        "test = pd.concat([test, scale_test], axis=1)\r\n",
        "\r\n",
        "#scaling in test data\r\n",
        "scale_test_data = pd.DataFrame(scale.transform(test_data[['duration', 'net_sales', 'commision', 'age','product_name','destination']]), columns=['duration', 'net_sales', 'commision', 'age','product_name','destination'])\r\n",
        "test_data.drop(['duration', 'net_sales', 'commision', 'age','product_name','destination'], axis=1, inplace=True)\r\n",
        "test_data = pd.concat([test_data, scale_test_data], axis=1)"
      ],
      "execution_count": null,
      "outputs": []
    },
    {
      "cell_type": "markdown",
      "metadata": {
        "id": "Yiu7kZZszxgR"
      },
      "source": [
        "## Imbalance data handling"
      ]
    },
    {
      "cell_type": "code",
      "metadata": {
        "colab": {
          "base_uri": "https://localhost:8080/"
        },
        "id": "ehFl2KEN1Gxv",
        "outputId": "dcb772fb-db03-492b-c77a-7f44dbc08ac1"
      },
      "source": [
        "add_data = test[test.claim == 1]\r\n",
        "add_data.reset_index(inplace=True)\r\n",
        "add_data.drop(['index'], axis=1, inplace=True)\r\n",
        "train = pd.concat([train, add_data], axis=0, ignore_index=True)\r\n",
        "train.drop(['level_0'], axis=1, inplace=True)\r\n",
        "train.claim.value_counts()"
      ],
      "execution_count": null,
      "outputs": [
        {
          "output_type": "execute_result",
          "data": {
            "text/plain": [
              "0    34899\n",
              "1      540\n",
              "Name: claim, dtype: int64"
            ]
          },
          "metadata": {
            "tags": []
          },
          "execution_count": 569
        }
      ]
    },
    {
      "cell_type": "code",
      "metadata": {
        "colab": {
          "base_uri": "https://localhost:8080/",
          "height": 265
        },
        "id": "TVvNg-su0TK8",
        "outputId": "7edbf4c4-dd62-48ad-ea21-5da915ea781b"
      },
      "source": [
        "sm = SMOTE(random_state = 25, sampling_strategy = 1.0)\r\n",
        "x_train, y_train = sm.fit_sample(train.drop('claim', axis=1), train.claim)\r\n",
        "\r\n",
        "sns.countplot(y_train)\r\n",
        "plt.show()"
      ],
      "execution_count": null,
      "outputs": [
        {
          "output_type": "display_data",
          "data": {
            "image/png": "[encoded data removed]",
            "text/plain": [
              "<Figure size 432x288 with 1 Axes>"
            ]
          },
          "metadata": {
            "tags": [],
            "needs_background": "light"
          }
        }
      ]
    },
    {
      "cell_type": "markdown",
      "metadata": {
        "id": "sbBcGMdB6lqH"
      },
      "source": [
        "## Build Model"
      ]
    },
    {
      "cell_type": "code",
      "metadata": {
        "id": "RTxCHRQQWoPp"
      },
      "source": [
        "x_test, y_test = test.drop(\"claim\", axis=1), test.claim\r\n",
        "x_test.drop('index', axis=1, inplace=True)"
      ],
      "execution_count": null,
      "outputs": []
    },
    {
      "cell_type": "markdown",
      "metadata": {
        "id": "1cT8AJR9Xbj-"
      },
      "source": [
        "Random Forest"
      ]
    },
    {
      "cell_type": "code",
      "metadata": {
        "colab": {
          "base_uri": "https://localhost:8080/"
        },
        "id": "M0Zy5b0NXzKt",
        "outputId": "61fef3c4-c377-4901-a982-899d17aea5c1"
      },
      "source": [
        "params = {'max_depth': [10, 20, 25],\r\n",
        "          'min_samples_leaf': [2, 3, 4],\r\n",
        "          'min_samples_split': [2, 3],\r\n",
        "          'n_estimators': [150, 200]}\r\n",
        "f1 = make_scorer(f1_score)\r\n",
        "rf_model = RandomForestClassifier()\r\n",
        "grid_search = GridSearchCV(rf_model, param_grid=params, cv=4, n_jobs=-1, verbose=2, scoring=f1)\r\n",
        "grid_search.fit(x_train, y_train)"
      ],
      "execution_count": null,
      "outputs": [
        {
          "output_type": "stream",
          "text": [
            "Fitting 4 folds for each of 36 candidates, totalling 144 fits\n"
          ],
          "name": "stdout"
        },
        {
          "output_type": "stream",
          "text": [
            "[Parallel(n_jobs=-1)]: Using backend LokyBackend with 2 concurrent workers.\n",
            "[Parallel(n_jobs=-1)]: Done  37 tasks      | elapsed:  3.5min\n",
            "[Parallel(n_jobs=-1)]: Done 144 out of 144 | elapsed: 17.8min finished\n"
          ],
          "name": "stderr"
        },
        {
          "output_type": "execute_result",
          "data": {
            "text/plain": [
              "GridSearchCV(cv=4, error_score=nan,\n",
              "             estimator=RandomForestClassifier(bootstrap=True, ccp_alpha=0.0,\n",
              "                                              class_weight=None,\n",
              "                                              criterion='gini', max_depth=None,\n",
              "                                              max_features='auto',\n",
              "                                              max_leaf_nodes=None,\n",
              "                                              max_samples=None,\n",
              "                                              min_impurity_decrease=0.0,\n",
              "                                              min_impurity_split=None,\n",
              "                                              min_samples_leaf=1,\n",
              "                                              min_samples_split=2,\n",
              "                                              min_weight_fraction_leaf=0.0,\n",
              "                                              n_estimators=100, n_jobs=None,\n",
              "                                              oob_score=False,\n",
              "                                              random_state=None, verbose=0,\n",
              "                                              warm_start=False),\n",
              "             iid='deprecated', n_jobs=-1,\n",
              "             param_grid={'max_depth': [10, 20, 25],\n",
              "                         'min_samples_leaf': [2, 3, 4],\n",
              "                         'min_samples_split': [2, 3],\n",
              "                         'n_estimators': [150, 200]},\n",
              "             pre_dispatch='2*n_jobs', refit=True, return_train_score=False,\n",
              "             scoring=make_scorer(f1_score), verbose=2)"
            ]
          },
          "metadata": {
            "tags": []
          },
          "execution_count": 527
        }
      ]
    },
    {
      "cell_type": "code",
      "metadata": {
        "colab": {
          "base_uri": "https://localhost:8080/"
        },
        "id": "ffxVQm7Cb6Fn",
        "outputId": "7b73c1c0-82b7-4235-cee3-f74387c9b681"
      },
      "source": [
        "grid_search.best_estimator_"
      ],
      "execution_count": null,
      "outputs": [
        {
          "output_type": "execute_result",
          "data": {
            "text/plain": [
              "RandomForestClassifier(bootstrap=True, ccp_alpha=0.0, class_weight=None,\n",
              "                       criterion='gini', max_depth=25, max_features='auto',\n",
              "                       max_leaf_nodes=None, max_samples=None,\n",
              "                       min_impurity_decrease=0.0, min_impurity_split=None,\n",
              "                       min_samples_leaf=2, min_samples_split=3,\n",
              "                       min_weight_fraction_leaf=0.0, n_estimators=150,\n",
              "                       n_jobs=None, oob_score=False, random_state=None,\n",
              "                       verbose=0, warm_start=False)"
            ]
          },
          "metadata": {
            "tags": []
          },
          "execution_count": 528
        }
      ]
    },
    {
      "cell_type": "code",
      "metadata": {
        "colab": {
          "base_uri": "https://localhost:8080/"
        },
        "id": "VfLrss8SYchS",
        "outputId": "929811f4-bfac-4778-e534-caf8804f4c83"
      },
      "source": [
        "print(\"Accuracy Score Train: \", accuracy_score(grid_search.predict(x_train), y_train))\r\n",
        "print(\"Accuracy Score Test: \", accuracy_score(grid_search.predict(x_test), y_test))\r\n",
        "print(\"F1_score Score Train: \", f1_score(grid_search.predict(x_train), y_train))\r\n",
        "print(\"F1_score Score Test: \", f1_score(grid_search.predict(x_test), y_test))"
      ],
      "execution_count": null,
      "outputs": [
        {
          "output_type": "stream",
          "text": [
            "Accuracy Score Train:  0.979698558697957\n",
            "Accuracy Score Test:  0.9150435142975549\n",
            "F1_score Score Train:  0.9799737128481988\n",
            "F1_score Score Test:  0.21001926782273603\n"
          ],
          "name": "stdout"
        }
      ]
    },
    {
      "cell_type": "code",
      "metadata": {
        "colab": {
          "base_uri": "https://localhost:8080/",
          "height": 17
        },
        "id": "Wz8EsG9ca4fC",
        "outputId": "28b67a34-3a08-46b1-a196-d230cb1e72fc"
      },
      "source": [
        "predict = grid_search.predict(test_data)\r\n",
        "result = pd.DataFrame({'prediction':predict})\r\n",
        "result.to_csv(\"quiz1-1.csv\", index= False)\r\n",
        "files.download('quiz1-1.csv')"
      ],
      "execution_count": null,
      "outputs": [
        {
          "output_type": "display_data",
          "data": {
            "application/javascript": [
              "\n",
              "    async function download(id, filename, size) {\n",
              "      if (!google.colab.kernel.accessAllowed) {\n",
              "        return;\n",
              "      }\n",
              "      const div = document.createElement('div');\n",
              "      const label = document.createElement('label');\n",
              "      label.textContent = `Downloading \"${filename}\": `;\n",
              "      div.appendChild(label);\n",
              "      const progress = document.createElement('progress');\n",
              "      progress.max = size;\n",
              "      div.appendChild(progress);\n",
              "      document.body.appendChild(div);\n",
              "\n",
              "      const buffers = [];\n",
              "      let downloaded = 0;\n",
              "\n",
              "      const channel = await google.colab.kernel.comms.open(id);\n",
              "      // Send a message to notify the kernel that we're ready.\n",
              "      channel.send({})\n",
              "\n",
              "      for await (const message of channel.messages) {\n",
              "        // Send a message to notify the kernel that we're ready.\n",
              "        channel.send({})\n",
              "        if (message.buffers) {\n",
              "          for (const buffer of message.buffers) {\n",
              "            buffers.push(buffer);\n",
              "            downloaded += buffer.byteLength;\n",
              "            progress.value = downloaded;\n",
              "          }\n",
              "        }\n",
              "      }\n",
              "      const blob = new Blob(buffers, {type: 'application/binary'});\n",
              "      const a = document.createElement('a');\n",
              "      a.href = window.URL.createObjectURL(blob);\n",
              "      a.download = filename;\n",
              "      div.appendChild(a);\n",
              "      a.click();\n",
              "      div.remove();\n",
              "    }\n",
              "  "
            ],
            "text/plain": [
              "<IPython.core.display.Javascript object>"
            ]
          },
          "metadata": {
            "tags": []
          }
        },
        {
          "output_type": "display_data",
          "data": {
            "application/javascript": [
              "download(\"download_0e16f57a-377f-4318-b3c8-d348d72381dc\", \"quiz1-1.csv\", 31675)"
            ],
            "text/plain": [
              "<IPython.core.display.Javascript object>"
            ]
          },
          "metadata": {
            "tags": []
          }
        }
      ]
    },
    {
      "cell_type": "markdown",
      "metadata": {
        "id": "8sEw83xBXYDK"
      },
      "source": [
        "XGBoost"
      ]
    },
    {
      "cell_type": "code",
      "metadata": {
        "id": "aABrCVBv2YNV"
      },
      "source": [
        "x_train = pd.DataFrame(x_train, columns=x_test.columns)\r\n",
        "y_train = pd.DataFrame(y_train, columns=['claim'])"
      ],
      "execution_count": null,
      "outputs": []
    },
    {
      "cell_type": "code",
      "metadata": {
        "colab": {
          "base_uri": "https://localhost:8080/"
        },
        "id": "5hmV0_t7mVjp",
        "outputId": "154c7758-bab5-4644-8c8b-40c09ace3b36"
      },
      "source": [
        "params = {'learning_rate': [0.15, 0.3, 0.4],\r\n",
        "          'min_child_weight':[2,3,4],\r\n",
        "          'colsample_bytree':[0.5, 0.7, 1],\r\n",
        "          'n_estimators': [200, 300, 400]}\r\n",
        "\r\n",
        "f1 = make_scorer(f1_score)\r\n",
        "xgb_model = XGBClassifier()\r\n",
        "grid_search = GridSearchCV(xgb_model, param_grid=params, cv=4, n_jobs=-1, verbose=2, scoring=f1)\r\n",
        "grid_search.fit(x_train, y_train)"
      ],
      "execution_count": null,
      "outputs": [
        {
          "output_type": "stream",
          "text": [
            "Fitting 4 folds for each of 81 candidates, totalling 324 fits\n"
          ],
          "name": "stdout"
        },
        {
          "output_type": "stream",
          "text": [
            "[Parallel(n_jobs=-1)]: Using backend LokyBackend with 2 concurrent workers.\n",
            "[Parallel(n_jobs=-1)]: Done  37 tasks      | elapsed:  4.4min\n",
            "[Parallel(n_jobs=-1)]: Done 158 tasks      | elapsed: 19.7min\n",
            "[Parallel(n_jobs=-1)]: Done 324 out of 324 | elapsed: 46.2min finished\n"
          ],
          "name": "stderr"
        },
        {
          "output_type": "execute_result",
          "data": {
            "text/plain": [
              "GridSearchCV(cv=4, error_score=nan,\n",
              "             estimator=XGBClassifier(base_score=0.5, booster='gbtree',\n",
              "                                     colsample_bylevel=1, colsample_bynode=1,\n",
              "                                     colsample_bytree=1, gamma=0,\n",
              "                                     learning_rate=0.1, max_delta_step=0,\n",
              "                                     max_depth=3, min_child_weight=1,\n",
              "                                     missing=None, n_estimators=100, n_jobs=1,\n",
              "                                     nthread=None, objective='binary:logistic',\n",
              "                                     random_state=0, reg_alpha=0, reg_lambda=1,\n",
              "                                     scale_pos_weight=1, seed=None, silent=None,\n",
              "                                     subsample=1, verbosity=1),\n",
              "             iid='deprecated', n_jobs=-1,\n",
              "             param_grid={'colsample_bytree': [0.5, 0.7, 1],\n",
              "                         'learning_rate': [0.15, 0.3, 0.4],\n",
              "                         'min_child_weight': [2, 3, 4],\n",
              "                         'n_estimators': [200, 300, 400]},\n",
              "             pre_dispatch='2*n_jobs', refit=True, return_train_score=False,\n",
              "             scoring=make_scorer(f1_score), verbose=2)"
            ]
          },
          "metadata": {
            "tags": []
          },
          "execution_count": 593
        }
      ]
    },
    {
      "cell_type": "code",
      "metadata": {
        "colab": {
          "base_uri": "https://localhost:8080/"
        },
        "id": "v40UJaHWnWij",
        "outputId": "7217f515-de9e-4b31-9a1c-243e8332547f"
      },
      "source": [
        "print(\"Accuracy Score Train: \", accuracy_score(grid_search.predict(x_train), y_train))\r\n",
        "print(\"Accuracy Score Test: \", accuracy_score(grid_search.predict(x_test), y_test))\r\n",
        "print(\"F1_score Score Train: \", f1_score(grid_search.predict(x_train), y_train))\r\n",
        "print(\"F1_score Score Test: \", f1_score(grid_search.predict(x_test), y_test))"
      ],
      "execution_count": null,
      "outputs": [
        {
          "output_type": "stream",
          "text": [
            "Accuracy Score Train:  0.9882661394309292\n",
            "Accuracy Score Test:  0.932656444260257\n",
            "F1_score Score Train:  0.988220403584219\n",
            "F1_score Score Test:  0.1514360313315927\n"
          ],
          "name": "stdout"
        }
      ]
    },
    {
      "cell_type": "code",
      "metadata": {
        "colab": {
          "base_uri": "https://localhost:8080/",
          "height": 17
        },
        "id": "Yz6UcFUsngUz",
        "outputId": "d980fc75-3282-4700-acb3-3aae3159e6f8"
      },
      "source": [
        "predict = model.predict(test_data)\r\n",
        "result = pd.DataFrame({'prediction':predict})\r\n",
        "result.to_csv(\"quiz1-4.csv\", index= False)\r\n",
        "files.download('quiz1-4.csv')"
      ],
      "execution_count": null,
      "outputs": [
        {
          "output_type": "display_data",
          "data": {
            "application/javascript": [
              "\n",
              "    async function download(id, filename, size) {\n",
              "      if (!google.colab.kernel.accessAllowed) {\n",
              "        return;\n",
              "      }\n",
              "      const div = document.createElement('div');\n",
              "      const label = document.createElement('label');\n",
              "      label.textContent = `Downloading \"${filename}\": `;\n",
              "      div.appendChild(label);\n",
              "      const progress = document.createElement('progress');\n",
              "      progress.max = size;\n",
              "      div.appendChild(progress);\n",
              "      document.body.appendChild(div);\n",
              "\n",
              "      const buffers = [];\n",
              "      let downloaded = 0;\n",
              "\n",
              "      const channel = await google.colab.kernel.comms.open(id);\n",
              "      // Send a message to notify the kernel that we're ready.\n",
              "      channel.send({})\n",
              "\n",
              "      for await (const message of channel.messages) {\n",
              "        // Send a message to notify the kernel that we're ready.\n",
              "        channel.send({})\n",
              "        if (message.buffers) {\n",
              "          for (const buffer of message.buffers) {\n",
              "            buffers.push(buffer);\n",
              "            downloaded += buffer.byteLength;\n",
              "            progress.value = downloaded;\n",
              "          }\n",
              "        }\n",
              "      }\n",
              "      const blob = new Blob(buffers, {type: 'application/binary'});\n",
              "      const a = document.createElement('a');\n",
              "      a.href = window.URL.createObjectURL(blob);\n",
              "      a.download = filename;\n",
              "      div.appendChild(a);\n",
              "      a.click();\n",
              "      div.remove();\n",
              "    }\n",
              "  "
            ],
            "text/plain": [
              "<IPython.core.display.Javascript object>"
            ]
          },
          "metadata": {
            "tags": []
          }
        },
        {
          "output_type": "display_data",
          "data": {
            "application/javascript": [
              "download(\"download_3ff78474-f0d9-4d68-80a3-eb14b988026a\", \"quiz1-4.csv\", 31675)"
            ],
            "text/plain": [
              "<IPython.core.display.Javascript object>"
            ]
          },
          "metadata": {
            "tags": []
          }
        }
      ]
    },
    {
      "cell_type": "markdown",
      "metadata": {
        "id": "pqiiaf79eSE7"
      },
      "source": [
        "#**Quiz**"
      ]
    },
    {
      "cell_type": "code",
      "metadata": {
        "colab": {
          "base_uri": "https://localhost:8080/",
          "height": 206
        },
        "id": "8CoLLLXF2C2X",
        "outputId": "cbfd2a7e-f3a5-4fc4-c17e-65ce4203d5d8"
      },
      "source": [
        "df = insurance_data = pd.read_csv(\"https://github.com/dphi-official/Datasets/blob/master/travel_insurance/Training_set_label.csv?raw=true\")\r\n",
        "df.head()"
      ],
      "execution_count": null,
      "outputs": [
        {
          "output_type": "execute_result",
          "data": {
            "text/html": [
              "<div>\n",
              "<style scoped>\n",
              "    .dataframe tbody tr th:only-of-type {\n",
              "        vertical-align: middle;\n",
              "    }\n",
              "\n",
              "    .dataframe tbody tr th {\n",
              "        vertical-align: top;\n",
              "    }\n",
              "\n",
              "    .dataframe thead th {\n",
              "        text-align: right;\n",
              "    }\n",
              "</style>\n",
              "<table border=\"1\" class=\"dataframe\">\n",
              "  <thead>\n",
              "    <tr style=\"text-align: right;\">\n",
              "      <th></th>\n",
              "      <th>Agency</th>\n",
              "      <th>Agency Type</th>\n",
              "      <th>Distribution Channel</th>\n",
              "      <th>Product Name</th>\n",
              "      <th>Duration</th>\n",
              "      <th>Destination</th>\n",
              "      <th>Net Sales</th>\n",
              "      <th>Commision (in value)</th>\n",
              "      <th>Gender</th>\n",
              "      <th>Age</th>\n",
              "      <th>Claim</th>\n",
              "    </tr>\n",
              "  </thead>\n",
              "  <tbody>\n",
              "    <tr>\n",
              "      <th>0</th>\n",
              "      <td>CWT</td>\n",
              "      <td>Travel Agency</td>\n",
              "      <td>Online</td>\n",
              "      <td>Rental Vehicle Excess Insurance</td>\n",
              "      <td>61</td>\n",
              "      <td>UNITED KINGDOM</td>\n",
              "      <td>19.8</td>\n",
              "      <td>11.88</td>\n",
              "      <td>NaN</td>\n",
              "      <td>29</td>\n",
              "      <td>0</td>\n",
              "    </tr>\n",
              "    <tr>\n",
              "      <th>1</th>\n",
              "      <td>EPX</td>\n",
              "      <td>Travel Agency</td>\n",
              "      <td>Online</td>\n",
              "      <td>Cancellation Plan</td>\n",
              "      <td>93</td>\n",
              "      <td>NEW ZEALAND</td>\n",
              "      <td>63.0</td>\n",
              "      <td>0.00</td>\n",
              "      <td>NaN</td>\n",
              "      <td>36</td>\n",
              "      <td>0</td>\n",
              "    </tr>\n",
              "    <tr>\n",
              "      <th>2</th>\n",
              "      <td>EPX</td>\n",
              "      <td>Travel Agency</td>\n",
              "      <td>Online</td>\n",
              "      <td>2 way Comprehensive Plan</td>\n",
              "      <td>22</td>\n",
              "      <td>UNITED STATES</td>\n",
              "      <td>22.0</td>\n",
              "      <td>0.00</td>\n",
              "      <td>NaN</td>\n",
              "      <td>25</td>\n",
              "      <td>0</td>\n",
              "    </tr>\n",
              "    <tr>\n",
              "      <th>3</th>\n",
              "      <td>C2B</td>\n",
              "      <td>Airlines</td>\n",
              "      <td>Online</td>\n",
              "      <td>Silver Plan</td>\n",
              "      <td>14</td>\n",
              "      <td>SINGAPORE</td>\n",
              "      <td>54.5</td>\n",
              "      <td>13.63</td>\n",
              "      <td>M</td>\n",
              "      <td>24</td>\n",
              "      <td>0</td>\n",
              "    </tr>\n",
              "    <tr>\n",
              "      <th>4</th>\n",
              "      <td>EPX</td>\n",
              "      <td>Travel Agency</td>\n",
              "      <td>Online</td>\n",
              "      <td>Cancellation Plan</td>\n",
              "      <td>90</td>\n",
              "      <td>VIET NAM</td>\n",
              "      <td>10.0</td>\n",
              "      <td>0.00</td>\n",
              "      <td>NaN</td>\n",
              "      <td>23</td>\n",
              "      <td>0</td>\n",
              "    </tr>\n",
              "  </tbody>\n",
              "</table>\n",
              "</div>"
            ],
            "text/plain": [
              "  Agency    Agency Type Distribution Channel  ... Gender  Age Claim\n",
              "0    CWT  Travel Agency               Online  ...    NaN   29     0\n",
              "1    EPX  Travel Agency               Online  ...    NaN   36     0\n",
              "2    EPX  Travel Agency               Online  ...    NaN   25     0\n",
              "3    C2B       Airlines               Online  ...      M   24     0\n",
              "4    EPX  Travel Agency               Online  ...    NaN   23     0\n",
              "\n",
              "[5 rows x 11 columns]"
            ]
          },
          "metadata": {
            "tags": []
          },
          "execution_count": 47
        }
      ]
    },
    {
      "cell_type": "markdown",
      "metadata": {
        "id": "KeRw1zaMeWXb"
      },
      "source": [
        "### Missing value handling"
      ]
    },
    {
      "cell_type": "code",
      "metadata": {
        "id": "hdoZnMK_3_8V"
      },
      "source": [
        "df.Gender.fillna(\"Not Specified\", inplace= True)"
      ],
      "execution_count": null,
      "outputs": []
    },
    {
      "cell_type": "code",
      "metadata": {
        "colab": {
          "base_uri": "https://localhost:8080/"
        },
        "id": "XbSPrU0f7Gtp",
        "outputId": "9f397638-099d-41e0-9b8e-00bc3c6dcf8f"
      },
      "source": [
        "df.drop([\"Distribution Channel\",\"Destination\", \"Agency Type\"], axis=1, inplace=True)\r\n",
        "df.isna().sum()"
      ],
      "execution_count": null,
      "outputs": [
        {
          "output_type": "execute_result",
          "data": {
            "text/plain": [
              "Agency                  0\n",
              "Product Name            0\n",
              "Duration                0\n",
              "Net Sales               0\n",
              "Commision (in value)    0\n",
              "Gender                  0\n",
              "Age                     0\n",
              "Claim                   0\n",
              "dtype: int64"
            ]
          },
          "metadata": {
            "tags": []
          },
          "execution_count": 49
        }
      ]
    },
    {
      "cell_type": "markdown",
      "metadata": {
        "id": "Rc7LMWRXeZIN"
      },
      "source": [
        "### One hot encoding"
      ]
    },
    {
      "cell_type": "code",
      "metadata": {
        "colab": {
          "base_uri": "https://localhost:8080/",
          "height": 296
        },
        "id": "RJrIFPrO7bGz",
        "outputId": "304151f5-4f9e-472b-9e35-c61565991ba3"
      },
      "source": [
        "from sklearn.preprocessing import OneHotEncoder\r\n",
        "ohe = OneHotEncoder(sparse=False)\r\n",
        "df_encode = pd.DataFrame(ohe.fit_transform(df[['Agency', 'Gender', 'Product Name']]))\r\n",
        "df_encode.columns = ohe.get_feature_names(['Agency', 'Gender', 'Product Name'])\r\n",
        "df.drop(['Agency', 'Gender', 'Product Name'] ,axis=1, inplace=True)\r\n",
        "df= pd.concat([df, df_encode], axis=1)\r\n",
        "df.head()"
      ],
      "execution_count": null,
      "outputs": [
        {
          "output_type": "execute_result",
          "data": {
            "text/html": [
              "<div>\n",
              "<style scoped>\n",
              "    .dataframe tbody tr th:only-of-type {\n",
              "        vertical-align: middle;\n",
              "    }\n",
              "\n",
              "    .dataframe tbody tr th {\n",
              "        vertical-align: top;\n",
              "    }\n",
              "\n",
              "    .dataframe thead th {\n",
              "        text-align: right;\n",
              "    }\n",
              "</style>\n",
              "<table border=\"1\" class=\"dataframe\">\n",
              "  <thead>\n",
              "    <tr style=\"text-align: right;\">\n",
              "      <th></th>\n",
              "      <th>Duration</th>\n",
              "      <th>Net Sales</th>\n",
              "      <th>Commision (in value)</th>\n",
              "      <th>Age</th>\n",
              "      <th>Claim</th>\n",
              "      <th>Agency_ADM</th>\n",
              "      <th>Agency_ART</th>\n",
              "      <th>Agency_C2B</th>\n",
              "      <th>Agency_CBH</th>\n",
              "      <th>Agency_CCR</th>\n",
              "      <th>Agency_CSR</th>\n",
              "      <th>Agency_CWT</th>\n",
              "      <th>Agency_EPX</th>\n",
              "      <th>Agency_JWT</th>\n",
              "      <th>Agency_JZI</th>\n",
              "      <th>Agency_KML</th>\n",
              "      <th>Agency_LWC</th>\n",
              "      <th>Agency_RAB</th>\n",
              "      <th>Agency_SSI</th>\n",
              "      <th>Agency_TST</th>\n",
              "      <th>Agency_TTW</th>\n",
              "      <th>Gender_F</th>\n",
              "      <th>Gender_M</th>\n",
              "      <th>Gender_Not Specified</th>\n",
              "      <th>Product Name_1 way Comprehensive Plan</th>\n",
              "      <th>Product Name_2 way Comprehensive Plan</th>\n",
              "      <th>Product Name_24 Protect</th>\n",
              "      <th>Product Name_Annual Gold Plan</th>\n",
              "      <th>Product Name_Annual Silver Plan</th>\n",
              "      <th>Product Name_Annual Travel Protect Gold</th>\n",
              "      <th>Product Name_Annual Travel Protect Platinum</th>\n",
              "      <th>Product Name_Annual Travel Protect Silver</th>\n",
              "      <th>Product Name_Basic Plan</th>\n",
              "      <th>Product Name_Bronze Plan</th>\n",
              "      <th>Product Name_Cancellation Plan</th>\n",
              "      <th>Product Name_Child Comprehensive Plan</th>\n",
              "      <th>Product Name_Comprehensive Plan</th>\n",
              "      <th>Product Name_Gold Plan</th>\n",
              "      <th>Product Name_Individual Comprehensive Plan</th>\n",
              "      <th>Product Name_Premier Plan</th>\n",
              "      <th>Product Name_Rental Vehicle Excess Insurance</th>\n",
              "      <th>Product Name_Silver Plan</th>\n",
              "      <th>Product Name_Single Trip Travel Protect Gold</th>\n",
              "      <th>Product Name_Single Trip Travel Protect Platinum</th>\n",
              "      <th>Product Name_Single Trip Travel Protect Silver</th>\n",
              "      <th>Product Name_Spouse or Parents Comprehensive Plan</th>\n",
              "      <th>Product Name_Ticket Protector</th>\n",
              "      <th>Product Name_Travel Cruise Protect</th>\n",
              "      <th>Product Name_Travel Cruise Protect Family</th>\n",
              "      <th>Product Name_Value Plan</th>\n",
              "    </tr>\n",
              "  </thead>\n",
              "  <tbody>\n",
              "    <tr>\n",
              "      <th>0</th>\n",
              "      <td>61</td>\n",
              "      <td>19.8</td>\n",
              "      <td>11.88</td>\n",
              "      <td>29</td>\n",
              "      <td>0</td>\n",
              "      <td>0.0</td>\n",
              "      <td>0.0</td>\n",
              "      <td>0.0</td>\n",
              "      <td>0.0</td>\n",
              "      <td>0.0</td>\n",
              "      <td>0.0</td>\n",
              "      <td>1.0</td>\n",
              "      <td>0.0</td>\n",
              "      <td>0.0</td>\n",
              "      <td>0.0</td>\n",
              "      <td>0.0</td>\n",
              "      <td>0.0</td>\n",
              "      <td>0.0</td>\n",
              "      <td>0.0</td>\n",
              "      <td>0.0</td>\n",
              "      <td>0.0</td>\n",
              "      <td>0.0</td>\n",
              "      <td>0.0</td>\n",
              "      <td>1.0</td>\n",
              "      <td>0.0</td>\n",
              "      <td>0.0</td>\n",
              "      <td>0.0</td>\n",
              "      <td>0.0</td>\n",
              "      <td>0.0</td>\n",
              "      <td>0.0</td>\n",
              "      <td>0.0</td>\n",
              "      <td>0.0</td>\n",
              "      <td>0.0</td>\n",
              "      <td>0.0</td>\n",
              "      <td>0.0</td>\n",
              "      <td>0.0</td>\n",
              "      <td>0.0</td>\n",
              "      <td>0.0</td>\n",
              "      <td>0.0</td>\n",
              "      <td>0.0</td>\n",
              "      <td>1.0</td>\n",
              "      <td>0.0</td>\n",
              "      <td>0.0</td>\n",
              "      <td>0.0</td>\n",
              "      <td>0.0</td>\n",
              "      <td>0.0</td>\n",
              "      <td>0.0</td>\n",
              "      <td>0.0</td>\n",
              "      <td>0.0</td>\n",
              "      <td>0.0</td>\n",
              "    </tr>\n",
              "    <tr>\n",
              "      <th>1</th>\n",
              "      <td>93</td>\n",
              "      <td>63.0</td>\n",
              "      <td>0.00</td>\n",
              "      <td>36</td>\n",
              "      <td>0</td>\n",
              "      <td>0.0</td>\n",
              "      <td>0.0</td>\n",
              "      <td>0.0</td>\n",
              "      <td>0.0</td>\n",
              "      <td>0.0</td>\n",
              "      <td>0.0</td>\n",
              "      <td>0.0</td>\n",
              "      <td>1.0</td>\n",
              "      <td>0.0</td>\n",
              "      <td>0.0</td>\n",
              "      <td>0.0</td>\n",
              "      <td>0.0</td>\n",
              "      <td>0.0</td>\n",
              "      <td>0.0</td>\n",
              "      <td>0.0</td>\n",
              "      <td>0.0</td>\n",
              "      <td>0.0</td>\n",
              "      <td>0.0</td>\n",
              "      <td>1.0</td>\n",
              "      <td>0.0</td>\n",
              "      <td>0.0</td>\n",
              "      <td>0.0</td>\n",
              "      <td>0.0</td>\n",
              "      <td>0.0</td>\n",
              "      <td>0.0</td>\n",
              "      <td>0.0</td>\n",
              "      <td>0.0</td>\n",
              "      <td>0.0</td>\n",
              "      <td>0.0</td>\n",
              "      <td>1.0</td>\n",
              "      <td>0.0</td>\n",
              "      <td>0.0</td>\n",
              "      <td>0.0</td>\n",
              "      <td>0.0</td>\n",
              "      <td>0.0</td>\n",
              "      <td>0.0</td>\n",
              "      <td>0.0</td>\n",
              "      <td>0.0</td>\n",
              "      <td>0.0</td>\n",
              "      <td>0.0</td>\n",
              "      <td>0.0</td>\n",
              "      <td>0.0</td>\n",
              "      <td>0.0</td>\n",
              "      <td>0.0</td>\n",
              "      <td>0.0</td>\n",
              "    </tr>\n",
              "    <tr>\n",
              "      <th>2</th>\n",
              "      <td>22</td>\n",
              "      <td>22.0</td>\n",
              "      <td>0.00</td>\n",
              "      <td>25</td>\n",
              "      <td>0</td>\n",
              "      <td>0.0</td>\n",
              "      <td>0.0</td>\n",
              "      <td>0.0</td>\n",
              "      <td>0.0</td>\n",
              "      <td>0.0</td>\n",
              "      <td>0.0</td>\n",
              "      <td>0.0</td>\n",
              "      <td>1.0</td>\n",
              "      <td>0.0</td>\n",
              "      <td>0.0</td>\n",
              "      <td>0.0</td>\n",
              "      <td>0.0</td>\n",
              "      <td>0.0</td>\n",
              "      <td>0.0</td>\n",
              "      <td>0.0</td>\n",
              "      <td>0.0</td>\n",
              "      <td>0.0</td>\n",
              "      <td>0.0</td>\n",
              "      <td>1.0</td>\n",
              "      <td>0.0</td>\n",
              "      <td>1.0</td>\n",
              "      <td>0.0</td>\n",
              "      <td>0.0</td>\n",
              "      <td>0.0</td>\n",
              "      <td>0.0</td>\n",
              "      <td>0.0</td>\n",
              "      <td>0.0</td>\n",
              "      <td>0.0</td>\n",
              "      <td>0.0</td>\n",
              "      <td>0.0</td>\n",
              "      <td>0.0</td>\n",
              "      <td>0.0</td>\n",
              "      <td>0.0</td>\n",
              "      <td>0.0</td>\n",
              "      <td>0.0</td>\n",
              "      <td>0.0</td>\n",
              "      <td>0.0</td>\n",
              "      <td>0.0</td>\n",
              "      <td>0.0</td>\n",
              "      <td>0.0</td>\n",
              "      <td>0.0</td>\n",
              "      <td>0.0</td>\n",
              "      <td>0.0</td>\n",
              "      <td>0.0</td>\n",
              "      <td>0.0</td>\n",
              "    </tr>\n",
              "    <tr>\n",
              "      <th>3</th>\n",
              "      <td>14</td>\n",
              "      <td>54.5</td>\n",
              "      <td>13.63</td>\n",
              "      <td>24</td>\n",
              "      <td>0</td>\n",
              "      <td>0.0</td>\n",
              "      <td>0.0</td>\n",
              "      <td>1.0</td>\n",
              "      <td>0.0</td>\n",
              "      <td>0.0</td>\n",
              "      <td>0.0</td>\n",
              "      <td>0.0</td>\n",
              "      <td>0.0</td>\n",
              "      <td>0.0</td>\n",
              "      <td>0.0</td>\n",
              "      <td>0.0</td>\n",
              "      <td>0.0</td>\n",
              "      <td>0.0</td>\n",
              "      <td>0.0</td>\n",
              "      <td>0.0</td>\n",
              "      <td>0.0</td>\n",
              "      <td>0.0</td>\n",
              "      <td>1.0</td>\n",
              "      <td>0.0</td>\n",
              "      <td>0.0</td>\n",
              "      <td>0.0</td>\n",
              "      <td>0.0</td>\n",
              "      <td>0.0</td>\n",
              "      <td>0.0</td>\n",
              "      <td>0.0</td>\n",
              "      <td>0.0</td>\n",
              "      <td>0.0</td>\n",
              "      <td>0.0</td>\n",
              "      <td>0.0</td>\n",
              "      <td>0.0</td>\n",
              "      <td>0.0</td>\n",
              "      <td>0.0</td>\n",
              "      <td>0.0</td>\n",
              "      <td>0.0</td>\n",
              "      <td>0.0</td>\n",
              "      <td>0.0</td>\n",
              "      <td>1.0</td>\n",
              "      <td>0.0</td>\n",
              "      <td>0.0</td>\n",
              "      <td>0.0</td>\n",
              "      <td>0.0</td>\n",
              "      <td>0.0</td>\n",
              "      <td>0.0</td>\n",
              "      <td>0.0</td>\n",
              "      <td>0.0</td>\n",
              "    </tr>\n",
              "    <tr>\n",
              "      <th>4</th>\n",
              "      <td>90</td>\n",
              "      <td>10.0</td>\n",
              "      <td>0.00</td>\n",
              "      <td>23</td>\n",
              "      <td>0</td>\n",
              "      <td>0.0</td>\n",
              "      <td>0.0</td>\n",
              "      <td>0.0</td>\n",
              "      <td>0.0</td>\n",
              "      <td>0.0</td>\n",
              "      <td>0.0</td>\n",
              "      <td>0.0</td>\n",
              "      <td>1.0</td>\n",
              "      <td>0.0</td>\n",
              "      <td>0.0</td>\n",
              "      <td>0.0</td>\n",
              "      <td>0.0</td>\n",
              "      <td>0.0</td>\n",
              "      <td>0.0</td>\n",
              "      <td>0.0</td>\n",
              "      <td>0.0</td>\n",
              "      <td>0.0</td>\n",
              "      <td>0.0</td>\n",
              "      <td>1.0</td>\n",
              "      <td>0.0</td>\n",
              "      <td>0.0</td>\n",
              "      <td>0.0</td>\n",
              "      <td>0.0</td>\n",
              "      <td>0.0</td>\n",
              "      <td>0.0</td>\n",
              "      <td>0.0</td>\n",
              "      <td>0.0</td>\n",
              "      <td>0.0</td>\n",
              "      <td>0.0</td>\n",
              "      <td>1.0</td>\n",
              "      <td>0.0</td>\n",
              "      <td>0.0</td>\n",
              "      <td>0.0</td>\n",
              "      <td>0.0</td>\n",
              "      <td>0.0</td>\n",
              "      <td>0.0</td>\n",
              "      <td>0.0</td>\n",
              "      <td>0.0</td>\n",
              "      <td>0.0</td>\n",
              "      <td>0.0</td>\n",
              "      <td>0.0</td>\n",
              "      <td>0.0</td>\n",
              "      <td>0.0</td>\n",
              "      <td>0.0</td>\n",
              "      <td>0.0</td>\n",
              "    </tr>\n",
              "  </tbody>\n",
              "</table>\n",
              "</div>"
            ],
            "text/plain": [
              "   Duration  ...  Product Name_Value Plan\n",
              "0        61  ...                      0.0\n",
              "1        93  ...                      0.0\n",
              "2        22  ...                      0.0\n",
              "3        14  ...                      0.0\n",
              "4        90  ...                      0.0\n",
              "\n",
              "[5 rows x 50 columns]"
            ]
          },
          "metadata": {
            "tags": []
          },
          "execution_count": 50
        }
      ]
    },
    {
      "cell_type": "markdown",
      "metadata": {
        "id": "nWjeTuMDejAW"
      },
      "source": [
        "### Split the data"
      ]
    },
    {
      "cell_type": "code",
      "metadata": {
        "colab": {
          "base_uri": "https://localhost:8080/"
        },
        "id": "wG6DK4B6-tYs",
        "outputId": "8829f061-c797-4f46-da32-4cd83dbf3cc1"
      },
      "source": [
        "input = df.drop('Claim', axis=1)\r\n",
        "output = df.Claim \r\n",
        "\r\n",
        "x_train, x_test, y_train, y_test = train_test_split(input, output, test_size=0.3, random_state=101)\r\n",
        "\r\n",
        "data1 = pd.concat([x_train, y_train], axis=1)\r\n",
        "data1.Claim.value_counts()"
      ],
      "execution_count": null,
      "outputs": [
        {
          "output_type": "execute_result",
          "data": {
            "text/plain": [
              "0    33269\n",
              "1      513\n",
              "Name: Claim, dtype: int64"
            ]
          },
          "metadata": {
            "tags": []
          },
          "execution_count": 51
        }
      ]
    },
    {
      "cell_type": "markdown",
      "metadata": {
        "id": "7Y5q00TkenpY"
      },
      "source": [
        "### Imbalance data handling using smotee"
      ]
    },
    {
      "cell_type": "code",
      "metadata": {
        "colab": {
          "base_uri": "https://localhost:8080/"
        },
        "id": "6xPHi4l0A5TU",
        "outputId": "5902e93d-618e-4220-8ea4-5f90cb6dbc05"
      },
      "source": [
        "sm = SMOTE(random_state = 25, sampling_strategy = 1.0)\r\n",
        "x_train, y_train = sm.fit_sample(x_train, y_train)\r\n",
        "\r\n",
        "sns.countplot(y_train)\r\n",
        "plt.show()"
      ],
      "execution_count": null,
      "outputs": [
        {
          "output_type": "stream",
          "text": [
            "/usr/local/lib/python3.6/dist-packages/sklearn/utils/deprecation.py:87: FutureWarning: Function safe_indexing is deprecated; safe_indexing is deprecated in version 0.22 and will be removed in version 0.24.\n",
            "  warnings.warn(msg, category=FutureWarning)\n",
            "/usr/local/lib/python3.6/dist-packages/seaborn/_decorators.py:43: FutureWarning: Pass the following variable as a keyword arg: x. From version 0.12, the only valid positional argument will be `data`, and passing other arguments without an explicit keyword will result in an error or misinterpretation.\n",
            "  FutureWarning\n"
          ],
          "name": "stderr"
        },
        {
          "output_type": "display_data",
          "data": {
            "image/png": "[encoded data removed]",
            "text/plain": [
              "<Figure size 432x288 with 1 Axes>"
            ]
          },
          "metadata": {
            "tags": []
          }
        }
      ]
    },
    {
      "cell_type": "markdown",
      "metadata": {
        "id": "kr36F54Ee6jb"
      },
      "source": [
        "### Build Model Using Logistic Regression"
      ]
    },
    {
      "cell_type": "code",
      "metadata": {
        "colab": {
          "base_uri": "https://localhost:8080/"
        },
        "id": "3K7yAEOgZlK3",
        "outputId": "ecb506b1-5597-4c35-a3c1-b5335bda1ad5"
      },
      "source": [
        "#build model\r\n",
        "clf = LogisticRegression()\r\n",
        "clf.fit(x_train, y_train)"
      ],
      "execution_count": null,
      "outputs": [
        {
          "output_type": "stream",
          "text": [
            "/usr/local/lib/python3.6/dist-packages/sklearn/linear_model/_logistic.py:940: ConvergenceWarning: lbfgs failed to converge (status=1):\n",
            "STOP: TOTAL NO. of ITERATIONS REACHED LIMIT.\n",
            "\n",
            "Increase the number of iterations (max_iter) or scale the data as shown in:\n",
            "    https://scikit-learn.org/stable/modules/preprocessing.html\n",
            "Please also refer to the documentation for alternative solver options:\n",
            "    https://scikit-learn.org/stable/modules/linear_model.html#logistic-regression\n",
            "  extra_warning_msg=_LOGISTIC_SOLVER_CONVERGENCE_MSG)\n"
          ],
          "name": "stderr"
        },
        {
          "output_type": "execute_result",
          "data": {
            "text/plain": [
              "LogisticRegression(C=1.0, class_weight=None, dual=False, fit_intercept=True,\n",
              "                   intercept_scaling=1, l1_ratio=None, max_iter=100,\n",
              "                   multi_class='auto', n_jobs=None, penalty='l2',\n",
              "                   random_state=None, solver='lbfgs', tol=0.0001, verbose=0,\n",
              "                   warm_start=False)"
            ]
          },
          "metadata": {
            "tags": []
          },
          "execution_count": 53
        }
      ]
    },
    {
      "cell_type": "code",
      "metadata": {
        "colab": {
          "base_uri": "https://localhost:8080/"
        },
        "id": "S-Q47GVHboRF",
        "outputId": "9324ce43-15ca-439e-d089-7349f387bf40"
      },
      "source": [
        "print(\"Accuracy Score Train: \", accuracy_score(clf.predict(x_train), y_train))\r\n",
        "print(\"Accuracy Score Test: \", accuracy_score(clf.predict(x_test), y_test))\r\n",
        "print(\"F1_score Score Train: \", f1_score(clf.predict(x_train), y_train))\r\n",
        "print(\"F1_score Score Test: \", f1_score(clf.predict(x_test), y_test))\r\n",
        "print(\"Confussion Train Matrix\")\r\n",
        "print(classification_report(clf.predict(x_train), y_train))\r\n",
        "print(\"Confussion Test Matrix\")\r\n",
        "print(classification_report(clf.predict(x_test), y_test))"
      ],
      "execution_count": null,
      "outputs": [
        {
          "output_type": "stream",
          "text": [
            "Accuracy Score Train:  0.7657128257537047\n",
            "Accuracy Score Test:  0.824906755076668\n",
            "F1_score Score Train:  0.7509306747191998\n",
            "F1_score Score Test:  0.09107206884187881\n",
            "Confussion Train Matrix\n",
            "              precision    recall  f1-score   support\n",
            "\n",
            "           0       0.83      0.74      0.78     37218\n",
            "           1       0.71      0.80      0.75     29320\n",
            "\n",
            "    accuracy                           0.77     66538\n",
            "   macro avg       0.77      0.77      0.76     66538\n",
            "weighted avg       0.77      0.77      0.77     66538\n",
            "\n",
            "Confussion Test Matrix\n",
            "              precision    recall  f1-score   support\n",
            "\n",
            "           0       0.83      0.99      0.90     11884\n",
            "           1       0.65      0.05      0.09      2594\n",
            "\n",
            "    accuracy                           0.82     14478\n",
            "   macro avg       0.74      0.52      0.50     14478\n",
            "weighted avg       0.80      0.82      0.76     14478\n",
            "\n"
          ],
          "name": "stdout"
        }
      ]
    },
    {
      "cell_type": "code",
      "metadata": {
        "colab": {
          "base_uri": "https://localhost:8080/"
        },
        "id": "-IgMLWRCoMh6",
        "outputId": "768a604c-94af-4fcd-81cb-4cae3248a156"
      },
      "source": [
        "test_conf = confusion_matrix(clf.predict(x_test), y_test)\r\n",
        "plt.figure(figsize=(4,3))\r\n",
        "sns.set(font_scale=1) \r\n",
        "sns.heatmap(test_conf, fmt='g', annot=True, annot_kws={\"size\": 10}, cmap=\"coolwarm_r\")\r\n",
        "plt.show()"
      ],
      "execution_count": null,
      "outputs": [
        {
          "output_type": "display_data",
          "data": {
            "image/png": "[encoded data removed]",
            "text/plain": [
              "<Figure size 288x216 with 2 Axes>"
            ]
          },
          "metadata": {
            "tags": []
          }
        }
      ]
    },
    {
      "cell_type": "markdown",
      "metadata": {
        "id": "AIUGHAVggvJS"
      },
      "source": [
        "### Build Model Using Deceision Tree"
      ]
    },
    {
      "cell_type": "code",
      "metadata": {
        "colab": {
          "base_uri": "https://localhost:8080/"
        },
        "id": "SRfV3QltgyNd",
        "outputId": "b1df3d21-3238-493b-c1af-650c4d20d5f0"
      },
      "source": [
        "#build model\r\n",
        "model = DecisionTreeClassifier(random_state=1)\r\n",
        "model.fit(x_train, y_train)"
      ],
      "execution_count": null,
      "outputs": [
        {
          "output_type": "execute_result",
          "data": {
            "text/plain": [
              "DecisionTreeClassifier(ccp_alpha=0.0, class_weight=None, criterion='gini',\n",
              "                       max_depth=None, max_features=None, max_leaf_nodes=None,\n",
              "                       min_impurity_decrease=0.0, min_impurity_split=None,\n",
              "                       min_samples_leaf=1, min_samples_split=2,\n",
              "                       min_weight_fraction_leaf=0.0, presort='deprecated',\n",
              "                       random_state=1, splitter='best')"
            ]
          },
          "metadata": {
            "tags": []
          },
          "execution_count": 56
        }
      ]
    },
    {
      "cell_type": "code",
      "metadata": {
        "colab": {
          "base_uri": "https://localhost:8080/"
        },
        "id": "GcTCZ-nTg-cU",
        "outputId": "795a7db0-1551-4878-c6a8-2def19378d5c"
      },
      "source": [
        "print(\"Accuracy Score Train: \", accuracy_score(model.predict(x_train), y_train))\r\n",
        "print(\"Accuracy Score Test: \", accuracy_score(model.predict(x_test), y_test))\r\n",
        "print(\"F1_score Score Train: \", f1_score(model.predict(x_train), y_train))\r\n",
        "print(\"F1_score Score Test: \", f1_score(model.predict(x_test), y_test))\r\n",
        "print(\"Confussion Train Matrix\")\r\n",
        "print(classification_report(model.predict(x_train), y_train))\r\n",
        "print(\"Confussion Test Matrix\")\r\n",
        "print(classification_report(model.predict(x_test), y_test))"
      ],
      "execution_count": null,
      "outputs": [
        {
          "output_type": "stream",
          "text": [
            "Accuracy Score Train:  0.9986774474736241\n",
            "Accuracy Score Test:  0.9634618041165907\n",
            "F1_score Score Train:  0.998675855427488\n",
            "F1_score Score Test:  0.0670194003527337\n",
            "Confussion Train Matrix\n",
            "              precision    recall  f1-score   support\n",
            "\n",
            "           0       1.00      1.00      1.00     33349\n",
            "           1       1.00      1.00      1.00     33189\n",
            "\n",
            "    accuracy                           1.00     66538\n",
            "   macro avg       1.00      1.00      1.00     66538\n",
            "weighted avg       1.00      1.00      1.00     66538\n",
            "\n",
            "Confussion Test Matrix\n",
            "              precision    recall  f1-score   support\n",
            "\n",
            "           0       0.98      0.99      0.98     14106\n",
            "           1       0.10      0.05      0.07       372\n",
            "\n",
            "    accuracy                           0.96     14478\n",
            "   macro avg       0.54      0.52      0.52     14478\n",
            "weighted avg       0.95      0.96      0.96     14478\n",
            "\n"
          ],
          "name": "stdout"
        }
      ]
    },
    {
      "cell_type": "code",
      "metadata": {
        "colab": {
          "base_uri": "https://localhost:8080/"
        },
        "id": "h-BGbP2_hD3_",
        "outputId": "38b7f04e-dbab-4894-ddd5-753a230e41fd"
      },
      "source": [
        "test_conf = confusion_matrix(model.predict(x_test), y_test)\r\n",
        "plt.figure(figsize=(4,3))\r\n",
        "sns.set(font_scale=1) \r\n",
        "sns.heatmap(test_conf, fmt='g', annot=True, annot_kws={\"size\": 10}, cmap=\"coolwarm_r\")\r\n",
        "plt.show()"
      ],
      "execution_count": null,
      "outputs": [
        {
          "output_type": "display_data",
          "data": {
            "image/png": "[encoded data removed]",
            "text/plain": [
              "<Figure size 288x216 with 2 Axes>"
            ]
          },
          "metadata": {
            "tags": []
          }
        }
      ]
    },
    {
      "cell_type": "markdown",
      "metadata": {
        "id": "QC0aCpuQwnoO"
      },
      "source": [
        "### Random Forest"
      ]
    },
    {
      "cell_type": "code",
      "metadata": {
        "colab": {
          "base_uri": "https://localhost:8080/"
        },
        "id": "XtsAbkuRvo3r",
        "outputId": "1c305bc6-8d3d-46ae-f644-513478e8bd22"
      },
      "source": [
        "model_rf = RandomForestClassifier(random_state=1)\r\n",
        "model_rf.fit(x_train, y_train)"
      ],
      "execution_count": null,
      "outputs": [
        {
          "output_type": "execute_result",
          "data": {
            "text/plain": [
              "RandomForestClassifier(bootstrap=True, ccp_alpha=0.0, class_weight=None,\n",
              "                       criterion='gini', max_depth=None, max_features='auto',\n",
              "                       max_leaf_nodes=None, max_samples=None,\n",
              "                       min_impurity_decrease=0.0, min_impurity_split=None,\n",
              "                       min_samples_leaf=1, min_samples_split=2,\n",
              "                       min_weight_fraction_leaf=0.0, n_estimators=100,\n",
              "                       n_jobs=None, oob_score=False, random_state=1, verbose=0,\n",
              "                       warm_start=False)"
            ]
          },
          "metadata": {
            "tags": []
          },
          "execution_count": 59
        }
      ]
    },
    {
      "cell_type": "code",
      "metadata": {
        "colab": {
          "base_uri": "https://localhost:8080/"
        },
        "id": "59Ywt2lXwsjZ",
        "outputId": "aa01be4c-b5f5-4827-8c50-f02c2217e3c1"
      },
      "source": [
        "print(\"Accuracy Score Train: \", accuracy_score(model_rf.predict(x_train), y_train))\r\n",
        "print(\"Accuracy Score Test: \", accuracy_score(model_rf.predict(x_test), y_test))\r\n",
        "print(\"F1_score Score Train: \", f1_score(model_rf.predict(x_train), y_train))\r\n",
        "print(\"F1_score Score Test: \", f1_score(model_rf.predict(x_test), y_test))\r\n",
        "print(\"Confussion Train Matrix\")\r\n",
        "print(classification_report(model_rf.predict(x_train), y_train))\r\n",
        "print(\"Confussion Test Matrix\")\r\n",
        "print(classification_report(model_rf.predict(x_test), y_test))"
      ],
      "execution_count": null,
      "outputs": [
        {
          "output_type": "stream",
          "text": [
            "Accuracy Score Train:  0.9986774474736241\n",
            "Accuracy Score Test:  0.9732697886448405\n",
            "F1_score Score Train:  0.9986766121270453\n",
            "F1_score Score Test:  0.06746987951807228\n",
            "Confussion Train Matrix\n",
            "              precision    recall  f1-score   support\n",
            "\n",
            "           0       1.00      1.00      1.00     33311\n",
            "           1       1.00      1.00      1.00     33227\n",
            "\n",
            "    accuracy                           1.00     66538\n",
            "   macro avg       1.00      1.00      1.00     66538\n",
            "weighted avg       1.00      1.00      1.00     66538\n",
            "\n",
            "Confussion Test Matrix\n",
            "              precision    recall  f1-score   support\n",
            "\n",
            "           0       0.99      0.99      0.99     14258\n",
            "           1       0.07      0.06      0.07       220\n",
            "\n",
            "    accuracy                           0.97     14478\n",
            "   macro avg       0.53      0.53      0.53     14478\n",
            "weighted avg       0.97      0.97      0.97     14478\n",
            "\n"
          ],
          "name": "stdout"
        }
      ]
    },
    {
      "cell_type": "code",
      "metadata": {
        "colab": {
          "base_uri": "https://localhost:8080/"
        },
        "id": "vB_SQNC5w8xE",
        "outputId": "d466968b-bd2e-4b25-c047-306256a3c5f2"
      },
      "source": [
        "test_conf = confusion_matrix(model_rf.predict(x_test), y_test)\r\n",
        "plt.figure(figsize=(4,3))\r\n",
        "sns.set(font_scale=1) \r\n",
        "sns.heatmap(test_conf, fmt='g', annot=True, annot_kws={\"size\": 10}, cmap=\"coolwarm_r\")\r\n",
        "plt.show()"
      ],
      "execution_count": null,
      "outputs": [
        {
          "output_type": "display_data",
          "data": {
            "image/png": "[encoded data removed]",
            "text/plain": [
              "<Figure size 288x216 with 2 Axes>"
            ]
          },
          "metadata": {
            "tags": []
          }
        }
      ]
    },
    {
      "cell_type": "code",
      "metadata": {
        "colab": {
          "base_uri": "https://localhost:8080/"
        },
        "id": "U8FoVfTxxG14",
        "outputId": "f055de60-ea0b-40a8-9997-74088d0fe9bc"
      },
      "source": [
        "from sklearn.metrics import precision_recall_fscore_support as score\r\n",
        "precision,recall,fscore,support=score(model_rf.predict(x_train), y_train, average='binary')\r\n",
        "print(fscore)\r\n",
        "precision,recall,fscore,support=score(model_rf.predict(x_test), y_test, average='binary')\r\n",
        "print(fscore)"
      ],
      "execution_count": null,
      "outputs": [
        {
          "output_type": "stream",
          "text": [
            "0.9986766121270453\n",
            "0.06746987951807228\n"
          ],
          "name": "stdout"
        }
      ]
    },
    {
      "cell_type": "markdown",
      "metadata": {
        "id": "hCuC0_CNy874"
      },
      "source": [
        "### Hyperparameter tuning"
      ]
    },
    {
      "cell_type": "markdown",
      "metadata": {
        "id": "uLMX9RgqzBt_"
      },
      "source": [
        "Random Forest"
      ]
    },
    {
      "cell_type": "code",
      "metadata": {
        "colab": {
          "base_uri": "https://localhost:8080/"
        },
        "id": "o_VL2b9szCwU",
        "outputId": "4d628de5-ff71-4d1a-a835-f5c48667ec25"
      },
      "source": [
        "params = {'bootstrap': [True],\r\n",
        "          'max_depth': [10, 20],\r\n",
        "          'min_samples_leaf': [3, 4],\r\n",
        "          'min_samples_split': [4, 6],\r\n",
        "          'n_estimators': [100, 200],}\r\n",
        "model_rf = RandomForestClassifier(random_state=1)\r\n",
        "grid_search_1 = GridSearchCV(model_rf, param_grid=params, cv=3, n_jobs=-1, verbose=2)\r\n",
        "grid_search_1.fit(x_train, y_train)"
      ],
      "execution_count": null,
      "outputs": [
        {
          "output_type": "stream",
          "text": [
            "Fitting 3 folds for each of 16 candidates, totalling 48 fits\n"
          ],
          "name": "stdout"
        },
        {
          "output_type": "stream",
          "text": [
            "[Parallel(n_jobs=-1)]: Using backend LokyBackend with 2 concurrent workers.\n",
            "[Parallel(n_jobs=-1)]: Done  37 tasks      | elapsed:  3.3min\n",
            "[Parallel(n_jobs=-1)]: Done  48 out of  48 | elapsed:  4.4min finished\n"
          ],
          "name": "stderr"
        },
        {
          "output_type": "execute_result",
          "data": {
            "text/plain": [
              "GridSearchCV(cv=3, error_score=nan,\n",
              "             estimator=RandomForestClassifier(bootstrap=True, ccp_alpha=0.0,\n",
              "                                              class_weight=None,\n",
              "                                              criterion='gini', max_depth=None,\n",
              "                                              max_features='auto',\n",
              "                                              max_leaf_nodes=None,\n",
              "                                              max_samples=None,\n",
              "                                              min_impurity_decrease=0.0,\n",
              "                                              min_impurity_split=None,\n",
              "                                              min_samples_leaf=1,\n",
              "                                              min_samples_split=2,\n",
              "                                              min_weight_fraction_leaf=0.0,\n",
              "                                              n_estimators=100, n_jobs=None,\n",
              "                                              oob_score=False, random_state=1,\n",
              "                                              verbose=0, warm_start=False),\n",
              "             iid='deprecated', n_jobs=-1,\n",
              "             param_grid={'bootstrap': [True], 'max_depth': [10, 20],\n",
              "                         'min_samples_leaf': [3, 4],\n",
              "                         'min_samples_split': [4, 6],\n",
              "                         'n_estimators': [100, 200]},\n",
              "             pre_dispatch='2*n_jobs', refit=True, return_train_score=False,\n",
              "             scoring=None, verbose=2)"
            ]
          },
          "metadata": {
            "tags": []
          },
          "execution_count": 63
        }
      ]
    },
    {
      "cell_type": "code",
      "metadata": {
        "colab": {
          "base_uri": "https://localhost:8080/"
        },
        "id": "8GfAmvy70aX-",
        "outputId": "5fb23e05-72f6-4f08-d6ac-4351f47757d6"
      },
      "source": [
        "grid_search_1.best_params_"
      ],
      "execution_count": null,
      "outputs": [
        {
          "output_type": "execute_result",
          "data": {
            "text/plain": [
              "{'bootstrap': True,\n",
              " 'max_depth': 20,\n",
              " 'min_samples_leaf': 3,\n",
              " 'min_samples_split': 4,\n",
              " 'n_estimators': 100}"
            ]
          },
          "metadata": {
            "tags": []
          },
          "execution_count": 64
        }
      ]
    },
    {
      "cell_type": "code",
      "metadata": {
        "colab": {
          "base_uri": "https://localhost:8080/"
        },
        "id": "KC-RB4wj1pQC",
        "outputId": "084849e7-142b-40f8-a008-fcc46f91556b"
      },
      "source": [
        "print(classification_report(grid_search_1.predict(x_test), y_test))"
      ],
      "execution_count": null,
      "outputs": [
        {
          "output_type": "stream",
          "text": [
            "              precision    recall  f1-score   support\n",
            "\n",
            "           0       0.98      0.99      0.98     14124\n",
            "           1       0.12      0.06      0.08       354\n",
            "\n",
            "    accuracy                           0.97     14478\n",
            "   macro avg       0.55      0.53      0.53     14478\n",
            "weighted avg       0.96      0.97      0.96     14478\n",
            "\n"
          ],
          "name": "stdout"
        }
      ]
    },
    {
      "cell_type": "markdown",
      "metadata": {
        "id": "vWsGDl81y_Wl"
      },
      "source": [
        "Decission Tree"
      ]
    },
    {
      "cell_type": "code",
      "metadata": {
        "colab": {
          "base_uri": "https://localhost:8080/"
        },
        "id": "Z7bHZIX1xOw2",
        "outputId": "dffa82be-313e-49af-cca9-ddf032b5d6f5"
      },
      "source": [
        "params = {\r\n",
        "    'max_leaf_nodes': [5, 10, 15, 20],\r\n",
        "    'min_samples_split': [4, 6, 8, 10]\r\n",
        "}\r\n",
        "model = DecisionTreeClassifier(random_state=1)\r\n",
        "grid_search_2 = GridSearchCV(model, param_grid=params, cv=3, n_jobs=-1, verbose=2)\r\n",
        "grid_search_2.fit(x_train, y_train)"
      ],
      "execution_count": null,
      "outputs": [
        {
          "output_type": "stream",
          "text": [
            "Fitting 3 folds for each of 16 candidates, totalling 48 fits\n"
          ],
          "name": "stdout"
        },
        {
          "output_type": "stream",
          "text": [
            "[Parallel(n_jobs=-1)]: Using backend LokyBackend with 2 concurrent workers.\n",
            "[Parallel(n_jobs=-1)]: Done  37 tasks      | elapsed:    6.5s\n",
            "[Parallel(n_jobs=-1)]: Done  48 out of  48 | elapsed:    8.7s finished\n"
          ],
          "name": "stderr"
        },
        {
          "output_type": "execute_result",
          "data": {
            "text/plain": [
              "GridSearchCV(cv=3, error_score=nan,\n",
              "             estimator=DecisionTreeClassifier(ccp_alpha=0.0, class_weight=None,\n",
              "                                              criterion='gini', max_depth=None,\n",
              "                                              max_features=None,\n",
              "                                              max_leaf_nodes=None,\n",
              "                                              min_impurity_decrease=0.0,\n",
              "                                              min_impurity_split=None,\n",
              "                                              min_samples_leaf=1,\n",
              "                                              min_samples_split=2,\n",
              "                                              min_weight_fraction_leaf=0.0,\n",
              "                                              presort='deprecated',\n",
              "                                              random_state=1, splitter='best'),\n",
              "             iid='deprecated', n_jobs=-1,\n",
              "             param_grid={'max_leaf_nodes': [5, 10, 15, 20],\n",
              "                         'min_samples_split': [4, 6, 8, 10]},\n",
              "             pre_dispatch='2*n_jobs', refit=True, return_train_score=False,\n",
              "             scoring=None, verbose=2)"
            ]
          },
          "metadata": {
            "tags": []
          },
          "execution_count": 66
        }
      ]
    },
    {
      "cell_type": "code",
      "metadata": {
        "colab": {
          "base_uri": "https://localhost:8080/"
        },
        "id": "BOPlb9zK1Fma",
        "outputId": "4ce60704-7843-4733-d692-a3f056ceab44"
      },
      "source": [
        "grid_search_2.best_params_"
      ],
      "execution_count": null,
      "outputs": [
        {
          "output_type": "execute_result",
          "data": {
            "text/plain": [
              "{'max_leaf_nodes': 20, 'min_samples_split': 4}"
            ]
          },
          "metadata": {
            "tags": []
          },
          "execution_count": 67
        }
      ]
    },
    {
      "cell_type": "code",
      "metadata": {
        "colab": {
          "base_uri": "https://localhost:8080/"
        },
        "id": "OYaGy7Y91G_N",
        "outputId": "4c28e906-dfd1-42d6-dd25-a1a1ef9ed257"
      },
      "source": [
        "print(classification_report(grid_search_2.predict(x_test), y_test))"
      ],
      "execution_count": null,
      "outputs": [
        {
          "output_type": "stream",
          "text": [
            "              precision    recall  f1-score   support\n",
            "\n",
            "           0       0.95      0.99      0.97     13700\n",
            "           1       0.29      0.07      0.12       778\n",
            "\n",
            "    accuracy                           0.94     14478\n",
            "   macro avg       0.62      0.53      0.54     14478\n",
            "weighted avg       0.91      0.94      0.92     14478\n",
            "\n"
          ],
          "name": "stdout"
        }
      ]
    },
    {
      "cell_type": "code",
      "metadata": {
        "colab": {
          "base_uri": "https://localhost:8080/"
        },
        "id": "cdP8bEG81-Nm",
        "outputId": "90e7605c-2c81-4309-926b-8a7c08f91c65"
      },
      "source": [
        "#which one is the best based on Fscore\r\n",
        "print(\"Accuracy Score Train: \", accuracy_score(grid_search_1.predict(x_train), y_train))\r\n",
        "print(\"Accuracy Score Test: \", accuracy_score(grid_search_1.predict(x_test), y_test))\r\n",
        "print(\"F1_score Score Train: \", f1_score(grid_search_1.predict(x_train), y_train))\r\n",
        "print(\"F1_score Score Test: \", f1_score(grid_search_1.predict(x_test), y_test))\r\n",
        "print(\"====== GridSearchCV_2 ======\")\r\n",
        "print(\"Accuracy Score Train: \", accuracy_score(grid_search_2.predict(x_train), y_train))\r\n",
        "print(\"Accuracy Score Test: \", accuracy_score(grid_search_2.predict(x_test), y_test))\r\n",
        "print(\"F1_score Score Train: \", f1_score(grid_search_2.predict(x_train), y_train))\r\n",
        "print(\"F1_score Score Test: \", f1_score(grid_search_2.predict(x_test), y_test))"
      ],
      "execution_count": null,
      "outputs": [
        {
          "output_type": "stream",
          "text": [
            "Accuracy Score Train:  0.981559409660645\n",
            "Accuracy Score Test:  0.9652576322696506\n",
            "F1_score Score Train:  0.9815241450964449\n",
            "F1_score Score Test:  0.08378870673952642\n",
            "====== GridSearchCV_2 ======\n",
            "Accuracy Score Train:  0.8324265833057801\n",
            "Accuracy Score Test:  0.9405304600082884\n",
            "F1_score Score Train:  0.8104128409168198\n",
            "F1_score Score Test:  0.11510791366906475\n"
          ],
          "name": "stdout"
        }
      ]
    },
    {
      "cell_type": "markdown",
      "metadata": {
        "id": "KehUKtUv8rtG"
      },
      "source": [
        "RFE Feature Selection"
      ]
    },
    {
      "cell_type": "code",
      "metadata": {
        "colab": {
          "base_uri": "https://localhost:8080/"
        },
        "id": "yBSl2Lu42O3G",
        "outputId": "3067462b-6b73-4881-c75c-1c1946f1f17b"
      },
      "source": [
        "# from sklearn.pipeline import Pipeline\r\n",
        "# rfe = RFE(estimator=RandomForestClassifier(random_state=1), step=1 )\r\n",
        "# model = RandomForestClassifier(random_state=1)\r\n",
        "# pipeline = Pipeline(steps=[('s',rfe),('m',model)])\r\n",
        "rfe = RFE(estimator=RandomForestClassifier(random_state=1), step=1 )\r\n",
        "rfe.fit(x_train, y_train)"
      ],
      "execution_count": null,
      "outputs": [
        {
          "output_type": "execute_result",
          "data": {
            "text/plain": [
              "RFE(estimator=RandomForestClassifier(bootstrap=True, ccp_alpha=0.0,\n",
              "                                     class_weight=None, criterion='gini',\n",
              "                                     max_depth=None, max_features='auto',\n",
              "                                     max_leaf_nodes=None, max_samples=None,\n",
              "                                     min_impurity_decrease=0.0,\n",
              "                                     min_impurity_split=None,\n",
              "                                     min_samples_leaf=1, min_samples_split=2,\n",
              "                                     min_weight_fraction_leaf=0.0,\n",
              "                                     n_estimators=100, n_jobs=None,\n",
              "                                     oob_score=False, random_state=1, verbose=0,\n",
              "                                     warm_start=False),\n",
              "    n_features_to_select=None, step=1, verbose=0)"
            ]
          },
          "metadata": {
            "tags": []
          },
          "execution_count": 70
        }
      ]
    },
    {
      "cell_type": "code",
      "metadata": {
        "colab": {
          "base_uri": "https://localhost:8080/"
        },
        "id": "iapf_bgO9nb0",
        "outputId": "e635eaff-be75-4923-92e9-ea0dbdcb20b1"
      },
      "source": [
        "rfe.support_"
      ],
      "execution_count": null,
      "outputs": [
        {
          "output_type": "execute_result",
          "data": {
            "text/plain": [
              "array([ True,  True,  True,  True, False, False,  True, False, False,\n",
              "       False,  True,  True, False,  True, False,  True, False, False,\n",
              "       False, False,  True,  True,  True,  True,  True, False, False,\n",
              "        True, False, False, False,  True,  True,  True, False, False,\n",
              "        True, False, False,  True,  True,  True,  True, False, False,\n",
              "       False, False, False,  True])"
            ]
          },
          "metadata": {
            "tags": []
          },
          "execution_count": 71
        }
      ]
    },
    {
      "cell_type": "code",
      "metadata": {
        "colab": {
          "base_uri": "https://localhost:8080/"
        },
        "id": "e0LpadMLBO-s",
        "outputId": "413fdd81-ef18-44da-e41a-c83892fcd575"
      },
      "source": [
        "sum(rfe.support_)"
      ],
      "execution_count": null,
      "outputs": [
        {
          "output_type": "execute_result",
          "data": {
            "text/plain": [
              "24"
            ]
          },
          "metadata": {
            "tags": []
          },
          "execution_count": 72
        }
      ]
    },
    {
      "cell_type": "code",
      "metadata": {
        "colab": {
          "base_uri": "https://localhost:8080/"
        },
        "id": "QcVaS9dgKT75",
        "outputId": "c66a9808-9c1e-45c9-b07e-084a33db5670"
      },
      "source": [
        "rfe.ranking_"
      ],
      "execution_count": null,
      "outputs": [
        {
          "output_type": "execute_result",
          "data": {
            "text/plain": [
              "array([ 1,  1,  1,  1, 22, 13,  1, 24, 15, 23,  1,  1,  5,  1,  8,  1, 16,\n",
              "        2,  7, 14,  1,  1,  1,  1,  1, 20, 10,  1,  3, 21, 11,  1,  1,  1,\n",
              "       25,  6,  1, 18, 17,  1,  1,  1,  1,  9, 19,  4, 12, 26,  1])"
            ]
          },
          "metadata": {
            "tags": []
          },
          "execution_count": 73
        }
      ]
    },
    {
      "cell_type": "code",
      "metadata": {
        "colab": {
          "base_uri": "https://localhost:8080/"
        },
        "id": "v3Cuw8p6B18e",
        "outputId": "ac9b60d6-009b-4388-9e5f-8c6a9796f512"
      },
      "source": [
        "rfe.get_support(indices=True)"
      ],
      "execution_count": null,
      "outputs": [
        {
          "output_type": "execute_result",
          "data": {
            "text/plain": [
              "array([ 0,  1,  2,  3,  6, 10, 11, 13, 15, 20, 21, 22, 23, 24, 27, 31, 32,\n",
              "       33, 36, 39, 40, 41, 42, 48])"
            ]
          },
          "metadata": {
            "tags": []
          },
          "execution_count": 74
        }
      ]
    },
    {
      "cell_type": "code",
      "metadata": {
        "colab": {
          "base_uri": "https://localhost:8080/"
        },
        "id": "1RA2dcdD_w_3",
        "outputId": "c859e017-64b7-4618-9853-35bf1548f682"
      },
      "source": [
        "#result of selected feature from RFE Random Forest\r\n",
        "input.columns[rfe.support_]"
      ],
      "execution_count": null,
      "outputs": [
        {
          "output_type": "execute_result",
          "data": {
            "text/plain": [
              "Index(['Duration', 'Net Sales', 'Commision (in value)', 'Age', 'Agency_C2B',\n",
              "       'Agency_CWT', 'Agency_EPX', 'Agency_JZI', 'Agency_LWC', 'Gender_F',\n",
              "       'Gender_M', 'Gender_Not Specified',\n",
              "       'Product Name_1 way Comprehensive Plan',\n",
              "       'Product Name_2 way Comprehensive Plan',\n",
              "       'Product Name_Annual Silver Plan', 'Product Name_Basic Plan',\n",
              "       'Product Name_Bronze Plan', 'Product Name_Cancellation Plan',\n",
              "       'Product Name_Gold Plan',\n",
              "       'Product Name_Rental Vehicle Excess Insurance',\n",
              "       'Product Name_Silver Plan',\n",
              "       'Product Name_Single Trip Travel Protect Gold',\n",
              "       'Product Name_Single Trip Travel Protect Platinum',\n",
              "       'Product Name_Value Plan'],\n",
              "      dtype='object')"
            ]
          },
          "metadata": {
            "tags": []
          },
          "execution_count": 75
        }
      ]
    },
    {
      "cell_type": "code",
      "metadata": {
        "colab": {
          "base_uri": "https://localhost:8080/"
        },
        "id": "RAyO7JVaC2fP",
        "outputId": "e09cdf2f-8ec7-429d-9a90-aef5ef759edd"
      },
      "source": [
        "data = pd.concat([df[input.columns[rfe.support_]], output], axis=1)\r\n",
        "\r\n",
        "plt.figure(figsize=(30,10))\r\n",
        "sns.heatmap(data.corr(), annot=True)\r\n",
        "plt.show()"
      ],
      "execution_count": null,
      "outputs": [
        {
          "output_type": "display_data",
          "data": {
            "image/png": "[encoded data removed]",
            "text/plain": [
              "<Figure size 2160x720 with 2 Axes>"
            ]
          },
          "metadata": {
            "tags": []
          }
        }
      ]
    },
    {
      "cell_type": "code",
      "metadata": {
        "colab": {
          "base_uri": "https://localhost:8080/"
        },
        "id": "wG5j2FUWItjg",
        "outputId": "11c5bd52-a960-478f-ef3d-48a0c5980895"
      },
      "source": [
        "x_train, x_test, y_train, y_test = train_test_split(df[input.columns[rfe.support_]], output, test_size=0.3, random_state=101)\r\n",
        "\r\n",
        "sm = SMOTE(random_state = 25, sampling_strategy = 1.0)\r\n",
        "x_train, y_train = sm.fit_sample(x_train, y_train)\r\n",
        "\r\n",
        "sns.countplot(y_train)\r\n",
        "plt.show()"
      ],
      "execution_count": null,
      "outputs": [
        {
          "output_type": "stream",
          "text": [
            "/usr/local/lib/python3.6/dist-packages/sklearn/utils/deprecation.py:87: FutureWarning: Function safe_indexing is deprecated; safe_indexing is deprecated in version 0.22 and will be removed in version 0.24.\n",
            "  warnings.warn(msg, category=FutureWarning)\n",
            "/usr/local/lib/python3.6/dist-packages/seaborn/_decorators.py:43: FutureWarning: Pass the following variable as a keyword arg: x. From version 0.12, the only valid positional argument will be `data`, and passing other arguments without an explicit keyword will result in an error or misinterpretation.\n",
            "  FutureWarning\n"
          ],
          "name": "stderr"
        },
        {
          "output_type": "display_data",
          "data": {
            "image/png": "[encoded data removed]",
            "text/plain": [
              "<Figure size 432x288 with 1 Axes>"
            ]
          },
          "metadata": {
            "tags": []
          }
        }
      ]
    },
    {
      "cell_type": "code",
      "metadata": {
        "colab": {
          "base_uri": "https://localhost:8080/"
        },
        "id": "DS8xccUHVN2y",
        "outputId": "723d6a0a-fe6c-4f82-91b6-305fff596bc2"
      },
      "source": [
        "model_rf = RandomForestClassifier(random_state=1)\r\n",
        "model_rf.fit(x_train, y_train)"
      ],
      "execution_count": null,
      "outputs": [
        {
          "output_type": "execute_result",
          "data": {
            "text/plain": [
              "RandomForestClassifier(bootstrap=True, ccp_alpha=0.0, class_weight=None,\n",
              "                       criterion='gini', max_depth=None, max_features='auto',\n",
              "                       max_leaf_nodes=None, max_samples=None,\n",
              "                       min_impurity_decrease=0.0, min_impurity_split=None,\n",
              "                       min_samples_leaf=1, min_samples_split=2,\n",
              "                       min_weight_fraction_leaf=0.0, n_estimators=100,\n",
              "                       n_jobs=None, oob_score=False, random_state=1, verbose=0,\n",
              "                       warm_start=False)"
            ]
          },
          "metadata": {
            "tags": []
          },
          "execution_count": 78
        }
      ]
    },
    {
      "cell_type": "code",
      "metadata": {
        "colab": {
          "base_uri": "https://localhost:8080/"
        },
        "id": "gQax400bVen0",
        "outputId": "c1e89146-94d7-48f1-80d2-5879379ab64f"
      },
      "source": [
        "print(\"Accuracy Score Train: \", accuracy_score(model_rf.predict(x_train), y_train))\r\n",
        "print(\"Accuracy Score Test: \", accuracy_score(model_rf.predict(x_test), y_test))\r\n",
        "print(\"F1_score Score Train: \", f1_score(model_rf.predict(x_train), y_train))\r\n",
        "print(\"F1_score Score Test: \", f1_score(model_rf.predict(x_test), y_test))\r\n",
        "print(\"Confussion Train Matrix\")\r\n",
        "print(classification_report(model_rf.predict(x_train), y_train))\r\n",
        "print(\"Confussion Test Matrix\")\r\n",
        "print(classification_report(model_rf.predict(x_test), y_test))"
      ],
      "execution_count": null,
      "outputs": [
        {
          "output_type": "stream",
          "text": [
            "Accuracy Score Train:  0.9986774474736241\n",
            "Accuracy Score Test:  0.9736151402127365\n",
            "F1_score Score Train:  0.9986764528937552\n",
            "F1_score Score Test:  0.06372549019607843\n",
            "Confussion Train Matrix\n",
            "              precision    recall  f1-score   support\n",
            "\n",
            "           0       1.00      1.00      1.00     33319\n",
            "           1       1.00      1.00      1.00     33219\n",
            "\n",
            "    accuracy                           1.00     66538\n",
            "   macro avg       1.00      1.00      1.00     66538\n",
            "weighted avg       1.00      1.00      1.00     66538\n",
            "\n",
            "Confussion Test Matrix\n",
            "              precision    recall  f1-score   support\n",
            "\n",
            "           0       0.99      0.99      0.99     14265\n",
            "           1       0.07      0.06      0.06       213\n",
            "\n",
            "    accuracy                           0.97     14478\n",
            "   macro avg       0.53      0.52      0.53     14478\n",
            "weighted avg       0.97      0.97      0.97     14478\n",
            "\n"
          ],
          "name": "stdout"
        }
      ]
    },
    {
      "cell_type": "code",
      "metadata": {
        "id": "e4PTBHB5Vtry"
      },
      "source": [
        ""
      ],
      "execution_count": null,
      "outputs": []
    }
  ]
}