{
  "nbformat": 4,
  "nbformat_minor": 0,
  "metadata": {
    "colab": {
      "name": "DPhi Learn How to Deploy.ipynb",
      "provenance": [],
      "collapsed_sections": [],
      "toc_visible": true
    },
    "kernelspec": {
      "name": "python3",
      "display_name": "Python 3"
    }
  },
  "cells": [
    {
      "cell_type": "markdown",
      "metadata": {
        "id": "xJjn2ZpFtlZt"
      },
      "source": [
        "#**Save Model on Pickle format**\r\n",
        "Python pickle module is used for serializing and de-serializing a Python object structure. Any object in Python can be pickled so that it can be saved on disk. **<i>By using pickle, we can save our model and load it again without re-train the model</i>**. This is one of the method to implement ML Model in application or apps."
      ]
    },
    {
      "cell_type": "code",
      "metadata": {
        "id": "lLmfrAm_cHNT"
      },
      "source": [
        "import numpy as np\r\n",
        "import pandas as pd\r\n",
        "import matplotlib.pyplot as plt\r\n",
        "import matplotlib\r\n",
        "import warnings\r\n",
        "import pickle\r\n",
        "import json\r\n",
        "\r\n",
        "from sklearn.preprocessing import OneHotEncoder\r\n",
        "from sklearn.model_selection import train_test_split, ShuffleSplit, cross_val_score, GridSearchCV\r\n",
        "from sklearn.linear_model import LinearRegression, Lasso\r\n",
        "from sklearn.tree import DecisionTreeRegressor\r\n",
        "from sklearn.metrics import mean_squared_error, accuracy_score\r\n",
        "warnings.filterwarnings('ignore')\r\n",
        "%matplotlib inline\r\n",
        "\r\n",
        "# Result : https://github.com/codebasics/py/blob/master/DataScience/BangloreHomePrices/model/banglore_home_prices_final.ipynb\r\n",
        "# Intro to deploy : https://github.com/dphi-official/Micro-Courses/tree/master/Introduction_Model_Deployment/server"
      ],
      "execution_count": 1,
      "outputs": []
    },
    {
      "cell_type": "markdown",
      "metadata": {
        "id": "xniyjEVBz1Ed"
      },
      "source": [
        "##**Load the Dataset**"
      ]
    },
    {
      "cell_type": "code",
      "metadata": {
        "colab": {
          "base_uri": "https://localhost:8080/",
          "height": 206
        },
        "id": "Ynstyl8sceRC",
        "outputId": "9ebe1e2f-5520-4a6a-c4e3-40929c623fcc"
      },
      "source": [
        "df = pd.read_csv(\"https://raw.githubusercontent.com/dphi-official/Datasets/master/Bengaluru_House_Data.csv\")\r\n",
        "df.head()"
      ],
      "execution_count": 2,
      "outputs": [
        {
          "output_type": "execute_result",
          "data": {
            "text/html": [
              "<div>\n",
              "<style scoped>\n",
              "    .dataframe tbody tr th:only-of-type {\n",
              "        vertical-align: middle;\n",
              "    }\n",
              "\n",
              "    .dataframe tbody tr th {\n",
              "        vertical-align: top;\n",
              "    }\n",
              "\n",
              "    .dataframe thead th {\n",
              "        text-align: right;\n",
              "    }\n",
              "</style>\n",
              "<table border=\"1\" class=\"dataframe\">\n",
              "  <thead>\n",
              "    <tr style=\"text-align: right;\">\n",
              "      <th></th>\n",
              "      <th>area_type</th>\n",
              "      <th>availability</th>\n",
              "      <th>location</th>\n",
              "      <th>size</th>\n",
              "      <th>society</th>\n",
              "      <th>total_sqft</th>\n",
              "      <th>bath</th>\n",
              "      <th>balcony</th>\n",
              "      <th>price</th>\n",
              "    </tr>\n",
              "  </thead>\n",
              "  <tbody>\n",
              "    <tr>\n",
              "      <th>0</th>\n",
              "      <td>Super built-up  Area</td>\n",
              "      <td>19-Dec</td>\n",
              "      <td>Electronic City Phase II</td>\n",
              "      <td>2 BHK</td>\n",
              "      <td>Coomee</td>\n",
              "      <td>1056</td>\n",
              "      <td>2.0</td>\n",
              "      <td>1.0</td>\n",
              "      <td>39.07</td>\n",
              "    </tr>\n",
              "    <tr>\n",
              "      <th>1</th>\n",
              "      <td>Plot  Area</td>\n",
              "      <td>Ready To Move</td>\n",
              "      <td>Chikka Tirupathi</td>\n",
              "      <td>4 Bedroom</td>\n",
              "      <td>Theanmp</td>\n",
              "      <td>2600</td>\n",
              "      <td>5.0</td>\n",
              "      <td>3.0</td>\n",
              "      <td>120.00</td>\n",
              "    </tr>\n",
              "    <tr>\n",
              "      <th>2</th>\n",
              "      <td>Built-up  Area</td>\n",
              "      <td>Ready To Move</td>\n",
              "      <td>Uttarahalli</td>\n",
              "      <td>3 BHK</td>\n",
              "      <td>NaN</td>\n",
              "      <td>1440</td>\n",
              "      <td>2.0</td>\n",
              "      <td>3.0</td>\n",
              "      <td>62.00</td>\n",
              "    </tr>\n",
              "    <tr>\n",
              "      <th>3</th>\n",
              "      <td>Super built-up  Area</td>\n",
              "      <td>Ready To Move</td>\n",
              "      <td>Lingadheeranahalli</td>\n",
              "      <td>3 BHK</td>\n",
              "      <td>Soiewre</td>\n",
              "      <td>1521</td>\n",
              "      <td>3.0</td>\n",
              "      <td>1.0</td>\n",
              "      <td>95.00</td>\n",
              "    </tr>\n",
              "    <tr>\n",
              "      <th>4</th>\n",
              "      <td>Super built-up  Area</td>\n",
              "      <td>Ready To Move</td>\n",
              "      <td>Kothanur</td>\n",
              "      <td>2 BHK</td>\n",
              "      <td>NaN</td>\n",
              "      <td>1200</td>\n",
              "      <td>2.0</td>\n",
              "      <td>1.0</td>\n",
              "      <td>51.00</td>\n",
              "    </tr>\n",
              "  </tbody>\n",
              "</table>\n",
              "</div>"
            ],
            "text/plain": [
              "              area_type   availability  ... balcony   price\n",
              "0  Super built-up  Area         19-Dec  ...     1.0   39.07\n",
              "1            Plot  Area  Ready To Move  ...     3.0  120.00\n",
              "2        Built-up  Area  Ready To Move  ...     3.0   62.00\n",
              "3  Super built-up  Area  Ready To Move  ...     1.0   95.00\n",
              "4  Super built-up  Area  Ready To Move  ...     1.0   51.00\n",
              "\n",
              "[5 rows x 9 columns]"
            ]
          },
          "metadata": {
            "tags": []
          },
          "execution_count": 2
        }
      ]
    },
    {
      "cell_type": "code",
      "metadata": {
        "colab": {
          "base_uri": "https://localhost:8080/"
        },
        "id": "hukBEKJLnJrj",
        "outputId": "ac11baab-b8de-4129-f421-1180022ccc9a"
      },
      "source": [
        "df.shape"
      ],
      "execution_count": 3,
      "outputs": [
        {
          "output_type": "execute_result",
          "data": {
            "text/plain": [
              "(13320, 9)"
            ]
          },
          "metadata": {
            "tags": []
          },
          "execution_count": 3
        }
      ]
    },
    {
      "cell_type": "code",
      "metadata": {
        "colab": {
          "base_uri": "https://localhost:8080/"
        },
        "id": "jeALZ2ZqrgjW",
        "outputId": "5c6b7406-6efb-4e99-fca8-390d486db057"
      },
      "source": [
        "df.info()"
      ],
      "execution_count": 4,
      "outputs": [
        {
          "output_type": "stream",
          "text": [
            "<class 'pandas.core.frame.DataFrame'>\n",
            "RangeIndex: 13320 entries, 0 to 13319\n",
            "Data columns (total 9 columns):\n",
            " #   Column        Non-Null Count  Dtype  \n",
            "---  ------        --------------  -----  \n",
            " 0   area_type     13320 non-null  object \n",
            " 1   availability  13320 non-null  object \n",
            " 2   location      13319 non-null  object \n",
            " 3   size          13304 non-null  object \n",
            " 4   society       7818 non-null   object \n",
            " 5   total_sqft    13320 non-null  object \n",
            " 6   bath          13247 non-null  float64\n",
            " 7   balcony       12711 non-null  float64\n",
            " 8   price         13320 non-null  float64\n",
            "dtypes: float64(3), object(6)\n",
            "memory usage: 936.7+ KB\n"
          ],
          "name": "stdout"
        }
      ]
    },
    {
      "cell_type": "markdown",
      "metadata": {
        "id": "wvnG5aRimN2H"
      },
      "source": [
        "##**Preprocessing**"
      ]
    },
    {
      "cell_type": "markdown",
      "metadata": {
        "id": "2YuswSKnnQOk"
      },
      "source": [
        "###**Drop unnecessary features**\r\n",
        "- Availability : it is not needed\r\n",
        "- Society : too many categories and missing values(2689 from 1320 data)"
      ]
    },
    {
      "cell_type": "code",
      "metadata": {
        "colab": {
          "base_uri": "https://localhost:8080/",
          "height": 206
        },
        "id": "xmea72K0nAnP",
        "outputId": "137bcd91-8fbd-4137-a79e-bc3b03a55368"
      },
      "source": [
        "df2 = df.drop(['availability','society'], axis=1)\r\n",
        "df2.head()"
      ],
      "execution_count": 5,
      "outputs": [
        {
          "output_type": "execute_result",
          "data": {
            "text/html": [
              "<div>\n",
              "<style scoped>\n",
              "    .dataframe tbody tr th:only-of-type {\n",
              "        vertical-align: middle;\n",
              "    }\n",
              "\n",
              "    .dataframe tbody tr th {\n",
              "        vertical-align: top;\n",
              "    }\n",
              "\n",
              "    .dataframe thead th {\n",
              "        text-align: right;\n",
              "    }\n",
              "</style>\n",
              "<table border=\"1\" class=\"dataframe\">\n",
              "  <thead>\n",
              "    <tr style=\"text-align: right;\">\n",
              "      <th></th>\n",
              "      <th>area_type</th>\n",
              "      <th>location</th>\n",
              "      <th>size</th>\n",
              "      <th>total_sqft</th>\n",
              "      <th>bath</th>\n",
              "      <th>balcony</th>\n",
              "      <th>price</th>\n",
              "    </tr>\n",
              "  </thead>\n",
              "  <tbody>\n",
              "    <tr>\n",
              "      <th>0</th>\n",
              "      <td>Super built-up  Area</td>\n",
              "      <td>Electronic City Phase II</td>\n",
              "      <td>2 BHK</td>\n",
              "      <td>1056</td>\n",
              "      <td>2.0</td>\n",
              "      <td>1.0</td>\n",
              "      <td>39.07</td>\n",
              "    </tr>\n",
              "    <tr>\n",
              "      <th>1</th>\n",
              "      <td>Plot  Area</td>\n",
              "      <td>Chikka Tirupathi</td>\n",
              "      <td>4 Bedroom</td>\n",
              "      <td>2600</td>\n",
              "      <td>5.0</td>\n",
              "      <td>3.0</td>\n",
              "      <td>120.00</td>\n",
              "    </tr>\n",
              "    <tr>\n",
              "      <th>2</th>\n",
              "      <td>Built-up  Area</td>\n",
              "      <td>Uttarahalli</td>\n",
              "      <td>3 BHK</td>\n",
              "      <td>1440</td>\n",
              "      <td>2.0</td>\n",
              "      <td>3.0</td>\n",
              "      <td>62.00</td>\n",
              "    </tr>\n",
              "    <tr>\n",
              "      <th>3</th>\n",
              "      <td>Super built-up  Area</td>\n",
              "      <td>Lingadheeranahalli</td>\n",
              "      <td>3 BHK</td>\n",
              "      <td>1521</td>\n",
              "      <td>3.0</td>\n",
              "      <td>1.0</td>\n",
              "      <td>95.00</td>\n",
              "    </tr>\n",
              "    <tr>\n",
              "      <th>4</th>\n",
              "      <td>Super built-up  Area</td>\n",
              "      <td>Kothanur</td>\n",
              "      <td>2 BHK</td>\n",
              "      <td>1200</td>\n",
              "      <td>2.0</td>\n",
              "      <td>1.0</td>\n",
              "      <td>51.00</td>\n",
              "    </tr>\n",
              "  </tbody>\n",
              "</table>\n",
              "</div>"
            ],
            "text/plain": [
              "              area_type                  location  ... balcony   price\n",
              "0  Super built-up  Area  Electronic City Phase II  ...     1.0   39.07\n",
              "1            Plot  Area          Chikka Tirupathi  ...     3.0  120.00\n",
              "2        Built-up  Area               Uttarahalli  ...     3.0   62.00\n",
              "3  Super built-up  Area        Lingadheeranahalli  ...     1.0   95.00\n",
              "4  Super built-up  Area                  Kothanur  ...     1.0   51.00\n",
              "\n",
              "[5 rows x 7 columns]"
            ]
          },
          "metadata": {
            "tags": []
          },
          "execution_count": 5
        }
      ]
    },
    {
      "cell_type": "markdown",
      "metadata": {
        "id": "pDvxQcYVqf2z"
      },
      "source": [
        "###**Missing value handling**"
      ]
    },
    {
      "cell_type": "code",
      "metadata": {
        "colab": {
          "base_uri": "https://localhost:8080/"
        },
        "id": "Qc5hGCCToJec",
        "outputId": "2902b11d-816d-434a-b706-937a8a6d52a2"
      },
      "source": [
        "df2.isna().sum()"
      ],
      "execution_count": 6,
      "outputs": [
        {
          "output_type": "execute_result",
          "data": {
            "text/plain": [
              "area_type       0\n",
              "location        1\n",
              "size           16\n",
              "total_sqft      0\n",
              "bath           73\n",
              "balcony       609\n",
              "price           0\n",
              "dtype: int64"
            ]
          },
          "metadata": {
            "tags": []
          },
          "execution_count": 6
        }
      ]
    },
    {
      "cell_type": "code",
      "metadata": {
        "colab": {
          "base_uri": "https://localhost:8080/"
        },
        "id": "nNfsmPyoclqR",
        "outputId": "121460b1-9865-4b0d-aba9-deffc4e7d29c"
      },
      "source": [
        "df2.location = df2.location.fillna(df2.location.mode()[0])\r\n",
        "df2.bath = df2.bath.fillna(df2.bath.median())\r\n",
        "df2.balcony = df2.balcony.fillna(df2.balcony.median())\r\n",
        "\r\n",
        "df2.isna().sum()"
      ],
      "execution_count": 7,
      "outputs": [
        {
          "output_type": "execute_result",
          "data": {
            "text/plain": [
              "area_type      0\n",
              "location       0\n",
              "size          16\n",
              "total_sqft     0\n",
              "bath           0\n",
              "balcony        0\n",
              "price          0\n",
              "dtype: int64"
            ]
          },
          "metadata": {
            "tags": []
          },
          "execution_count": 7
        }
      ]
    },
    {
      "cell_type": "markdown",
      "metadata": {
        "id": "NzheuXEMqowW"
      },
      "source": [
        "**Handling String Input**"
      ]
    },
    {
      "cell_type": "code",
      "metadata": {
        "id": "wzUrclUySXAL"
      },
      "source": [
        "def string_concat(x):\r\n",
        "  token = x.split()\r\n",
        "  token = ' '.join(token)\r\n",
        "  return token\r\n",
        "\r\n",
        "df2.area_type = df2.area_type.apply(string_concat)\r\n",
        "df2.location = df2.location.apply(string_concat)"
      ],
      "execution_count": 8,
      "outputs": []
    },
    {
      "cell_type": "markdown",
      "metadata": {
        "id": "IvFy5oEMq6QW"
      },
      "source": [
        "**Handling Size**"
      ]
    },
    {
      "cell_type": "code",
      "metadata": {
        "colab": {
          "base_uri": "https://localhost:8080/"
        },
        "id": "LNRrl-HRjeR4",
        "outputId": "9097a271-3937-45b1-f223-f61a9c23ffe3"
      },
      "source": [
        "df2['size'].unique()"
      ],
      "execution_count": 9,
      "outputs": [
        {
          "output_type": "execute_result",
          "data": {
            "text/plain": [
              "array(['2 BHK', '4 Bedroom', '3 BHK', '4 BHK', '6 Bedroom', '3 Bedroom',\n",
              "       '1 BHK', '1 RK', '1 Bedroom', '8 Bedroom', '2 Bedroom',\n",
              "       '7 Bedroom', '5 BHK', '7 BHK', '6 BHK', '5 Bedroom', '11 BHK',\n",
              "       '9 BHK', nan, '9 Bedroom', '27 BHK', '10 Bedroom', '11 Bedroom',\n",
              "       '10 BHK', '19 BHK', '16 BHK', '43 Bedroom', '14 BHK', '8 BHK',\n",
              "       '12 Bedroom', '13 BHK', '18 Bedroom'], dtype=object)"
            ]
          },
          "metadata": {
            "tags": []
          },
          "execution_count": 9
        }
      ]
    },
    {
      "cell_type": "code",
      "metadata": {
        "id": "vzlSy0Ror5EN"
      },
      "source": [
        "df2_tmp = df2[df2['size'].isnull()]"
      ],
      "execution_count": 10,
      "outputs": []
    },
    {
      "cell_type": "code",
      "metadata": {
        "colab": {
          "base_uri": "https://localhost:8080/",
          "height": 206
        },
        "id": "ZqZBAXlTqyNW",
        "outputId": "81c1646e-df26-4cf3-b0f9-c3a21dd8c315"
      },
      "source": [
        "df2 = df2[df2['size'].notnull()]\r\n",
        "df2['size'] = df2['size'].apply(lambda x : int(x.split()[0]))\r\n",
        "df2.head()"
      ],
      "execution_count": 11,
      "outputs": [
        {
          "output_type": "execute_result",
          "data": {
            "text/html": [
              "<div>\n",
              "<style scoped>\n",
              "    .dataframe tbody tr th:only-of-type {\n",
              "        vertical-align: middle;\n",
              "    }\n",
              "\n",
              "    .dataframe tbody tr th {\n",
              "        vertical-align: top;\n",
              "    }\n",
              "\n",
              "    .dataframe thead th {\n",
              "        text-align: right;\n",
              "    }\n",
              "</style>\n",
              "<table border=\"1\" class=\"dataframe\">\n",
              "  <thead>\n",
              "    <tr style=\"text-align: right;\">\n",
              "      <th></th>\n",
              "      <th>area_type</th>\n",
              "      <th>location</th>\n",
              "      <th>size</th>\n",
              "      <th>total_sqft</th>\n",
              "      <th>bath</th>\n",
              "      <th>balcony</th>\n",
              "      <th>price</th>\n",
              "    </tr>\n",
              "  </thead>\n",
              "  <tbody>\n",
              "    <tr>\n",
              "      <th>0</th>\n",
              "      <td>Super built-up Area</td>\n",
              "      <td>Electronic City Phase II</td>\n",
              "      <td>2</td>\n",
              "      <td>1056</td>\n",
              "      <td>2.0</td>\n",
              "      <td>1.0</td>\n",
              "      <td>39.07</td>\n",
              "    </tr>\n",
              "    <tr>\n",
              "      <th>1</th>\n",
              "      <td>Plot Area</td>\n",
              "      <td>Chikka Tirupathi</td>\n",
              "      <td>4</td>\n",
              "      <td>2600</td>\n",
              "      <td>5.0</td>\n",
              "      <td>3.0</td>\n",
              "      <td>120.00</td>\n",
              "    </tr>\n",
              "    <tr>\n",
              "      <th>2</th>\n",
              "      <td>Built-up Area</td>\n",
              "      <td>Uttarahalli</td>\n",
              "      <td>3</td>\n",
              "      <td>1440</td>\n",
              "      <td>2.0</td>\n",
              "      <td>3.0</td>\n",
              "      <td>62.00</td>\n",
              "    </tr>\n",
              "    <tr>\n",
              "      <th>3</th>\n",
              "      <td>Super built-up Area</td>\n",
              "      <td>Lingadheeranahalli</td>\n",
              "      <td>3</td>\n",
              "      <td>1521</td>\n",
              "      <td>3.0</td>\n",
              "      <td>1.0</td>\n",
              "      <td>95.00</td>\n",
              "    </tr>\n",
              "    <tr>\n",
              "      <th>4</th>\n",
              "      <td>Super built-up Area</td>\n",
              "      <td>Kothanur</td>\n",
              "      <td>2</td>\n",
              "      <td>1200</td>\n",
              "      <td>2.0</td>\n",
              "      <td>1.0</td>\n",
              "      <td>51.00</td>\n",
              "    </tr>\n",
              "  </tbody>\n",
              "</table>\n",
              "</div>"
            ],
            "text/plain": [
              "             area_type                  location  size  ... bath  balcony   price\n",
              "0  Super built-up Area  Electronic City Phase II     2  ...  2.0      1.0   39.07\n",
              "1            Plot Area          Chikka Tirupathi     4  ...  5.0      3.0  120.00\n",
              "2        Built-up Area               Uttarahalli     3  ...  2.0      3.0   62.00\n",
              "3  Super built-up Area        Lingadheeranahalli     3  ...  3.0      1.0   95.00\n",
              "4  Super built-up Area                  Kothanur     2  ...  2.0      1.0   51.00\n",
              "\n",
              "[5 rows x 7 columns]"
            ]
          },
          "metadata": {
            "tags": []
          },
          "execution_count": 11
        }
      ]
    },
    {
      "cell_type": "code",
      "metadata": {
        "id": "jP7zX99WrNbo"
      },
      "source": [
        "df2_tmp['size'] = df2['size'].median()"
      ],
      "execution_count": 12,
      "outputs": []
    },
    {
      "cell_type": "code",
      "metadata": {
        "colab": {
          "base_uri": "https://localhost:8080/",
          "height": 206
        },
        "id": "fIr1cdx5rpar",
        "outputId": "608bd4a3-0916-4848-c5a3-ebdb9e24d44e"
      },
      "source": [
        "df2 = pd.concat([df2, df2_tmp], ignore_index=True)\r\n",
        "df2.head()"
      ],
      "execution_count": 13,
      "outputs": [
        {
          "output_type": "execute_result",
          "data": {
            "text/html": [
              "<div>\n",
              "<style scoped>\n",
              "    .dataframe tbody tr th:only-of-type {\n",
              "        vertical-align: middle;\n",
              "    }\n",
              "\n",
              "    .dataframe tbody tr th {\n",
              "        vertical-align: top;\n",
              "    }\n",
              "\n",
              "    .dataframe thead th {\n",
              "        text-align: right;\n",
              "    }\n",
              "</style>\n",
              "<table border=\"1\" class=\"dataframe\">\n",
              "  <thead>\n",
              "    <tr style=\"text-align: right;\">\n",
              "      <th></th>\n",
              "      <th>area_type</th>\n",
              "      <th>location</th>\n",
              "      <th>size</th>\n",
              "      <th>total_sqft</th>\n",
              "      <th>bath</th>\n",
              "      <th>balcony</th>\n",
              "      <th>price</th>\n",
              "    </tr>\n",
              "  </thead>\n",
              "  <tbody>\n",
              "    <tr>\n",
              "      <th>0</th>\n",
              "      <td>Super built-up Area</td>\n",
              "      <td>Electronic City Phase II</td>\n",
              "      <td>2.0</td>\n",
              "      <td>1056</td>\n",
              "      <td>2.0</td>\n",
              "      <td>1.0</td>\n",
              "      <td>39.07</td>\n",
              "    </tr>\n",
              "    <tr>\n",
              "      <th>1</th>\n",
              "      <td>Plot Area</td>\n",
              "      <td>Chikka Tirupathi</td>\n",
              "      <td>4.0</td>\n",
              "      <td>2600</td>\n",
              "      <td>5.0</td>\n",
              "      <td>3.0</td>\n",
              "      <td>120.00</td>\n",
              "    </tr>\n",
              "    <tr>\n",
              "      <th>2</th>\n",
              "      <td>Built-up Area</td>\n",
              "      <td>Uttarahalli</td>\n",
              "      <td>3.0</td>\n",
              "      <td>1440</td>\n",
              "      <td>2.0</td>\n",
              "      <td>3.0</td>\n",
              "      <td>62.00</td>\n",
              "    </tr>\n",
              "    <tr>\n",
              "      <th>3</th>\n",
              "      <td>Super built-up Area</td>\n",
              "      <td>Lingadheeranahalli</td>\n",
              "      <td>3.0</td>\n",
              "      <td>1521</td>\n",
              "      <td>3.0</td>\n",
              "      <td>1.0</td>\n",
              "      <td>95.00</td>\n",
              "    </tr>\n",
              "    <tr>\n",
              "      <th>4</th>\n",
              "      <td>Super built-up Area</td>\n",
              "      <td>Kothanur</td>\n",
              "      <td>2.0</td>\n",
              "      <td>1200</td>\n",
              "      <td>2.0</td>\n",
              "      <td>1.0</td>\n",
              "      <td>51.00</td>\n",
              "    </tr>\n",
              "  </tbody>\n",
              "</table>\n",
              "</div>"
            ],
            "text/plain": [
              "             area_type                  location  size  ... bath  balcony   price\n",
              "0  Super built-up Area  Electronic City Phase II   2.0  ...  2.0      1.0   39.07\n",
              "1            Plot Area          Chikka Tirupathi   4.0  ...  5.0      3.0  120.00\n",
              "2        Built-up Area               Uttarahalli   3.0  ...  2.0      3.0   62.00\n",
              "3  Super built-up Area        Lingadheeranahalli   3.0  ...  3.0      1.0   95.00\n",
              "4  Super built-up Area                  Kothanur   2.0  ...  2.0      1.0   51.00\n",
              "\n",
              "[5 rows x 7 columns]"
            ]
          },
          "metadata": {
            "tags": []
          },
          "execution_count": 13
        }
      ]
    },
    {
      "cell_type": "code",
      "metadata": {
        "colab": {
          "base_uri": "https://localhost:8080/"
        },
        "id": "N5aF9knts3gl",
        "outputId": "71a7014b-10ea-4d07-89b8-974e783c60c7"
      },
      "source": [
        "df2.isna().sum()"
      ],
      "execution_count": 14,
      "outputs": [
        {
          "output_type": "execute_result",
          "data": {
            "text/plain": [
              "area_type     0\n",
              "location      0\n",
              "size          0\n",
              "total_sqft    0\n",
              "bath          0\n",
              "balcony       0\n",
              "price         0\n",
              "dtype: int64"
            ]
          },
          "metadata": {
            "tags": []
          },
          "execution_count": 14
        }
      ]
    },
    {
      "cell_type": "code",
      "metadata": {
        "id": "0Yj3tuVF-7Bs"
      },
      "source": [
        "df2 = df2[df2['size']<21]\r\n",
        "df2.reset_index(inplace=True)"
      ],
      "execution_count": 15,
      "outputs": []
    },
    {
      "cell_type": "markdown",
      "metadata": {
        "id": "h3lVz-yStDps"
      },
      "source": [
        "###**Handling total_sqft**"
      ]
    },
    {
      "cell_type": "code",
      "metadata": {
        "id": "gnRr8esWtDOK"
      },
      "source": [
        "#function to check all not float data\r\n",
        "def check_float(x):\r\n",
        "  try:\r\n",
        "    float(x)\r\n",
        "  except:\r\n",
        "    return False\r\n",
        "  return True"
      ],
      "execution_count": 16,
      "outputs": []
    },
    {
      "cell_type": "code",
      "metadata": {
        "colab": {
          "base_uri": "https://localhost:8080/",
          "height": 1000
        },
        "id": "UMfKLQ4Cs8Os",
        "outputId": "c5c1d0c3-d609-49ef-df3a-079f2e5af5fc"
      },
      "source": [
        "df2[~df2['total_sqft'].apply(check_float)].head(50)\r\n",
        "#pattern 1234, 1234 - 4567, 34.46Sq. Meter, 4125Perch, 1100Sq. Yards, 30Acres\t"
      ],
      "execution_count": 17,
      "outputs": [
        {
          "output_type": "execute_result",
          "data": {
            "text/html": [
              "<div>\n",
              "<style scoped>\n",
              "    .dataframe tbody tr th:only-of-type {\n",
              "        vertical-align: middle;\n",
              "    }\n",
              "\n",
              "    .dataframe tbody tr th {\n",
              "        vertical-align: top;\n",
              "    }\n",
              "\n",
              "    .dataframe thead th {\n",
              "        text-align: right;\n",
              "    }\n",
              "</style>\n",
              "<table border=\"1\" class=\"dataframe\">\n",
              "  <thead>\n",
              "    <tr style=\"text-align: right;\">\n",
              "      <th></th>\n",
              "      <th>index</th>\n",
              "      <th>area_type</th>\n",
              "      <th>location</th>\n",
              "      <th>size</th>\n",
              "      <th>total_sqft</th>\n",
              "      <th>bath</th>\n",
              "      <th>balcony</th>\n",
              "      <th>price</th>\n",
              "    </tr>\n",
              "  </thead>\n",
              "  <tbody>\n",
              "    <tr>\n",
              "      <th>30</th>\n",
              "      <td>30</td>\n",
              "      <td>Super built-up Area</td>\n",
              "      <td>Yelahanka</td>\n",
              "      <td>4.0</td>\n",
              "      <td>2100 - 2850</td>\n",
              "      <td>4.0</td>\n",
              "      <td>0.0</td>\n",
              "      <td>186.000</td>\n",
              "    </tr>\n",
              "    <tr>\n",
              "      <th>56</th>\n",
              "      <td>56</td>\n",
              "      <td>Built-up Area</td>\n",
              "      <td>Devanahalli</td>\n",
              "      <td>4.0</td>\n",
              "      <td>3010 - 3410</td>\n",
              "      <td>2.0</td>\n",
              "      <td>2.0</td>\n",
              "      <td>192.000</td>\n",
              "    </tr>\n",
              "    <tr>\n",
              "      <th>81</th>\n",
              "      <td>81</td>\n",
              "      <td>Built-up Area</td>\n",
              "      <td>Hennur Road</td>\n",
              "      <td>4.0</td>\n",
              "      <td>2957 - 3450</td>\n",
              "      <td>2.0</td>\n",
              "      <td>2.0</td>\n",
              "      <td>224.500</td>\n",
              "    </tr>\n",
              "    <tr>\n",
              "      <th>122</th>\n",
              "      <td>122</td>\n",
              "      <td>Super built-up Area</td>\n",
              "      <td>Hebbal</td>\n",
              "      <td>4.0</td>\n",
              "      <td>3067 - 8156</td>\n",
              "      <td>4.0</td>\n",
              "      <td>0.0</td>\n",
              "      <td>477.000</td>\n",
              "    </tr>\n",
              "    <tr>\n",
              "      <th>137</th>\n",
              "      <td>137</td>\n",
              "      <td>Super built-up Area</td>\n",
              "      <td>8th Phase JP Nagar</td>\n",
              "      <td>2.0</td>\n",
              "      <td>1042 - 1105</td>\n",
              "      <td>2.0</td>\n",
              "      <td>0.0</td>\n",
              "      <td>54.005</td>\n",
              "    </tr>\n",
              "    <tr>\n",
              "      <th>165</th>\n",
              "      <td>165</td>\n",
              "      <td>Super built-up Area</td>\n",
              "      <td>Sarjapur</td>\n",
              "      <td>2.0</td>\n",
              "      <td>1145 - 1340</td>\n",
              "      <td>2.0</td>\n",
              "      <td>0.0</td>\n",
              "      <td>43.490</td>\n",
              "    </tr>\n",
              "    <tr>\n",
              "      <th>188</th>\n",
              "      <td>188</td>\n",
              "      <td>Super built-up Area</td>\n",
              "      <td>KR Puram</td>\n",
              "      <td>2.0</td>\n",
              "      <td>1015 - 1540</td>\n",
              "      <td>2.0</td>\n",
              "      <td>0.0</td>\n",
              "      <td>56.800</td>\n",
              "    </tr>\n",
              "    <tr>\n",
              "      <th>224</th>\n",
              "      <td>224</td>\n",
              "      <td>Super built-up Area</td>\n",
              "      <td>Devanahalli</td>\n",
              "      <td>3.0</td>\n",
              "      <td>1520 - 1740</td>\n",
              "      <td>2.0</td>\n",
              "      <td>2.0</td>\n",
              "      <td>74.820</td>\n",
              "    </tr>\n",
              "    <tr>\n",
              "      <th>410</th>\n",
              "      <td>410</td>\n",
              "      <td>Super built-up Area</td>\n",
              "      <td>Kengeri</td>\n",
              "      <td>1.0</td>\n",
              "      <td>34.46Sq. Meter</td>\n",
              "      <td>1.0</td>\n",
              "      <td>0.0</td>\n",
              "      <td>18.500</td>\n",
              "    </tr>\n",
              "    <tr>\n",
              "      <th>549</th>\n",
              "      <td>549</td>\n",
              "      <td>Super built-up Area</td>\n",
              "      <td>Hennur Road</td>\n",
              "      <td>2.0</td>\n",
              "      <td>1195 - 1440</td>\n",
              "      <td>2.0</td>\n",
              "      <td>0.0</td>\n",
              "      <td>63.770</td>\n",
              "    </tr>\n",
              "    <tr>\n",
              "      <th>647</th>\n",
              "      <td>647</td>\n",
              "      <td>Built-up Area</td>\n",
              "      <td>Arekere</td>\n",
              "      <td>9.0</td>\n",
              "      <td>4125Perch</td>\n",
              "      <td>9.0</td>\n",
              "      <td>2.0</td>\n",
              "      <td>265.000</td>\n",
              "    </tr>\n",
              "    <tr>\n",
              "      <th>660</th>\n",
              "      <td>660</td>\n",
              "      <td>Super built-up Area</td>\n",
              "      <td>Yelahanka</td>\n",
              "      <td>2.0</td>\n",
              "      <td>1120 - 1145</td>\n",
              "      <td>2.0</td>\n",
              "      <td>0.0</td>\n",
              "      <td>48.130</td>\n",
              "    </tr>\n",
              "    <tr>\n",
              "      <th>668</th>\n",
              "      <td>668</td>\n",
              "      <td>Super built-up Area</td>\n",
              "      <td>JP Nagar</td>\n",
              "      <td>5.0</td>\n",
              "      <td>4400 - 6640</td>\n",
              "      <td>2.0</td>\n",
              "      <td>2.0</td>\n",
              "      <td>375.000</td>\n",
              "    </tr>\n",
              "    <tr>\n",
              "      <th>671</th>\n",
              "      <td>671</td>\n",
              "      <td>Built-up Area</td>\n",
              "      <td>Bettahalsoor</td>\n",
              "      <td>4.0</td>\n",
              "      <td>3090 - 5002</td>\n",
              "      <td>4.0</td>\n",
              "      <td>0.0</td>\n",
              "      <td>445.000</td>\n",
              "    </tr>\n",
              "    <tr>\n",
              "      <th>701</th>\n",
              "      <td>701</td>\n",
              "      <td>Super built-up Area</td>\n",
              "      <td>JP Nagar</td>\n",
              "      <td>5.0</td>\n",
              "      <td>4400 - 6800</td>\n",
              "      <td>2.0</td>\n",
              "      <td>2.0</td>\n",
              "      <td>548.500</td>\n",
              "    </tr>\n",
              "    <tr>\n",
              "      <th>771</th>\n",
              "      <td>771</td>\n",
              "      <td>Super built-up Area</td>\n",
              "      <td>Banashankari Stage VI</td>\n",
              "      <td>2.0</td>\n",
              "      <td>1160 - 1195</td>\n",
              "      <td>2.0</td>\n",
              "      <td>0.0</td>\n",
              "      <td>59.935</td>\n",
              "    </tr>\n",
              "    <tr>\n",
              "      <th>774</th>\n",
              "      <td>774</td>\n",
              "      <td>Built-up Area</td>\n",
              "      <td>Basavanagara</td>\n",
              "      <td>1.0</td>\n",
              "      <td>1000Sq. Meter</td>\n",
              "      <td>2.0</td>\n",
              "      <td>1.0</td>\n",
              "      <td>93.000</td>\n",
              "    </tr>\n",
              "    <tr>\n",
              "      <th>800</th>\n",
              "      <td>800</td>\n",
              "      <td>Super built-up Area</td>\n",
              "      <td>JP Nagar</td>\n",
              "      <td>4.0</td>\n",
              "      <td>4000 - 5249</td>\n",
              "      <td>2.0</td>\n",
              "      <td>2.0</td>\n",
              "      <td>453.000</td>\n",
              "    </tr>\n",
              "    <tr>\n",
              "      <th>849</th>\n",
              "      <td>849</td>\n",
              "      <td>Super built-up Area</td>\n",
              "      <td>Bannerghatta Road</td>\n",
              "      <td>2.0</td>\n",
              "      <td>1115 - 1130</td>\n",
              "      <td>2.0</td>\n",
              "      <td>0.0</td>\n",
              "      <td>58.935</td>\n",
              "    </tr>\n",
              "    <tr>\n",
              "      <th>871</th>\n",
              "      <td>871</td>\n",
              "      <td>Super built-up Area</td>\n",
              "      <td>Singapura Village</td>\n",
              "      <td>2.0</td>\n",
              "      <td>1100Sq. Yards</td>\n",
              "      <td>2.0</td>\n",
              "      <td>2.0</td>\n",
              "      <td>45.000</td>\n",
              "    </tr>\n",
              "    <tr>\n",
              "      <th>885</th>\n",
              "      <td>885</td>\n",
              "      <td>Super built-up Area</td>\n",
              "      <td>Chandapura</td>\n",
              "      <td>1.0</td>\n",
              "      <td>520 - 645</td>\n",
              "      <td>1.0</td>\n",
              "      <td>0.0</td>\n",
              "      <td>15.135</td>\n",
              "    </tr>\n",
              "    <tr>\n",
              "      <th>926</th>\n",
              "      <td>926</td>\n",
              "      <td>Super built-up Area</td>\n",
              "      <td>Thanisandra</td>\n",
              "      <td>2.0</td>\n",
              "      <td>1000 - 1285</td>\n",
              "      <td>2.0</td>\n",
              "      <td>0.0</td>\n",
              "      <td>43.415</td>\n",
              "    </tr>\n",
              "    <tr>\n",
              "      <th>940</th>\n",
              "      <td>940</td>\n",
              "      <td>Super built-up Area</td>\n",
              "      <td>Whitefield</td>\n",
              "      <td>4.0</td>\n",
              "      <td>3606 - 5091</td>\n",
              "      <td>2.0</td>\n",
              "      <td>2.0</td>\n",
              "      <td>304.000</td>\n",
              "    </tr>\n",
              "    <tr>\n",
              "      <th>958</th>\n",
              "      <td>958</td>\n",
              "      <td>Super built-up Area</td>\n",
              "      <td>Kammasandra</td>\n",
              "      <td>1.0</td>\n",
              "      <td>650 - 665</td>\n",
              "      <td>1.0</td>\n",
              "      <td>0.0</td>\n",
              "      <td>18.410</td>\n",
              "    </tr>\n",
              "    <tr>\n",
              "      <th>989</th>\n",
              "      <td>989</td>\n",
              "      <td>Super built-up Area</td>\n",
              "      <td>Sarjapur</td>\n",
              "      <td>1.0</td>\n",
              "      <td>633 - 666</td>\n",
              "      <td>1.0</td>\n",
              "      <td>0.0</td>\n",
              "      <td>17.535</td>\n",
              "    </tr>\n",
              "    <tr>\n",
              "      <th>1018</th>\n",
              "      <td>1018</td>\n",
              "      <td>Plot Area</td>\n",
              "      <td>Marathi Layout</td>\n",
              "      <td>1.0</td>\n",
              "      <td>5.31Acres</td>\n",
              "      <td>1.0</td>\n",
              "      <td>0.0</td>\n",
              "      <td>110.000</td>\n",
              "    </tr>\n",
              "    <tr>\n",
              "      <th>1085</th>\n",
              "      <td>1085</td>\n",
              "      <td>Plot Area</td>\n",
              "      <td>Narasapura</td>\n",
              "      <td>2.0</td>\n",
              "      <td>30Acres</td>\n",
              "      <td>2.0</td>\n",
              "      <td>2.0</td>\n",
              "      <td>29.500</td>\n",
              "    </tr>\n",
              "    <tr>\n",
              "      <th>1177</th>\n",
              "      <td>1177</td>\n",
              "      <td>Super built-up Area</td>\n",
              "      <td>Yelahanka</td>\n",
              "      <td>3.0</td>\n",
              "      <td>1445 - 1455</td>\n",
              "      <td>3.0</td>\n",
              "      <td>0.0</td>\n",
              "      <td>65.255</td>\n",
              "    </tr>\n",
              "    <tr>\n",
              "      <th>1182</th>\n",
              "      <td>1182</td>\n",
              "      <td>Super built-up Area</td>\n",
              "      <td>Magadi Road</td>\n",
              "      <td>2.0</td>\n",
              "      <td>884 - 1116</td>\n",
              "      <td>2.0</td>\n",
              "      <td>0.0</td>\n",
              "      <td>46.500</td>\n",
              "    </tr>\n",
              "    <tr>\n",
              "      <th>1186</th>\n",
              "      <td>1186</td>\n",
              "      <td>Super built-up Area</td>\n",
              "      <td>Thanisandra</td>\n",
              "      <td>2.0</td>\n",
              "      <td>850 - 1093</td>\n",
              "      <td>2.0</td>\n",
              "      <td>0.0</td>\n",
              "      <td>36.435</td>\n",
              "    </tr>\n",
              "    <tr>\n",
              "      <th>1266</th>\n",
              "      <td>1266</td>\n",
              "      <td>Super built-up Area</td>\n",
              "      <td>Yelahanka</td>\n",
              "      <td>3.0</td>\n",
              "      <td>1440 - 1884</td>\n",
              "      <td>2.0</td>\n",
              "      <td>2.0</td>\n",
              "      <td>67.980</td>\n",
              "    </tr>\n",
              "    <tr>\n",
              "      <th>1399</th>\n",
              "      <td>1399</td>\n",
              "      <td>Super built-up Area</td>\n",
              "      <td>Chamrajpet</td>\n",
              "      <td>9.0</td>\n",
              "      <td>716Sq. Meter</td>\n",
              "      <td>9.0</td>\n",
              "      <td>1.0</td>\n",
              "      <td>296.000</td>\n",
              "    </tr>\n",
              "    <tr>\n",
              "      <th>1483</th>\n",
              "      <td>1483</td>\n",
              "      <td>Carpet Area</td>\n",
              "      <td>Hebbal</td>\n",
              "      <td>2.0</td>\n",
              "      <td>547.34 - 827.31</td>\n",
              "      <td>2.0</td>\n",
              "      <td>0.0</td>\n",
              "      <td>42.720</td>\n",
              "    </tr>\n",
              "    <tr>\n",
              "      <th>1541</th>\n",
              "      <td>1541</td>\n",
              "      <td>Super built-up Area</td>\n",
              "      <td>Sarjapur Road</td>\n",
              "      <td>1.0</td>\n",
              "      <td>580 - 650</td>\n",
              "      <td>1.0</td>\n",
              "      <td>0.0</td>\n",
              "      <td>17.835</td>\n",
              "    </tr>\n",
              "    <tr>\n",
              "      <th>1613</th>\n",
              "      <td>1613</td>\n",
              "      <td>Super built-up Area</td>\n",
              "      <td>Sarjapur Road</td>\n",
              "      <td>4.0</td>\n",
              "      <td>3425 - 3435</td>\n",
              "      <td>6.0</td>\n",
              "      <td>0.0</td>\n",
              "      <td>228.500</td>\n",
              "    </tr>\n",
              "    <tr>\n",
              "      <th>1642</th>\n",
              "      <td>1642</td>\n",
              "      <td>Super built-up Area</td>\n",
              "      <td>Talaghattapura</td>\n",
              "      <td>3.0</td>\n",
              "      <td>1804 - 2273</td>\n",
              "      <td>3.0</td>\n",
              "      <td>0.0</td>\n",
              "      <td>120.000</td>\n",
              "    </tr>\n",
              "    <tr>\n",
              "      <th>1682</th>\n",
              "      <td>1682</td>\n",
              "      <td>Super built-up Area</td>\n",
              "      <td>Old Madras Road</td>\n",
              "      <td>4.0</td>\n",
              "      <td>3630 - 3800</td>\n",
              "      <td>6.0</td>\n",
              "      <td>0.0</td>\n",
              "      <td>224.500</td>\n",
              "    </tr>\n",
              "    <tr>\n",
              "      <th>1685</th>\n",
              "      <td>1685</td>\n",
              "      <td>Super built-up Area</td>\n",
              "      <td>Whitefield</td>\n",
              "      <td>1.0</td>\n",
              "      <td>660 - 670</td>\n",
              "      <td>2.0</td>\n",
              "      <td>2.0</td>\n",
              "      <td>28.585</td>\n",
              "    </tr>\n",
              "    <tr>\n",
              "      <th>1693</th>\n",
              "      <td>1693</td>\n",
              "      <td>Super built-up Area</td>\n",
              "      <td>JP Nagar</td>\n",
              "      <td>4.0</td>\n",
              "      <td>4000 - 5249</td>\n",
              "      <td>4.0</td>\n",
              "      <td>0.0</td>\n",
              "      <td>314.500</td>\n",
              "    </tr>\n",
              "    <tr>\n",
              "      <th>1711</th>\n",
              "      <td>1711</td>\n",
              "      <td>Plot Area</td>\n",
              "      <td>Singena Agrahara</td>\n",
              "      <td>3.0</td>\n",
              "      <td>1500Sq. Meter</td>\n",
              "      <td>3.0</td>\n",
              "      <td>1.0</td>\n",
              "      <td>95.000</td>\n",
              "    </tr>\n",
              "    <tr>\n",
              "      <th>1722</th>\n",
              "      <td>1723</td>\n",
              "      <td>Super built-up Area</td>\n",
              "      <td>Thanisandra</td>\n",
              "      <td>1.0</td>\n",
              "      <td>620 - 933</td>\n",
              "      <td>2.0</td>\n",
              "      <td>2.0</td>\n",
              "      <td>48.145</td>\n",
              "    </tr>\n",
              "    <tr>\n",
              "      <th>1741</th>\n",
              "      <td>1742</td>\n",
              "      <td>Super built-up Area</td>\n",
              "      <td>Hosa Road</td>\n",
              "      <td>3.0</td>\n",
              "      <td>142.61Sq. Meter</td>\n",
              "      <td>3.0</td>\n",
              "      <td>1.0</td>\n",
              "      <td>115.000</td>\n",
              "    </tr>\n",
              "    <tr>\n",
              "      <th>1763</th>\n",
              "      <td>1764</td>\n",
              "      <td>Super built-up Area</td>\n",
              "      <td>Binny Pete</td>\n",
              "      <td>4.0</td>\n",
              "      <td>2695 - 2940</td>\n",
              "      <td>2.0</td>\n",
              "      <td>2.0</td>\n",
              "      <td>204.000</td>\n",
              "    </tr>\n",
              "    <tr>\n",
              "      <th>1818</th>\n",
              "      <td>1819</td>\n",
              "      <td>Plot Area</td>\n",
              "      <td>Sarjapur</td>\n",
              "      <td>3.0</td>\n",
              "      <td>1574Sq. Yards</td>\n",
              "      <td>3.0</td>\n",
              "      <td>1.0</td>\n",
              "      <td>76.000</td>\n",
              "    </tr>\n",
              "    <tr>\n",
              "      <th>1849</th>\n",
              "      <td>1850</td>\n",
              "      <td>Super built-up Area</td>\n",
              "      <td>Yelahanka</td>\n",
              "      <td>4.0</td>\n",
              "      <td>3450 - 3472</td>\n",
              "      <td>2.0</td>\n",
              "      <td>2.0</td>\n",
              "      <td>173.000</td>\n",
              "    </tr>\n",
              "    <tr>\n",
              "      <th>2085</th>\n",
              "      <td>2086</td>\n",
              "      <td>Super built-up Area</td>\n",
              "      <td>Yeshwanthpur</td>\n",
              "      <td>2.0</td>\n",
              "      <td>1250 - 1305</td>\n",
              "      <td>2.0</td>\n",
              "      <td>0.0</td>\n",
              "      <td>95.815</td>\n",
              "    </tr>\n",
              "    <tr>\n",
              "      <th>2125</th>\n",
              "      <td>2126</td>\n",
              "      <td>Super built-up Area</td>\n",
              "      <td>Kanakpura Road</td>\n",
              "      <td>1.0</td>\n",
              "      <td>670 - 980</td>\n",
              "      <td>1.0</td>\n",
              "      <td>0.0</td>\n",
              "      <td>36.290</td>\n",
              "    </tr>\n",
              "    <tr>\n",
              "      <th>2225</th>\n",
              "      <td>2226</td>\n",
              "      <td>Carpet Area</td>\n",
              "      <td>KR Puram</td>\n",
              "      <td>3.0</td>\n",
              "      <td>1005.03 - 1252.49</td>\n",
              "      <td>3.0</td>\n",
              "      <td>0.0</td>\n",
              "      <td>47.405</td>\n",
              "    </tr>\n",
              "    <tr>\n",
              "      <th>2261</th>\n",
              "      <td>2262</td>\n",
              "      <td>Super built-up Area</td>\n",
              "      <td>Old Madras Road</td>\n",
              "      <td>4.0</td>\n",
              "      <td>3630 - 3800</td>\n",
              "      <td>6.0</td>\n",
              "      <td>0.0</td>\n",
              "      <td>200.500</td>\n",
              "    </tr>\n",
              "    <tr>\n",
              "      <th>2297</th>\n",
              "      <td>2298</td>\n",
              "      <td>Super built-up Area</td>\n",
              "      <td>Hosa Road</td>\n",
              "      <td>2.0</td>\n",
              "      <td>1004 - 1204</td>\n",
              "      <td>2.0</td>\n",
              "      <td>0.0</td>\n",
              "      <td>36.430</td>\n",
              "    </tr>\n",
              "  </tbody>\n",
              "</table>\n",
              "</div>"
            ],
            "text/plain": [
              "      index            area_type               location  ...  bath balcony    price\n",
              "30       30  Super built-up Area              Yelahanka  ...   4.0     0.0  186.000\n",
              "56       56        Built-up Area            Devanahalli  ...   2.0     2.0  192.000\n",
              "81       81        Built-up Area            Hennur Road  ...   2.0     2.0  224.500\n",
              "122     122  Super built-up Area                 Hebbal  ...   4.0     0.0  477.000\n",
              "137     137  Super built-up Area     8th Phase JP Nagar  ...   2.0     0.0   54.005\n",
              "165     165  Super built-up Area               Sarjapur  ...   2.0     0.0   43.490\n",
              "188     188  Super built-up Area               KR Puram  ...   2.0     0.0   56.800\n",
              "224     224  Super built-up Area            Devanahalli  ...   2.0     2.0   74.820\n",
              "410     410  Super built-up Area                Kengeri  ...   1.0     0.0   18.500\n",
              "549     549  Super built-up Area            Hennur Road  ...   2.0     0.0   63.770\n",
              "647     647        Built-up Area                Arekere  ...   9.0     2.0  265.000\n",
              "660     660  Super built-up Area              Yelahanka  ...   2.0     0.0   48.130\n",
              "668     668  Super built-up Area               JP Nagar  ...   2.0     2.0  375.000\n",
              "671     671        Built-up Area           Bettahalsoor  ...   4.0     0.0  445.000\n",
              "701     701  Super built-up Area               JP Nagar  ...   2.0     2.0  548.500\n",
              "771     771  Super built-up Area  Banashankari Stage VI  ...   2.0     0.0   59.935\n",
              "774     774        Built-up Area           Basavanagara  ...   2.0     1.0   93.000\n",
              "800     800  Super built-up Area               JP Nagar  ...   2.0     2.0  453.000\n",
              "849     849  Super built-up Area      Bannerghatta Road  ...   2.0     0.0   58.935\n",
              "871     871  Super built-up Area      Singapura Village  ...   2.0     2.0   45.000\n",
              "885     885  Super built-up Area             Chandapura  ...   1.0     0.0   15.135\n",
              "926     926  Super built-up Area            Thanisandra  ...   2.0     0.0   43.415\n",
              "940     940  Super built-up Area             Whitefield  ...   2.0     2.0  304.000\n",
              "958     958  Super built-up Area            Kammasandra  ...   1.0     0.0   18.410\n",
              "989     989  Super built-up Area               Sarjapur  ...   1.0     0.0   17.535\n",
              "1018   1018            Plot Area         Marathi Layout  ...   1.0     0.0  110.000\n",
              "1085   1085            Plot Area             Narasapura  ...   2.0     2.0   29.500\n",
              "1177   1177  Super built-up Area              Yelahanka  ...   3.0     0.0   65.255\n",
              "1182   1182  Super built-up Area            Magadi Road  ...   2.0     0.0   46.500\n",
              "1186   1186  Super built-up Area            Thanisandra  ...   2.0     0.0   36.435\n",
              "1266   1266  Super built-up Area              Yelahanka  ...   2.0     2.0   67.980\n",
              "1399   1399  Super built-up Area             Chamrajpet  ...   9.0     1.0  296.000\n",
              "1483   1483          Carpet Area                 Hebbal  ...   2.0     0.0   42.720\n",
              "1541   1541  Super built-up Area          Sarjapur Road  ...   1.0     0.0   17.835\n",
              "1613   1613  Super built-up Area          Sarjapur Road  ...   6.0     0.0  228.500\n",
              "1642   1642  Super built-up Area         Talaghattapura  ...   3.0     0.0  120.000\n",
              "1682   1682  Super built-up Area        Old Madras Road  ...   6.0     0.0  224.500\n",
              "1685   1685  Super built-up Area             Whitefield  ...   2.0     2.0   28.585\n",
              "1693   1693  Super built-up Area               JP Nagar  ...   4.0     0.0  314.500\n",
              "1711   1711            Plot Area       Singena Agrahara  ...   3.0     1.0   95.000\n",
              "1722   1723  Super built-up Area            Thanisandra  ...   2.0     2.0   48.145\n",
              "1741   1742  Super built-up Area              Hosa Road  ...   3.0     1.0  115.000\n",
              "1763   1764  Super built-up Area             Binny Pete  ...   2.0     2.0  204.000\n",
              "1818   1819            Plot Area               Sarjapur  ...   3.0     1.0   76.000\n",
              "1849   1850  Super built-up Area              Yelahanka  ...   2.0     2.0  173.000\n",
              "2085   2086  Super built-up Area           Yeshwanthpur  ...   2.0     0.0   95.815\n",
              "2125   2126  Super built-up Area         Kanakpura Road  ...   1.0     0.0   36.290\n",
              "2225   2226          Carpet Area               KR Puram  ...   3.0     0.0   47.405\n",
              "2261   2262  Super built-up Area        Old Madras Road  ...   6.0     0.0  200.500\n",
              "2297   2298  Super built-up Area              Hosa Road  ...   2.0     0.0   36.430\n",
              "\n",
              "[50 rows x 8 columns]"
            ]
          },
          "metadata": {
            "tags": []
          },
          "execution_count": 17
        }
      ]
    },
    {
      "cell_type": "code",
      "metadata": {
        "id": "irCFtAs8ADon"
      },
      "source": [
        "def area_conversion(x):\r\n",
        "  try:\r\n",
        "    return float(x)\r\n",
        "  except:\r\n",
        "    try:\r\n",
        "      token = x.split('-')\r\n",
        "      return (float(token[0])+float(token[1]))/2\r\n",
        "    except:\r\n",
        "      try:\r\n",
        "        return float(x.split('Sq. Meter')[0])*10.7639\r\n",
        "      except:\r\n",
        "        try:\r\n",
        "          return float(x.split('Perch')[0])\r\n",
        "        except:\r\n",
        "          return None\r\n",
        "\r\n",
        "df2['total_sqft'] = df2['total_sqft'].apply(area_conversion)"
      ],
      "execution_count": 18,
      "outputs": []
    },
    {
      "cell_type": "code",
      "metadata": {
        "colab": {
          "base_uri": "https://localhost:8080/"
        },
        "id": "PYETLw3eCUac",
        "outputId": "e7b97fe3-01e6-4002-fd56-3e114aae1ed6"
      },
      "source": [
        "df2 = df2[df2['total_sqft'].notnull()]\r\n",
        "df2.isna().sum()"
      ],
      "execution_count": 19,
      "outputs": [
        {
          "output_type": "execute_result",
          "data": {
            "text/plain": [
              "index         0\n",
              "area_type     0\n",
              "location      0\n",
              "size          0\n",
              "total_sqft    0\n",
              "bath          0\n",
              "balcony       0\n",
              "price         0\n",
              "dtype: int64"
            ]
          },
          "metadata": {
            "tags": []
          },
          "execution_count": 19
        }
      ]
    },
    {
      "cell_type": "markdown",
      "metadata": {
        "id": "kK15FbZSX2VJ"
      },
      "source": [
        "##**Feature Engineering**"
      ]
    },
    {
      "cell_type": "markdown",
      "metadata": {
        "id": "HFf5baS2h_Qc"
      },
      "source": [
        "###**Create new feature price per ssqft**"
      ]
    },
    {
      "cell_type": "code",
      "metadata": {
        "id": "pRrYhpNMZVcE"
      },
      "source": [
        "df2.drop('index', axis=1, inplace= True)"
      ],
      "execution_count": 20,
      "outputs": []
    },
    {
      "cell_type": "code",
      "metadata": {
        "id": "iB3tRjviFFHk",
        "colab": {
          "base_uri": "https://localhost:8080/",
          "height": 206
        },
        "outputId": "cc21a28b-5e57-4f2b-b466-41ca8095fa62"
      },
      "source": [
        "#new feature to get the price per sqft\r\n",
        "df3 = df2.copy()\r\n",
        "df3['price_per_sqft'] = round(df3.price*100000/df3.total_sqft,2)\r\n",
        "df3.head()"
      ],
      "execution_count": 21,
      "outputs": [
        {
          "output_type": "execute_result",
          "data": {
            "text/html": [
              "<div>\n",
              "<style scoped>\n",
              "    .dataframe tbody tr th:only-of-type {\n",
              "        vertical-align: middle;\n",
              "    }\n",
              "\n",
              "    .dataframe tbody tr th {\n",
              "        vertical-align: top;\n",
              "    }\n",
              "\n",
              "    .dataframe thead th {\n",
              "        text-align: right;\n",
              "    }\n",
              "</style>\n",
              "<table border=\"1\" class=\"dataframe\">\n",
              "  <thead>\n",
              "    <tr style=\"text-align: right;\">\n",
              "      <th></th>\n",
              "      <th>area_type</th>\n",
              "      <th>location</th>\n",
              "      <th>size</th>\n",
              "      <th>total_sqft</th>\n",
              "      <th>bath</th>\n",
              "      <th>balcony</th>\n",
              "      <th>price</th>\n",
              "      <th>price_per_sqft</th>\n",
              "    </tr>\n",
              "  </thead>\n",
              "  <tbody>\n",
              "    <tr>\n",
              "      <th>0</th>\n",
              "      <td>Super built-up Area</td>\n",
              "      <td>Electronic City Phase II</td>\n",
              "      <td>2.0</td>\n",
              "      <td>1056.0</td>\n",
              "      <td>2.0</td>\n",
              "      <td>1.0</td>\n",
              "      <td>39.07</td>\n",
              "      <td>3699.81</td>\n",
              "    </tr>\n",
              "    <tr>\n",
              "      <th>1</th>\n",
              "      <td>Plot Area</td>\n",
              "      <td>Chikka Tirupathi</td>\n",
              "      <td>4.0</td>\n",
              "      <td>2600.0</td>\n",
              "      <td>5.0</td>\n",
              "      <td>3.0</td>\n",
              "      <td>120.00</td>\n",
              "      <td>4615.38</td>\n",
              "    </tr>\n",
              "    <tr>\n",
              "      <th>2</th>\n",
              "      <td>Built-up Area</td>\n",
              "      <td>Uttarahalli</td>\n",
              "      <td>3.0</td>\n",
              "      <td>1440.0</td>\n",
              "      <td>2.0</td>\n",
              "      <td>3.0</td>\n",
              "      <td>62.00</td>\n",
              "      <td>4305.56</td>\n",
              "    </tr>\n",
              "    <tr>\n",
              "      <th>3</th>\n",
              "      <td>Super built-up Area</td>\n",
              "      <td>Lingadheeranahalli</td>\n",
              "      <td>3.0</td>\n",
              "      <td>1521.0</td>\n",
              "      <td>3.0</td>\n",
              "      <td>1.0</td>\n",
              "      <td>95.00</td>\n",
              "      <td>6245.89</td>\n",
              "    </tr>\n",
              "    <tr>\n",
              "      <th>4</th>\n",
              "      <td>Super built-up Area</td>\n",
              "      <td>Kothanur</td>\n",
              "      <td>2.0</td>\n",
              "      <td>1200.0</td>\n",
              "      <td>2.0</td>\n",
              "      <td>1.0</td>\n",
              "      <td>51.00</td>\n",
              "      <td>4250.00</td>\n",
              "    </tr>\n",
              "  </tbody>\n",
              "</table>\n",
              "</div>"
            ],
            "text/plain": [
              "             area_type                  location  ...   price  price_per_sqft\n",
              "0  Super built-up Area  Electronic City Phase II  ...   39.07         3699.81\n",
              "1            Plot Area          Chikka Tirupathi  ...  120.00         4615.38\n",
              "2        Built-up Area               Uttarahalli  ...   62.00         4305.56\n",
              "3  Super built-up Area        Lingadheeranahalli  ...   95.00         6245.89\n",
              "4  Super built-up Area                  Kothanur  ...   51.00         4250.00\n",
              "\n",
              "[5 rows x 8 columns]"
            ]
          },
          "metadata": {
            "tags": []
          },
          "execution_count": 21
        }
      ]
    },
    {
      "cell_type": "markdown",
      "metadata": {
        "id": "jNPLkmUniI3K"
      },
      "source": [
        "###**Handle the dimension on location**"
      ]
    },
    {
      "cell_type": "code",
      "metadata": {
        "colab": {
          "base_uri": "https://localhost:8080/"
        },
        "id": "BZIzfldAX7YX",
        "outputId": "29d28aac-3ee1-471c-8988-3bc2de5108a1"
      },
      "source": [
        "#there isn't problem with this data\r\n",
        "df3.area_type.nunique()"
      ],
      "execution_count": 22,
      "outputs": [
        {
          "output_type": "execute_result",
          "data": {
            "text/plain": [
              "4"
            ]
          },
          "metadata": {
            "tags": []
          },
          "execution_count": 22
        }
      ]
    },
    {
      "cell_type": "code",
      "metadata": {
        "colab": {
          "base_uri": "https://localhost:8080/"
        },
        "id": "s2w-oJElZdUH",
        "outputId": "43412776-5047-499e-a845-78147c41f34b"
      },
      "source": [
        "#to much kind of location, call dimensionality cost\r\n",
        "print(df3.location.nunique())\r\n",
        "\r\n",
        "#how to handle it? group the data\r\n",
        "location_stats = df3.groupby('location')['location'].agg('count').sort_values(ascending=False)\r\n",
        "location_stats"
      ],
      "execution_count": 23,
      "outputs": [
        {
          "output_type": "stream",
          "text": [
            "1287\n"
          ],
          "name": "stdout"
        },
        {
          "output_type": "execute_result",
          "data": {
            "text/plain": [
              "location\n",
              "Whitefield                            540\n",
              "Sarjapur Road                         399\n",
              "Electronic City                       304\n",
              "Kanakpura Road                        271\n",
              "Thanisandra                           237\n",
              "                                     ... \n",
              "Kudlu Village,                          1\n",
              "Konappana Agrahara                      1\n",
              "Kodanda Reddy Layout                    1\n",
              "Kirloskar layout, Basaveshwarnagar      1\n",
              "1 Annasandrapalya                       1\n",
              "Name: location, Length: 1287, dtype: int64"
            ]
          },
          "metadata": {
            "tags": []
          },
          "execution_count": 23
        }
      ]
    },
    {
      "cell_type": "code",
      "metadata": {
        "colab": {
          "base_uri": "https://localhost:8080/"
        },
        "id": "_s9BPUJxZ0KH",
        "outputId": "198efc72-2c4b-4135-c832-6c45d3c40640"
      },
      "source": [
        "#give the threshold, frequency less than 10 --> other\r\n",
        "print(len(location_stats[location_stats<10]))\r\n",
        "print(\"New location : \", df3.location.nunique()-len(location_stats[location_stats<10]))"
      ],
      "execution_count": 24,
      "outputs": [
        {
          "output_type": "stream",
          "text": [
            "1033\n",
            "New location :  254\n"
          ],
          "name": "stdout"
        }
      ]
    },
    {
      "cell_type": "code",
      "metadata": {
        "colab": {
          "base_uri": "https://localhost:8080/",
          "height": 225
        },
        "id": "JTOm30KRchP1",
        "outputId": "c293912a-08dd-427d-c11c-89b3b6ca90eb"
      },
      "source": [
        "location_less_than_10 = location_stats[location_stats<10]\r\n",
        "\r\n",
        "#change to other\r\n",
        "df3.location = df3.location.apply(lambda x: 'other' if x in location_less_than_10 else x)\r\n",
        "print(df3.location.nunique())\r\n",
        "df3.head()"
      ],
      "execution_count": 25,
      "outputs": [
        {
          "output_type": "stream",
          "text": [
            "255\n"
          ],
          "name": "stdout"
        },
        {
          "output_type": "execute_result",
          "data": {
            "text/html": [
              "<div>\n",
              "<style scoped>\n",
              "    .dataframe tbody tr th:only-of-type {\n",
              "        vertical-align: middle;\n",
              "    }\n",
              "\n",
              "    .dataframe tbody tr th {\n",
              "        vertical-align: top;\n",
              "    }\n",
              "\n",
              "    .dataframe thead th {\n",
              "        text-align: right;\n",
              "    }\n",
              "</style>\n",
              "<table border=\"1\" class=\"dataframe\">\n",
              "  <thead>\n",
              "    <tr style=\"text-align: right;\">\n",
              "      <th></th>\n",
              "      <th>area_type</th>\n",
              "      <th>location</th>\n",
              "      <th>size</th>\n",
              "      <th>total_sqft</th>\n",
              "      <th>bath</th>\n",
              "      <th>balcony</th>\n",
              "      <th>price</th>\n",
              "      <th>price_per_sqft</th>\n",
              "    </tr>\n",
              "  </thead>\n",
              "  <tbody>\n",
              "    <tr>\n",
              "      <th>0</th>\n",
              "      <td>Super built-up Area</td>\n",
              "      <td>Electronic City Phase II</td>\n",
              "      <td>2.0</td>\n",
              "      <td>1056.0</td>\n",
              "      <td>2.0</td>\n",
              "      <td>1.0</td>\n",
              "      <td>39.07</td>\n",
              "      <td>3699.81</td>\n",
              "    </tr>\n",
              "    <tr>\n",
              "      <th>1</th>\n",
              "      <td>Plot Area</td>\n",
              "      <td>Chikka Tirupathi</td>\n",
              "      <td>4.0</td>\n",
              "      <td>2600.0</td>\n",
              "      <td>5.0</td>\n",
              "      <td>3.0</td>\n",
              "      <td>120.00</td>\n",
              "      <td>4615.38</td>\n",
              "    </tr>\n",
              "    <tr>\n",
              "      <th>2</th>\n",
              "      <td>Built-up Area</td>\n",
              "      <td>Uttarahalli</td>\n",
              "      <td>3.0</td>\n",
              "      <td>1440.0</td>\n",
              "      <td>2.0</td>\n",
              "      <td>3.0</td>\n",
              "      <td>62.00</td>\n",
              "      <td>4305.56</td>\n",
              "    </tr>\n",
              "    <tr>\n",
              "      <th>3</th>\n",
              "      <td>Super built-up Area</td>\n",
              "      <td>Lingadheeranahalli</td>\n",
              "      <td>3.0</td>\n",
              "      <td>1521.0</td>\n",
              "      <td>3.0</td>\n",
              "      <td>1.0</td>\n",
              "      <td>95.00</td>\n",
              "      <td>6245.89</td>\n",
              "    </tr>\n",
              "    <tr>\n",
              "      <th>4</th>\n",
              "      <td>Super built-up Area</td>\n",
              "      <td>Kothanur</td>\n",
              "      <td>2.0</td>\n",
              "      <td>1200.0</td>\n",
              "      <td>2.0</td>\n",
              "      <td>1.0</td>\n",
              "      <td>51.00</td>\n",
              "      <td>4250.00</td>\n",
              "    </tr>\n",
              "  </tbody>\n",
              "</table>\n",
              "</div>"
            ],
            "text/plain": [
              "             area_type                  location  ...   price  price_per_sqft\n",
              "0  Super built-up Area  Electronic City Phase II  ...   39.07         3699.81\n",
              "1            Plot Area          Chikka Tirupathi  ...  120.00         4615.38\n",
              "2        Built-up Area               Uttarahalli  ...   62.00         4305.56\n",
              "3  Super built-up Area        Lingadheeranahalli  ...   95.00         6245.89\n",
              "4  Super built-up Area                  Kothanur  ...   51.00         4250.00\n",
              "\n",
              "[5 rows x 8 columns]"
            ]
          },
          "metadata": {
            "tags": []
          },
          "execution_count": 25
        }
      ]
    },
    {
      "cell_type": "markdown",
      "metadata": {
        "id": "j8emNWaJiOcF"
      },
      "source": [
        "###**Outlier Handling**"
      ]
    },
    {
      "cell_type": "markdown",
      "metadata": {
        "id": "p1Y-5CMwigVs"
      },
      "source": [
        "bedroom (size) with total_sqft. Usually single bedroom need more than 300 sqft. So, we can remove if total_sqft / size < 300 (I will change to 290) it means outlier"
      ]
    },
    {
      "cell_type": "code",
      "metadata": {
        "colab": {
          "base_uri": "https://localhost:8080/"
        },
        "id": "NnQKHznydmMh",
        "outputId": "a399f8db-cb07-4aba-a46c-c2c31a05736f"
      },
      "source": [
        "print(df3.shape[0])\r\n",
        "df4 = df3[~(df3['total_sqft']/df3['size']<300)]\r\n",
        "print(df4.shape[0])"
      ],
      "execution_count": 26,
      "outputs": [
        {
          "output_type": "stream",
          "text": [
            "13290\n",
            "12547\n"
          ],
          "name": "stdout"
        }
      ]
    },
    {
      "cell_type": "markdown",
      "metadata": {
        "id": "ynsH1Nx3rBVM"
      },
      "source": [
        "handle outlier in price per sqft group by location, using standard deviation"
      ]
    },
    {
      "cell_type": "code",
      "metadata": {
        "colab": {
          "base_uri": "https://localhost:8080/"
        },
        "id": "6Jo0nU2uj0Cf",
        "outputId": "ff7eb688-ba6a-4452-e62a-b617ea8e4dd9"
      },
      "source": [
        "df4.price_per_sqft.describe()"
      ],
      "execution_count": 27,
      "outputs": [
        {
          "output_type": "execute_result",
          "data": {
            "text/plain": [
              "count     12547.000000\n",
              "mean       6301.351580\n",
              "std        4161.388232\n",
              "min         267.830000\n",
              "25%        4208.335000\n",
              "50%        5294.120000\n",
              "75%        6916.670000\n",
              "max      176470.590000\n",
              "Name: price_per_sqft, dtype: float64"
            ]
          },
          "metadata": {
            "tags": []
          },
          "execution_count": 27
        }
      ]
    },
    {
      "cell_type": "markdown",
      "metadata": {
        "id": "yMu3D-UWrRKn"
      },
      "source": [
        "to many outlier because the distence between mean and min/max is too far"
      ]
    },
    {
      "cell_type": "code",
      "metadata": {
        "colab": {
          "base_uri": "https://localhost:8080/"
        },
        "id": "HgowNdVPrOna",
        "outputId": "2ce01cf1-0121-4b55-9043-4c41650e40cc"
      },
      "source": [
        "def remove_outlier(df):\r\n",
        "  df_out = pd.DataFrame()\r\n",
        "  for key, sub_df in df.groupby('location'):\r\n",
        "    mean = np.mean(sub_df.price_per_sqft)\r\n",
        "    std = np.std(sub_df.price_per_sqft)\r\n",
        "    reduce_df = sub_df[(sub_df.price_per_sqft>(mean-std))&(sub_df.price_per_sqft<(mean+std))]\r\n",
        "    df_out = pd.concat([df_out, reduce_df], ignore_index=True)\r\n",
        "  return df_out\r\n",
        "\r\n",
        "df5 = remove_outlier(df4)\r\n",
        "df5.shape[0]"
      ],
      "execution_count": 28,
      "outputs": [
        {
          "output_type": "execute_result",
          "data": {
            "text/plain": [
              "10295"
            ]
          },
          "metadata": {
            "tags": []
          },
          "execution_count": 28
        }
      ]
    },
    {
      "cell_type": "markdown",
      "metadata": {
        "id": "sR9RHGhwyVwy"
      },
      "source": [
        "Visualize data where the price for 3bedroom < 2bedroom in the same location"
      ]
    },
    {
      "cell_type": "code",
      "metadata": {
        "colab": {
          "base_uri": "https://localhost:8080/",
          "height": 404
        },
        "id": "JnT_HfjDsfhu",
        "outputId": "62d7377f-422e-4af9-ad10-0cc3234437be"
      },
      "source": [
        "def plot_scatter_chart(df,location):\r\n",
        "    bhk2 = df[(df.location==location) & (df['size']==2)]\r\n",
        "    bhk3 = df[(df.location==location) & (df['size']==3)]\r\n",
        "    matplotlib.rcParams['figure.figsize'] = (12,6)\r\n",
        "    plt.scatter(bhk2.total_sqft,bhk2.price,color='blue',label='2 BHK', s=50)\r\n",
        "    plt.scatter(bhk3.total_sqft,bhk3.price,marker='+', color='green',label='3 BHK', s=50)\r\n",
        "    plt.xlabel(\"Total Square Feet Area\")\r\n",
        "    plt.ylabel(\"Price (Lakh Indian Rupees)\")\r\n",
        "    plt.title(location)\r\n",
        "    plt.legend()\r\n",
        "    \r\n",
        "plot_scatter_chart(df5,\"Rajaji Nagar\")"
      ],
      "execution_count": 29,
      "outputs": [
        {
          "output_type": "display_data",
          "data": {
            "image/png": "[encoded data removed]",
            "text/plain": [
              "<Figure size 864x432 with 1 Axes>"
            ]
          },
          "metadata": {
            "tags": [],
            "needs_background": "light"
          }
        }
      ]
    },
    {
      "cell_type": "markdown",
      "metadata": {
        "id": "nx6Q1p6oy5pC"
      },
      "source": [
        "See the visualization, there are some 2BHK that price more then 3BHK with the same location. So we need to delete it."
      ]
    },
    {
      "cell_type": "code",
      "metadata": {
        "colab": {
          "base_uri": "https://localhost:8080/"
        },
        "id": "WFSUXWdpyjBH",
        "outputId": "2e1d723f-4c1d-4371-cc86-d44bc1069bc5"
      },
      "source": [
        "\"\"\"\r\n",
        "group by location\r\n",
        "for every location, we will group the data by the bedroom\r\n",
        "for example\r\n",
        "In city A\r\n",
        "'1':{\r\n",
        "  mean : 20,\r\n",
        "  count : 10\r\n",
        "}\r\n",
        "'2':{\r\n",
        "  mean : 40,\r\n",
        "  count : 10\r\n",
        "}\r\n",
        "\r\n",
        "in data with bedroom 2, if the data price < mean value of data with bedroo 1, we will drop it\r\n",
        "\"\"\"\r\n",
        "def remove_bhk_outlier(df):\r\n",
        "  exclude_indices = np.array([])\r\n",
        "  for _,location_df in df.groupby('location'):\r\n",
        "    bhk_status = {}\r\n",
        "    for idx, bhk_df in location_df.groupby('size'):\r\n",
        "      bhk_status[idx] = {\r\n",
        "          'mean' : np.mean(bhk_df.price_per_sqft),\r\n",
        "          'count' : bhk_df.shape[0]\r\n",
        "      }\r\n",
        "    for idx, bhk_df in location_df.groupby('size'):\r\n",
        "      stats = bhk_status.get(idx-1)\r\n",
        "      if stats and stats['count']>5: #just handle if the data per location per bedroom more then 5 data\r\n",
        "        exclude_indices = np.append(exclude_indices, bhk_df[bhk_df.price_per_sqft<(stats['mean'])].index.values)\r\n",
        "  return df.drop(exclude_indices,axis='index')\r\n",
        "\r\n",
        "df6 = remove_bhk_outlier(df5)\r\n",
        "df6.shape[0]"
      ],
      "execution_count": 30,
      "outputs": [
        {
          "output_type": "execute_result",
          "data": {
            "text/plain": [
              "7406"
            ]
          },
          "metadata": {
            "tags": []
          },
          "execution_count": 30
        }
      ]
    },
    {
      "cell_type": "code",
      "metadata": {
        "colab": {
          "base_uri": "https://localhost:8080/",
          "height": 404
        },
        "id": "u-rUktjr3aC3",
        "outputId": "00302edb-c5f8-479d-a2aa-fbc7f6bdb5f6"
      },
      "source": [
        "#see the differrent from the previous plot\r\n",
        "plot_scatter_chart(df6,\"Rajaji Nagar\")"
      ],
      "execution_count": 31,
      "outputs": [
        {
          "output_type": "display_data",
          "data": {
            "image/png": "[encoded data removed]",
            "text/plain": [
              "<Figure size 864x432 with 1 Axes>"
            ]
          },
          "metadata": {
            "tags": [],
            "needs_background": "light"
          }
        }
      ]
    },
    {
      "cell_type": "code",
      "metadata": {
        "colab": {
          "base_uri": "https://localhost:8080/",
          "height": 388
        },
        "id": "cIO5dSMm5Sxq",
        "outputId": "62c32a00-f23d-4c14-8d26-2bcf5e26dac9"
      },
      "source": [
        "plt.figure(figsize=(12,6))\r\n",
        "plt.hist(df6.price_per_sqft, rwidth=0.9)\r\n",
        "plt.xlabel(\"Price per squre feet\")\r\n",
        "plt.ylabel(\"Count\")\r\n",
        "plt.show()"
      ],
      "execution_count": 32,
      "outputs": [
        {
          "output_type": "display_data",
          "data": {
            "image/png": "[encoded data removed]",
            "text/plain": [
              "<Figure size 864x432 with 1 Axes>"
            ]
          },
          "metadata": {
            "tags": [],
            "needs_background": "light"
          }
        }
      ]
    },
    {
      "cell_type": "markdown",
      "metadata": {
        "id": "dy6AF2Aq61yz"
      },
      "source": [
        "bathroom outlier, the number of bathroom usually <= bedroom + 2 (max). If more then it, it unusual"
      ]
    },
    {
      "cell_type": "code",
      "metadata": {
        "colab": {
          "base_uri": "https://localhost:8080/",
          "height": 388
        },
        "id": "BSeZ1oRk6IUm",
        "outputId": "063c747a-159e-4301-f65a-6aedb60057e4"
      },
      "source": [
        "plt.figure(figsize=(12,6))\r\n",
        "plt.hist(df6.bath, rwidth=0.9)\r\n",
        "plt.xlabel(\"Bath Room\")\r\n",
        "plt.ylabel(\"Count\")\r\n",
        "plt.show()"
      ],
      "execution_count": 33,
      "outputs": [
        {
          "output_type": "display_data",
          "data": {
            "image/png": "[encoded data removed]",
            "text/plain": [
              "<Figure size 864x432 with 1 Axes>"
            ]
          },
          "metadata": {
            "tags": [],
            "needs_background": "light"
          }
        }
      ]
    },
    {
      "cell_type": "code",
      "metadata": {
        "colab": {
          "base_uri": "https://localhost:8080/",
          "height": 206
        },
        "id": "U0yt9LdX7HOt",
        "outputId": "24eb8879-45d7-4e3d-fcfd-05ff41a69290"
      },
      "source": [
        "df6[df6.bath>df6['size']+2]"
      ],
      "execution_count": 34,
      "outputs": [
        {
          "output_type": "execute_result",
          "data": {
            "text/html": [
              "<div>\n",
              "<style scoped>\n",
              "    .dataframe tbody tr th:only-of-type {\n",
              "        vertical-align: middle;\n",
              "    }\n",
              "\n",
              "    .dataframe tbody tr th {\n",
              "        vertical-align: top;\n",
              "    }\n",
              "\n",
              "    .dataframe thead th {\n",
              "        text-align: right;\n",
              "    }\n",
              "</style>\n",
              "<table border=\"1\" class=\"dataframe\">\n",
              "  <thead>\n",
              "    <tr style=\"text-align: right;\">\n",
              "      <th></th>\n",
              "      <th>area_type</th>\n",
              "      <th>location</th>\n",
              "      <th>size</th>\n",
              "      <th>total_sqft</th>\n",
              "      <th>bath</th>\n",
              "      <th>balcony</th>\n",
              "      <th>price</th>\n",
              "      <th>price_per_sqft</th>\n",
              "    </tr>\n",
              "  </thead>\n",
              "  <tbody>\n",
              "    <tr>\n",
              "      <th>586</th>\n",
              "      <td>Plot Area</td>\n",
              "      <td>BTM 1st Stage</td>\n",
              "      <td>9.0</td>\n",
              "      <td>3300.0</td>\n",
              "      <td>14.0</td>\n",
              "      <td>2.0</td>\n",
              "      <td>500.0</td>\n",
              "      <td>15151.52</td>\n",
              "    </tr>\n",
              "    <tr>\n",
              "      <th>1654</th>\n",
              "      <td>Built-up Area</td>\n",
              "      <td>Chikkabanavar</td>\n",
              "      <td>4.0</td>\n",
              "      <td>2460.0</td>\n",
              "      <td>7.0</td>\n",
              "      <td>2.0</td>\n",
              "      <td>80.0</td>\n",
              "      <td>3252.03</td>\n",
              "    </tr>\n",
              "    <tr>\n",
              "      <th>5350</th>\n",
              "      <td>Built-up Area</td>\n",
              "      <td>Nagasandra</td>\n",
              "      <td>4.0</td>\n",
              "      <td>7000.0</td>\n",
              "      <td>8.0</td>\n",
              "      <td>2.0</td>\n",
              "      <td>450.0</td>\n",
              "      <td>6428.57</td>\n",
              "    </tr>\n",
              "    <tr>\n",
              "      <th>6851</th>\n",
              "      <td>Super built-up Area</td>\n",
              "      <td>Thanisandra</td>\n",
              "      <td>3.0</td>\n",
              "      <td>1806.0</td>\n",
              "      <td>6.0</td>\n",
              "      <td>2.0</td>\n",
              "      <td>116.0</td>\n",
              "      <td>6423.03</td>\n",
              "    </tr>\n",
              "    <tr>\n",
              "      <th>8544</th>\n",
              "      <td>Super built-up Area</td>\n",
              "      <td>other</td>\n",
              "      <td>6.0</td>\n",
              "      <td>11338.0</td>\n",
              "      <td>9.0</td>\n",
              "      <td>1.0</td>\n",
              "      <td>1000.0</td>\n",
              "      <td>8819.90</td>\n",
              "    </tr>\n",
              "  </tbody>\n",
              "</table>\n",
              "</div>"
            ],
            "text/plain": [
              "                area_type       location  size  ...  balcony   price  price_per_sqft\n",
              "586             Plot Area  BTM 1st Stage   9.0  ...      2.0   500.0        15151.52\n",
              "1654        Built-up Area  Chikkabanavar   4.0  ...      2.0    80.0         3252.03\n",
              "5350        Built-up Area     Nagasandra   4.0  ...      2.0   450.0         6428.57\n",
              "6851  Super built-up Area    Thanisandra   3.0  ...      2.0   116.0         6423.03\n",
              "8544  Super built-up Area          other   6.0  ...      1.0  1000.0         8819.90\n",
              "\n",
              "[5 rows x 8 columns]"
            ]
          },
          "metadata": {
            "tags": []
          },
          "execution_count": 34
        }
      ]
    },
    {
      "cell_type": "code",
      "metadata": {
        "id": "WMGIL0FI7eUn"
      },
      "source": [
        "df7 = df6[df6.bath<df6['size']+2]\r\n",
        "df7.reset_index(inplace=True)"
      ],
      "execution_count": 35,
      "outputs": []
    },
    {
      "cell_type": "markdown",
      "metadata": {
        "id": "CpmZ3L1VK1FQ"
      },
      "source": [
        "###**Encoding**"
      ]
    },
    {
      "cell_type": "code",
      "metadata": {
        "colab": {
          "base_uri": "https://localhost:8080/",
          "height": 308
        },
        "id": "NCX-XH8mZUbs",
        "outputId": "d2d7d8da-157d-42ff-c060-81b88312bc13"
      },
      "source": [
        "ohe = OneHotEncoder(sparse=False)\r\n",
        "df_encode = pd.DataFrame(ohe.fit_transform(df7[['area_type','location']]))\r\n",
        "df_encode.columns = ohe.get_feature_names(['area_type','location'])\r\n",
        "df7.drop(['area_type','location','price_per_sqft'] ,axis=1, inplace=True)\r\n",
        "df7= pd.concat([df7, df_encode], axis=1)\r\n",
        "df7.drop('index', axis=1, inplace= True)\r\n",
        "df7.head()"
      ],
      "execution_count": 36,
      "outputs": [
        {
          "output_type": "execute_result",
          "data": {
            "text/html": [
              "<div>\n",
              "<style scoped>\n",
              "    .dataframe tbody tr th:only-of-type {\n",
              "        vertical-align: middle;\n",
              "    }\n",
              "\n",
              "    .dataframe tbody tr th {\n",
              "        vertical-align: top;\n",
              "    }\n",
              "\n",
              "    .dataframe thead th {\n",
              "        text-align: right;\n",
              "    }\n",
              "</style>\n",
              "<table border=\"1\" class=\"dataframe\">\n",
              "  <thead>\n",
              "    <tr style=\"text-align: right;\">\n",
              "      <th></th>\n",
              "      <th>size</th>\n",
              "      <th>total_sqft</th>\n",
              "      <th>bath</th>\n",
              "      <th>balcony</th>\n",
              "      <th>price</th>\n",
              "      <th>area_type_Built-up Area</th>\n",
              "      <th>area_type_Carpet Area</th>\n",
              "      <th>area_type_Plot Area</th>\n",
              "      <th>area_type_Super built-up Area</th>\n",
              "      <th>location_1st Block Jayanagar</th>\n",
              "      <th>location_1st Block Koramangala</th>\n",
              "      <th>location_1st Phase JP Nagar</th>\n",
              "      <th>location_2nd Phase Judicial Layout</th>\n",
              "      <th>location_2nd Stage Nagarbhavi</th>\n",
              "      <th>location_5th Block Hbr Layout</th>\n",
              "      <th>location_5th Phase JP Nagar</th>\n",
              "      <th>location_6th Phase JP Nagar</th>\n",
              "      <th>location_7th Phase JP Nagar</th>\n",
              "      <th>location_8th Phase JP Nagar</th>\n",
              "      <th>location_9th Phase JP Nagar</th>\n",
              "      <th>location_AECS Layout</th>\n",
              "      <th>location_Abbigere</th>\n",
              "      <th>location_Akshaya Nagar</th>\n",
              "      <th>location_Ambalipura</th>\n",
              "      <th>location_Ambedkar Nagar</th>\n",
              "      <th>location_Amruthahalli</th>\n",
              "      <th>location_Anandapura</th>\n",
              "      <th>location_Ananth Nagar</th>\n",
              "      <th>location_Anekal</th>\n",
              "      <th>location_Anjanapura</th>\n",
              "      <th>location_Ardendale</th>\n",
              "      <th>location_Arekere</th>\n",
              "      <th>location_Attibele</th>\n",
              "      <th>location_BEML Layout</th>\n",
              "      <th>location_BTM 1st Stage</th>\n",
              "      <th>location_BTM 2nd Stage</th>\n",
              "      <th>location_BTM Layout</th>\n",
              "      <th>location_Babusapalaya</th>\n",
              "      <th>location_Badavala Nagar</th>\n",
              "      <th>location_Balagere</th>\n",
              "      <th>...</th>\n",
              "      <th>location_Sarjapur</th>\n",
              "      <th>location_Sarjapur Road</th>\n",
              "      <th>location_Sarjapura - Attibele Road</th>\n",
              "      <th>location_Sector 1 HSR Layout</th>\n",
              "      <th>location_Sector 2 HSR Layout</th>\n",
              "      <th>location_Sector 7 HSR Layout</th>\n",
              "      <th>location_Seegehalli</th>\n",
              "      <th>location_Shampura</th>\n",
              "      <th>location_Shivaji Nagar</th>\n",
              "      <th>location_Singasandra</th>\n",
              "      <th>location_Somasundara Palya</th>\n",
              "      <th>location_Sompura</th>\n",
              "      <th>location_Sonnenahalli</th>\n",
              "      <th>location_Subramanyapura</th>\n",
              "      <th>location_Sultan Palaya</th>\n",
              "      <th>location_TC Palaya</th>\n",
              "      <th>location_Talaghattapura</th>\n",
              "      <th>location_Thanisandra</th>\n",
              "      <th>location_Thigalarapalya</th>\n",
              "      <th>location_Thubarahalli</th>\n",
              "      <th>location_Thyagaraja Nagar</th>\n",
              "      <th>location_Tindlu</th>\n",
              "      <th>location_Tumkur Road</th>\n",
              "      <th>location_Ulsoor</th>\n",
              "      <th>location_Uttarahalli</th>\n",
              "      <th>location_Varthur</th>\n",
              "      <th>location_Varthur Road</th>\n",
              "      <th>location_Vasanthapura</th>\n",
              "      <th>location_Vidyaranyapura</th>\n",
              "      <th>location_Vijayanagar</th>\n",
              "      <th>location_Vishveshwarya Layout</th>\n",
              "      <th>location_Vishwapriya Layout</th>\n",
              "      <th>location_Vittasandra</th>\n",
              "      <th>location_Whitefield</th>\n",
              "      <th>location_Yelachenahalli</th>\n",
              "      <th>location_Yelahanka</th>\n",
              "      <th>location_Yelahanka New Town</th>\n",
              "      <th>location_Yelenahalli</th>\n",
              "      <th>location_Yeshwanthpur</th>\n",
              "      <th>location_other</th>\n",
              "    </tr>\n",
              "  </thead>\n",
              "  <tbody>\n",
              "    <tr>\n",
              "      <th>0</th>\n",
              "      <td>4.0</td>\n",
              "      <td>2850.0</td>\n",
              "      <td>4.0</td>\n",
              "      <td>1.0</td>\n",
              "      <td>428.0</td>\n",
              "      <td>0.0</td>\n",
              "      <td>0.0</td>\n",
              "      <td>0.0</td>\n",
              "      <td>1.0</td>\n",
              "      <td>1.0</td>\n",
              "      <td>0.0</td>\n",
              "      <td>0.0</td>\n",
              "      <td>0.0</td>\n",
              "      <td>0.0</td>\n",
              "      <td>0.0</td>\n",
              "      <td>0.0</td>\n",
              "      <td>0.0</td>\n",
              "      <td>0.0</td>\n",
              "      <td>0.0</td>\n",
              "      <td>0.0</td>\n",
              "      <td>0.0</td>\n",
              "      <td>0.0</td>\n",
              "      <td>0.0</td>\n",
              "      <td>0.0</td>\n",
              "      <td>0.0</td>\n",
              "      <td>0.0</td>\n",
              "      <td>0.0</td>\n",
              "      <td>0.0</td>\n",
              "      <td>0.0</td>\n",
              "      <td>0.0</td>\n",
              "      <td>0.0</td>\n",
              "      <td>0.0</td>\n",
              "      <td>0.0</td>\n",
              "      <td>0.0</td>\n",
              "      <td>0.0</td>\n",
              "      <td>0.0</td>\n",
              "      <td>0.0</td>\n",
              "      <td>0.0</td>\n",
              "      <td>0.0</td>\n",
              "      <td>0.0</td>\n",
              "      <td>...</td>\n",
              "      <td>0.0</td>\n",
              "      <td>0.0</td>\n",
              "      <td>0.0</td>\n",
              "      <td>0.0</td>\n",
              "      <td>0.0</td>\n",
              "      <td>0.0</td>\n",
              "      <td>0.0</td>\n",
              "      <td>0.0</td>\n",
              "      <td>0.0</td>\n",
              "      <td>0.0</td>\n",
              "      <td>0.0</td>\n",
              "      <td>0.0</td>\n",
              "      <td>0.0</td>\n",
              "      <td>0.0</td>\n",
              "      <td>0.0</td>\n",
              "      <td>0.0</td>\n",
              "      <td>0.0</td>\n",
              "      <td>0.0</td>\n",
              "      <td>0.0</td>\n",
              "      <td>0.0</td>\n",
              "      <td>0.0</td>\n",
              "      <td>0.0</td>\n",
              "      <td>0.0</td>\n",
              "      <td>0.0</td>\n",
              "      <td>0.0</td>\n",
              "      <td>0.0</td>\n",
              "      <td>0.0</td>\n",
              "      <td>0.0</td>\n",
              "      <td>0.0</td>\n",
              "      <td>0.0</td>\n",
              "      <td>0.0</td>\n",
              "      <td>0.0</td>\n",
              "      <td>0.0</td>\n",
              "      <td>0.0</td>\n",
              "      <td>0.0</td>\n",
              "      <td>0.0</td>\n",
              "      <td>0.0</td>\n",
              "      <td>0.0</td>\n",
              "      <td>0.0</td>\n",
              "      <td>0.0</td>\n",
              "    </tr>\n",
              "    <tr>\n",
              "      <th>1</th>\n",
              "      <td>3.0</td>\n",
              "      <td>1630.0</td>\n",
              "      <td>3.0</td>\n",
              "      <td>2.0</td>\n",
              "      <td>194.0</td>\n",
              "      <td>0.0</td>\n",
              "      <td>0.0</td>\n",
              "      <td>0.0</td>\n",
              "      <td>1.0</td>\n",
              "      <td>1.0</td>\n",
              "      <td>0.0</td>\n",
              "      <td>0.0</td>\n",
              "      <td>0.0</td>\n",
              "      <td>0.0</td>\n",
              "      <td>0.0</td>\n",
              "      <td>0.0</td>\n",
              "      <td>0.0</td>\n",
              "      <td>0.0</td>\n",
              "      <td>0.0</td>\n",
              "      <td>0.0</td>\n",
              "      <td>0.0</td>\n",
              "      <td>0.0</td>\n",
              "      <td>0.0</td>\n",
              "      <td>0.0</td>\n",
              "      <td>0.0</td>\n",
              "      <td>0.0</td>\n",
              "      <td>0.0</td>\n",
              "      <td>0.0</td>\n",
              "      <td>0.0</td>\n",
              "      <td>0.0</td>\n",
              "      <td>0.0</td>\n",
              "      <td>0.0</td>\n",
              "      <td>0.0</td>\n",
              "      <td>0.0</td>\n",
              "      <td>0.0</td>\n",
              "      <td>0.0</td>\n",
              "      <td>0.0</td>\n",
              "      <td>0.0</td>\n",
              "      <td>0.0</td>\n",
              "      <td>0.0</td>\n",
              "      <td>...</td>\n",
              "      <td>0.0</td>\n",
              "      <td>0.0</td>\n",
              "      <td>0.0</td>\n",
              "      <td>0.0</td>\n",
              "      <td>0.0</td>\n",
              "      <td>0.0</td>\n",
              "      <td>0.0</td>\n",
              "      <td>0.0</td>\n",
              "      <td>0.0</td>\n",
              "      <td>0.0</td>\n",
              "      <td>0.0</td>\n",
              "      <td>0.0</td>\n",
              "      <td>0.0</td>\n",
              "      <td>0.0</td>\n",
              "      <td>0.0</td>\n",
              "      <td>0.0</td>\n",
              "      <td>0.0</td>\n",
              "      <td>0.0</td>\n",
              "      <td>0.0</td>\n",
              "      <td>0.0</td>\n",
              "      <td>0.0</td>\n",
              "      <td>0.0</td>\n",
              "      <td>0.0</td>\n",
              "      <td>0.0</td>\n",
              "      <td>0.0</td>\n",
              "      <td>0.0</td>\n",
              "      <td>0.0</td>\n",
              "      <td>0.0</td>\n",
              "      <td>0.0</td>\n",
              "      <td>0.0</td>\n",
              "      <td>0.0</td>\n",
              "      <td>0.0</td>\n",
              "      <td>0.0</td>\n",
              "      <td>0.0</td>\n",
              "      <td>0.0</td>\n",
              "      <td>0.0</td>\n",
              "      <td>0.0</td>\n",
              "      <td>0.0</td>\n",
              "      <td>0.0</td>\n",
              "      <td>0.0</td>\n",
              "    </tr>\n",
              "    <tr>\n",
              "      <th>2</th>\n",
              "      <td>3.0</td>\n",
              "      <td>1875.0</td>\n",
              "      <td>2.0</td>\n",
              "      <td>3.0</td>\n",
              "      <td>235.0</td>\n",
              "      <td>0.0</td>\n",
              "      <td>0.0</td>\n",
              "      <td>0.0</td>\n",
              "      <td>1.0</td>\n",
              "      <td>1.0</td>\n",
              "      <td>0.0</td>\n",
              "      <td>0.0</td>\n",
              "      <td>0.0</td>\n",
              "      <td>0.0</td>\n",
              "      <td>0.0</td>\n",
              "      <td>0.0</td>\n",
              "      <td>0.0</td>\n",
              "      <td>0.0</td>\n",
              "      <td>0.0</td>\n",
              "      <td>0.0</td>\n",
              "      <td>0.0</td>\n",
              "      <td>0.0</td>\n",
              "      <td>0.0</td>\n",
              "      <td>0.0</td>\n",
              "      <td>0.0</td>\n",
              "      <td>0.0</td>\n",
              "      <td>0.0</td>\n",
              "      <td>0.0</td>\n",
              "      <td>0.0</td>\n",
              "      <td>0.0</td>\n",
              "      <td>0.0</td>\n",
              "      <td>0.0</td>\n",
              "      <td>0.0</td>\n",
              "      <td>0.0</td>\n",
              "      <td>0.0</td>\n",
              "      <td>0.0</td>\n",
              "      <td>0.0</td>\n",
              "      <td>0.0</td>\n",
              "      <td>0.0</td>\n",
              "      <td>0.0</td>\n",
              "      <td>...</td>\n",
              "      <td>0.0</td>\n",
              "      <td>0.0</td>\n",
              "      <td>0.0</td>\n",
              "      <td>0.0</td>\n",
              "      <td>0.0</td>\n",
              "      <td>0.0</td>\n",
              "      <td>0.0</td>\n",
              "      <td>0.0</td>\n",
              "      <td>0.0</td>\n",
              "      <td>0.0</td>\n",
              "      <td>0.0</td>\n",
              "      <td>0.0</td>\n",
              "      <td>0.0</td>\n",
              "      <td>0.0</td>\n",
              "      <td>0.0</td>\n",
              "      <td>0.0</td>\n",
              "      <td>0.0</td>\n",
              "      <td>0.0</td>\n",
              "      <td>0.0</td>\n",
              "      <td>0.0</td>\n",
              "      <td>0.0</td>\n",
              "      <td>0.0</td>\n",
              "      <td>0.0</td>\n",
              "      <td>0.0</td>\n",
              "      <td>0.0</td>\n",
              "      <td>0.0</td>\n",
              "      <td>0.0</td>\n",
              "      <td>0.0</td>\n",
              "      <td>0.0</td>\n",
              "      <td>0.0</td>\n",
              "      <td>0.0</td>\n",
              "      <td>0.0</td>\n",
              "      <td>0.0</td>\n",
              "      <td>0.0</td>\n",
              "      <td>0.0</td>\n",
              "      <td>0.0</td>\n",
              "      <td>0.0</td>\n",
              "      <td>0.0</td>\n",
              "      <td>0.0</td>\n",
              "      <td>0.0</td>\n",
              "    </tr>\n",
              "    <tr>\n",
              "      <th>3</th>\n",
              "      <td>3.0</td>\n",
              "      <td>1200.0</td>\n",
              "      <td>2.0</td>\n",
              "      <td>0.0</td>\n",
              "      <td>130.0</td>\n",
              "      <td>1.0</td>\n",
              "      <td>0.0</td>\n",
              "      <td>0.0</td>\n",
              "      <td>0.0</td>\n",
              "      <td>1.0</td>\n",
              "      <td>0.0</td>\n",
              "      <td>0.0</td>\n",
              "      <td>0.0</td>\n",
              "      <td>0.0</td>\n",
              "      <td>0.0</td>\n",
              "      <td>0.0</td>\n",
              "      <td>0.0</td>\n",
              "      <td>0.0</td>\n",
              "      <td>0.0</td>\n",
              "      <td>0.0</td>\n",
              "      <td>0.0</td>\n",
              "      <td>0.0</td>\n",
              "      <td>0.0</td>\n",
              "      <td>0.0</td>\n",
              "      <td>0.0</td>\n",
              "      <td>0.0</td>\n",
              "      <td>0.0</td>\n",
              "      <td>0.0</td>\n",
              "      <td>0.0</td>\n",
              "      <td>0.0</td>\n",
              "      <td>0.0</td>\n",
              "      <td>0.0</td>\n",
              "      <td>0.0</td>\n",
              "      <td>0.0</td>\n",
              "      <td>0.0</td>\n",
              "      <td>0.0</td>\n",
              "      <td>0.0</td>\n",
              "      <td>0.0</td>\n",
              "      <td>0.0</td>\n",
              "      <td>0.0</td>\n",
              "      <td>...</td>\n",
              "      <td>0.0</td>\n",
              "      <td>0.0</td>\n",
              "      <td>0.0</td>\n",
              "      <td>0.0</td>\n",
              "      <td>0.0</td>\n",
              "      <td>0.0</td>\n",
              "      <td>0.0</td>\n",
              "      <td>0.0</td>\n",
              "      <td>0.0</td>\n",
              "      <td>0.0</td>\n",
              "      <td>0.0</td>\n",
              "      <td>0.0</td>\n",
              "      <td>0.0</td>\n",
              "      <td>0.0</td>\n",
              "      <td>0.0</td>\n",
              "      <td>0.0</td>\n",
              "      <td>0.0</td>\n",
              "      <td>0.0</td>\n",
              "      <td>0.0</td>\n",
              "      <td>0.0</td>\n",
              "      <td>0.0</td>\n",
              "      <td>0.0</td>\n",
              "      <td>0.0</td>\n",
              "      <td>0.0</td>\n",
              "      <td>0.0</td>\n",
              "      <td>0.0</td>\n",
              "      <td>0.0</td>\n",
              "      <td>0.0</td>\n",
              "      <td>0.0</td>\n",
              "      <td>0.0</td>\n",
              "      <td>0.0</td>\n",
              "      <td>0.0</td>\n",
              "      <td>0.0</td>\n",
              "      <td>0.0</td>\n",
              "      <td>0.0</td>\n",
              "      <td>0.0</td>\n",
              "      <td>0.0</td>\n",
              "      <td>0.0</td>\n",
              "      <td>0.0</td>\n",
              "      <td>0.0</td>\n",
              "    </tr>\n",
              "    <tr>\n",
              "      <th>4</th>\n",
              "      <td>2.0</td>\n",
              "      <td>1235.0</td>\n",
              "      <td>2.0</td>\n",
              "      <td>2.0</td>\n",
              "      <td>148.0</td>\n",
              "      <td>0.0</td>\n",
              "      <td>0.0</td>\n",
              "      <td>0.0</td>\n",
              "      <td>1.0</td>\n",
              "      <td>1.0</td>\n",
              "      <td>0.0</td>\n",
              "      <td>0.0</td>\n",
              "      <td>0.0</td>\n",
              "      <td>0.0</td>\n",
              "      <td>0.0</td>\n",
              "      <td>0.0</td>\n",
              "      <td>0.0</td>\n",
              "      <td>0.0</td>\n",
              "      <td>0.0</td>\n",
              "      <td>0.0</td>\n",
              "      <td>0.0</td>\n",
              "      <td>0.0</td>\n",
              "      <td>0.0</td>\n",
              "      <td>0.0</td>\n",
              "      <td>0.0</td>\n",
              "      <td>0.0</td>\n",
              "      <td>0.0</td>\n",
              "      <td>0.0</td>\n",
              "      <td>0.0</td>\n",
              "      <td>0.0</td>\n",
              "      <td>0.0</td>\n",
              "      <td>0.0</td>\n",
              "      <td>0.0</td>\n",
              "      <td>0.0</td>\n",
              "      <td>0.0</td>\n",
              "      <td>0.0</td>\n",
              "      <td>0.0</td>\n",
              "      <td>0.0</td>\n",
              "      <td>0.0</td>\n",
              "      <td>0.0</td>\n",
              "      <td>...</td>\n",
              "      <td>0.0</td>\n",
              "      <td>0.0</td>\n",
              "      <td>0.0</td>\n",
              "      <td>0.0</td>\n",
              "      <td>0.0</td>\n",
              "      <td>0.0</td>\n",
              "      <td>0.0</td>\n",
              "      <td>0.0</td>\n",
              "      <td>0.0</td>\n",
              "      <td>0.0</td>\n",
              "      <td>0.0</td>\n",
              "      <td>0.0</td>\n",
              "      <td>0.0</td>\n",
              "      <td>0.0</td>\n",
              "      <td>0.0</td>\n",
              "      <td>0.0</td>\n",
              "      <td>0.0</td>\n",
              "      <td>0.0</td>\n",
              "      <td>0.0</td>\n",
              "      <td>0.0</td>\n",
              "      <td>0.0</td>\n",
              "      <td>0.0</td>\n",
              "      <td>0.0</td>\n",
              "      <td>0.0</td>\n",
              "      <td>0.0</td>\n",
              "      <td>0.0</td>\n",
              "      <td>0.0</td>\n",
              "      <td>0.0</td>\n",
              "      <td>0.0</td>\n",
              "      <td>0.0</td>\n",
              "      <td>0.0</td>\n",
              "      <td>0.0</td>\n",
              "      <td>0.0</td>\n",
              "      <td>0.0</td>\n",
              "      <td>0.0</td>\n",
              "      <td>0.0</td>\n",
              "      <td>0.0</td>\n",
              "      <td>0.0</td>\n",
              "      <td>0.0</td>\n",
              "      <td>0.0</td>\n",
              "    </tr>\n",
              "  </tbody>\n",
              "</table>\n",
              "<p>5 rows × 264 columns</p>\n",
              "</div>"
            ],
            "text/plain": [
              "   size  total_sqft  ...  location_Yeshwanthpur  location_other\n",
              "0   4.0      2850.0  ...                    0.0             0.0\n",
              "1   3.0      1630.0  ...                    0.0             0.0\n",
              "2   3.0      1875.0  ...                    0.0             0.0\n",
              "3   3.0      1200.0  ...                    0.0             0.0\n",
              "4   2.0      1235.0  ...                    0.0             0.0\n",
              "\n",
              "[5 rows x 264 columns]"
            ]
          },
          "metadata": {
            "tags": []
          },
          "execution_count": 36
        }
      ]
    },
    {
      "cell_type": "markdown",
      "metadata": {
        "id": "m4QypP20cIWv"
      },
      "source": [
        "###**Split feature and target**"
      ]
    },
    {
      "cell_type": "code",
      "metadata": {
        "id": "tlbWDWOIcKl8"
      },
      "source": [
        "inputs = df7.drop('price', axis=1)\r\n",
        "target = df7.price\r\n",
        "\r\n",
        "x_train, x_test, y_train, y_test = train_test_split(inputs, target, test_size=0.2)"
      ],
      "execution_count": 37,
      "outputs": []
    },
    {
      "cell_type": "markdown",
      "metadata": {
        "id": "F6S4dZiOpkAs"
      },
      "source": [
        "#**Build Machine Learning Model**\r\n",
        "This problem is about the prediction of a house price, so it is a case of regression. We have to solve the problem using regression algorithm."
      ]
    },
    {
      "cell_type": "markdown",
      "metadata": {
        "id": "Gcyi8Hu7mPR1"
      },
      "source": [
        "##**Linear Regression**"
      ]
    },
    {
      "cell_type": "code",
      "metadata": {
        "colab": {
          "base_uri": "https://localhost:8080/"
        },
        "id": "23Pj0CehcrIi",
        "outputId": "92e5b315-5a7d-4b01-e80f-24b7f42bcedd"
      },
      "source": [
        "lr = LinearRegression()\r\n",
        "lr.fit(x_train, y_train)"
      ],
      "execution_count": 38,
      "outputs": [
        {
          "output_type": "execute_result",
          "data": {
            "text/plain": [
              "LinearRegression(copy_X=True, fit_intercept=True, n_jobs=None, normalize=False)"
            ]
          },
          "metadata": {
            "tags": []
          },
          "execution_count": 38
        }
      ]
    },
    {
      "cell_type": "code",
      "metadata": {
        "colab": {
          "base_uri": "https://localhost:8080/"
        },
        "id": "5hEqBm3Cpn_r",
        "outputId": "2d9ca645-362f-497d-cc87-ab1803dc95d1"
      },
      "source": [
        "print(\"Accuracy score\\t: \", lr.score(x_test, y_test))\r\n",
        "print(\"MSE score\\t: \", mean_squared_error(lr.predict(x_test),y_test))"
      ],
      "execution_count": 39,
      "outputs": [
        {
          "output_type": "stream",
          "text": [
            "Accuracy score\t:  0.7883748859835056\n",
            "MSE score\t:  1904.6269355460922\n"
          ],
          "name": "stdout"
        }
      ]
    },
    {
      "cell_type": "markdown",
      "metadata": {
        "id": "yfbFRneHmd6K"
      },
      "source": [
        "**Cross Validation**"
      ]
    },
    {
      "cell_type": "code",
      "metadata": {
        "colab": {
          "base_uri": "https://localhost:8080/"
        },
        "id": "jFhtCV6hqMDi",
        "outputId": "0083fb0a-7c01-4bc9-a726-a8eb0c368ec1"
      },
      "source": [
        "cv = ShuffleSplit(n_splits=5, test_size=0.2, random_state=0)\r\n",
        "cross_val_score(LinearRegression(), inputs, target, cv=cv)"
      ],
      "execution_count": 40,
      "outputs": [
        {
          "output_type": "execute_result",
          "data": {
            "text/plain": [
              "array([0.84785029, 0.83489269, 0.72828605, 0.87685817, 0.7434672 ])"
            ]
          },
          "metadata": {
            "tags": []
          },
          "execution_count": 40
        }
      ]
    },
    {
      "cell_type": "markdown",
      "metadata": {
        "id": "4MbAkfadmg5b"
      },
      "source": [
        "**GridSearchCV function**"
      ]
    },
    {
      "cell_type": "code",
      "metadata": {
        "colab": {
          "base_uri": "https://localhost:8080/",
          "height": 143
        },
        "id": "T1f2mNz5qXPj",
        "outputId": "7d80e896-82f4-44b1-b54a-f93842cac500"
      },
      "source": [
        "#find the best model using gridsearchcv\r\n",
        "def find_best_model(inputs, target):\r\n",
        "  algos = {\r\n",
        "      'linear_regression':{\r\n",
        "          'model':LinearRegression(),\r\n",
        "          'params':{\r\n",
        "              'normalize':[True, False]\r\n",
        "          }\r\n",
        "      },\r\n",
        "      'lasso':{\r\n",
        "          'model':Lasso(),\r\n",
        "          'params':{\r\n",
        "              'alpha':[1,2,3],\r\n",
        "              'selection':['random','cyclic']\r\n",
        "          }\r\n",
        "      },\r\n",
        "      'decision_tree':{\r\n",
        "          'model':DecisionTreeRegressor(),\r\n",
        "          'params':{\r\n",
        "              'criterion':['mse','friedman_mse'],\r\n",
        "              'splitter':['best','random']\r\n",
        "          }\r\n",
        "      },\r\n",
        "  }\r\n",
        "  scores = []\r\n",
        "  cv = ShuffleSplit(n_splits=5, test_size=0.2, random_state=0)\r\n",
        "  for algo_name, config in algos.items():\r\n",
        "    gs = GridSearchCV(config['model'], config['params'], cv=cv, return_train_score=False)\r\n",
        "    gs.fit(inputs, target)\r\n",
        "    scores.append({\r\n",
        "        'model' : algo_name,\r\n",
        "        'best_score' :round(float(gs.best_score_),2),\r\n",
        "        'best_params':gs.best_params_\r\n",
        "    })\r\n",
        "  return pd.DataFrame(scores, columns=['model', 'best_score', 'best_params'])\r\n",
        "\r\n",
        "find_best_model(inputs, target)"
      ],
      "execution_count": 41,
      "outputs": [
        {
          "output_type": "execute_result",
          "data": {
            "text/html": [
              "<div>\n",
              "<style scoped>\n",
              "    .dataframe tbody tr th:only-of-type {\n",
              "        vertical-align: middle;\n",
              "    }\n",
              "\n",
              "    .dataframe tbody tr th {\n",
              "        vertical-align: top;\n",
              "    }\n",
              "\n",
              "    .dataframe thead th {\n",
              "        text-align: right;\n",
              "    }\n",
              "</style>\n",
              "<table border=\"1\" class=\"dataframe\">\n",
              "  <thead>\n",
              "    <tr style=\"text-align: right;\">\n",
              "      <th></th>\n",
              "      <th>model</th>\n",
              "      <th>best_score</th>\n",
              "      <th>best_params</th>\n",
              "    </tr>\n",
              "  </thead>\n",
              "  <tbody>\n",
              "    <tr>\n",
              "      <th>0</th>\n",
              "      <td>linear_regression</td>\n",
              "      <td>0.83</td>\n",
              "      <td>{'normalize': True}</td>\n",
              "    </tr>\n",
              "    <tr>\n",
              "      <th>1</th>\n",
              "      <td>lasso</td>\n",
              "      <td>0.67</td>\n",
              "      <td>{'alpha': 1, 'selection': 'random'}</td>\n",
              "    </tr>\n",
              "    <tr>\n",
              "      <th>2</th>\n",
              "      <td>decision_tree</td>\n",
              "      <td>0.74</td>\n",
              "      <td>{'criterion': 'friedman_mse', 'splitter': 'best'}</td>\n",
              "    </tr>\n",
              "  </tbody>\n",
              "</table>\n",
              "</div>"
            ],
            "text/plain": [
              "               model  ...                                        best_params\n",
              "0  linear_regression  ...                                {'normalize': True}\n",
              "1              lasso  ...                {'alpha': 1, 'selection': 'random'}\n",
              "2      decision_tree  ...  {'criterion': 'friedman_mse', 'splitter': 'best'}\n",
              "\n",
              "[3 rows x 3 columns]"
            ]
          },
          "metadata": {
            "tags": []
          },
          "execution_count": 41
        }
      ]
    },
    {
      "cell_type": "code",
      "metadata": {
        "colab": {
          "base_uri": "https://localhost:8080/"
        },
        "id": "DKB9cKi2TanM",
        "outputId": "91b91310-3218-43b4-c1fa-76b67b259c18"
      },
      "source": [
        "clf_model = LinearRegression(normalize=True)\r\n",
        "clf_model.fit(x_train, y_train)"
      ],
      "execution_count": 42,
      "outputs": [
        {
          "output_type": "execute_result",
          "data": {
            "text/plain": [
              "LinearRegression(copy_X=True, fit_intercept=True, n_jobs=None, normalize=True)"
            ]
          },
          "metadata": {
            "tags": []
          },
          "execution_count": 42
        }
      ]
    },
    {
      "cell_type": "markdown",
      "metadata": {
        "id": "NOYqiCWMHVqE"
      },
      "source": [
        "##**Predict New Data**"
      ]
    },
    {
      "cell_type": "code",
      "metadata": {
        "colab": {
          "base_uri": "https://localhost:8080/"
        },
        "id": "NuKIFZA9OMro",
        "outputId": "fceecced-a682-4b8e-e42d-6956cae30433"
      },
      "source": [
        "#test get column index\r\n",
        "def get_col (area_type):\r\n",
        "  area_index = np.where(inputs.columns==('area_type_'+area_type))\r\n",
        "  print(area_index)\r\n",
        "\r\n",
        "get_col('Carpet Area')"
      ],
      "execution_count": 43,
      "outputs": [
        {
          "output_type": "stream",
          "text": [
            "(array([5]),)\n"
          ],
          "name": "stdout"
        }
      ]
    },
    {
      "cell_type": "code",
      "metadata": {
        "id": "KNXtcbuqEysm"
      },
      "source": [
        "def predict_price(area_type, location, bedroom, bathroom, sqft, balcony):\r\n",
        "  area_index = np.where(inputs.columns==('area_type_'+area_type))\r\n",
        "  location_index = np.where(inputs.columns==('location_'+location))\r\n",
        "\r\n",
        "  data = np.zeros(len(inputs.columns))\r\n",
        "  data[0] = bedroom\r\n",
        "  data[1] = sqft\r\n",
        "  data[2] = bathroom\r\n",
        "  data[3] = balcony\r\n",
        "  data[area_index] = 1\r\n",
        "  data[location_index] = 1\r\n",
        "\r\n",
        "  return clf_model.predict([data])[0]"
      ],
      "execution_count": 44,
      "outputs": []
    },
    {
      "cell_type": "code",
      "metadata": {
        "colab": {
          "base_uri": "https://localhost:8080/"
        },
        "id": "PAW0Vk5HNymP",
        "outputId": "9378d2ca-860c-4abd-fe8d-e120302c449d"
      },
      "source": [
        "# area_type ['Super built-up  Area', 'Plot  Area', 'Built-up  Area','Carpet  Area']\r\n",
        "# location example ['1st Block Jayanagar', '1st Block Koramangala', '1st Phase JP Nagar', '2nd Phase Judicial Layout', '2nd Stage Nagarbhavi']\r\n",
        "print(\"Estimate Price: \",predict_price('Plot Area', '1st Block Jayanagar',3,2,1200,2))"
      ],
      "execution_count": 45,
      "outputs": [
        {
          "output_type": "stream",
          "text": [
            "Estimate Price:  229.65625\n"
          ],
          "name": "stdout"
        }
      ]
    },
    {
      "cell_type": "markdown",
      "metadata": {
        "id": "BpjskPrrWdRz"
      },
      "source": [
        "##**Save the Model in pickle format**"
      ]
    },
    {
      "cell_type": "code",
      "metadata": {
        "id": "gXxozS6AN0ze"
      },
      "source": [
        "#pickle model\r\n",
        "with open('bengalor_model.pickle','wb') as f:\r\n",
        "  pickle.dump(clf_model,f)"
      ],
      "execution_count": 46,
      "outputs": []
    },
    {
      "cell_type": "code",
      "metadata": {
        "id": "3hXAh7jWWyjY"
      },
      "source": [
        "#save the columns name in json format\r\n",
        "columns = {\r\n",
        "    'data_columns' : [col.lower() for col in inputs.columns]\r\n",
        "}\r\n",
        "\r\n",
        "with open('columns.json','w') as f:\r\n",
        "  f.write(json.dumps(columns))"
      ],
      "execution_count": 47,
      "outputs": []
    }
  ]
}