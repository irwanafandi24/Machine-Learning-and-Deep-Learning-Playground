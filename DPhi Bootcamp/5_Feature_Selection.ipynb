{
  "nbformat": 4,
  "nbformat_minor": 0,
  "metadata": {
    "colab": {
      "name": "DPhi Day 7 - Feature Selection.ipynb",
      "provenance": [],
      "collapsed_sections": []
    },
    "kernelspec": {
      "name": "python3",
      "display_name": "Python 3"
    }
  },
  "cells": [
    {
      "cell_type": "markdown",
      "metadata": {
        "id": "LVUBnGbZlDBz"
      },
      "source": [
        "#**Implementing Feature Selection**\r\n",
        "Feature selection is the process of reducing the number of input variables when developing a predictive model. The goals of applying feature selection to our model is <i>removing irrelevant feature (features that do not really play a role in determining the data class) and reducing the time complexity of our model.</i> **But you have to know that**:\r\n",
        "- Doing feature selection does not always improve the model accuracy (but the goal is to improve model accuracy)\r\n",
        "- Feature selection always speeds up the modeling process, because it's reducting the dimension of the dataset.\r\n",
        "\r\n",
        "Following are the selection features that will be discussed in this module:\r\n",
        "<ol>\r\n",
        "  <li>Recursive Feature Elimination (RFE)</li>\r\n",
        "  <li>Feature Importance</li>\r\n",
        "  <li>Boruta</li>\r\n",
        "  <li>Plot Importance - XGBoost</li>\r\n",
        "</ol>   "
      ]
    },
    {
      "cell_type": "code",
      "metadata": {
        "id": "m5Etq1lULWNm"
      },
      "source": [
        "import pandas as pd\r\n",
        "import numpy as np\r\n",
        "import matplotlib.pyplot as plt\r\n",
        "import seaborn as sns\r\n",
        "sns.set()\r\n",
        "\r\n",
        "from sklearn.model_selection import train_test_split\r\n",
        "from sklearn.linear_model import LogisticRegression\r\n",
        "from sklearn.ensemble import RandomForestClassifier\r\n",
        "from sklearn.metrics import accuracy_score, f1_score\r\n",
        "\r\n",
        "from sklearn.feature_selection import RFE\r\n",
        "from sklearn.feature_selection import SelectFromModel\r\n",
        "\r\n",
        "import warnings\r\n",
        "warnings.filterwarnings('ignore')"
      ],
      "execution_count": 31,
      "outputs": []
    },
    {
      "cell_type": "markdown",
      "metadata": {
        "id": "IwvxOfhvNnH_"
      },
      "source": [
        "###**Read the dataframe**"
      ]
    },
    {
      "cell_type": "code",
      "metadata": {
        "colab": {
          "base_uri": "https://localhost:8080/",
          "height": 206
        },
        "id": "frXitRoSLp5W",
        "outputId": "30992c61-5c06-46d6-dd7f-c3d5e3d6b4f5"
      },
      "source": [
        "#read the data from url and set the column name\r\n",
        "col = ['preg', 'glucose', 'bp', 'skin', 'insulin', 'bmi', 'pedi', 'age', 'class']\r\n",
        "df = pd.read_csv(\"https://raw.githubusercontent.com/dphi-official/Datasets/master/pima-indians-diabetes.csv\", names=col)\r\n",
        "df.head()"
      ],
      "execution_count": 32,
      "outputs": [
        {
          "output_type": "execute_result",
          "data": {
            "text/html": [
              "<div>\n",
              "<style scoped>\n",
              "    .dataframe tbody tr th:only-of-type {\n",
              "        vertical-align: middle;\n",
              "    }\n",
              "\n",
              "    .dataframe tbody tr th {\n",
              "        vertical-align: top;\n",
              "    }\n",
              "\n",
              "    .dataframe thead th {\n",
              "        text-align: right;\n",
              "    }\n",
              "</style>\n",
              "<table border=\"1\" class=\"dataframe\">\n",
              "  <thead>\n",
              "    <tr style=\"text-align: right;\">\n",
              "      <th></th>\n",
              "      <th>preg</th>\n",
              "      <th>glucose</th>\n",
              "      <th>bp</th>\n",
              "      <th>skin</th>\n",
              "      <th>insulin</th>\n",
              "      <th>bmi</th>\n",
              "      <th>pedi</th>\n",
              "      <th>age</th>\n",
              "      <th>class</th>\n",
              "    </tr>\n",
              "  </thead>\n",
              "  <tbody>\n",
              "    <tr>\n",
              "      <th>0</th>\n",
              "      <td>6</td>\n",
              "      <td>148</td>\n",
              "      <td>72</td>\n",
              "      <td>35</td>\n",
              "      <td>0</td>\n",
              "      <td>33.6</td>\n",
              "      <td>0.627</td>\n",
              "      <td>50</td>\n",
              "      <td>1</td>\n",
              "    </tr>\n",
              "    <tr>\n",
              "      <th>1</th>\n",
              "      <td>1</td>\n",
              "      <td>85</td>\n",
              "      <td>66</td>\n",
              "      <td>29</td>\n",
              "      <td>0</td>\n",
              "      <td>26.6</td>\n",
              "      <td>0.351</td>\n",
              "      <td>31</td>\n",
              "      <td>0</td>\n",
              "    </tr>\n",
              "    <tr>\n",
              "      <th>2</th>\n",
              "      <td>8</td>\n",
              "      <td>183</td>\n",
              "      <td>64</td>\n",
              "      <td>0</td>\n",
              "      <td>0</td>\n",
              "      <td>23.3</td>\n",
              "      <td>0.672</td>\n",
              "      <td>32</td>\n",
              "      <td>1</td>\n",
              "    </tr>\n",
              "    <tr>\n",
              "      <th>3</th>\n",
              "      <td>1</td>\n",
              "      <td>89</td>\n",
              "      <td>66</td>\n",
              "      <td>23</td>\n",
              "      <td>94</td>\n",
              "      <td>28.1</td>\n",
              "      <td>0.167</td>\n",
              "      <td>21</td>\n",
              "      <td>0</td>\n",
              "    </tr>\n",
              "    <tr>\n",
              "      <th>4</th>\n",
              "      <td>0</td>\n",
              "      <td>137</td>\n",
              "      <td>40</td>\n",
              "      <td>35</td>\n",
              "      <td>168</td>\n",
              "      <td>43.1</td>\n",
              "      <td>2.288</td>\n",
              "      <td>33</td>\n",
              "      <td>1</td>\n",
              "    </tr>\n",
              "  </tbody>\n",
              "</table>\n",
              "</div>"
            ],
            "text/plain": [
              "   preg  glucose  bp  skin  insulin   bmi   pedi  age  class\n",
              "0     6      148  72    35        0  33.6  0.627   50      1\n",
              "1     1       85  66    29        0  26.6  0.351   31      0\n",
              "2     8      183  64     0        0  23.3  0.672   32      1\n",
              "3     1       89  66    23       94  28.1  0.167   21      0\n",
              "4     0      137  40    35      168  43.1  2.288   33      1"
            ]
          },
          "metadata": {
            "tags": []
          },
          "execution_count": 32
        }
      ]
    },
    {
      "cell_type": "code",
      "metadata": {
        "colab": {
          "base_uri": "https://localhost:8080/"
        },
        "id": "Jc7krbfxLsr7",
        "outputId": "91d11732-a7fb-4274-a677-0d5f0fa8cf60"
      },
      "source": [
        "#check missing value and data type\r\n",
        "df.info()"
      ],
      "execution_count": 33,
      "outputs": [
        {
          "output_type": "stream",
          "text": [
            "<class 'pandas.core.frame.DataFrame'>\n",
            "RangeIndex: 768 entries, 0 to 767\n",
            "Data columns (total 9 columns):\n",
            " #   Column   Non-Null Count  Dtype  \n",
            "---  ------   --------------  -----  \n",
            " 0   preg     768 non-null    int64  \n",
            " 1   glucose  768 non-null    int64  \n",
            " 2   bp       768 non-null    int64  \n",
            " 3   skin     768 non-null    int64  \n",
            " 4   insulin  768 non-null    int64  \n",
            " 5   bmi      768 non-null    float64\n",
            " 6   pedi     768 non-null    float64\n",
            " 7   age      768 non-null    int64  \n",
            " 8   class    768 non-null    int64  \n",
            "dtypes: float64(2), int64(7)\n",
            "memory usage: 54.1 KB\n"
          ],
          "name": "stdout"
        }
      ]
    },
    {
      "cell_type": "markdown",
      "metadata": {
        "id": "fKFbz1SnNp2p"
      },
      "source": [
        "###**Correlation Matrix with Heatmap**"
      ]
    },
    {
      "cell_type": "code",
      "metadata": {
        "colab": {
          "base_uri": "https://localhost:8080/",
          "height": 435
        },
        "id": "M9ydsnj2NigV",
        "outputId": "67de777c-c8e9-47fa-94cb-c8d97b22be88"
      },
      "source": [
        "plt.figure(figsize=(12,7))\r\n",
        "sns.heatmap(df.corr(), annot=True)\r\n",
        "plt.show()"
      ],
      "execution_count": 34,
      "outputs": [
        {
          "output_type": "display_data",
          "data": {
            "image/png": "[encoded data removed]",
            "text/plain": [
              "<Figure size 864x504 with 2 Axes>"
            ]
          },
          "metadata": {
            "tags": []
          }
        }
      ]
    },
    {
      "cell_type": "markdown",
      "metadata": {
        "id": "3grnDqf0Pzit"
      },
      "source": [
        "We can see from an intial analysis of the heatmap that glucose, bmi, age, preg, pedi and insulin are the top 6 features that have relatively high correlation(positive) with the target. It means that as they increase, the chance get diabetes of the patient also increase. Age, and preg are highly correlated with each other.\r\n",
        "<br><br>\r\n",
        "Now, you might say why note remove irrelevant features by intuition or just looking at the heatmap? In general, <b>it isn't advisable to be influenced by one's bias or intuition</b>."
      ]
    },
    {
      "cell_type": "markdown",
      "metadata": {
        "id": "P63Gcp9qQjiv"
      },
      "source": [
        "###**Split the data**\r\n",
        "<b>Note:</b> we shold split the data before preprocessing step to prevent data leakage (when your preprocessing know your test characteristic)."
      ]
    },
    {
      "cell_type": "code",
      "metadata": {
        "id": "ijoIHoJnN_M2"
      },
      "source": [
        "input = df.drop('class', axis=1)\r\n",
        "output = df['class']\r\n",
        "\r\n",
        "x_train, x_test, y_train, y_test = train_test_split(input, output, test_size=0.33, random_state=1)"
      ],
      "execution_count": 35,
      "outputs": []
    },
    {
      "cell_type": "markdown",
      "metadata": {
        "id": "yZeq7XLPSJJD"
      },
      "source": [
        "###**Basic Steps**\r\n",
        "- Train a baseline classifier (any classifier like logistic regression or random forest trained with all the features in dataset)\r\n",
        "- Identify the most impratant features using a feature selection technique.\r\n",
        "- Create a new 'limited features' dataset containing only those features.\r\n",
        "- Train a second classifier on this dataset.\r\n",
        "- Compare the accuracy of the 'full featured' (baseline) to the accuracy of the 'limited featured' (new) classifier."
      ]
    },
    {
      "cell_type": "markdown",
      "metadata": {
        "id": "eVuYalANR3dY"
      },
      "source": [
        "###**Feature Selection 1 - Recursive Feature Elimination (RFE)**"
      ]
    },
    {
      "cell_type": "code",
      "metadata": {
        "colab": {
          "base_uri": "https://localhost:8080/"
        },
        "id": "qtzMy5iCQ-rE",
        "outputId": "f133aafa-1c0f-4801-b8af-1a31fac73d38"
      },
      "source": [
        "lr = LogisticRegression(random_state=1)\r\n",
        "lr_baseline_model = lr.fit(x_train, y_train)\r\n",
        "\r\n",
        "print(\"Baseline Accuracy Score: \", accuracy_score(lr_baseline_model.predict(x_test), y_test))\r\n",
        "print(\"Baseline F1 Score: \", f1_score(lr_baseline_model.predict(x_test), y_test))"
      ],
      "execution_count": 36,
      "outputs": [
        {
          "output_type": "stream",
          "text": [
            "Baseline Accuracy Score:  0.7795275590551181\n",
            "Baseline F1 Score:  0.6455696202531646\n"
          ],
          "name": "stdout"
        }
      ]
    },
    {
      "cell_type": "markdown",
      "metadata": {
        "id": "4rwdxxgDUDYv"
      },
      "source": [
        "<b>Applying RFE</b>"
      ]
    },
    {
      "cell_type": "code",
      "metadata": {
        "colab": {
          "base_uri": "https://localhost:8080/"
        },
        "id": "0Zb7nokWREB-",
        "outputId": "6db9aabe-9550-4e36-e8a5-989cf748442f"
      },
      "source": [
        "# estomator is the model that we want to use\r\n",
        "# step : removes one of the feature at a time and then builds a model on the remaining features. You can also set to 2,3, etc (take top-n features)\r\n",
        "rfe = RFE(estimator=lr, step=1)\r\n",
        "rfe_fit = rfe.fit(x_train, y_train)\r\n",
        "\r\n",
        "print('Num Features\\t\\t: %d' %rfe_fit.n_features_)\r\n",
        "print('Selected Features\\t: %s' %rfe_fit.support_)\r\n",
        "print('Feature Ranking\\t\\t: %s' %rfe_fit.ranking_)"
      ],
      "execution_count": 37,
      "outputs": [
        {
          "output_type": "stream",
          "text": [
            "Num Features\t\t: 4\n",
            "Selected Features\t: [ True  True False False False  True  True False]\n",
            "Feature Ranking\t\t: [1 1 3 4 5 1 1 2]\n"
          ],
          "name": "stdout"
        }
      ]
    },
    {
      "cell_type": "code",
      "metadata": {
        "colab": {
          "base_uri": "https://localhost:8080/",
          "height": 300
        },
        "id": "DahzpsxIVnLg",
        "outputId": "6c8e5095-573c-44bd-d26f-baf0ce4ed260"
      },
      "source": [
        "selected_feature = pd.DataFrame({'Features':list(x_train.columns),\r\n",
        "                                 'Ranking':rfe.ranking_})\r\n",
        "selected_feature.sort_values(by='Ranking')"
      ],
      "execution_count": 38,
      "outputs": [
        {
          "output_type": "execute_result",
          "data": {
            "text/html": [
              "<div>\n",
              "<style scoped>\n",
              "    .dataframe tbody tr th:only-of-type {\n",
              "        vertical-align: middle;\n",
              "    }\n",
              "\n",
              "    .dataframe tbody tr th {\n",
              "        vertical-align: top;\n",
              "    }\n",
              "\n",
              "    .dataframe thead th {\n",
              "        text-align: right;\n",
              "    }\n",
              "</style>\n",
              "<table border=\"1\" class=\"dataframe\">\n",
              "  <thead>\n",
              "    <tr style=\"text-align: right;\">\n",
              "      <th></th>\n",
              "      <th>Features</th>\n",
              "      <th>Ranking</th>\n",
              "    </tr>\n",
              "  </thead>\n",
              "  <tbody>\n",
              "    <tr>\n",
              "      <th>0</th>\n",
              "      <td>preg</td>\n",
              "      <td>1</td>\n",
              "    </tr>\n",
              "    <tr>\n",
              "      <th>1</th>\n",
              "      <td>glucose</td>\n",
              "      <td>1</td>\n",
              "    </tr>\n",
              "    <tr>\n",
              "      <th>5</th>\n",
              "      <td>bmi</td>\n",
              "      <td>1</td>\n",
              "    </tr>\n",
              "    <tr>\n",
              "      <th>6</th>\n",
              "      <td>pedi</td>\n",
              "      <td>1</td>\n",
              "    </tr>\n",
              "    <tr>\n",
              "      <th>7</th>\n",
              "      <td>age</td>\n",
              "      <td>2</td>\n",
              "    </tr>\n",
              "    <tr>\n",
              "      <th>2</th>\n",
              "      <td>bp</td>\n",
              "      <td>3</td>\n",
              "    </tr>\n",
              "    <tr>\n",
              "      <th>3</th>\n",
              "      <td>skin</td>\n",
              "      <td>4</td>\n",
              "    </tr>\n",
              "    <tr>\n",
              "      <th>4</th>\n",
              "      <td>insulin</td>\n",
              "      <td>5</td>\n",
              "    </tr>\n",
              "  </tbody>\n",
              "</table>\n",
              "</div>"
            ],
            "text/plain": [
              "  Features  Ranking\n",
              "0     preg        1\n",
              "1  glucose        1\n",
              "5      bmi        1\n",
              "6     pedi        1\n",
              "7      age        2\n",
              "2       bp        3\n",
              "3     skin        4\n",
              "4  insulin        5"
            ]
          },
          "metadata": {
            "tags": []
          },
          "execution_count": 38
        }
      ]
    },
    {
      "cell_type": "markdown",
      "metadata": {
        "id": "iBQZEZXAW3ZA"
      },
      "source": [
        "From that data we can say that \"RFE gives preg, glucose, bmi and pedi\" at the first rank"
      ]
    },
    {
      "cell_type": "markdown",
      "metadata": {
        "id": "XP9tb2cEXUHu"
      },
      "source": [
        "<b>Create a new subset of the data with only the selected features</b>"
      ]
    },
    {
      "cell_type": "code",
      "metadata": {
        "colab": {
          "base_uri": "https://localhost:8080/"
        },
        "id": "CXzdI-9LWx1x",
        "outputId": "4dbebb9e-6d75-4a19-c21f-b9dade003851"
      },
      "source": [
        "#transform\r\n",
        "x_train_rfe = rfe.transform(x_train)\r\n",
        "x_test_rfe = rfe.transform(x_test)\r\n",
        "\r\n",
        "#fit the model with our selected data\r\n",
        "lr_rfe_model = lr.fit(x_train_rfe, y_train)\r\n",
        "\r\n",
        "#model performance with feature selection\r\n",
        "print(\"RFE Accuracy Score: \", accuracy_score(lr_rfe_model.predict(x_test_rfe), y_test))\r\n",
        "print(\"RFE F1 Score: \", f1_score(lr_rfe_model.predict(x_test_rfe), y_test))"
      ],
      "execution_count": 39,
      "outputs": [
        {
          "output_type": "stream",
          "text": [
            "RFE Accuracy Score:  0.7795275590551181\n",
            "RFE F1 Score:  0.641025641025641\n"
          ],
          "name": "stdout"
        }
      ]
    },
    {
      "cell_type": "markdown",
      "metadata": {
        "id": "nib8FbgRGKFY"
      },
      "source": [
        "**Conclusion**<br>\r\n",
        "- The model accuracy for complete dataset and dataset with feature selection is the same : 77.953%. But complete dataset has slightly better F1-score (64.6%) than dataset with feature selection (64.1%).\r\n",
        "- Althought feature selection doesn't make the better accuracy, but model with feature selection data faster than without feature selection. \r\n",
        "- Because the difference in accuracy is very small, so I recommend using feature selection data to reduce the time complexity."
      ]
    },
    {
      "cell_type": "markdown",
      "metadata": {
        "id": "CYJzeDGHb8m3"
      },
      "source": [
        "###**Feature Selection 2 - Feature Imprtance Using Random Forest**"
      ]
    },
    {
      "cell_type": "code",
      "metadata": {
        "colab": {
          "base_uri": "https://localhost:8080/",
          "height": 268
        },
        "id": "Fl3MwERncAT6",
        "outputId": "4f87d187-1094-4b15-93a0-27060ea2c13b"
      },
      "source": [
        "rf = RandomForestClassifier(n_estimators=1000, random_state=1, n_jobs=-1)\r\n",
        "rf.fit(x_train, y_train)\r\n",
        "\r\n",
        "#get the feature importance from model\r\n",
        "feature_imp = pd.Series(rf.feature_importances_, index = x_train.columns)\r\n",
        "feature_imp.nlargest(10).plot(kind='barh')\r\n",
        "plt.show()"
      ],
      "execution_count": 40,
      "outputs": [
        {
          "output_type": "display_data",
          "data": {
            "image/png": "[encoded data removed]",
            "text/plain": [
              "<Figure size 432x288 with 1 Axes>"
            ]
          },
          "metadata": {
            "tags": []
          }
        }
      ]
    },
    {
      "cell_type": "markdown",
      "metadata": {
        "id": "4bywqx0kaAor"
      },
      "source": [
        "sum of all feature importances above is 100%, and we can see that the 4 higher feature importance is glucose, bmi, age and pdi (like FRE result). And the sum of imprtance feature is about (0.24+0.17+0.13+0.125) = 66,5%"
      ]
    },
    {
      "cell_type": "markdown",
      "metadata": {
        "id": "FvVM4frHdVMM"
      },
      "source": [
        "<b>Identify and select most important features</b>"
      ]
    },
    {
      "cell_type": "code",
      "metadata": {
        "id": "mvpQcruUX7Jt"
      },
      "source": [
        "#it will select the features based on the importance score\r\n",
        "rf_select_feature = SelectFromModel(rf)\r\n",
        "# rf_select_feature = SelectFromModel(rf, threshold=0.13), but if you don't set the threshold, it's oky\r\n",
        "\r\n",
        "#train the selected feature\r\n",
        "rf_sf = rf_select_feature.fit(x_train, y_train)"
      ],
      "execution_count": 41,
      "outputs": []
    },
    {
      "cell_type": "markdown",
      "metadata": {
        "id": "QEHEyxL7eZ9h"
      },
      "source": [
        "<b>Create a new subset of the data with only the selected features</b>"
      ]
    },
    {
      "cell_type": "code",
      "metadata": {
        "id": "_86lrhBKc9vC"
      },
      "source": [
        "x_imp_train = rf_sf.transform(x_train)\r\n",
        "x_imp_test = rf_sf.transform(x_test)"
      ],
      "execution_count": 42,
      "outputs": []
    },
    {
      "cell_type": "code",
      "metadata": {
        "colab": {
          "base_uri": "https://localhost:8080/"
        },
        "id": "GFQWntV3JgLX",
        "outputId": "d5c333fd-1c1b-48db-e8d3-f2402683f46c"
      },
      "source": [
        "x_imp_train[0] #we can see that the model just use this feature (4 from 8)"
      ],
      "execution_count": 43,
      "outputs": [
        {
          "output_type": "execute_result",
          "data": {
            "text/plain": [
              "array([108.   ,  35.5  ,   0.415,  24.   ])"
            ]
          },
          "metadata": {
            "tags": []
          },
          "execution_count": 43
        }
      ]
    },
    {
      "cell_type": "markdown",
      "metadata": {
        "id": "ywNaKw-0e2mQ"
      },
      "source": [
        "<b>Train a new RF Classifier model using selected important features</b>"
      ]
    },
    {
      "cell_type": "code",
      "metadata": {
        "id": "E8xkCPuneu_7"
      },
      "source": [
        "rf_imp_model = RandomForestClassifier(n_estimators=1000, random_state=1, n_jobs=-1)\r\n",
        "rf_imp_model = rf_imp_model.fit(x_imp_train, y_train)"
      ],
      "execution_count": 44,
      "outputs": []
    },
    {
      "cell_type": "markdown",
      "metadata": {
        "id": "1gJLJsm-fnis"
      },
      "source": [
        "<b>Comparasion of the model performance</b>"
      ]
    },
    {
      "cell_type": "code",
      "metadata": {
        "colab": {
          "base_uri": "https://localhost:8080/"
        },
        "id": "2lb6Mh8ifmb8",
        "outputId": "699e27c5-6cac-4156-a2e5-792c9a6bcca3"
      },
      "source": [
        "#model performance with feature selection\r\n",
        "print(\"RF Baseline Accuracy Score\\t: \", accuracy_score(rf.predict(x_test), y_test))\r\n",
        "print(\"RF Baseline F1 Score\\t\\t: \", f1_score(rf.predict(x_test), y_test))\r\n",
        "print()\r\n",
        "print(\"RF Baseline Accuracy Score\\t: \", accuracy_score(rf_imp_model.predict(x_imp_test), y_test))\r\n",
        "print(\"RF Baseline F1 Score\\t\\t: \", f1_score(rf_imp_model.predict(x_imp_test), y_test))"
      ],
      "execution_count": 48,
      "outputs": [
        {
          "output_type": "stream",
          "text": [
            "RF Baseline Accuracy Score\t:  0.7834645669291339\n",
            "RF Baseline F1 Score\t\t:  0.6583850931677019\n",
            "\n",
            "RF Baseline Accuracy Score\t:  0.7755905511811023\n",
            "RF Baseline F1 Score\t\t:  0.6586826347305389\n"
          ],
          "name": "stdout"
        }
      ]
    },
    {
      "cell_type": "markdown",
      "metadata": {
        "id": "tHGcvqHgJyjM"
      },
      "source": [
        "**Conclussion**\r\n",
        "- Althought we drop some features (from 8 to 4), but the accuracy from the model is not really different while the F1 score is still the same. It means that 4 other features are not very influential in determining the data class. So we can drop the feature (use feature selection)."
      ]
    },
    {
      "cell_type": "markdown",
      "metadata": {
        "id": "E534Twiwj4xa"
      },
      "source": [
        "###**Feature Selection 3 - Boruta**\r\n",
        "Boruta tries to capture all the important and interesting features you might have in your dataset with respect to the target variable. Unlike other techniques that select small set of features to minimize the error. By default, bouruta uses random forest although it works with other algorithms like LightGBM, XGBoost etc."
      ]
    },
    {
      "cell_type": "code",
      "metadata": {
        "id": "y-5g7j6-gg2C",
        "colab": {
          "base_uri": "https://localhost:8080/"
        },
        "outputId": "a750905f-9c85-4726-c382-ec8a476662c6"
      },
      "source": [
        "#install library\r\n",
        "!pip install Boruta"
      ],
      "execution_count": 49,
      "outputs": [
        {
          "output_type": "stream",
          "text": [
            "Requirement already satisfied: Boruta in /usr/local/lib/python3.6/dist-packages (0.3)\n",
            "Requirement already satisfied: scikit-learn>=0.17.1 in /usr/local/lib/python3.6/dist-packages (from Boruta) (0.22.2.post1)\n",
            "Requirement already satisfied: scipy>=0.17.0 in /usr/local/lib/python3.6/dist-packages (from Boruta) (1.4.1)\n",
            "Requirement already satisfied: numpy>=1.10.4 in /usr/local/lib/python3.6/dist-packages (from Boruta) (1.19.5)\n",
            "Requirement already satisfied: joblib>=0.11 in /usr/local/lib/python3.6/dist-packages (from scikit-learn>=0.17.1->Boruta) (1.0.0)\n"
          ],
          "name": "stdout"
        }
      ]
    },
    {
      "cell_type": "code",
      "metadata": {
        "id": "71gsJDZmxAaV"
      },
      "source": [
        "#import library\r\n",
        "from boruta import BorutaPy"
      ],
      "execution_count": 50,
      "outputs": []
    },
    {
      "cell_type": "markdown",
      "metadata": {
        "id": "hx0qAwsT0LpJ"
      },
      "source": [
        "**Build the baseline model**"
      ]
    },
    {
      "cell_type": "code",
      "metadata": {
        "id": "22Lk_g8Iwk0Y"
      },
      "source": [
        "model = RandomForestClassifier(n_estimators=150, n_jobs=-1, random_state=1, max_depth=7)\r\n",
        "model.fit(x_train, y_train)\r\n",
        "\r\n",
        "#predict the baseline model\r\n",
        "y_pred = model.predict(x_test)\r\n",
        "base_acc = accuracy_score(y_pred, y_test)\r\n",
        "base_f1 = f1_score(y_pred, y_test)"
      ],
      "execution_count": 51,
      "outputs": []
    },
    {
      "cell_type": "markdown",
      "metadata": {
        "id": "_om2RIqV0QFA"
      },
      "source": [
        "**Applying Boruta**"
      ]
    },
    {
      "cell_type": "code",
      "metadata": {
        "colab": {
          "base_uri": "https://localhost:8080/"
        },
        "id": "RGaKRjp20Pn_",
        "outputId": "055bcbd2-23a7-4156-dc69-8f96e51729ad"
      },
      "source": [
        "boruta_selector = BorutaPy(model, n_estimators='auto', random_state=1)\r\n",
        "boruta_selector.fit(np.array(x_train), np.array(y_train))"
      ],
      "execution_count": 52,
      "outputs": [
        {
          "output_type": "execute_result",
          "data": {
            "text/plain": [
              "BorutaPy(alpha=0.05,\n",
              "         estimator=RandomForestClassifier(bootstrap=True, ccp_alpha=0.0,\n",
              "                                          class_weight=None, criterion='gini',\n",
              "                                          max_depth=7, max_features='auto',\n",
              "                                          max_leaf_nodes=None, max_samples=None,\n",
              "                                          min_impurity_decrease=0.0,\n",
              "                                          min_impurity_split=None,\n",
              "                                          min_samples_leaf=1,\n",
              "                                          min_samples_split=2,\n",
              "                                          min_weight_fraction_leaf=0.0,\n",
              "                                          n_estimators=45, n_jobs=-1,\n",
              "                                          oob_score=False,\n",
              "                                          random_state=RandomState(MT19937) at 0x7F9AA9576258,\n",
              "                                          verbose=0, warm_start=False),\n",
              "         max_iter=100, n_estimators='auto', perc=100,\n",
              "         random_state=RandomState(MT19937) at 0x7F9AA9576258, two_step=True,\n",
              "         verbose=0)"
            ]
          },
          "metadata": {
            "tags": []
          },
          "execution_count": 52
        }
      ]
    },
    {
      "cell_type": "code",
      "metadata": {
        "colab": {
          "base_uri": "https://localhost:8080/"
        },
        "id": "l_27Pkf107m5",
        "outputId": "66f28f76-f12c-48b1-8273-633aacf5ca63"
      },
      "source": [
        "# check selected features\r\n",
        "print(\"Selected Features: \", boruta_selector.support_)\r\n",
        " \r\n",
        "# check ranking of features\r\n",
        "print(\"Ranking: \",boruta_selector.ranking_)\r\n",
        "\r\n",
        "print(\"No. of significant features: \", boruta_selector.n_features_)"
      ],
      "execution_count": 53,
      "outputs": [
        {
          "output_type": "stream",
          "text": [
            "Selected Features:  [False  True False False False  True  True  True]\n",
            "Ranking:  [3 1 3 5 2 1 1 1]\n",
            "No. of significant features:  4\n"
          ],
          "name": "stdout"
        }
      ]
    },
    {
      "cell_type": "code",
      "metadata": {
        "colab": {
          "base_uri": "https://localhost:8080/",
          "height": 300
        },
        "id": "myogH8LD07i8",
        "outputId": "533dd61b-2da4-4f64-fb71-4dc9f4ecb1a4"
      },
      "source": [
        "boruta_features = pd.DataFrame({'Feature':list(x_train.columns),\r\n",
        "                                'Ranking':boruta_selector.ranking_})\r\n",
        "boruta_features.sort_values(by='Ranking')"
      ],
      "execution_count": 54,
      "outputs": [
        {
          "output_type": "execute_result",
          "data": {
            "text/html": [
              "<div>\n",
              "<style scoped>\n",
              "    .dataframe tbody tr th:only-of-type {\n",
              "        vertical-align: middle;\n",
              "    }\n",
              "\n",
              "    .dataframe tbody tr th {\n",
              "        vertical-align: top;\n",
              "    }\n",
              "\n",
              "    .dataframe thead th {\n",
              "        text-align: right;\n",
              "    }\n",
              "</style>\n",
              "<table border=\"1\" class=\"dataframe\">\n",
              "  <thead>\n",
              "    <tr style=\"text-align: right;\">\n",
              "      <th></th>\n",
              "      <th>Feature</th>\n",
              "      <th>Ranking</th>\n",
              "    </tr>\n",
              "  </thead>\n",
              "  <tbody>\n",
              "    <tr>\n",
              "      <th>1</th>\n",
              "      <td>glucose</td>\n",
              "      <td>1</td>\n",
              "    </tr>\n",
              "    <tr>\n",
              "      <th>5</th>\n",
              "      <td>bmi</td>\n",
              "      <td>1</td>\n",
              "    </tr>\n",
              "    <tr>\n",
              "      <th>6</th>\n",
              "      <td>pedi</td>\n",
              "      <td>1</td>\n",
              "    </tr>\n",
              "    <tr>\n",
              "      <th>7</th>\n",
              "      <td>age</td>\n",
              "      <td>1</td>\n",
              "    </tr>\n",
              "    <tr>\n",
              "      <th>4</th>\n",
              "      <td>insulin</td>\n",
              "      <td>2</td>\n",
              "    </tr>\n",
              "    <tr>\n",
              "      <th>0</th>\n",
              "      <td>preg</td>\n",
              "      <td>3</td>\n",
              "    </tr>\n",
              "    <tr>\n",
              "      <th>2</th>\n",
              "      <td>bp</td>\n",
              "      <td>3</td>\n",
              "    </tr>\n",
              "    <tr>\n",
              "      <th>3</th>\n",
              "      <td>skin</td>\n",
              "      <td>5</td>\n",
              "    </tr>\n",
              "  </tbody>\n",
              "</table>\n",
              "</div>"
            ],
            "text/plain": [
              "   Feature  Ranking\n",
              "1  glucose        1\n",
              "5      bmi        1\n",
              "6     pedi        1\n",
              "7      age        1\n",
              "4  insulin        2\n",
              "0     preg        3\n",
              "2       bp        3\n",
              "3     skin        5"
            ]
          },
          "metadata": {
            "tags": []
          },
          "execution_count": 54
        }
      ]
    },
    {
      "cell_type": "markdown",
      "metadata": {
        "id": "_TwiHjue1laV"
      },
      "source": [
        "By using boruta model selection, we got 4 feature in the first rank i.e. glucose, bmi, pedi and age."
      ]
    },
    {
      "cell_type": "markdown",
      "metadata": {
        "id": "LB73dJFY15rP"
      },
      "source": [
        "**Subset of the selected features**"
      ]
    },
    {
      "cell_type": "code",
      "metadata": {
        "id": "VF5UhlJC07dU"
      },
      "source": [
        "x_train_b, x_test_b = boruta_selector.transform(np.array(x_train)), boruta_selector.transform(np.array(x_test))"
      ],
      "execution_count": 55,
      "outputs": []
    },
    {
      "cell_type": "code",
      "metadata": {
        "colab": {
          "base_uri": "https://localhost:8080/"
        },
        "id": "W0VbnD_b2PQ-",
        "outputId": "692b1675-ab82-488b-e8f2-e609a435d19b"
      },
      "source": [
        "x_train_b[0] #we select feature at the first rank (4 features)"
      ],
      "execution_count": 56,
      "outputs": [
        {
          "output_type": "execute_result",
          "data": {
            "text/plain": [
              "array([108.   ,  35.5  ,   0.415,  24.   ])"
            ]
          },
          "metadata": {
            "tags": []
          },
          "execution_count": 56
        }
      ]
    },
    {
      "cell_type": "code",
      "metadata": {
        "id": "Hbl3hD7y2O7_"
      },
      "source": [
        "#build the model\r\n",
        "model2 = RandomForestClassifier(n_estimators=150, n_jobs=-1, random_state=1, max_depth=7)\r\n",
        "model2.fit(x_train_b, y_train)\r\n",
        "\r\n",
        "#predict the model\r\n",
        "y_pred = model2.predict(x_test_b)\r\n",
        "acc = accuracy_score(y_pred, y_test)\r\n",
        "f1 = f1_score(y_pred, y_test)"
      ],
      "execution_count": 57,
      "outputs": []
    },
    {
      "cell_type": "code",
      "metadata": {
        "colab": {
          "base_uri": "https://localhost:8080/"
        },
        "id": "NNcnbuhjxnjn",
        "outputId": "a8b4775f-09e7-4e44-948a-8a4209ce76ce"
      },
      "source": [
        "print(\"Baseline model accuracy: {0}% f1_score: {1}\".format(round(base_acc*100,3), round(base_f1*100,3)))\r\n",
        "print(\"New_fetr model accuracy: {0}% f1_score: {1}\".format(round(acc*100,3), round(f1*100,3)))"
      ],
      "execution_count": 58,
      "outputs": [
        {
          "output_type": "stream",
          "text": [
            "Baseline model accuracy: 77.559% f1_score: 64.151\n",
            "New_fetr model accuracy: 78.346% f1_score: 67.066\n"
          ],
          "name": "stdout"
        }
      ]
    },
    {
      "cell_type": "markdown",
      "metadata": {
        "id": "Xe4OfzJw3Vux"
      },
      "source": [
        "**Conclussion**\r\n",
        "- Both accuracy and f1 score increased slightly when using boruta. The number of features droped from 8 to 4."
      ]
    },
    {
      "cell_type": "markdown",
      "metadata": {
        "id": "P3c5mJ7A3-sl"
      },
      "source": [
        "##**Plot Importance XGBoost**"
      ]
    },
    {
      "cell_type": "code",
      "metadata": {
        "colab": {
          "base_uri": "https://localhost:8080/",
          "height": 338
        },
        "id": "SdUGEnPYx0WD",
        "outputId": "68f19d29-a810-4d9b-9305-3c7d04a66f5f"
      },
      "source": [
        "#import the library\r\n",
        "from xgboost import XGBClassifier\r\n",
        "from xgboost import plot_importance\r\n",
        "\r\n",
        "# fit the data\r\n",
        "xgb_model = XGBClassifier(random_state = 0 )\r\n",
        "xgb_model.fit(x_train, y_train)\r\n",
        "\r\n",
        "#baseline xgboost\r\n",
        "y_pred = xgb_model.predict(x_test)\r\n",
        "\r\n",
        "#baseline model evaluation\r\n",
        "xgb_acc_base = accuracy_score(y_test, y_pred)\r\n",
        "xgb_f1score_base = f1_score(y_test ,y_pred)\r\n",
        "\r\n",
        "print(\"Feature Importances : \", xgb_model.feature_importances_)\r\n",
        "\r\n",
        "# plot feature importance\r\n",
        "plot_importance(xgb_model)\r\n",
        "plt.show()"
      ],
      "execution_count": 59,
      "outputs": [
        {
          "output_type": "stream",
          "text": [
            "Feature Importances :  [0.09570684 0.27991962 0.08152946 0.06598003 0.08882333 0.16970392\n",
            " 0.09298628 0.12535053]\n"
          ],
          "name": "stdout"
        },
        {
          "output_type": "display_data",
          "data": {
            "image/png": "[encoded data removed]",
            "text/plain": [
              "<Figure size 432x288 with 1 Axes>"
            ]
          },
          "metadata": {
            "tags": []
          }
        }
      ]
    },
    {
      "cell_type": "markdown",
      "metadata": {
        "id": "NCoeg38x5BM3"
      },
      "source": [
        "From XGBoost, we can see that the top 4 features are pedi, bmi, glucose and age"
      ]
    },
    {
      "cell_type": "markdown",
      "metadata": {
        "id": "Ezfu5gSK5M2B"
      },
      "source": [
        "**Select the feature**"
      ]
    },
    {
      "cell_type": "code",
      "metadata": {
        "id": "hw1Rkv8Y48fq"
      },
      "source": [
        "selection = SelectFromModel(xgb_model)\r\n",
        "selection.fit(x_train, y_train)\r\n",
        "\r\n",
        "# Transform the train and test features\r\n",
        "select_x_train = selection.transform(x_train)\r\n",
        "select_x_test = selection.transform(x_test) \r\n",
        "\r\n",
        "# train model\r\n",
        "selection_model = XGBClassifier()\r\n",
        "selection_model.fit(select_x_train, y_train)\r\n",
        "\r\n",
        "# Model evaluation\r\n",
        "predictions = selection_model.predict(select_x_test)\r\n",
        "xgb_acc = accuracy_score(y_test, predictions)\r\n",
        "xgb_f1score = f1_score(y_test , predictions)"
      ],
      "execution_count": 62,
      "outputs": []
    },
    {
      "cell_type": "code",
      "metadata": {
        "colab": {
          "base_uri": "https://localhost:8080/"
        },
        "id": "vYjnVBpb6CZz",
        "outputId": "30d1e0d5-31c4-40ee-f4f4-b7a613e9f0a2"
      },
      "source": [
        "print(\"Baseline model accuracy: {0}% f1_score: {1}\".format(round(xgb_acc_base*100,3), round(xgb_f1score_base*100,3)))\r\n",
        "print(\"New_fetr model accuracy: {0}% f1_score: {1}\".format(round(xgb_acc*100,3), round(xgb_f1score*100,3)))"
      ],
      "execution_count": 63,
      "outputs": [
        {
          "output_type": "stream",
          "text": [
            "Baseline model accuracy: 78.346% f1_score: 66.258\n",
            "New_fetr model accuracy: 79.528% f1_score: 69.048\n"
          ],
          "name": "stdout"
        }
      ]
    },
    {
      "cell_type": "markdown",
      "metadata": {
        "id": "qB9z5mlJ6kxN"
      },
      "source": [
        "**Conclusion**<br>\r\n",
        "XGB with feature selection provides better accuracy than without feature selection."
      ]
    }
  ]
}